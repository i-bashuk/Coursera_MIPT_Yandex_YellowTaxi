{
 "cells": [
  {
   "cell_type": "code",
   "execution_count": 1,
   "id": "worldwide-mexican",
   "metadata": {},
   "outputs": [],
   "source": [
    "import requests\n",
    "from tqdm import tqdm\n",
    "from glob import glob"
   ]
  },
  {
   "cell_type": "code",
   "execution_count": 3,
   "id": "still-collection",
   "metadata": {},
   "outputs": [],
   "source": [
    "for year in range(2015, 2016):\n",
    "    for month in range(7, 13):\n",
    "        url = f'https://s3.amazonaws.com/nyc-tlc/trip+data/yellow_tripdata_{year}-{month:02d}.csv'\n",
    "        with open('/mnt/e/python/taxi/'+url.split('/')[-1], 'wb') as f:\n",
    "            f.write(requests.get(url).content)"
   ]
  },
  {
   "cell_type": "code",
   "execution_count": null,
   "id": "strange-reflection",
   "metadata": {},
   "outputs": [],
   "source": []
  },
  {
   "cell_type": "code",
   "execution_count": 2,
   "id": "essential-shuttle",
   "metadata": {},
   "outputs": [],
   "source": [
    "import pandas as pd\n",
    "import numpy as np\n",
    "from glob import glob\n",
    "import pickle\n",
    "from tqdm import tqdm "
   ]
  },
  {
   "cell_type": "code",
   "execution_count": 4,
   "id": "industrial-hygiene",
   "metadata": {},
   "outputs": [],
   "source": [
    "PATH_TO_DATA = '/mnt/e/python/taxi/done/'\n",
    "files = glob(f'{PATH_TO_DATA}*.csv')"
   ]
  },
  {
   "cell_type": "code",
   "execution_count": null,
   "id": "boolean-macintosh",
   "metadata": {},
   "outputs": [],
   "source": []
  },
  {
   "cell_type": "code",
   "execution_count": null,
   "id": "apart-entrance",
   "metadata": {},
   "outputs": [],
   "source": []
  },
  {
   "cell_type": "code",
   "execution_count": null,
   "id": "registered-senator",
   "metadata": {},
   "outputs": [],
   "source": []
  },
  {
   "cell_type": "code",
   "execution_count": null,
   "id": "coordinated-headset",
   "metadata": {},
   "outputs": [],
   "source": []
  },
  {
   "cell_type": "code",
   "execution_count": 21,
   "id": "charitable-technology",
   "metadata": {},
   "outputs": [],
   "source": [
    "with open('californiababe.mp4', 'ab') as f:\n",
    "    for i in range(1,64):\n",
    "        url = f'https://cv-h.phncdn.com/hls/videos/202102/10/383336912/,1080P_4000K,720P_4000K,480P_2000K,_383336912.mp4.urlset/seg-{i}-f1-v1-a1.ts?7g0xXUwEKmWMln_-AsfseCv_xmPYEkBd2Q_GsRz2VhmSFjR5Tc46Gmac49l6zujsP_yyMs3DvCmgIptNgUyhrVeAcSOrX_THSmv3fkkZUSn4TKd0bzxn1G4H-vkAEafV1kJIgFDYe_zYDBxNIW2fOlRnD0LXVDybnvmDai_N1CEGuTRUGA'\n",
    "        f.write(requests.get(url).content)\n",
    "    "
   ]
  },
  {
   "cell_type": "code",
   "execution_count": null,
   "id": "graphic-delay",
   "metadata": {},
   "outputs": [],
   "source": []
  },
  {
   "cell_type": "code",
   "execution_count": null,
   "id": "administrative-sharing",
   "metadata": {},
   "outputs": [],
   "source": []
  },
  {
   "cell_type": "code",
   "execution_count": null,
   "id": "sorted-divorce",
   "metadata": {},
   "outputs": [],
   "source": []
  },
  {
   "cell_type": "code",
   "execution_count": null,
   "id": "familiar-darkness",
   "metadata": {},
   "outputs": [],
   "source": []
  },
  {
   "cell_type": "code",
   "execution_count": null,
   "id": "incident-timing",
   "metadata": {},
   "outputs": [],
   "source": []
  }
 ],
 "metadata": {
  "kernelspec": {
   "display_name": "Python 3",
   "language": "python",
   "name": "python3"
  },
  "language_info": {
   "codemirror_mode": {
    "name": "ipython",
    "version": 3
   },
   "file_extension": ".py",
   "mimetype": "text/x-python",
   "name": "python",
   "nbconvert_exporter": "python",
   "pygments_lexer": "ipython3",
   "version": "3.8.5"
  }
 },
 "nbformat": 4,
 "nbformat_minor": 5
}
