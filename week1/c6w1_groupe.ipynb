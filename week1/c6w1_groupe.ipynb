{
 "cells": [
  {
   "cell_type": "code",
   "execution_count": 1,
   "id": "crude-scheduling",
   "metadata": {},
   "outputs": [],
   "source": [
    "import pandas as pd\n",
    "import numpy as np\n",
    "from glob import glob\n",
    "import os\n",
    "import pickle\n",
    "from tqdm import tqdm \n",
    "from scipy import stats"
   ]
  },
  {
   "cell_type": "code",
   "execution_count": 2,
   "id": "civilian-setup",
   "metadata": {},
   "outputs": [],
   "source": [
    "# Константы\n",
    "long = [-74.25559, -73.70001]\n",
    "lat = [40.49612, 40.91553]\n",
    "PATH_TO_DATA = '/mnt/e/python/taxi/'"
   ]
  },
  {
   "cell_type": "code",
   "execution_count": 30,
   "id": "composite-finish",
   "metadata": {},
   "outputs": [
    {
     "data": {
      "text/plain": [
       "['VendorID',\n",
       " 'tpep_pickup_datetime',\n",
       " 'tpep_dropoff_datetime',\n",
       " 'passenger_count',\n",
       " 'trip_distance',\n",
       " 'pickup_longitude',\n",
       " 'pickup_latitude']"
      ]
     },
     "execution_count": 30,
     "metadata": {},
     "output_type": "execute_result"
    }
   ],
   "source": [
    "ddf = pd.read_csv(PATH_TO_DATA + 'done/yellow_tripdata_2015-01.csv', parse_dates=[1, 2], nrows=10, usecols=range(7))\n",
    "#ddf = ddf.rename(columns={' pickup_datetime':'tpep_pickup_datetime', ' dropoff_datetime': 'tpep_dropoff_datetime'})\n",
    "ddf.columns.to_list()"
   ]
  },
  {
   "cell_type": "code",
   "execution_count": 27,
   "id": "inside-backing",
   "metadata": {},
   "outputs": [
    {
     "data": {
      "text/plain": [
       "Index(['vendor_id', ' pickup_datetime', ' dropoff_datetime',\n",
       "       ' passenger_count', ' trip_distance', ' pickup_longitude',\n",
       "       ' pickup_latitude'],\n",
       "      dtype='object')"
      ]
     },
     "execution_count": 27,
     "metadata": {},
     "output_type": "execute_result"
    }
   ],
   "source": [
    "ddf.columns"
   ]
  },
  {
   "cell_type": "code",
   "execution_count": 3,
   "id": "requested-helmet",
   "metadata": {},
   "outputs": [],
   "source": [
    "def prepare_df(df):\n",
    "    # Удаляем поездки с нулевой длительностью, нулевым количеством пассажиров и нулевым расстоянием поездки по счётчику \n",
    "    df = df[(df.tpep_pickup_datetime != df.tpep_dropoff_datetime) & (df.trip_distance > 0) & (df.passenger_count > 0)]\n",
    "    # Удаляем поездки скоординатами начала за пределами Нью-Йорка\n",
    "    df = df[(long[0]<=df.pickup_longitude) & (df.pickup_longitude<=long[1])&\n",
    "            (lat[0]<=df.pickup_latitude) & (df.pickup_latitude<=lat[1])]\n",
    "    # Округляем время начала поездки до целого часа\n",
    "    df['tpep_pickup_datetime'] = df.tpep_pickup_datetime.dt.floor(freq='H')\n",
    "    return df"
   ]
  },
  {
   "cell_type": "code",
   "execution_count": 4,
   "id": "large-glass",
   "metadata": {},
   "outputs": [],
   "source": [
    "def foo(df):\n",
    "    x = df.pickup_longitude.values\n",
    "    y = df.pickup_latitude.values\n",
    "    ret = stats.binned_statistic_2d(x, y, None, 'count', bins=50, range=[long, lat])\n",
    "    bdf = pd.Series(ret.statistic.ravel())\n",
    "    bdf.index = bdf.index + 1\n",
    "    return bdf"
   ]
  },
  {
   "cell_type": "code",
   "execution_count": 5,
   "id": "senior-photographer",
   "metadata": {},
   "outputs": [
    {
     "name": "stderr",
     "output_type": "stream",
     "text": [
      "100%|██████████| 1/1 [01:58<00:00, 118.59s/it]"
     ]
    },
    {
     "name": "stdout",
     "output_type": "stream",
     "text": [
      "CPU times: user 1min 10s, sys: 22.3 s, total: 1min 33s\n",
      "Wall time: 1min 58s\n"
     ]
    },
    {
     "name": "stderr",
     "output_type": "stream",
     "text": [
      "\n"
     ]
    }
   ],
   "source": [
    "%%time\n",
    "files = glob(f'{PATH_TO_DATA}que/*.csv')\n",
    "for file in tqdm(files):\n",
    "    df = pd.read_csv(file, parse_dates=[1,2], usecols=range(7))\n",
    "    df.columns = ['VendorID', 'tpep_pickup_datetime', 'tpep_dropoff_datetime', 'passenger_count',\n",
    "                  'trip_distance', 'pickup_longitude', 'pickup_latitude']\n",
    "    #print(df[:3])\n",
    "    df = prepare_df(df)\n",
    "    dfg = df.groupby('tpep_pickup_datetime').apply(foo)\n",
    "    pickle_file = f'{PATH_TO_DATA}pickles/{file.rsplit(\"/\", 1)[-1][:-4]}.pkl'\n",
    "    with open(pickle_file, 'wb') as f:\n",
    "        pickle.dump(dfg, f, protocol=2)\n",
    "    "
   ]
  },
  {
   "cell_type": "code",
   "execution_count": null,
   "id": "scientific-forwarding",
   "metadata": {},
   "outputs": [],
   "source": []
  },
  {
   "cell_type": "code",
   "execution_count": null,
   "id": "baking-liverpool",
   "metadata": {},
   "outputs": [],
   "source": []
  },
  {
   "cell_type": "code",
   "execution_count": null,
   "id": "rolled-following",
   "metadata": {},
   "outputs": [],
   "source": []
  },
  {
   "cell_type": "code",
   "execution_count": 19,
   "id": "driven-testimony",
   "metadata": {},
   "outputs": [
    {
     "data": {
      "text/html": [
       "<div>\n",
       "<style scoped>\n",
       "    .dataframe tbody tr th:only-of-type {\n",
       "        vertical-align: middle;\n",
       "    }\n",
       "\n",
       "    .dataframe tbody tr th {\n",
       "        vertical-align: top;\n",
       "    }\n",
       "\n",
       "    .dataframe thead th {\n",
       "        text-align: right;\n",
       "    }\n",
       "</style>\n",
       "<table border=\"1\" class=\"dataframe\">\n",
       "  <thead>\n",
       "    <tr style=\"text-align: right;\">\n",
       "      <th></th>\n",
       "      <th>VendorID</th>\n",
       "      <th>tpep_pickup_datetime</th>\n",
       "      <th>tpep_dropoff_datetime</th>\n",
       "      <th>passenger_count</th>\n",
       "      <th>trip_distance</th>\n",
       "      <th>pickup_longitude</th>\n",
       "      <th>pickup_latitude</th>\n",
       "    </tr>\n",
       "  </thead>\n",
       "  <tbody>\n",
       "    <tr>\n",
       "      <th>0</th>\n",
       "      <td>1</td>\n",
       "      <td>2015-05-05 23:37:40</td>\n",
       "      <td>2015-05-05 23:45:41</td>\n",
       "      <td>1</td>\n",
       "      <td>2.00</td>\n",
       "      <td>-74.001678</td>\n",
       "      <td>40.739311</td>\n",
       "    </tr>\n",
       "    <tr>\n",
       "      <th>1</th>\n",
       "      <td>2</td>\n",
       "      <td>2015-05-05 23:37:40</td>\n",
       "      <td>2015-05-05 23:40:36</td>\n",
       "      <td>1</td>\n",
       "      <td>0.54</td>\n",
       "      <td>-73.930840</td>\n",
       "      <td>40.744789</td>\n",
       "    </tr>\n",
       "    <tr>\n",
       "      <th>2</th>\n",
       "      <td>2</td>\n",
       "      <td>2015-05-05 23:37:40</td>\n",
       "      <td>2015-05-05 23:44:03</td>\n",
       "      <td>3</td>\n",
       "      <td>2.10</td>\n",
       "      <td>-74.001411</td>\n",
       "      <td>40.731087</td>\n",
       "    </tr>\n",
       "  </tbody>\n",
       "</table>\n",
       "</div>"
      ],
      "text/plain": [
       "   VendorID tpep_pickup_datetime tpep_dropoff_datetime  passenger_count  \\\n",
       "0         1  2015-05-05 23:37:40   2015-05-05 23:45:41                1   \n",
       "1         2  2015-05-05 23:37:40   2015-05-05 23:40:36                1   \n",
       "2         2  2015-05-05 23:37:40   2015-05-05 23:44:03                3   \n",
       "\n",
       "   trip_distance  pickup_longitude  pickup_latitude  \n",
       "0           2.00        -74.001678        40.739311  \n",
       "1           0.54        -73.930840        40.744789  \n",
       "2           2.10        -74.001411        40.731087  "
      ]
     },
     "execution_count": 19,
     "metadata": {},
     "output_type": "execute_result"
    }
   ],
   "source": [
    "# Загрузим данные\n",
    "df = pd.read_csv('/mnt/e/python/taxi/yellow_tripdata_2015-05.csv', \n",
    "                 parse_dates=['tpep_pickup_datetime', 'tpep_dropoff_datetime'],\n",
    "                 usecols=range(7), nrows=10)\n",
    "df[:3]"
   ]
  },
  {
   "cell_type": "code",
   "execution_count": 8,
   "id": "congressional-arabic",
   "metadata": {},
   "outputs": [
    {
     "name": "stdout",
     "output_type": "stream",
     "text": [
      "CPU times: user 3.02 s, sys: 499 ms, total: 3.52 s\n",
      "Wall time: 3.51 s\n"
     ]
    }
   ],
   "source": [
    "%%time\n",
    "dfg = df.groupby('tpep_pickup_datetime').apply(foo)\n",
    "#dfg.index = dfg.index.droplevel(1)"
   ]
  },
  {
   "cell_type": "markdown",
   "id": "nuclear-healthcare",
   "metadata": {},
   "source": [
    "### 4. Выведите первые строки полученной таблицы с указанием времени, идентификатора зоны и количества поездок."
   ]
  },
  {
   "cell_type": "code",
   "execution_count": 9,
   "id": "vertical-stereo",
   "metadata": {},
   "outputs": [
    {
     "data": {
      "text/html": [
       "<div>\n",
       "<style scoped>\n",
       "    .dataframe tbody tr th:only-of-type {\n",
       "        vertical-align: middle;\n",
       "    }\n",
       "\n",
       "    .dataframe tbody tr th {\n",
       "        vertical-align: top;\n",
       "    }\n",
       "\n",
       "    .dataframe thead th {\n",
       "        text-align: right;\n",
       "    }\n",
       "</style>\n",
       "<table border=\"1\" class=\"dataframe\">\n",
       "  <thead>\n",
       "    <tr style=\"text-align: right;\">\n",
       "      <th></th>\n",
       "      <th>1221</th>\n",
       "      <th>1222</th>\n",
       "      <th>1223</th>\n",
       "      <th>1224</th>\n",
       "      <th>1225</th>\n",
       "      <th>1226</th>\n",
       "      <th>1227</th>\n",
       "      <th>1228</th>\n",
       "      <th>1229</th>\n",
       "      <th>1230</th>\n",
       "      <th>1231</th>\n",
       "      <th>1232</th>\n",
       "      <th>1233</th>\n",
       "      <th>1234</th>\n",
       "      <th>1235</th>\n",
       "      <th>1236</th>\n",
       "      <th>1237</th>\n",
       "      <th>1238</th>\n",
       "      <th>1239</th>\n",
       "      <th>1240</th>\n",
       "    </tr>\n",
       "    <tr>\n",
       "      <th>tpep_pickup_datetime</th>\n",
       "      <th></th>\n",
       "      <th></th>\n",
       "      <th></th>\n",
       "      <th></th>\n",
       "      <th></th>\n",
       "      <th></th>\n",
       "      <th></th>\n",
       "      <th></th>\n",
       "      <th></th>\n",
       "      <th></th>\n",
       "      <th></th>\n",
       "      <th></th>\n",
       "      <th></th>\n",
       "      <th></th>\n",
       "      <th></th>\n",
       "      <th></th>\n",
       "      <th></th>\n",
       "      <th></th>\n",
       "      <th></th>\n",
       "      <th></th>\n",
       "    </tr>\n",
       "  </thead>\n",
       "  <tbody>\n",
       "    <tr>\n",
       "      <th>2016-05-01 00:00:00</th>\n",
       "      <td>18.0</td>\n",
       "      <td>45.0</td>\n",
       "      <td>36.0</td>\n",
       "      <td>41.0</td>\n",
       "      <td>8.0</td>\n",
       "      <td>5.0</td>\n",
       "      <td>697.0</td>\n",
       "      <td>1334.0</td>\n",
       "      <td>992.0</td>\n",
       "      <td>1258.0</td>\n",
       "      <td>881.0</td>\n",
       "      <td>1143.0</td>\n",
       "      <td>780.0</td>\n",
       "      <td>329.0</td>\n",
       "      <td>96.0</td>\n",
       "      <td>0.0</td>\n",
       "      <td>0.0</td>\n",
       "      <td>0.0</td>\n",
       "      <td>0.0</td>\n",
       "      <td>0.0</td>\n",
       "    </tr>\n",
       "    <tr>\n",
       "      <th>2016-05-01 01:00:00</th>\n",
       "      <td>18.0</td>\n",
       "      <td>21.0</td>\n",
       "      <td>32.0</td>\n",
       "      <td>29.0</td>\n",
       "      <td>7.0</td>\n",
       "      <td>6.0</td>\n",
       "      <td>866.0</td>\n",
       "      <td>1420.0</td>\n",
       "      <td>891.0</td>\n",
       "      <td>1022.0</td>\n",
       "      <td>713.0</td>\n",
       "      <td>1005.0</td>\n",
       "      <td>545.0</td>\n",
       "      <td>171.0</td>\n",
       "      <td>55.0</td>\n",
       "      <td>0.0</td>\n",
       "      <td>0.0</td>\n",
       "      <td>0.0</td>\n",
       "      <td>0.0</td>\n",
       "      <td>0.0</td>\n",
       "    </tr>\n",
       "    <tr>\n",
       "      <th>2016-05-01 02:00:00</th>\n",
       "      <td>14.0</td>\n",
       "      <td>25.0</td>\n",
       "      <td>22.0</td>\n",
       "      <td>26.0</td>\n",
       "      <td>3.0</td>\n",
       "      <td>4.0</td>\n",
       "      <td>1001.0</td>\n",
       "      <td>1260.0</td>\n",
       "      <td>785.0</td>\n",
       "      <td>818.0</td>\n",
       "      <td>533.0</td>\n",
       "      <td>810.0</td>\n",
       "      <td>363.0</td>\n",
       "      <td>82.0</td>\n",
       "      <td>50.0</td>\n",
       "      <td>0.0</td>\n",
       "      <td>0.0</td>\n",
       "      <td>0.0</td>\n",
       "      <td>0.0</td>\n",
       "      <td>1.0</td>\n",
       "    </tr>\n",
       "    <tr>\n",
       "      <th>2016-05-01 03:00:00</th>\n",
       "      <td>7.0</td>\n",
       "      <td>25.0</td>\n",
       "      <td>15.0</td>\n",
       "      <td>21.0</td>\n",
       "      <td>8.0</td>\n",
       "      <td>1.0</td>\n",
       "      <td>859.0</td>\n",
       "      <td>966.0</td>\n",
       "      <td>545.0</td>\n",
       "      <td>611.0</td>\n",
       "      <td>418.0</td>\n",
       "      <td>662.0</td>\n",
       "      <td>187.0</td>\n",
       "      <td>54.0</td>\n",
       "      <td>33.0</td>\n",
       "      <td>1.0</td>\n",
       "      <td>0.0</td>\n",
       "      <td>0.0</td>\n",
       "      <td>0.0</td>\n",
       "      <td>0.0</td>\n",
       "    </tr>\n",
       "    <tr>\n",
       "      <th>2016-05-01 04:00:00</th>\n",
       "      <td>4.0</td>\n",
       "      <td>15.0</td>\n",
       "      <td>14.0</td>\n",
       "      <td>15.0</td>\n",
       "      <td>1.0</td>\n",
       "      <td>1.0</td>\n",
       "      <td>405.0</td>\n",
       "      <td>479.0</td>\n",
       "      <td>308.0</td>\n",
       "      <td>379.0</td>\n",
       "      <td>353.0</td>\n",
       "      <td>512.0</td>\n",
       "      <td>153.0</td>\n",
       "      <td>28.0</td>\n",
       "      <td>18.0</td>\n",
       "      <td>0.0</td>\n",
       "      <td>0.0</td>\n",
       "      <td>0.0</td>\n",
       "      <td>0.0</td>\n",
       "      <td>0.0</td>\n",
       "    </tr>\n",
       "  </tbody>\n",
       "</table>\n",
       "</div>"
      ],
      "text/plain": [
       "                      1221  1222  1223  1224  1225  1226    1227    1228  \\\n",
       "tpep_pickup_datetime                                                       \n",
       "2016-05-01 00:00:00   18.0  45.0  36.0  41.0   8.0   5.0   697.0  1334.0   \n",
       "2016-05-01 01:00:00   18.0  21.0  32.0  29.0   7.0   6.0   866.0  1420.0   \n",
       "2016-05-01 02:00:00   14.0  25.0  22.0  26.0   3.0   4.0  1001.0  1260.0   \n",
       "2016-05-01 03:00:00    7.0  25.0  15.0  21.0   8.0   1.0   859.0   966.0   \n",
       "2016-05-01 04:00:00    4.0  15.0  14.0  15.0   1.0   1.0   405.0   479.0   \n",
       "\n",
       "                       1229    1230   1231    1232   1233   1234  1235  1236  \\\n",
       "tpep_pickup_datetime                                                           \n",
       "2016-05-01 00:00:00   992.0  1258.0  881.0  1143.0  780.0  329.0  96.0   0.0   \n",
       "2016-05-01 01:00:00   891.0  1022.0  713.0  1005.0  545.0  171.0  55.0   0.0   \n",
       "2016-05-01 02:00:00   785.0   818.0  533.0   810.0  363.0   82.0  50.0   0.0   \n",
       "2016-05-01 03:00:00   545.0   611.0  418.0   662.0  187.0   54.0  33.0   1.0   \n",
       "2016-05-01 04:00:00   308.0   379.0  353.0   512.0  153.0   28.0  18.0   0.0   \n",
       "\n",
       "                      1237  1238  1239  1240  \n",
       "tpep_pickup_datetime                          \n",
       "2016-05-01 00:00:00    0.0   0.0   0.0   0.0  \n",
       "2016-05-01 01:00:00    0.0   0.0   0.0   0.0  \n",
       "2016-05-01 02:00:00    0.0   0.0   0.0   1.0  \n",
       "2016-05-01 03:00:00    0.0   0.0   0.0   0.0  \n",
       "2016-05-01 04:00:00    0.0   0.0   0.0   0.0  "
      ]
     },
     "execution_count": 9,
     "metadata": {},
     "output_type": "execute_result"
    }
   ],
   "source": [
    "dfg.iloc[:5, 1220: 1240]"
   ]
  },
  {
   "cell_type": "code",
   "execution_count": 10,
   "id": "laden-harrison",
   "metadata": {},
   "outputs": [
    {
     "data": {
      "text/plain": [
       "(744, 2500)"
      ]
     },
     "execution_count": 10,
     "metadata": {},
     "output_type": "execute_result"
    }
   ],
   "source": [
    "dfg.shape"
   ]
  }
 ],
 "metadata": {
  "kernelspec": {
   "display_name": "Python 3",
   "language": "python",
   "name": "python3"
  },
  "language_info": {
   "codemirror_mode": {
    "name": "ipython",
    "version": 3
   },
   "file_extension": ".py",
   "mimetype": "text/x-python",
   "name": "python",
   "nbconvert_exporter": "python",
   "pygments_lexer": "ipython3",
   "version": "3.8.5"
  }
 },
 "nbformat": 4,
 "nbformat_minor": 5
}
