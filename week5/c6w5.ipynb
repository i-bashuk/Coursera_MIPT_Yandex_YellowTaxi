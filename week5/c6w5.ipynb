{
 "cells": [
  {
   "cell_type": "code",
   "execution_count": null,
   "metadata": {
    "colab": {
     "base_uri": "https://localhost:8080/"
    },
    "executionInfo": {
     "elapsed": 20255,
     "status": "ok",
     "timestamp": 1624787813224,
     "user": {
      "displayName": "Игорь Ярославович Башук",
      "photoUrl": "",
      "userId": "05144798806300989296"
     },
     "user_tz": -180
    },
    "id": "-42NEeSJ8Q66",
    "outputId": "1ff6af4b-bbd2-406c-eaa0-9522182916be"
   },
   "outputs": [
    {
     "name": "stdout",
     "output_type": "stream",
     "text": [
      "Mounted at /content/drive\n"
     ]
    }
   ],
   "source": [
    "from google.colab import drive\n",
    "drive.mount('/content/drive')"
   ]
  },
  {
   "cell_type": "code",
   "execution_count": null,
   "metadata": {
    "id": "5wvhfdbfUja2"
   },
   "outputs": [],
   "source": [
    "# pip install catboost"
   ]
  },
  {
   "cell_type": "markdown",
   "metadata": {
    "id": "imposed-waters"
   },
   "source": [
    "### Import and constants"
   ]
  },
  {
   "cell_type": "code",
   "execution_count": null,
   "metadata": {
    "id": "mighty-astrology"
   },
   "outputs": [],
   "source": [
    "import numpy as np\n",
    "import pandas as pd\n",
    "pd.options.display.float_format = '{:,.3f}'.format\n",
    "# import datetime\n",
    "import os\n",
    "from tqdm import tqdm\n",
    "import pickle\n",
    "import multiprocessing\n",
    "import warnings\n",
    "\n",
    "# from joblib import dump, load\n",
    "from matplotlib import pyplot as plt\n",
    "import matplotlib.patches as mpatches\n",
    "%matplotlib inline"
   ]
  },
  {
   "cell_type": "code",
   "execution_count": null,
   "metadata": {
    "id": "structured-haiti"
   },
   "outputs": [],
   "source": [
    "from sklearn.linear_model import ElasticNet, Ridge, Lasso, SGDRegressor\n",
    "import lightgbm as lgb\n",
    "import xgboost as xgb\n",
    "from catboost import Pool, CatBoostRegressor\n",
    "\n",
    "from sklearn.preprocessing import PowerTransformer, OneHotEncoder\n",
    "from sklearn.preprocessing import StandardScaler\n",
    "from sklearn.compose import TransformedTargetRegressor\n",
    "\n",
    "from sklearn.metrics import mean_absolute_error\n",
    "\n",
    "from hyperopt import hp, fmin, tpe, rand, Trials, STATUS_OK\n",
    "from scipy import stats\n",
    "import statsmodels.api as sm\n",
    "from itertools import product\n",
    "\n",
    "import holidays"
   ]
  },
  {
   "cell_type": "code",
   "execution_count": null,
   "metadata": {
    "id": "alike-tract"
   },
   "outputs": [],
   "source": [
    "PATH_TO_DATA = '/content/drive/MyDrive/Colab Notebooks/taxi/'\n",
    "# PATH_TO_DATA = '/mnt/e/GoogleDrive/Colab Notebooks/taxi/'\n",
    "LONG = [-74.25559, -73.70001]\n",
    "LAT = [40.49612, 40.91553]\n",
    "RANDOM_STATE = 30\n",
    "START_DATE = '2015-03'\n",
    "MAX_TRAIN_TIME = '2016-04'"
   ]
  },
  {
   "cell_type": "markdown",
   "metadata": {
    "heading_collapsed": true,
    "id": "honey-victorian"
   },
   "source": [
    "### Helpers"
   ]
  },
  {
   "cell_type": "code",
   "execution_count": null,
   "metadata": {
    "hidden": true,
    "id": "banner-islam"
   },
   "outputs": [],
   "source": [
    "def load_pickles(start, end, zone):\n",
    "    \"\"\"\n",
    "    format YYYY-MM, start included, end - not\n",
    "    \"\"\"\n",
    "    res = pd.DataFrame()\n",
    "    for d in tqdm(pd.date_range(start, end, freq='M')):\n",
    "        with open(os.path.join(PATH_TO_DATA, f'pickles/yellow_tripdata_{d.year}-{d.month:02}.pkl'), 'rb') as f:\n",
    "            df = pickle.load(f)\n",
    "            #print(type(df[zone]))\n",
    "        res = res.append(df[zone])\n",
    "    return res"
   ]
  },
  {
   "cell_type": "code",
   "execution_count": null,
   "metadata": {
    "hidden": true,
    "id": "brief-transportation"
   },
   "outputs": [],
   "source": [
    "def add_feature(data, K=[15], names=['W'], seasons=[168], trend = False):\n",
    "    T = data.shape[0]\n",
    "    if type(seasons) == int: seasons = [seasons]\n",
    "    if type(K) == int: K = [K]\n",
    "    if len(seasons) != len(K): return '# of seasons and # of K must be equal'\n",
    "    res=np.empty((T, 2*sum(K)+trend))\n",
    "    for i, season in enumerate(seasons):\n",
    "        k=K[i]\n",
    "        prev = 2*sum(K[:i])\n",
    "        arr = 2 * np.pi * np.outer(np.arange(1, T+1), np.arange(1, k+1)) / season\n",
    "        res[:, prev: prev+k] = np.sin(arr)\n",
    "        res[:, prev+k:prev+2*k] = np.cos(arr)\n",
    "    if trend: res[:, -1] = np.arange(1, T+1)\n",
    "    columns = [f'{name}_{f}_{j}' for i, name in enumerate(names) for f in ['sin', 'cos'] for j in range(1, K[i]+1)]\n",
    "    if trend: columns += ['trend']\n",
    "    res = pd.DataFrame(res, index=data.index, columns=columns)\n",
    "    return res"
   ]
  },
  {
   "cell_type": "code",
   "execution_count": null,
   "metadata": {
    "hidden": true,
    "id": "equivalent-victor"
   },
   "outputs": [],
   "source": [
    "def add_holidays(y):\n",
    "    holidays_NY = holidays.CountryHoliday('US', state='NY', years=[2015, 2016])\n",
    "    holidays_NY = pd.Series(holidays_NY.values(), index=holidays_NY.keys()).sort_index()\n",
    "    holidays_NY.index = pd.to_datetime(holidays_NY.index)\n",
    "    holidays_NY = holidays_NY.loc[y.index.min(): y.index.max()]\n",
    "    res = pd.DataFrame(np.zeros((y.shape[0], holidays_NY.nunique())),\n",
    "                 index=y.index, columns=holidays_NY.unique())\n",
    "    for index, holiday in holidays_NY.items():\n",
    "        res.loc[index.strftime('%Y-%m-%d'), holiday] = 1\n",
    "    return res\n",
    "\n",
    "# def add_holidays(y):\n",
    "#     holidays_NY = holidays.CountryHoliday('US', state='NY', years=[2013, 2016])\n",
    "#     holidays_NY = pd.Series(holidays_NY.values(), index=holidays_NY.keys()).sort_index()\n",
    "#     holidays_NY.index = pd.to_datetime(holidays_NY.index)\n",
    "#     holidays_NY = holidays_NY.loc[y.index.min(): y.index.max()]\n",
    "#     columns = list(holidays_NY.unique()) + [s+'_ba' for s in holidays_NY.unique()]\n",
    "#     res = pd.DataFrame(np.zeros((y.shape[0], 2*holidays_NY.nunique())),\n",
    "#                  index=y.index, columns=columns)\n",
    "#     for index, holiday in holidays_NY.items():\n",
    "#         res.loc[index.strftime('%Y-%m-%d'), holiday] = 1\n",
    "#         before = (index - pd.Timedelta('1d')).strftime('%Y-%m-%d')\n",
    "#         after = (index + pd.Timedelta('1d')).strftime(`'%Y-%m-%d')\n",
    "#         res.loc[before, holiday+'_ba'] = 1\n",
    "#     return res"
   ]
  },
  {
   "cell_type": "code",
   "execution_count": null,
   "metadata": {
    "hidden": true,
    "id": "continuous-happening"
   },
   "outputs": [],
   "source": [
    "def load_model_data(model, v='norm', one_hot=False): # model 1..6\n",
    "    X, y = [], []\n",
    "    cat = 'cat_dummies' if one_hot else 'cat'\n",
    "    for st in ['train', 'val', 'test']:\n",
    "        x = pd.read_parquet(PATH_TO_DATA + f'regr_data/X_{st}_{v}.parquet')\n",
    "        x['arima'] = pd.read_parquet(PATH_TO_DATA + f'regr_data/arima_{st}_{v}.parquet',\n",
    "                                        columns=[f'arima_{model}']).values\n",
    "        cat_features = pd.read_parquet(PATH_TO_DATA + f'regr_data/{cat}_{st}.parquet')\n",
    "        y.append(pd.read_parquet(PATH_TO_DATA + f'regr_data/y_{st}.parquet',\n",
    "                            columns=[f'y_{model}']).values.squeeze())\n",
    "        X.append(pd.concat([cat_features, x], axis=1))\n",
    "        \n",
    "    return X[0], y[0], X[1], y[1], X[2], y[2]"
   ]
  },
  {
   "cell_type": "code",
   "execution_count": null,
   "metadata": {
    "hidden": true,
    "id": "BD5zvRk9-mUe"
   },
   "outputs": [],
   "source": [
    "def load_model_data_(model, v='norm', one_hot=False): # model 1..6\n",
    "    X, y = [], []\n",
    "    cat = 'cat_dummies' if one_hot else 'cat'\n",
    "    for st in ['train', 'val', 'test']:\n",
    "        x = pd.read_parquet(PATH_TO_DATA + f'regr_data_/X_{st}_{v}.parquet')\n",
    "        x['arima'] = pd.read_parquet(PATH_TO_DATA + f'regr_data_/arima_{st}_{v}.parquet',\n",
    "                                        columns=[f'arima_{model}']).values\n",
    "        y.append(pd.read_parquet(PATH_TO_DATA + f'regr_data_/y_{st}.parquet',\n",
    "                            columns=[f'y_{model}']).values.squeeze())\n",
    "        X.append(x)\n",
    "        \n",
    "    return X[0], y[0], X[1], y[1], X[2], y[2]"
   ]
  },
  {
   "cell_type": "markdown",
   "metadata": {
    "heading_collapsed": true,
    "id": "closed-prerequisite"
   },
   "source": [
    "### Data load and preprocessing"
   ]
  },
  {
   "cell_type": "code",
   "execution_count": null,
   "metadata": {
    "hidden": true,
    "id": "exceptional-finding"
   },
   "outputs": [],
   "source": [
    "with open(PATH_TO_DATA+'selected_regions.pkl', 'rb') as f:\n",
    "    selected_regions = pickle.load(f)"
   ]
  },
  {
   "cell_type": "code",
   "execution_count": null,
   "metadata": {
    "hidden": true,
    "id": "little-legislation"
   },
   "outputs": [],
   "source": [
    "zones = selected_regions.to_list()\n",
    "data = load_pickles(START_DATE, '2016-07', zones).astype(np.int16)"
   ]
  },
  {
   "cell_type": "code",
   "execution_count": null,
   "metadata": {
    "hidden": true,
    "id": "linear-failing"
   },
   "outputs": [],
   "source": [
    "data.info()"
   ]
  },
  {
   "cell_type": "markdown",
   "metadata": {
    "heading_collapsed": true,
    "id": "refined-parliament"
   },
   "source": [
    "### Регрессионные признаки"
   ]
  },
  {
   "cell_type": "markdown",
   "metadata": {
    "hidden": true,
    "id": "GfBz2jVQhzsm"
   },
   "source": [
    "Создаем блок признаков, одинаковый для всех зон. Столбец 'zone' резервируем под номер зоны."
   ]
  },
  {
   "cell_type": "code",
   "execution_count": null,
   "metadata": {
    "colab": {
     "base_uri": "https://localhost:8080/",
     "height": 193
    },
    "executionInfo": {
     "elapsed": 433,
     "status": "ok",
     "timestamp": 1623174377294,
     "user": {
      "displayName": "Игорь Ярославович Башук",
      "photoUrl": "",
      "userId": "05144798806300989296"
     },
     "user_tz": -180
    },
    "hidden": true,
    "id": "genuine-kernel",
    "outputId": "a8915229-61b1-4fe1-c26b-3f920bc0e36d"
   },
   "outputs": [
    {
     "data": {
      "text/html": [
       "<div>\n",
       "<style scoped>\n",
       "    .dataframe tbody tr th:only-of-type {\n",
       "        vertical-align: middle;\n",
       "    }\n",
       "\n",
       "    .dataframe tbody tr th {\n",
       "        vertical-align: top;\n",
       "    }\n",
       "\n",
       "    .dataframe thead th {\n",
       "        text-align: right;\n",
       "    }\n",
       "</style>\n",
       "<table border=\"1\" class=\"dataframe\">\n",
       "  <thead>\n",
       "    <tr style=\"text-align: right;\">\n",
       "      <th></th>\n",
       "      <th>year</th>\n",
       "      <th>month</th>\n",
       "      <th>day</th>\n",
       "      <th>weekday</th>\n",
       "      <th>hour</th>\n",
       "      <th>zone</th>\n",
       "      <th>D_sin_1</th>\n",
       "      <th>D_sin_2</th>\n",
       "      <th>D_cos_1</th>\n",
       "      <th>D_cos_2</th>\n",
       "      <th>W_sin_1</th>\n",
       "      <th>W_sin_2</th>\n",
       "      <th>W_sin_3</th>\n",
       "      <th>W_sin_4</th>\n",
       "      <th>W_sin_5</th>\n",
       "      <th>W_sin_6</th>\n",
       "      <th>W_cos_1</th>\n",
       "      <th>W_cos_2</th>\n",
       "      <th>W_cos_3</th>\n",
       "      <th>W_cos_4</th>\n",
       "      <th>W_cos_5</th>\n",
       "      <th>W_cos_6</th>\n",
       "    </tr>\n",
       "    <tr>\n",
       "      <th>tpep_pickup_datetime</th>\n",
       "      <th></th>\n",
       "      <th></th>\n",
       "      <th></th>\n",
       "      <th></th>\n",
       "      <th></th>\n",
       "      <th></th>\n",
       "      <th></th>\n",
       "      <th></th>\n",
       "      <th></th>\n",
       "      <th></th>\n",
       "      <th></th>\n",
       "      <th></th>\n",
       "      <th></th>\n",
       "      <th></th>\n",
       "      <th></th>\n",
       "      <th></th>\n",
       "      <th></th>\n",
       "      <th></th>\n",
       "      <th></th>\n",
       "      <th></th>\n",
       "      <th></th>\n",
       "      <th></th>\n",
       "    </tr>\n",
       "  </thead>\n",
       "  <tbody>\n",
       "    <tr>\n",
       "      <th>2015-03-01 00:00:00</th>\n",
       "      <td>2015</td>\n",
       "      <td>3</td>\n",
       "      <td>1</td>\n",
       "      <td>6</td>\n",
       "      <td>0</td>\n",
       "      <td>0</td>\n",
       "      <td>0.259</td>\n",
       "      <td>0.500</td>\n",
       "      <td>0.966</td>\n",
       "      <td>0.866</td>\n",
       "      <td>0.037</td>\n",
       "      <td>0.075</td>\n",
       "      <td>0.112</td>\n",
       "      <td>0.149</td>\n",
       "      <td>0.186</td>\n",
       "      <td>0.223</td>\n",
       "      <td>0.999</td>\n",
       "      <td>0.997</td>\n",
       "      <td>0.994</td>\n",
       "      <td>0.989</td>\n",
       "      <td>0.983</td>\n",
       "      <td>0.975</td>\n",
       "    </tr>\n",
       "    <tr>\n",
       "      <th>2015-03-01 01:00:00</th>\n",
       "      <td>2015</td>\n",
       "      <td>3</td>\n",
       "      <td>1</td>\n",
       "      <td>6</td>\n",
       "      <td>1</td>\n",
       "      <td>0</td>\n",
       "      <td>0.500</td>\n",
       "      <td>0.866</td>\n",
       "      <td>0.866</td>\n",
       "      <td>0.500</td>\n",
       "      <td>0.075</td>\n",
       "      <td>0.149</td>\n",
       "      <td>0.223</td>\n",
       "      <td>0.295</td>\n",
       "      <td>0.365</td>\n",
       "      <td>0.434</td>\n",
       "      <td>0.997</td>\n",
       "      <td>0.989</td>\n",
       "      <td>0.975</td>\n",
       "      <td>0.956</td>\n",
       "      <td>0.931</td>\n",
       "      <td>0.901</td>\n",
       "    </tr>\n",
       "    <tr>\n",
       "      <th>2015-03-01 02:00:00</th>\n",
       "      <td>2015</td>\n",
       "      <td>3</td>\n",
       "      <td>1</td>\n",
       "      <td>6</td>\n",
       "      <td>2</td>\n",
       "      <td>0</td>\n",
       "      <td>0.707</td>\n",
       "      <td>1.000</td>\n",
       "      <td>0.707</td>\n",
       "      <td>0.000</td>\n",
       "      <td>0.112</td>\n",
       "      <td>0.223</td>\n",
       "      <td>0.330</td>\n",
       "      <td>0.434</td>\n",
       "      <td>0.532</td>\n",
       "      <td>0.623</td>\n",
       "      <td>0.994</td>\n",
       "      <td>0.975</td>\n",
       "      <td>0.944</td>\n",
       "      <td>0.901</td>\n",
       "      <td>0.847</td>\n",
       "      <td>0.782</td>\n",
       "    </tr>\n",
       "  </tbody>\n",
       "</table>\n",
       "</div>"
      ],
      "text/plain": [
       "                      year  month  day  ...  W_cos_4  W_cos_5  W_cos_6\n",
       "tpep_pickup_datetime                    ...                           \n",
       "2015-03-01 00:00:00   2015      3    1  ...    0.989    0.983    0.975\n",
       "2015-03-01 01:00:00   2015      3    1  ...    0.956    0.931    0.901\n",
       "2015-03-01 02:00:00   2015      3    1  ...    0.901    0.847    0.782\n",
       "\n",
       "[3 rows x 22 columns]"
      ]
     },
     "execution_count": 32,
     "metadata": {
      "tags": []
     },
     "output_type": "execute_result"
    }
   ],
   "source": [
    "# add categorical feature\n",
    "cat_features = pd.DataFrame()\n",
    "cat_features['year'] = data.index.year\n",
    "cat_features['month'] = data.index.month\n",
    "cat_features['day'] = data.index.day\n",
    "cat_features['weekday'] = data.index.weekday\n",
    "cat_features['hour'] = data.index.hour\n",
    "cat_features.index = data.index\n",
    "cat_features['zone'] = 0\n",
    "columns_cat = cat_features.columns.to_list()\n",
    "\n",
    "# add sin/cos and trend\n",
    "cat_features = cat_features.join(add_feature(data, [2, 6], ['D', 'W'], [24, 168]))\n",
    "# cat_features = cat_features.join(add_feature(data, [2, 6, 2], ['D', 'W', 'Y'], [24, 168, 8766]))\n",
    "cat_features[:3]"
   ]
  },
  {
   "cell_type": "markdown",
   "metadata": {
    "hidden": true,
    "id": "r3IsH2DZjrQy"
   },
   "source": [
    "Добавляем признаки, полученные из колличества поездок для каждой зоны. Также добавляем предсказания модели SARIMAX из прошлой недели и значение целевого признака 'y' со здвигом от 1 до 6 дней. \n",
    "Создадим отдельный DataFrame из категориальных признаков, кодированных с помощью get_dummies."
   ]
  },
  {
   "cell_type": "code",
   "execution_count": null,
   "metadata": {
    "colab": {
     "base_uri": "https://localhost:8080/"
    },
    "executionInfo": {
     "elapsed": 74732,
     "status": "ok",
     "timestamp": 1623174452009,
     "user": {
      "displayName": "Игорь Ярославович Башук",
      "photoUrl": "",
      "userId": "05144798806300989296"
     },
     "user_tz": -180
    },
    "hidden": true,
    "id": "jewish-memorial",
    "outputId": "eac569fa-0faa-44de-da65-d439d097d29c"
   },
   "outputs": [
    {
     "name": "stdout",
     "output_type": "stream",
     "text": [
      "CPU times: user 20.9 s, sys: 3.07 s, total: 23.9 s\n",
      "Wall time: 1min 14s\n"
     ]
    }
   ],
   "source": [
    "%%time\n",
    "# add rides shifted for 1..K houres, 1..Kd days, sum ...\n",
    "K, Kd = 6, 2\n",
    "df = pd.DataFrame()\n",
    "for col in data:\n",
    "    ddf = cat_features.copy()\n",
    "    ddf['zone'] = col # zone\n",
    "    for i in range(1, K+1):\n",
    "        ddf[f'hourAgo_{i}'] = data[col].shift(i)\n",
    "    for i in range(1, Kd+1):\n",
    "        ddf[f'dayAgo_{i}'] = data[col].shift(i*24)\n",
    "    ddf['sum_12H'] = data[col].rolling(12).sum()\n",
    "    ddf['sum_1D'] = data[col].rolling(24).sum()\n",
    "    ddf['sum_7D'] = data[col].rolling(168).sum()\n",
    "    ddf['sum_30D'] = data[col].rolling(720).sum()\n",
    "    \n",
    "    \n",
    "    # add target y_1..y_6 and predictions of ARIMA\n",
    "    arima1 = pd.read_csv(PATH_TO_DATA + f'ARIMA_APR15_APR16_6h/zone_{col}.csv', parse_dates=[0], index_col=[0])\n",
    "    arima2 = pd.read_csv(PATH_TO_DATA + f'ARIMA_JUNE_6h/zone_{col}.csv', parse_dates=[0], index_col=[0])\n",
    "    for i in range(1, 7):\n",
    "        ddf[f'y_{i}'] = data[col].shift(-i)\n",
    "        ddf[f'arima_{i}'] = arima1.iloc[:, i-1]\n",
    "        ddf.loc['2016-05-31 23':,f'arima_{i}'] = arima2.iloc[:, i-1]\n",
    "    df = df.append(ddf)\n",
    "columns_y = [f'y_{i}' for i in range(1,7)]\n",
    "columns_arima = [f'arima_{i}' for i in range(1,7)]\n",
    "columns_real = df.columns.difference(cat_features.columns.to_list() + columns_y + columns_arima + ['zone']).to_list()\n",
    "df = df.sort_index()\n",
    "\n",
    "cat_dummies = pd.get_dummies(df[columns_cat], columns=columns_cat)"
   ]
  },
  {
   "cell_type": "markdown",
   "metadata": {
    "hidden": true,
    "id": "WYXtVmJiDBb4"
   },
   "source": [
    "#### Save to disk"
   ]
  },
  {
   "cell_type": "markdown",
   "metadata": {
    "hidden": true,
    "id": "zl9t5rs_mKAG"
   },
   "source": [
    "Разбиваем данные на train, val, test. Сохраняем все в словарь датафреймов datas."
   ]
  },
  {
   "cell_type": "code",
   "execution_count": null,
   "metadata": {
    "hidden": true,
    "id": "hollywood-citation"
   },
   "outputs": [],
   "source": [
    "slices, datas = {}, {}\n",
    "stages = ['train', 'val', 'test']\n",
    "\n",
    "slices['start_train'], slices['end_train'] = '2015-03-31 23', '2016-04-30 17'\n",
    "slices['start_val'], slices['end_val'] = '2016-04-30 23', '2016-05-31 17'\n",
    "slices['start_test'], slices['end_test'] = '2016-05-31 23', '2016-06-30 17'\n",
    "for st in stages:\n",
    "    tdf = df.loc[slices[f'start_{st}']: slices[f'end_{st}']]\n",
    "    tdf[columns_y].to_parquet(PATH_TO_DATA + f'regr_data/y_{st}.parquet')\n",
    "    tdf[columns_cat].to_parquet(PATH_TO_DATA + f'regr_data/cat_{st}.parquet')\n",
    "    cat_dummies.loc[slices[f'start_{st}']: slices[f'end_{st}']].to_parquet(PATH_TO_DATA\n",
    "                                                                           + f'regr_data/cat_dummies_{st}.parquet')\n",
    "    datas[f'arima_{st}'] = tdf[columns_arima]\n",
    "    datas[f'y_{st}'] = tdf[columns_y].values\n",
    "    datas[f'cat_{st}'] = tdf[columns_cat].values\n",
    "    datas[f'cat_dummies_{st}'] = cat_dummies.loc[slices[f'start_{st}']: slices[f'end_{st}']].values\n",
    "    datas[f'X_{st}'] = tdf.drop(columns_y + columns_arima + columns_cat, axis=1)\n"
   ]
  },
  {
   "cell_type": "markdown",
   "metadata": {
    "hidden": true,
    "id": "WKWzc-nHn--6"
   },
   "source": [
    "К веществинным признакам применим стандартизацию и сохраним на диск."
   ]
  },
  {
   "cell_type": "code",
   "execution_count": null,
   "metadata": {
    "hidden": true,
    "id": "R_kgb4SMetKV"
   },
   "outputs": [],
   "source": [
    "scaler = StandardScaler()\n",
    "datas['X_train'][columns_real] = scaler.fit_transform(datas['X_train'][columns_real])\n",
    "datas['X_val'][columns_real] = scaler.transform(datas['X_val'][columns_real])\n",
    "datas['X_test'][columns_real] = scaler.transform(datas['X_test'][columns_real])\n",
    "\n",
    "datas['arima_train'] = pd.DataFrame(scaler.fit_transform(datas['arima_train']), columns=columns_arima)\n",
    "datas['arima_val'] = pd.DataFrame(scaler.transform(datas['arima_val']), columns=columns_arima)\n",
    "datas['arima_test'] = pd.DataFrame(scaler.transform(datas['arima_test']), columns=columns_arima)\n",
    "\n",
    "for k in datas:\n",
    "    datas[k].to_parquet(PATH_TO_DATA + f'regr_data/{k}_norm.parquet')"
   ]
  },
  {
   "cell_type": "markdown",
   "metadata": {
    "hidden": true,
    "id": "7PoI4U2komS-"
   },
   "source": [
    "Вещественные признаки имеют ассиметричное распределение. С помощью преобразования box-cox попробовал исправить это и использовать эти данные для моделей. Такое же преобразование применялось и к целевому признаку. Результат не оправдал надежд."
   ]
  },
  {
   "cell_type": "code",
   "execution_count": null,
   "metadata": {
    "hidden": true,
    "id": "yBvvEGKRTwUH"
   },
   "outputs": [],
   "source": [
    "scaler = PowerTransformer(standardize=True)\n",
    "datas['X_train'][columns_real] = scaler.fit_transform(datas['X_train'][columns_real])\n",
    "datas['X_val'][columns_real] = scaler.transform(datas['X_val'][columns_real])\n",
    "datas['X_test'][columns_real] = scaler.transform(datas['X_test'][columns_real])\n",
    "\n",
    "datas['arima_train'] = pd.DataFrame(scaler.fit_transform(datas['arima_train']), columns=columns_arima)\n",
    "datas['arima_val'] = pd.DataFrame(scaler.transform(datas['arima_val']), columns=columns_arima)\n",
    "datas['arima_test'] = pd.DataFrame(scaler.transform(datas['arima_test']), columns=columns_arima)\n",
    "\n",
    "for k in datas:\n",
    "    datas[k].to_parquet(PATH_TO_DATA + f'regr_data/{k}_box.parquet')"
   ]
  },
  {
   "cell_type": "code",
   "execution_count": null,
   "metadata": {
    "hidden": true,
    "id": "quantitative-orange"
   },
   "outputs": [],
   "source": [
    "pd.to_pickle(columns_real, PATH_TO_DATA + 'regr_data/columns_real.pickle')"
   ]
  },
  {
   "cell_type": "markdown",
   "metadata": {
    "id": "scC6MhbHjqsN"
   },
   "source": [
    "### Models"
   ]
  },
  {
   "cell_type": "markdown",
   "metadata": {
    "id": "military-president"
   },
   "source": [
    "#### Linear regression (SGDRegressor)"
   ]
  },
  {
   "cell_type": "markdown",
   "metadata": {
    "id": "8LHIOaIHv6am"
   },
   "source": [
    "Нам нужна модель, устойчива к избыточному колличеству признаков. Это L1 регуляризация. Учитывая большое колличество объектов, применим SGDRegressor с L1 регуляризацией."
   ]
  },
  {
   "cell_type": "markdown",
   "metadata": {
    "id": "WfJ3ERfuw7wU"
   },
   "source": [
    "Для поиска гиперпараметров применим библиотеку hyperopt."
   ]
  },
  {
   "cell_type": "code",
   "execution_count": null,
   "metadata": {
    "id": "k6R8eOcLjr4i"
   },
   "outputs": [],
   "source": [
    "def objective_sgdr(params):\n",
    "    \"\"\"\n",
    "    Валидация с текущими гиперпараметрами\n",
    "\n",
    "    :params: гиперпараметры\n",
    "    :pipeline: модель\n",
    "    :X_train, X_val: матрица признаков \n",
    "    :y_train, y_val: вектор значений объектов\n",
    "    :return: 'mae' on X_val, y_val\n",
    "    \"\"\" \n",
    "\n",
    "    # задаём модели требуемые параметры    \n",
    "    model = SGDRegressor(penalty='l1', shuffle=False, random_state=99)\n",
    "    model.set_params(**params)\n",
    "\n",
    "\n",
    "    # обучаем модель и считаем среднюю абсолютною ошибку на данных за май\n",
    "    model.fit(X_train, y_train)\n",
    "    score = mean_absolute_error(y_val, model.predict(X_val))\n",
    "\n",
    "    # возвращаем результаты, которые записываются в Trials()\n",
    "    return   {'loss': score, 'params': params, 'status': STATUS_OK}"
   ]
  },
  {
   "cell_type": "code",
   "execution_count": null,
   "metadata": {
    "colab": {
     "base_uri": "https://localhost:8080/"
    },
    "executionInfo": {
     "elapsed": 264716,
     "status": "ok",
     "timestamp": 1624520053235,
     "user": {
      "displayName": "Игорь Ярославович Башук",
      "photoUrl": "",
      "userId": "05144798806300989296"
     },
     "user_tz": -180
    },
    "id": "BT74FTfcpwIG",
    "outputId": "6bfd543e-c37f-40bc-8f93-9bafd7dbbb95"
   },
   "outputs": [
    {
     "name": "stderr",
     "output_type": "stream",
     "text": [
      "\n",
      "  0%|          | 0/6 [00:00<?, ?it/s]\u001b[A\n",
      " 17%|█▋        | 1/6 [00:48<04:04, 48.97s/it]\u001b[A"
     ]
    },
    {
     "name": "stdout",
     "output_type": "stream",
     "text": [
      "\t\tMAE = 17.55151320838835\n"
     ]
    },
    {
     "name": "stderr",
     "output_type": "stream",
     "text": [
      "\n",
      " 33%|███▎      | 2/6 [01:32<03:08, 47.24s/it]\u001b[A"
     ]
    },
    {
     "name": "stdout",
     "output_type": "stream",
     "text": [
      "\t\tMAE = 21.93175746556983\n"
     ]
    },
    {
     "name": "stderr",
     "output_type": "stream",
     "text": [
      "\n",
      " 50%|█████     | 3/6 [02:14<02:17, 45.81s/it]\u001b[A"
     ]
    },
    {
     "name": "stdout",
     "output_type": "stream",
     "text": [
      "\t\tMAE = 23.22219852577829\n"
     ]
    },
    {
     "name": "stderr",
     "output_type": "stream",
     "text": [
      "\n",
      " 67%|██████▋   | 4/6 [02:57<01:29, 44.85s/it]\u001b[A"
     ]
    },
    {
     "name": "stdout",
     "output_type": "stream",
     "text": [
      "\t\tMAE = 23.41645148232163\n"
     ]
    },
    {
     "name": "stderr",
     "output_type": "stream",
     "text": [
      "\n",
      " 83%|████████▎ | 5/6 [03:40<00:44, 44.49s/it]\u001b[A"
     ]
    },
    {
     "name": "stdout",
     "output_type": "stream",
     "text": [
      "\t\tMAE = 23.594025410443983\n"
     ]
    },
    {
     "name": "stderr",
     "output_type": "stream",
     "text": [
      "\n",
      "100%|██████████| 6/6 [04:24<00:00, 44.06s/it]"
     ]
    },
    {
     "name": "stdout",
     "output_type": "stream",
     "text": [
      "\t\tMAE = 23.61054857649078\n",
      "\n",
      "Qmay = 22.221082444832145\n"
     ]
    },
    {
     "name": "stderr",
     "output_type": "stream",
     "text": [
      "\n"
     ]
    }
   ],
   "source": [
    "# \n",
    "\n",
    "search_space = {'alpha': hp.uniform('alpha', low=0.01, high=0.5),\n",
    "                'eta0': hp.choice('eta0', [1e-2])\n",
    "                }\n",
    "\n",
    "trials_sgdr = []\n",
    "\n",
    "for lag in tqdm(range(1, 7)):\n",
    "    # load data\n",
    "    X_train, y_train, X_val, y_val, _, _ = load_model_data(lag, 'norm', True)\n",
    "    # \n",
    "    trials = Trials()\n",
    "    best = fmin( \n",
    "            # функция для оптимизации  \n",
    "                fn=objective_sgdr,\n",
    "            # пространство поиска гиперпараметров  \n",
    "                space=search_space,\n",
    "            # алгоритм поиска\n",
    "                algo=tpe.suggest,\n",
    "            # число итераций \n",
    "            # (можно ещё указать и время поиска) \n",
    "                max_evals=5,\n",
    "            # куда сохранять историю поиска\n",
    "                trials=trials,\n",
    "            # random state\n",
    "                rstate=np.random.RandomState(99),\n",
    "            # progressbar\n",
    "                show_progressbar=False\n",
    "                )\n",
    "    trials_sgdr.append(trials)\n",
    "    print(f\"\\t\\tMAE = {trials.best_trial['result']['loss']}\")\n",
    "print(f\"\\nQmay = {sum([trials.best_trial['result']['loss'] for trials in trials_sgdr]) / 6}\")"
   ]
  },
  {
   "cell_type": "markdown",
   "metadata": {
    "id": "n8om1w3KvWUK"
   },
   "source": [
    "Линейная регрессия не улучшила предсказание. Попробуем модели градиентного бустинга."
   ]
  },
  {
   "cell_type": "markdown",
   "metadata": {
    "id": "2duMxNR-i049"
   },
   "source": [
    "#### LightGBM"
   ]
  },
  {
   "cell_type": "markdown",
   "metadata": {
    "id": "LVJtVrR-yxTQ"
   },
   "source": [
    "С помощью hyperopt подбираем гиперпараметры и сохраняем лучшую модель на диск"
   ]
  },
  {
   "cell_type": "code",
   "execution_count": null,
   "metadata": {
    "id": "CU-pKmj78q3t"
   },
   "outputs": [],
   "source": [
    "def objective_lgbm(params):\n",
    "    \"\"\"\n",
    "    Валидация с текущими гиперпараметрами\n",
    "\n",
    "    :params: гиперпараметры\n",
    "    :pipeline: модель\n",
    "    :X_train, X_val: матрица признаков \n",
    "    :y_train, y_val: вектор значений объектов\n",
    "    :return: 'mae' on X_val, y_val\n",
    "    \"\"\" \n",
    "\n",
    "    # задаём модели требуемые параметры\n",
    "    num_round = 100000\n",
    "    param = {'objective':'regression', 'lambda_l2': 0, 'lambda_l1': 0, \n",
    "             'max_bin_by_feature': ([32]*6 + [255]*28 + [1024]),\n",
    "             'verbose': 0, 'random_state': 99}\n",
    "    param['metric'] = ['l1']\n",
    "    param.update(params)\n",
    "    param['num_leaves'] = int(param['num_leaves'])\n",
    "            \n",
    "    # обучаем модель и считаем среднюю абсолютною ошибку на данных за май\n",
    "    model = lgb.train(param, dtrain, num_round, valid_sets=[dval],\n",
    "                    early_stopping_rounds=10, verbose_eval=5000)\n",
    "    \n",
    "    score = mean_absolute_error(y_val, model.predict(X_val))\n",
    "    \n",
    "    try:\n",
    "        best = score < trials.best_trial['result']['loss']\n",
    "    except:\n",
    "        best = True\n",
    "    if best: model.save_model(PATH_TO_DATA + f'models/lgbm_{lag}', num_iteration=model.best_iteration)\n",
    "\n",
    "    # возвращаем результаты, которые записываются в Trials()\n",
    "    return   {'loss': score, 'params': params, 'status': STATUS_OK}"
   ]
  },
  {
   "cell_type": "code",
   "execution_count": null,
   "metadata": {
    "colab": {
     "base_uri": "https://localhost:8080/"
    },
    "executionInfo": {
     "elapsed": 12560282,
     "status": "ok",
     "timestamp": 1624707437990,
     "user": {
      "displayName": "Игорь Ярославович Башук",
      "photoUrl": "",
      "userId": "05144798806300989296"
     },
     "user_tz": -180
    },
    "id": "COHtCgr6Qy10",
    "outputId": "4a8e863e-9139-4454-ee67-678be9a0176e"
   },
   "outputs": [
    {
     "name": "stderr",
     "output_type": "stream",
     "text": [
      "\n",
      "\n",
      "  0%|          | 0/6 [00:00<?, ?it/s]\u001b[A\u001b[A"
     ]
    },
    {
     "name": "stdout",
     "output_type": "stream",
     "text": [
      "Training until validation scores don't improve for 10 rounds.\n",
      "Early stopping, best iteration is:\n",
      "[2195]\tvalid_0's l1: 13.7182\n",
      "Training until validation scores don't improve for 10 rounds.\n",
      "Early stopping, best iteration is:\n",
      "[1335]\tvalid_0's l1: 13.7798\n",
      "Training until validation scores don't improve for 10 rounds.\n",
      "Early stopping, best iteration is:\n",
      "[2090]\tvalid_0's l1: 13.8025\n",
      "Training until validation scores don't improve for 10 rounds.\n",
      "Early stopping, best iteration is:\n",
      "[1185]\tvalid_0's l1: 13.8484\n",
      "Training until validation scores don't improve for 10 rounds.\n",
      "Early stopping, best iteration is:\n",
      "[1042]\tvalid_0's l1: 13.759\n"
     ]
    },
    {
     "name": "stderr",
     "output_type": "stream",
     "text": [
      "\n",
      "\n",
      " 17%|█▋        | 1/6 [42:00<3:30:03, 2520.77s/it]\u001b[A\u001b[A"
     ]
    },
    {
     "name": "stdout",
     "output_type": "stream",
     "text": [
      "\t\tMAE = 13.718193881354914\n",
      "Training until validation scores don't improve for 10 rounds.\n",
      "Early stopping, best iteration is:\n",
      "[1693]\tvalid_0's l1: 15.7689\n",
      "Training until validation scores don't improve for 10 rounds.\n",
      "Early stopping, best iteration is:\n",
      "[1312]\tvalid_0's l1: 15.7889\n",
      "Training until validation scores don't improve for 10 rounds.\n",
      "Early stopping, best iteration is:\n",
      "[2548]\tvalid_0's l1: 15.6795\n",
      "Training until validation scores don't improve for 10 rounds.\n",
      "Early stopping, best iteration is:\n",
      "[1275]\tvalid_0's l1: 15.8351\n",
      "Training until validation scores don't improve for 10 rounds.\n",
      "Early stopping, best iteration is:\n",
      "[675]\tvalid_0's l1: 15.9205\n"
     ]
    },
    {
     "name": "stderr",
     "output_type": "stream",
     "text": [
      "\n",
      "\n",
      " 33%|███▎      | 2/6 [1:23:40<2:47:37, 2514.35s/it]\u001b[A\u001b[A"
     ]
    },
    {
     "name": "stdout",
     "output_type": "stream",
     "text": [
      "\t\tMAE = 15.679534692838509\n",
      "Training until validation scores don't improve for 10 rounds.\n",
      "Early stopping, best iteration is:\n",
      "[1243]\tvalid_0's l1: 16.8664\n",
      "Training until validation scores don't improve for 10 rounds.\n",
      "Early stopping, best iteration is:\n",
      "[1050]\tvalid_0's l1: 16.9115\n",
      "Training until validation scores don't improve for 10 rounds.\n",
      "Early stopping, best iteration is:\n",
      "[2771]\tvalid_0's l1: 16.7228\n",
      "Training until validation scores don't improve for 10 rounds.\n",
      "Early stopping, best iteration is:\n",
      "[1567]\tvalid_0's l1: 16.8282\n",
      "Training until validation scores don't improve for 10 rounds.\n",
      "Early stopping, best iteration is:\n",
      "[619]\tvalid_0's l1: 17.0841\n"
     ]
    },
    {
     "name": "stderr",
     "output_type": "stream",
     "text": [
      "\n",
      "\n",
      " 50%|█████     | 3/6 [2:03:00<2:03:24, 2468.03s/it]\u001b[A\u001b[A"
     ]
    },
    {
     "name": "stdout",
     "output_type": "stream",
     "text": [
      "\t\tMAE = 16.722833973428198\n",
      "Training until validation scores don't improve for 10 rounds.\n",
      "Early stopping, best iteration is:\n",
      "[1208]\tvalid_0's l1: 17.3456\n",
      "Training until validation scores don't improve for 10 rounds.\n",
      "Early stopping, best iteration is:\n",
      "[798]\tvalid_0's l1: 17.5271\n",
      "Training until validation scores don't improve for 10 rounds.\n",
      "Early stopping, best iteration is:\n",
      "[1787]\tvalid_0's l1: 17.368\n",
      "Training until validation scores don't improve for 10 rounds.\n",
      "Early stopping, best iteration is:\n",
      "[912]\tvalid_0's l1: 17.44\n",
      "Training until validation scores don't improve for 10 rounds.\n",
      "Early stopping, best iteration is:\n",
      "[923]\tvalid_0's l1: 17.3577\n"
     ]
    },
    {
     "name": "stderr",
     "output_type": "stream",
     "text": [
      "\n",
      "\n",
      " 67%|██████▋   | 4/6 [2:34:51<1:16:42, 2301.12s/it]\u001b[A\u001b[A"
     ]
    },
    {
     "name": "stdout",
     "output_type": "stream",
     "text": [
      "\t\tMAE = 17.345579639134318\n",
      "Training until validation scores don't improve for 10 rounds.\n",
      "Early stopping, best iteration is:\n",
      "[422]\tvalid_0's l1: 18.0367\n",
      "Training until validation scores don't improve for 10 rounds.\n",
      "Early stopping, best iteration is:\n",
      "[323]\tvalid_0's l1: 18.1095\n",
      "Training until validation scores don't improve for 10 rounds.\n",
      "Early stopping, best iteration is:\n",
      "[1633]\tvalid_0's l1: 17.5398\n",
      "Training until validation scores don't improve for 10 rounds.\n",
      "Early stopping, best iteration is:\n",
      "[1305]\tvalid_0's l1: 17.5175\n",
      "Training until validation scores don't improve for 10 rounds.\n",
      "Early stopping, best iteration is:\n",
      "[613]\tvalid_0's l1: 17.7464\n"
     ]
    },
    {
     "name": "stderr",
     "output_type": "stream",
     "text": [
      "\n",
      "\n",
      " 83%|████████▎ | 5/6 [3:00:42<34:35, 2075.86s/it]  \u001b[A\u001b[A"
     ]
    },
    {
     "name": "stdout",
     "output_type": "stream",
     "text": [
      "\t\tMAE = 17.517535210362418\n",
      "Training until validation scores don't improve for 10 rounds.\n",
      "Early stopping, best iteration is:\n",
      "[1085]\tvalid_0's l1: 17.7309\n",
      "Training until validation scores don't improve for 10 rounds.\n",
      "Early stopping, best iteration is:\n",
      "[657]\tvalid_0's l1: 17.966\n",
      "Training until validation scores don't improve for 10 rounds.\n",
      "Early stopping, best iteration is:\n",
      "[1653]\tvalid_0's l1: 17.6338\n",
      "Training until validation scores don't improve for 10 rounds.\n",
      "Early stopping, best iteration is:\n",
      "[1074]\tvalid_0's l1: 17.7347\n",
      "Training until validation scores don't improve for 10 rounds.\n",
      "Early stopping, best iteration is:\n",
      "[606]\tvalid_0's l1: 17.9034\n"
     ]
    },
    {
     "name": "stderr",
     "output_type": "stream",
     "text": [
      "\n",
      "\n",
      "100%|██████████| 6/6 [3:29:20<00:00, 2093.39s/it]"
     ]
    },
    {
     "name": "stdout",
     "output_type": "stream",
     "text": [
      "\t\tMAE = 17.633782676214533\n",
      "\n",
      "Qmay = 16.436243345555482\n"
     ]
    },
    {
     "name": "stderr",
     "output_type": "stream",
     "text": [
      "\n"
     ]
    }
   ],
   "source": [
    "# \n",
    "\n",
    "warnings.filterwarnings('ignore')\n",
    "\n",
    "search_space = {'num_leaves': hp.quniform('num_leaves', low=450, high=900, q=50),\n",
    "                'max_depth': hp.choice('max_depth', [-1]), \n",
    "                # 'max_bin': hp.choice('max_bin', [255]),   \n",
    "                'learning_rate': hp.uniform('learning_rate', low=0.01, high=0.05)\n",
    "                }\n",
    "\n",
    "trials_lgbm = []\n",
    "\n",
    "for lag in tqdm(range(1, 7)):\n",
    "    # load data\n",
    "    X_train, y_train, X_val, y_val, _, _ = load_model_data(lag, 'norm', False)\n",
    "    # make Dataset\n",
    "    columns_cat=['zone']\n",
    "    dtrain = lgb.Dataset(X_train, label=y_train, \n",
    "                         categorical_feature=columns_cat, free_raw_data=False)\n",
    "    dval = lgb.Dataset(X_val, label=y_val, \n",
    "                       reference=dtrain, categorical_feature=columns_cat)\n",
    "    # \n",
    "    trials = Trials()\n",
    "    best = fmin( \n",
    "            # функция для оптимизации  \n",
    "                fn=objective_lgbm,\n",
    "            # пространство поиска гиперпараметров  \n",
    "                space=search_space,\n",
    "            # алгоритм поиска\n",
    "                algo=rand.suggest,\n",
    "                # algo=tpe.suggest,\n",
    "            # число итераций \n",
    "            # (можно ещё указать и время поиска) \n",
    "                max_evals=5,\n",
    "            # куда сохранять историю поиска\n",
    "                trials=trials,\n",
    "            # random state\n",
    "                rstate=np.random.RandomState(99),\n",
    "            # progressbar\n",
    "                show_progressbar=False\n",
    "                )\n",
    "    trials_lgbm.append(trials)\n",
    "    print(f\"\\t\\tMAE = {trials.best_trial['result']['loss']}\")\n",
    "print(f\"\\nQmay = {sum([trials.best_trial['result']['loss'] for trials in trials_lgbm]) / 6}\")\n",
    "\n",
    "warnings.filterwarnings('default')"
   ]
  },
  {
   "cell_type": "markdown",
   "metadata": {
    "id": "TaPwfte2xeww"
   },
   "source": [
    "Средняя точность выросла на ~4 поездки."
   ]
  },
  {
   "cell_type": "markdown",
   "metadata": {
    "id": "I9zOpXMyMHW3"
   },
   "source": [
    "#### CatBoost"
   ]
  },
  {
   "cell_type": "markdown",
   "metadata": {
    "id": "aH2oeVZTyX6E"
   },
   "source": [
    "С помощью hyperopt подбираем гиперпараметры и сохраняем лучшую модель на диск"
   ]
  },
  {
   "cell_type": "code",
   "execution_count": null,
   "metadata": {
    "id": "HF6L-H5oK_Xp"
   },
   "outputs": [],
   "source": [
    "def objective_cb(params):\n",
    "    \"\"\"\n",
    "    Валидация с текущими гиперпараметрами\n",
    "\n",
    "    :params: гиперпараметры\n",
    "    :pipeline: модель\n",
    "    :X_train, X_val: матрица признаков \n",
    "    :y_train, y_val: вектор значений объектов\n",
    "    :return: 'mae' on X_val, y_val\n",
    "    \"\"\" \n",
    "\n",
    "    # задаём модели требуемые параметры\n",
    "    param = {'iterations': 100000, 'one_hot_max_size': 102, 'border_count': 255,\n",
    "             'eval_metric': 'MAE', 'random_seed': 99, 'has_time': True,\n",
    "             'verbose': 5000, 'task_type': 'GPU',\n",
    "             'od_type': 'Iter', 'od_wait': 40, \n",
    "             'per_float_feature_quantization': '34:border_count=1024'\n",
    "            }\n",
    "    param.update(params)\n",
    "            \n",
    "    # обучаем модель и считаем среднюю абсолютною ошибку на данных за май\n",
    "    print('\\n')\n",
    "    model = CatBoostRegressor(**param)\n",
    "    model.fit(train_pool, eval_set=validate_pool)\n",
    "    \n",
    "    score = mean_absolute_error(y_val, model.predict(X_val))\n",
    "\n",
    "    try:\n",
    "        best = score < trials.best_trial['result']['loss']\n",
    "    except:\n",
    "        best = True\n",
    "    if best: model.save_model(PATH_TO_DATA + f'models/catboost_{lag}')\n",
    "\n",
    "    # возвращаем результаты, которые записываются в Trials()\n",
    "    return   {'loss': score, 'params': params, 'status': STATUS_OK}"
   ]
  },
  {
   "cell_type": "code",
   "execution_count": null,
   "metadata": {
    "colab": {
     "base_uri": "https://localhost:8080/"
    },
    "executionInfo": {
     "elapsed": 4709282,
     "status": "ok",
     "timestamp": 1624713385302,
     "user": {
      "displayName": "Игорь Ярославович Башук",
      "photoUrl": "",
      "userId": "05144798806300989296"
     },
     "user_tz": -180
    },
    "id": "Oxpzf_R7K_L3",
    "outputId": "68d40145-6663-4bf7-86f0-3cc3f0f4077e"
   },
   "outputs": [
    {
     "name": "stderr",
     "output_type": "stream",
     "text": [
      "  0%|          | 0/6 [00:00<?, ?it/s]"
     ]
    },
    {
     "name": "stdout",
     "output_type": "stream",
     "text": [
      "\n",
      "  0%|          | 0/5 [00:00<?, ?it/s, best loss: ?]\u001b[A0:\tlearn: 172.8772606\ttest: 169.2159251\tbest: 169.2159251 (0)\ttotal: 31ms\tremaining: 51m 44s\n",
      "5000:\tlearn: 12.7479797\ttest: 14.3814608\tbest: 14.3805719 (4997)\ttotal: 1m 33s\tremaining: 29m 37s\n",
      "bestTest = 14.19676663\n",
      "bestIteration = 7430\n",
      "Shrink model to first 7431 iterations.\n",
      "\n",
      " 20%|██        | 1/5 [02:22<09:30, 142.70s/it, best loss: 14.196771909401658]\u001b[A0:\tlearn: 172.8716459\ttest: 169.2166547\tbest: 169.2166547 (0)\ttotal: 43.7ms\tremaining: 1h 12m 48s\n",
      "5000:\tlearn: 11.3479118\ttest: 14.1101847\tbest: 14.1101250 (4997)\ttotal: 2m 14s\tremaining: 42m 39s\n",
      "10000:\tlearn: 9.7227479\ttest: 13.8497017\tbest: 13.8496320 (9998)\ttotal: 4m 30s\tremaining: 40m 30s\n",
      "bestTest = 13.80602182\n",
      "bestIteration = 11455\n",
      "Shrink model to first 11456 iterations.\n",
      "\n",
      " 40%|████      | 2/5 [07:40<09:46, 195.37s/it, best loss: 13.806025052696732]\u001b[A0:\tlearn: 172.9428526\ttest: 169.2914378\tbest: 169.2914378 (0)\ttotal: 21ms\tremaining: 35m 2s\n",
      "5000:\tlearn: 13.9901290\ttest: 14.9347356\tbest: 14.9347041 (4998)\ttotal: 1m 9s\tremaining: 21m 54s\n",
      "bestTest = 14.73766716\n",
      "bestIteration = 7480\n",
      "Shrink model to first 7481 iterations.\n",
      "\n",
      " 60%|██████    | 3/5 [09:27<05:37, 168.68s/it, best loss: 13.806025052696732]\u001b[A0:\tlearn: 172.8716624\ttest: 169.2166547\tbest: 169.2166547 (0)\ttotal: 25ms\tremaining: 41m 43s\n",
      "5000:\tlearn: 11.3479118\ttest: 14.1101863\tbest: 14.1101266 (4997)\ttotal: 2m 14s\tremaining: 42m 34s\n",
      "10000:\tlearn: 9.7227479\ttest: 13.8497025\tbest: 13.8496329 (9998)\ttotal: 4m 30s\tremaining: 40m 30s\n",
      "bestTest = 13.77245599\n",
      "bestIteration = 12917\n",
      "Shrink model to first 12918 iterations.\n",
      "\n",
      " 80%|████████  | 4/5 [15:25<03:45, 225.57s/it, best loss: 13.772460515066408]\u001b[A0:\tlearn: 172.8774587\ttest: 169.2154607\tbest: 169.2154607 (0)\ttotal: 27ms\tremaining: 44m 59s\n",
      "5000:\tlearn: 13.3294681\ttest: 14.6141331\tbest: 14.6141331 (5000)\ttotal: 1m 20s\tremaining: 25m 27s\n",
      "10000:\tlearn: 12.4561233\ttest: 14.2776125\tbest: 14.2776125 (10000)\ttotal: 2m 40s\tremaining: 24m 3s\n",
      "bestTest = 14.22563115\n",
      "bestIteration = 11276\n",
      "Shrink model to first 11277 iterations.\n",
      "\n",
      "100%|██████████| 5/5 [18:30<00:00, 222.10s/it, best loss: 13.772460515066408]"
     ]
    },
    {
     "name": "stderr",
     "output_type": "stream",
     "text": [
      " 17%|█▋        | 1/6 [18:32<1:32:42, 1112.50s/it]"
     ]
    },
    {
     "name": "stdout",
     "output_type": "stream",
     "text": [
      "\n",
      "\t\tMAE = 13.772460515066408\n",
      "\n",
      "  0%|          | 0/5 [00:00<?, ?it/s, best loss: ?]\u001b[A0:\tlearn: 172.9334894\ttest: 169.1963836\tbest: 169.1963836 (0)\ttotal: 41.6ms\tremaining: 1h 9m 24s\n",
      "5000:\tlearn: 13.8668363\ttest: 16.4767008\tbest: 16.4767008 (5000)\ttotal: 1m 33s\tremaining: 29m 43s\n",
      "bestTest = 16.44388615\n",
      "bestIteration = 5262\n",
      "Shrink model to first 5263 iterations.\n",
      "\n",
      " 20%|██        | 1/5 [01:41<06:47, 101.91s/it, best loss: 16.44388527579437]\u001b[A0:\tlearn: 172.9268674\ttest: 169.1872828\tbest: 169.1872828 (0)\ttotal: 25.4ms\tremaining: 42m 23s\n",
      "5000:\tlearn: 12.1452052\ttest: 16.0912053\tbest: 16.0912053 (5000)\ttotal: 2m 15s\tremaining: 42m 50s\n",
      "bestTest = 15.73359767\n",
      "bestIteration = 9726\n",
      "Shrink model to first 9727 iterations.\n",
      "\n",
      " 40%|████      | 2/5 [06:13<07:38, 152.67s/it, best loss: 15.733587625949276]\u001b[A0:\tlearn: 173.0033915\ttest: 169.2735016\tbest: 169.2735016 (0)\ttotal: 20.9ms\tremaining: 34m 53s\n",
      "5000:\tlearn: 15.5487378\ttest: 17.2041544\tbest: 17.2041494 (4998)\ttotal: 1m 9s\tremaining: 22m 6s\n",
      "bestTest = 16.84183382\n",
      "bestIteration = 8543\n",
      "Shrink model to first 8544 iterations.\n",
      "\n",
      " 60%|██████    | 3/5 [08:14<04:46, 143.45s/it, best loss: 15.733587625949276]\u001b[A0:\tlearn: 172.9268674\ttest: 169.1872695\tbest: 169.1872695 (0)\ttotal: 25.8ms\tremaining: 42m 56s\n",
      "5000:\tlearn: 12.1452052\ttest: 16.0912070\tbest: 16.0912070 (5000)\ttotal: 2m 14s\tremaining: 42m 38s\n",
      "bestTest = 15.73359601\n",
      "bestIteration = 9726\n",
      "Shrink model to first 9727 iterations.\n",
      "\n",
      " 80%|████████  | 4/5 [12:44<03:01, 181.38s/it, best loss: 15.733587625949276]\u001b[A0:\tlearn: 172.9334894\ttest: 169.1963040\tbest: 169.1963040 (0)\ttotal: 26.9ms\tremaining: 44m 54s\n",
      "5000:\tlearn: 14.6406257\ttest: 16.7138008\tbest: 16.7137908 (4993)\ttotal: 1m 20s\tremaining: 25m 35s\n",
      "bestTest = 16.60818807\n",
      "bestIteration = 5911\n",
      "Shrink model to first 5912 iterations.\n",
      "\n",
      "100%|██████████| 5/5 [14:23<00:00, 172.65s/it, best loss: 15.733587625949276]"
     ]
    },
    {
     "name": "stderr",
     "output_type": "stream",
     "text": [
      " 33%|███▎      | 2/6 [33:00<1:09:16, 1039.03s/it]"
     ]
    },
    {
     "name": "stdout",
     "output_type": "stream",
     "text": [
      "\n",
      "\t\tMAE = 15.733587625949276\n",
      "\n",
      "  0%|          | 0/5 [00:00<?, ?it/s, best loss: ?]\u001b[A0:\tlearn: 172.9677716\ttest: 169.1510520\tbest: 169.1510520 (0)\ttotal: 31.3ms\tremaining: 52m 7s\n",
      "5000:\tlearn: 14.1179959\ttest: 17.5958900\tbest: 17.5950758 (4983)\ttotal: 1m 34s\tremaining: 29m 47s\n",
      "bestTest = 17.34966602\n",
      "bestIteration = 7092\n",
      "Shrink model to first 7093 iterations.\n",
      "\n",
      " 20%|██        | 1/5 [02:16<09:07, 136.86s/it, best loss: 17.3496675389985]\u001b[A0:\tlearn: 172.9615625\ttest: 169.1434636\tbest: 169.1434636 (0)\ttotal: 43.1ms\tremaining: 1h 11m 49s\n",
      "5000:\tlearn: 12.2901461\ttest: 17.2257870\tbest: 17.2257870 (5000)\ttotal: 2m 15s\tremaining: 42m 45s\n",
      "10000:\tlearn: 10.3684454\ttest: 16.8805421\tbest: 16.8805056 (9998)\ttotal: 4m 30s\tremaining: 40m 37s\n",
      "bestTest = 16.84580713\n",
      "bestIteration = 10835\n",
      "Shrink model to first 10836 iterations.\n",
      "\n",
      " 40%|████      | 2/5 [07:18<09:18, 186.25s/it, best loss: 16.845813241222338]\u001b[A0:\tlearn: 173.0366169\ttest: 169.2301600\tbest: 169.2301600 (0)\ttotal: 21ms\tremaining: 35m\n",
      "5000:\tlearn: 15.9666900\ttest: 18.3110954\tbest: 18.3110473 (4996)\ttotal: 1m 9s\tremaining: 22m 6s\n",
      "bestTest = 17.84534944\n",
      "bestIteration = 9750\n",
      "Shrink model to first 9751 iterations.\n",
      "\n",
      " 60%|██████    | 3/5 [09:37<05:44, 172.11s/it, best loss: 16.845813241222338]\u001b[A0:\tlearn: 172.9615625\ttest: 169.1434636\tbest: 169.1434636 (0)\ttotal: 25.3ms\tremaining: 42m 11s\n",
      "5000:\tlearn: 12.2901441\ttest: 17.2257887\tbest: 17.2257887 (5000)\ttotal: 2m 15s\tremaining: 42m 54s\n",
      "10000:\tlearn: 10.3684454\ttest: 16.8805404\tbest: 16.8805089 (9998)\ttotal: 4m 31s\tremaining: 40m 47s\n",
      "bestTest = 16.84580547\n",
      "bestIteration = 10835\n",
      "Shrink model to first 10836 iterations.\n",
      "\n",
      " 80%|████████  | 4/5 [14:39<03:31, 211.01s/it, best loss: 16.845813241222338]\u001b[A0:\tlearn: 172.9675404\ttest: 169.1510122\tbest: 169.1510122 (0)\ttotal: 28.7ms\tremaining: 47m 47s\n",
      "5000:\tlearn: 14.9611352\ttest: 17.8531750\tbest: 17.8531750 (5000)\ttotal: 1m 21s\tremaining: 25m 42s\n",
      "bestTest = 17.51106921\n",
      "bestIteration = 8012\n",
      "Shrink model to first 8013 iterations.\n",
      "\n",
      "100%|██████████| 5/5 [16:52<00:00, 202.44s/it, best loss: 16.845813241222338]"
     ]
    },
    {
     "name": "stderr",
     "output_type": "stream",
     "text": [
      " 50%|█████     | 3/6 [49:56<51:36, 1032.16s/it]  "
     ]
    },
    {
     "name": "stdout",
     "output_type": "stream",
     "text": [
      "\n",
      "\t\tMAE = 16.845813241222338\n",
      "\n",
      "  0%|          | 0/5 [00:00<?, ?it/s, best loss: ?]\u001b[A0:\tlearn: 172.9904448\ttest: 169.1371753\tbest: 169.1371753 (0)\ttotal: 31ms\tremaining: 51m 38s\n",
      "bestTest = 18.63644233\n",
      "bestIteration = 2656\n",
      "Shrink model to first 2657 iterations.\n",
      "\n",
      " 20%|██        | 1/5 [00:52<03:30, 52.56s/it, best loss: 18.636440175398285]\u001b[A0:\tlearn: 172.9848467\ttest: 169.1317228\tbest: 169.1317228 (0)\ttotal: 24.9ms\tremaining: 41m 30s\n",
      "bestTest = 17.71130336\n",
      "bestIteration = 4575\n",
      "Shrink model to first 4576 iterations.\n",
      "\n",
      " 40%|████      | 2/5 [03:00<03:45, 75.19s/it, best loss: 17.71131091161503] \u001b[A0:\tlearn: 173.0711633\ttest: 169.2355992\tbest: 169.2355992 (0)\ttotal: 21.3ms\tremaining: 35m 33s\n",
      "5000:\tlearn: 16.1594110\ttest: 18.7703673\tbest: 18.7683840 (4999)\ttotal: 1m 9s\tremaining: 22m 9s\n",
      "bestTest = 18.55849021\n",
      "bestIteration = 6914\n",
      "Shrink model to first 6915 iterations.\n",
      "\n",
      " 60%|██████    | 3/5 [04:41<02:45, 82.88s/it, best loss: 17.71131091161503]\u001b[A0:\tlearn: 172.9848467\ttest: 169.1317361\tbest: 169.1317361 (0)\ttotal: 26.3ms\tremaining: 43m 50s\n",
      "bestTest = 17.71130502\n",
      "bestIteration = 4575\n",
      "Shrink model to first 4576 iterations.\n",
      "\n",
      " 80%|████████  | 4/5 [06:48<01:36, 96.19s/it, best loss: 17.71131091161503]\u001b[A0:\tlearn: 172.9903457\ttest: 169.1362997\tbest: 169.1362997 (0)\ttotal: 27.1ms\tremaining: 45m 5s\n",
      "bestTest = 18.49757887\n",
      "bestIteration = 4208\n",
      "Shrink model to first 4209 iterations.\n",
      "\n",
      "100%|██████████| 5/5 [07:59<00:00, 95.93s/it, best loss: 17.71131091161503]"
     ]
    },
    {
     "name": "stderr",
     "output_type": "stream",
     "text": [
      " 67%|██████▋   | 4/6 [57:59<28:55, 867.59s/it] "
     ]
    },
    {
     "name": "stdout",
     "output_type": "stream",
     "text": [
      "\n",
      "\t\tMAE = 17.71131091161503\n",
      "\n",
      "  0%|          | 0/5 [00:00<?, ?it/s, best loss: ?]\u001b[A0:\tlearn: 173.0130685\ttest: 169.1535196\tbest: 169.1535196 (0)\ttotal: 31.2ms\tremaining: 52m 1s\n",
      "bestTest = 18.87896833\n",
      "bestIteration = 2294\n",
      "Shrink model to first 2295 iterations.\n",
      "\n",
      " 20%|██        | 1/5 [00:46<03:04, 46.05s/it, best loss: 18.878966289305403]\u001b[A0:\tlearn: 173.0053236\ttest: 169.1425217\tbest: 169.1425217 (0)\ttotal: 25.9ms\tremaining: 43m 6s\n",
      "5000:\tlearn: 12.4050808\ttest: 17.9081164\tbest: 17.9081164 (5000)\ttotal: 2m 14s\tremaining: 42m 41s\n",
      "bestTest = 17.73137885\n",
      "bestIteration = 6868\n",
      "Shrink model to first 6869 iterations.\n",
      "\n",
      " 40%|████      | 2/5 [03:57<04:28, 89.63s/it, best loss: 17.731386988274267]\u001b[A0:\tlearn: 173.0816164\ttest: 169.2350819\tbest: 169.2350819 (0)\ttotal: 20.9ms\tremaining: 34m 51s\n",
      "bestTest = 18.95047295\n",
      "bestIteration = 4890\n",
      "Shrink model to first 4891 iterations.\n",
      "\n",
      " 60%|██████    | 3/5 [05:08<02:47, 83.98s/it, best loss: 17.731386988274267]\u001b[A0:\tlearn: 173.0053071\ttest: 169.1425217\tbest: 169.1425217 (0)\ttotal: 25.9ms\tremaining: 43m 7s\n",
      "bestTest = 18.19796559\n",
      "bestIteration = 3368\n",
      "Shrink model to first 3369 iterations.\n",
      "\n",
      " 80%|████████  | 4/5 [06:42<01:27, 87.23s/it, best loss: 17.731386988274267]\u001b[A0:\tlearn: 173.0131345\ttest: 169.1525511\tbest: 169.1525511 (0)\ttotal: 26.8ms\tremaining: 44m 35s\n",
      "bestTest = 18.7871826\n",
      "bestIteration = 3284\n",
      "Shrink model to first 3285 iterations.\n",
      "\n",
      "100%|██████████| 5/5 [07:38<00:00, 91.74s/it, best loss: 17.731386988274267]"
     ]
    },
    {
     "name": "stderr",
     "output_type": "stream",
     "text": [
      " 83%|████████▎ | 5/6 [1:05:41<12:25, 745.71s/it]"
     ]
    },
    {
     "name": "stdout",
     "output_type": "stream",
     "text": [
      "\n",
      "\t\tMAE = 17.731386988274267\n",
      "\n",
      "  0%|          | 0/5 [00:00<?, ?it/s, best loss: ?]\u001b[A0:\tlearn: 173.0361380\ttest: 169.1746398\tbest: 169.1746398 (0)\ttotal: 31ms\tremaining: 51m 39s\n",
      "bestTest = 18.32508988\n",
      "bestIteration = 4419\n",
      "Shrink model to first 4420 iterations.\n",
      "\n",
      " 20%|██        | 1/5 [01:26<05:44, 86.24s/it, best loss: 18.325091724659103]\u001b[A0:\tlearn: 173.0245289\ttest: 169.1582823\tbest: 169.1582823 (0)\ttotal: 25.6ms\tremaining: 42m 37s\n",
      "5000:\tlearn: 12.4370574\ttest: 17.9437286\tbest: 17.9437286 (5000)\ttotal: 2m 14s\tremaining: 42m 41s\n",
      "bestTest = 17.64109555\n",
      "bestIteration = 9045\n",
      "Shrink model to first 9046 iterations.\n",
      "\n",
      " 40%|████      | 2/5 [05:37<06:47, 135.80s/it, best loss: 17.641090041035554]\u001b[A0:\tlearn: 173.1199280\ttest: 169.2755313\tbest: 169.2755313 (0)\ttotal: 20.9ms\tremaining: 34m 53s\n",
      "5000:\tlearn: 16.1961889\ttest: 18.8941750\tbest: 18.8941750 (5000)\ttotal: 1m 10s\tremaining: 22m 12s\n",
      "bestTest = 18.74091413\n",
      "bestIteration = 6343\n",
      "Shrink model to first 6344 iterations.\n",
      "\n",
      " 60%|██████    | 3/5 [07:09<04:05, 122.56s/it, best loss: 17.641090041035554]\u001b[A0:\tlearn: 173.0245454\ttest: 169.1582955\tbest: 169.1582955 (0)\ttotal: 26.1ms\tremaining: 43m 29s\n",
      "5000:\tlearn: 12.4370574\ttest: 17.9437303\tbest: 17.9437303 (5000)\ttotal: 2m 15s\tremaining: 42m 49s\n",
      "bestTest = 17.67291517\n",
      "bestIteration = 8275\n",
      "Shrink model to first 8276 iterations.\n",
      "\n",
      " 80%|████████  | 4/5 [10:59<02:34, 154.87s/it, best loss: 17.641090041035554]\u001b[A0:\tlearn: 173.0359398\ttest: 169.1740694\tbest: 169.1740694 (0)\ttotal: 26.8ms\tremaining: 44m 44s\n",
      "5000:\tlearn: 15.1660319\ttest: 18.5225298\tbest: 18.5225298 (5000)\ttotal: 1m 20s\tremaining: 25m 36s\n",
      "bestTest = 18.35043879\n",
      "bestIteration = 6432\n",
      "Shrink model to first 6433 iterations.\n",
      "\n",
      "100%|██████████| 5/5 [12:46<00:00, 153.35s/it, best loss: 17.641090041035554]"
     ]
    },
    {
     "name": "stderr",
     "output_type": "stream",
     "text": [
      "100%|██████████| 6/6 [1:18:29<00:00, 784.85s/it]"
     ]
    },
    {
     "name": "stdout",
     "output_type": "stream",
     "text": [
      "\n",
      "\t\tMAE = 17.641090041035554\n",
      "\n",
      "Qmay = 16.572608220527147\n"
     ]
    },
    {
     "name": "stderr",
     "output_type": "stream",
     "text": [
      "\n"
     ]
    }
   ],
   "source": [
    "warnings.filterwarnings('ignore')\n",
    "\n",
    "search_space = {'subsample': hp.choice('subsample', [0.5, 0.66, 0.8]),\n",
    "                'max_depth': hp.choice('max_depth', [6, 7, 8, 9, 10]), \n",
    "                'l2_leaf_reg': hp.choice('l2_leaf_reg', [1]),\n",
    "                'bootstrap_type': hp.choice('bootstrap_type', ['Bernoulli']), \n",
    "                #'learning_rate': hp.choice('learning_rate', [0.03]) #hp.loguniform('learning_rate', low=np.log(0.005), high=np.log(0.1))\n",
    "                }\n",
    "\n",
    "trials_cb = []\n",
    "\n",
    "for lag in tqdm(range(1, 7)):\n",
    "    # load data\n",
    "    X_train, y_train, X_val, y_val, _, _ = load_model_data(lag, 'norm', False)\n",
    "    # make Dataset\n",
    "    cat_features_indices = [5]\n",
    "    train_pool = Pool(X_train, y_train, cat_features=cat_features_indices)\n",
    "    validate_pool = Pool(X_val, y_val, cat_features=cat_features_indices)\n",
    "    # \n",
    "    trials = Trials()\n",
    "    best = fmin( \n",
    "            # функция для оптимизации  \n",
    "                fn=objective_cb,\n",
    "            # пространство поиска гиперпараметров  \n",
    "                space=search_space,\n",
    "            # алгоритм поиска\n",
    "                # algo=tpe.suggest,\n",
    "                algo=rand.suggest,\n",
    "            # число итераций \n",
    "            # (можно ещё указать и время поиска) \n",
    "                max_evals=5,\n",
    "            # куда сохранять историю поиска\n",
    "                trials=trials,\n",
    "            # random state\n",
    "                rstate=np.random.RandomState(99),\n",
    "            # progressbar\n",
    "                show_progressbar=True\n",
    "                )\n",
    "    trials_cb.append(trials)\n",
    "    print(f\"\\t\\tMAE = {trials.best_trial['result']['loss']}\")\n",
    "print(f\"\\nQmay = {sum([trials.best_trial['result']['loss'] for trials in trials_cb]) / 6}\")\n",
    "\n",
    "warnings.filterwarnings('default')"
   ]
  },
  {
   "cell_type": "code",
   "execution_count": null,
   "metadata": {
    "id": "Y62btE0g4N-w"
   },
   "outputs": [],
   "source": [
    "with open(PATH_TO_DATA + 'models/catboost.pickle', 'wb') as f:\n",
    "    pickle.dump(trials_cb, f)"
   ]
  },
  {
   "cell_type": "markdown",
   "metadata": {
    "id": "mZ-8FfAnx903"
   },
   "source": [
    "И эта модель продемонстрировала похожую точность."
   ]
  },
  {
   "cell_type": "markdown",
   "metadata": {
    "id": "0mJkW1rDVFyW"
   },
   "source": [
    "### Stacked model"
   ]
  },
  {
   "cell_type": "markdown",
   "metadata": {
    "id": "-D5MHEZsy4j9"
   },
   "source": [
    "Для обоих моделей и для всех 6 временных лагов сделаем предсказания на 3 датасетах (train, val, test). Посчитаем среднюю ошибку."
   ]
  },
  {
   "cell_type": "code",
   "execution_count": null,
   "metadata": {
    "colab": {
     "base_uri": "https://localhost:8080/"
    },
    "executionInfo": {
     "elapsed": 3465971,
     "status": "ok",
     "timestamp": 1624771108420,
     "user": {
      "displayName": "Игорь Ярославович Башук",
      "photoUrl": "",
      "userId": "05144798806300989296"
     },
     "user_tz": -180
    },
    "id": "SyOR3t1UWdM9",
    "outputId": "dce9f202-9518-4575-fd41-468409dc3b09"
   },
   "outputs": [
    {
     "name": "stdout",
     "output_type": "stream",
     "text": [
      "MAE lgb_1: train = 7.648796648753001, val = 13.718193881354914, test = 13.531254850531205\n",
      "MAE cb_1: train = 9.021255233400412, val = 13.772460515066408, test = 13.41243409901558\n",
      "MAE lgb_2: train = 8.43245893354975, val = 15.679534692838509, test = 15.00995021629645\n",
      "MAE cb_2: train = 10.343452132516038, val = 15.733587625949276, test = 15.03815919814109\n",
      "MAE lgb_3: train = 8.318437616360864, val = 16.722833973428198, test = 15.64034961354633\n",
      "MAE cb_3: train = 10.122520759223978, val = 16.845813241222338, test = 15.67317430298408\n",
      "MAE lgb_4: train = 9.904194840024639, val = 17.345579639134318, test = 16.209439057801664\n",
      "MAE cb_4: train = 12.604774496606396, val = 17.71131091161503, test = 16.283441441072924\n",
      "MAE lgb_5: train = 9.812651998061792, val = 17.517535210362418, test = 16.363209368292523\n",
      "MAE cb_5: train = 11.55014505782833, val = 17.731386988274267, test = 16.392298816576325\n",
      "MAE lgb_6: train = 9.921845364392796, val = 17.633782676214533, test = 16.426827517166316\n",
      "MAE cb_6: train = 10.797972606791646, val = 17.641090041035554, test = 16.37780061018039\n",
      "Q may: lgb = 16.436243345555482, cb = 16.572608220527147\n",
      "Q june: lgb = 15.530171770605747, cb = 15.529551411328399\n"
     ]
    }
   ],
   "source": [
    "stacked, stacked_val, stacked_test = [], [], []\n",
    "score_lgb_val, score_lgb_test = [], []\n",
    "score_cb_val, score_cb_test = [], []\n",
    "for lag in range(1, 7):\n",
    "    # load data\n",
    "    X_train, y_train, X_val, y_val, X_test, y_test = load_model_data(lag, 'norm', False)\n",
    "    # load models\n",
    "    model_lgb = lgb.Booster(model_file=PATH_TO_DATA + f'models/lgbm_{lag}')\n",
    "    model_cb = CatBoostRegressor().load_model(PATH_TO_DATA + f'models/catboost_{lag}')\n",
    "    y_pred_lgb = model_lgb.predict(X_train)\n",
    "    y_pred_cb = model_cb.predict(X_train)\n",
    "    y_val_lgb = model_lgb.predict(X_val)\n",
    "    y_val_cb = model_cb.predict(X_val)\n",
    "    y_test_lgb = model_lgb.predict(X_test)\n",
    "    y_test_cb = model_cb.predict(X_test)\n",
    "    stacked.append(pd.DataFrame({'lgb': y_pred_lgb, 'cb': y_pred_cb}))\n",
    "    stacked_val.append(pd.DataFrame({'lgb': y_val_lgb, 'cb': y_val_cb}))\n",
    "    stacked_test.append(pd.DataFrame({'lgb': y_test_lgb, 'cb': y_test_cb}))\n",
    "\n",
    "    score_lgb_val.append(mean_absolute_error(y_val, y_val_lgb))\n",
    "    score_cb_val.append(mean_absolute_error(y_val, y_val_cb))\n",
    "    score_lgb_test.append(mean_absolute_error(y_test, y_test_lgb))\n",
    "    score_cb_test.append(mean_absolute_error(y_test, y_test_cb))\n",
    "\n",
    "    print(f'MAE lgb_{lag}: train = {mean_absolute_error(y_train, y_pred_lgb)}, val = {score_lgb_val[-1]}, test = {score_lgb_test[-1]}')\n",
    "    print(f'MAE cb_{lag}: train = {mean_absolute_error(y_train, y_pred_cb)}, val = {score_cb_val[-1]}, test = {score_cb_test[-1]}')\n",
    "print(f'Q may: lgb = {sum(score_lgb_val)/6}, cb = {sum(score_cb_val)/6}')\n",
    "print(f'Q june: lgb = {sum(score_lgb_test)/6}, cb = {sum(score_cb_test)/6}')\n"
   ]
  },
  {
   "cell_type": "markdown",
   "metadata": {
    "id": "-4XIJJxW-UFd"
   },
   "source": [
    "Модели выглядят переобученными, но заметная разница только в абсолютных величинах. Если посчитать R2_score, то получим отличие в несколько процентов.\n",
    "\n",
    "Сохраняем предсказания"
   ]
  },
  {
   "cell_type": "code",
   "execution_count": null,
   "metadata": {
    "id": "VukD3YNOWyWS"
   },
   "outputs": [],
   "source": [
    "with open(PATH_TO_DATA + 'models/stacked.pickle', 'wb') as f:\n",
    "    pickle.dump(stacked, f)\n",
    "with open(PATH_TO_DATA + 'models/stacked_val.pickle', 'wb') as f:\n",
    "    pickle.dump(stacked_val, f)\n",
    "with open(PATH_TO_DATA + 'models/stacked_test.pickle', 'wb') as f:\n",
    "    pickle.dump(stacked_test, f)"
   ]
  },
  {
   "cell_type": "markdown",
   "metadata": {
    "id": "K96RGufy-Rrs"
   },
   "source": [
    "В предсказаниях имеются отрицательные значения, которые невозможны и мы можем их обнулить. \n",
    "В качестве конечного предсказания возьмем средне арифметическое двух моделей."
   ]
  },
  {
   "cell_type": "code",
   "execution_count": null,
   "metadata": {
    "colab": {
     "base_uri": "https://localhost:8080/"
    },
    "executionInfo": {
     "elapsed": 9425,
     "status": "ok",
     "timestamp": 1624787937005,
     "user": {
      "displayName": "Игорь Ярославович Башук",
      "photoUrl": "",
      "userId": "05144798806300989296"
     },
     "user_tz": -180
    },
    "id": "pJosXTecXx5b",
    "outputId": "28351127-2f66-41b7-e543-8c4693204b79"
   },
   "outputs": [
    {
     "name": "stdout",
     "output_type": "stream",
     "text": [
      "Q may = 16.24510760294611\n",
      "Q june = 15.27164814710779\n"
     ]
    }
   ],
   "source": [
    "with open(PATH_TO_DATA + 'models/stacked.pickle', 'rb') as f:\n",
    "    stacked = pickle.load(f)\n",
    "with open(PATH_TO_DATA + 'models/stacked_val.pickle', 'rb') as f:\n",
    "    stacked_val = pickle.load(f)\n",
    "with open(PATH_TO_DATA + 'models/stacked_test.pickle', 'rb') as f:\n",
    "    stacked_test = pickle.load(f)\n",
    "\n",
    "# read old kaggle file for 'id' column\n",
    "kaggle = pd.read_csv(PATH_TO_DATA + 'kaggle_yt.csv')\n",
    "\n",
    "val, test = [], []\n",
    "for lag in range(6):\n",
    "    # load data\n",
    "    _, _, _, y_val, X_test, y_test = load_model_data(lag+1, 'norm', False)\n",
    "    pred_val = stacked_val[lag].mean(axis=1)\n",
    "    pred_test = stacked_test[lag].mean(axis=1)\n",
    "    pred_val.where(pred_val>=0, 0, inplace=True)\n",
    "    pred_test.where(pred_test>=0, 0, inplace=True)\n",
    "\n",
    "    err_val = mean_absolute_error(y_val, pred_val)\n",
    "    err_test = mean_absolute_error(y_test, pred_test)\n",
    "    val.append(err_val)\n",
    "    test.append(err_test)\n",
    "\n",
    "    # save data for kaggle\n",
    "    X_test['y'] = pred_test.values\n",
    "    X_test.sort_values(['zone', 'tpep_pickup_datetime'], inplace=True)\n",
    "    kaggle.loc[lag::6, 'y'] = X_test['y'].values\n",
    "\n",
    "\n",
    "print(f'Q may = {sum(val)/6}')\n",
    "print(f'Q june = {sum(test)/6}')"
   ]
  },
  {
   "cell_type": "markdown",
   "metadata": {
    "id": "EAIkE3GW0hXj"
   },
   "source": [
    "Усредненное модель немного лучше каждой отдельной. Ее и отправим на kaggle."
   ]
  },
  {
   "cell_type": "markdown",
   "metadata": {},
   "source": [
    "Ошибки в предыдущую неделю Qmay = 22.83, Qjune=20.5"
   ]
  },
  {
   "cell_type": "markdown",
   "metadata": {},
   "source": [
    "!!!!!!!Объяснение правильности посчитанных ошибок.!!!!!!!"
   ]
  },
  {
   "cell_type": "markdown",
   "metadata": {
    "id": "2FNKzC0VCzoR"
   },
   "source": [
    "Функционал ошибки = средней абсолютной ошибке по всем предсказаниям и всем моделям. Одинаковый размер моделей позволяет посчитать ошибку отдельно для каждой модели и усреднить ее."
   ]
  },
  {
   "cell_type": "markdown",
   "metadata": {
    "id": "Wp2aVvGBC0kV"
   },
   "source": [
    "\\begin{equation}\n",
    "Q_{may} = \\frac{1}{R*739*6}\\sum_{i=1}^6\\sum_{r=1}^R\\sum_{T=2016.04.3023:00}^{2016.05.3117:00}|y_{T|T+i}^r-y_{T|T+i}^r| = \\frac{1}6\\sum_{i=1}^6\\frac{1}{R*739}\\sum_{r=1}^R\\sum_{T=2016.04.3023:00}^{2016.05.3117:00}|y_{T|T+i}^r-y_{T|T+i}^r|\n",
    "\\end{equation}\n",
    "\n",
    "\\begin{equation}\n",
    "Q_{may} = \\frac{1}6\\sum_{i=1}^6MAE_i\n",
    " \\end{equation}"
   ]
  },
  {
   "cell_type": "code",
   "execution_count": null,
   "metadata": {
    "id": "byht8p2bHTj7"
   },
   "outputs": [],
   "source": [
    "kaggle.to_csv(PATH_TO_DATA + 'kaggle_yt_week5.csv', index=False)"
   ]
  },
  {
   "cell_type": "markdown",
   "metadata": {
    "id": "oUzfA1NaBKHJ"
   },
   "source": [
    "![image.png](data:image/png;base64,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)"
   ]
  },
  {
   "cell_type": "markdown",
   "metadata": {
    "id": "02QhXlznBOF5"
   },
   "source": []
  }
 ],
 "metadata": {
  "colab": {
   "collapsed_sections": [
    "imposed-waters",
    "honey-victorian",
    "closed-prerequisite",
    "refined-parliament",
    "scC6MhbHjqsN",
    "military-president",
    "2duMxNR-i049",
    "I9zOpXMyMHW3",
    "0mJkW1rDVFyW"
   ],
   "name": "c6w5.ipynb",
   "provenance": [],
   "toc_visible": true
  },
  "kernelspec": {
   "display_name": "Python 3 (ipykernel)",
   "language": "python",
   "name": "python3"
  },
  "language_info": {
   "codemirror_mode": {
    "name": "ipython",
    "version": 3
   },
   "file_extension": ".py",
   "mimetype": "text/x-python",
   "name": "python",
   "nbconvert_exporter": "python",
   "pygments_lexer": "ipython3",
   "version": "3.8.11"
  },
  "toc": {
   "base_numbering": 1,
   "nav_menu": {},
   "number_sections": true,
   "sideBar": true,
   "skip_h1_title": false,
   "title_cell": "Table of Contents",
   "title_sidebar": "Contents",
   "toc_cell": false,
   "toc_position": {
    "height": "calc(100% - 180px)",
    "left": "10px",
    "top": "150px",
    "width": "384px"
   },
   "toc_section_display": true,
   "toc_window_display": true
  },
  "varInspector": {
   "cols": {
    "lenName": 16,
    "lenType": 16,
    "lenVar": 40
   },
   "kernels_config": {
    "python": {
     "delete_cmd_postfix": "",
     "delete_cmd_prefix": "del ",
     "library": "var_list.py",
     "varRefreshCmd": "print(var_dic_list())"
    },
    "r": {
     "delete_cmd_postfix": ") ",
     "delete_cmd_prefix": "rm(",
     "library": "var_list.r",
     "varRefreshCmd": "cat(var_dic_list()) "
    }
   },
   "types_to_exclude": [
    "module",
    "function",
    "builtin_function_or_method",
    "instance",
    "_Feature"
   ],
   "window_display": false
  }
 },
 "nbformat": 4,
 "nbformat_minor": 4
}
