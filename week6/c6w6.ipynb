{
 "cells": [
  {
   "cell_type": "code",
   "execution_count": null,
   "metadata": {
    "colab": {
     "base_uri": "https://localhost:8080/"
    },
    "executionInfo": {
     "elapsed": 18734,
     "status": "ok",
     "timestamp": 1625464567276,
     "user": {
      "displayName": "Игорь Ярославович Башук",
      "photoUrl": "",
      "userId": "05144798806300989296"
     },
     "user_tz": -180
    },
    "id": "-42NEeSJ8Q66",
    "outputId": "1a20936c-9991-4277-b570-837fae21a00a"
   },
   "outputs": [
    {
     "name": "stdout",
     "output_type": "stream",
     "text": [
      "Mounted at /content/drive\n"
     ]
    }
   ],
   "source": [
    "from google.colab import drive\n",
    "drive.mount('/content/drive')"
   ]
  },
  {
   "cell_type": "code",
   "execution_count": null,
   "metadata": {
    "id": "5wvhfdbfUja2"
   },
   "outputs": [],
   "source": [
    "# pip install catboost"
   ]
  },
  {
   "cell_type": "markdown",
   "metadata": {
    "heading_collapsed": true,
    "id": "imposed-waters"
   },
   "source": [
    "### Import and constants"
   ]
  },
  {
   "cell_type": "code",
   "execution_count": null,
   "metadata": {
    "colab": {
     "base_uri": "https://localhost:8080/"
    },
    "executionInfo": {
     "elapsed": 952,
     "status": "ok",
     "timestamp": 1625464581611,
     "user": {
      "displayName": "Игорь Ярославович Башук",
      "photoUrl": "",
      "userId": "05144798806300989296"
     },
     "user_tz": -180
    },
    "hidden": true,
    "id": "mighty-astrology",
    "outputId": "350983b4-3a03-4a0d-9604-188984d0f453"
   },
   "outputs": [
    {
     "name": "stderr",
     "output_type": "stream",
     "text": [
      "/usr/local/lib/python3.7/dist-packages/statsmodels/tools/_testing.py:19: FutureWarning: pandas.util.testing is deprecated. Use the functions in the public API at pandas.testing instead.\n",
      "  import pandas.util.testing as tm\n"
     ]
    }
   ],
   "source": [
    "import numpy as np\n",
    "import pandas as pd\n",
    "pd.options.display.float_format = '{:,.3f}'.format\n",
    "# import datetime\n",
    "import os\n",
    "from tqdm import tqdm\n",
    "import pickle\n",
    "from glob import glob\n",
    "from itertools import product\n",
    "import warnings\n",
    "\n",
    "from scipy import stats\n",
    "import statsmodels.api as sm\n",
    "\n",
    "from matplotlib import pyplot as plt\n",
    "import seaborn as sns\n",
    "import matplotlib.patches as mpatches\n",
    "%matplotlib inline"
   ]
  },
  {
   "cell_type": "code",
   "execution_count": null,
   "metadata": {
    "hidden": true,
    "id": "structured-haiti"
   },
   "outputs": [],
   "source": [
    "from sklearn.linear_model import ElasticNet, Ridge, Lasso, SGDRegressor\n",
    "import lightgbm as lgb\n",
    "import xgboost as xgb\n",
    "from catboost import Pool, CatBoostRegressor\n",
    "\n",
    "from sklearn.preprocessing import PowerTransformer, OneHotEncoder\n",
    "from sklearn.preprocessing import StandardScaler\n",
    "from sklearn.compose import TransformedTargetRegressor\n",
    "\n",
    "from sklearn.metrics import mean_absolute_error\n",
    "\n",
    "from hyperopt import hp, fmin, tpe, rand, Trials, STATUS_OK\n",
    "\n",
    "\n",
    "import holidays"
   ]
  },
  {
   "cell_type": "code",
   "execution_count": null,
   "metadata": {
    "hidden": true,
    "id": "alike-tract"
   },
   "outputs": [],
   "source": [
    "PATH_TO_DATA = '/content/drive/MyDrive/Colab Notebooks/taxi/'\n",
    "# PATH_TO_DATA = '/mnt/e/GoogleDrive/Colab Notebooks/taxi/'\n",
    "long = [-74.25559, -73.70001]\n",
    "lat = [40.49612, 40.91553]\n",
    "RANDOM_STATE = 30\n",
    "START_DATE = '2015-03'\n",
    "MAX_TRAIN_TIME = '2016-04'"
   ]
  },
  {
   "cell_type": "markdown",
   "metadata": {
    "id": "honey-victorian"
   },
   "source": [
    "### Helpers"
   ]
  },
  {
   "cell_type": "code",
   "execution_count": null,
   "metadata": {
    "id": "equivalent-victor"
   },
   "outputs": [],
   "source": [
    "# def add_holidays(y):\n",
    "#     holidays_NY = holidays.CountryHoliday('US', state='NY', years=[2015, 2016])\n",
    "#     holidays_NY = pd.Series(holidays_NY.values(), index=holidays_NY.keys()).sort_index()\n",
    "#     holidays_NY.index = pd.to_datetime(holidays_NY.index)\n",
    "#     holidays_NY = holidays_NY.loc[y.index.min(): y.index.max()]\n",
    "#     res = pd.DataFrame(np.zeros((y.shape[0], holidays_NY.nunique())),\n",
    "#                  index=y.index, columns=holidays_NY.unique())\n",
    "#     for index, holiday in holidays_NY.items():\n",
    "#         res.loc[index.strftime('%Y-%m-%d'), holiday] = 1\n",
    "#     return res\n",
    "\n",
    "# def add_holidays(y):\n",
    "#     holidays_NY = holidays.CountryHoliday('US', state='NY', years=[2015, 2016])\n",
    "#     holidays_NY = pd.Series(holidays_NY.values(), index=holidays_NY.keys()).sort_index()\n",
    "#     holidays_NY.index = pd.to_datetime(holidays_NY.index)\n",
    "#     holidays_NY = holidays_NY.loc[y.index.min(): y.index.max()]\n",
    "#     columns = list(holidays_NY.unique()) + [s+'_ba' for s in holidays_NY.unique()] + [s+'_af' for s in holidays_NY.unique()]\n",
    "#     res = pd.DataFrame(np.zeros((y.shape[0], 3*holidays_NY.nunique())),\n",
    "#                  index=y.index, columns=columns)\n",
    "#     for index, holiday in holidays_NY.items():\n",
    "#         res.loc[index.strftime('%Y-%m-%d'), holiday] = 1\n",
    "#         before = (index - pd.Timedelta('1d')).strftime('%Y-%m-%d')\n",
    "#         after = (index + pd.Timedelta('1d')).strftime('%Y-%m-%d')\n",
    "#         res.loc[before, holiday+'_ba'] = 1\n",
    "#         res.loc[after, holiday+'_af'] = 1\n",
    "#     return res\n",
    "\n",
    "\n",
    "# Праздничные дни запишем как нумерованные категории а не в виде dummies\n",
    "def add_holidays(y):\n",
    "    holidays_NY = holidays.CountryHoliday('US', state='NY', years=[2015, 2016])\n",
    "    holidays_NY = pd.Series(holidays_NY.values(), index=holidays_NY.keys()).sort_index()\n",
    "    holidays_NY.index = pd.to_datetime(holidays_NY.index)\n",
    "    holidays_NY = holidays_NY.loc[y.index.min(): y.index.max()]\n",
    "    res = pd.DataFrame(np.zeros((y.shape[0], 1)),\n",
    "                 index=y.index, columns=['holiday'])\n",
    "    for i, (index, holiday) in enumerate(holidays_NY.items()):\n",
    "        res.loc[index.strftime('%Y-%m-%d'), 'holiday'] = 3 * i + 1\n",
    "        before = (index - pd.Timedelta('1d')).strftime('%Y-%m-%d')\n",
    "        after = (index + pd.Timedelta('1d')).strftime('%Y-%m-%d')\n",
    "        res.loc[before] = 3 * i\n",
    "        res.loc[after] = 3 * i + 2\n",
    "        res = res.astype('int32')\n",
    "    return res"
   ]
  },
  {
   "cell_type": "code",
   "execution_count": null,
   "metadata": {
    "id": "continuous-happening"
   },
   "outputs": [],
   "source": [
    "def load_model_data(model, v='norm', one_hot=False): # model 1..6\n",
    "    X, y = [], []\n",
    "    cat = 'cat_dummies' if one_hot else 'cat'\n",
    "    for st in ['train', 'val', 'test']:\n",
    "        x = pd.read_parquet(PATH_TO_DATA + f'regr_data/X_{st}_{v}.parquet')\n",
    "        x['arima'] = pd.read_parquet(PATH_TO_DATA + f'regr_data/arima_{st}_{v}.parquet',\n",
    "                                        columns=[f'arima_{model}']).values\n",
    "        cat_features = pd.read_parquet(PATH_TO_DATA + f'regr_data/{cat}_{st}.parquet')\n",
    "        y.append(pd.read_parquet(PATH_TO_DATA + f'regr_data/y_{st}.parquet',\n",
    "                            columns=[f'y_{model}']).values.squeeze())\n",
    "        X.append(pd.concat([cat_features, x], axis=1))\n",
    "        \n",
    "    return X[0], y[0], X[1], y[1], X[2], y[2]"
   ]
  },
  {
   "cell_type": "code",
   "execution_count": null,
   "metadata": {
    "id": "BD5zvRk9-mUe"
   },
   "outputs": [],
   "source": [
    "def load_model_data_new(model, v='norm', one_hot=False): # model 1..6\n",
    "    X, y = [], []\n",
    "    cat = 'cat_dummies' if one_hot else 'cat'\n",
    "    for st in ['train', 'val', 'test']:\n",
    "        x = pd.read_parquet(PATH_TO_DATA + f'regr_data/X_{st}_{v}_new.parquet')\n",
    "        x['arima'] = pd.read_parquet(PATH_TO_DATA + f'regr_data/arima_{st}_{v}.parquet',\n",
    "                                        columns=[f'arima_{model}']).values\n",
    "        cat_features = pd.read_parquet(PATH_TO_DATA + f'regr_data/{cat}_{st}.parquet')\n",
    "        y.append(pd.read_parquet(PATH_TO_DATA + f'regr_data/y_{st}.parquet',\n",
    "                            columns=[f'y_{model}']).values.squeeze())\n",
    "        X.append(pd.concat([cat_features, x], axis=1))\n",
    "        \n",
    "    return X[0], y[0], X[1], y[1], X[2], y[2]"
   ]
  },
  {
   "cell_type": "markdown",
   "metadata": {
    "id": "eDhHAVnRXO0E"
   },
   "source": [
    "### Load last week"
   ]
  },
  {
   "cell_type": "code",
   "execution_count": null,
   "metadata": {
    "colab": {
     "base_uri": "https://localhost:8080/"
    },
    "executionInfo": {
     "elapsed": 300544,
     "status": "ok",
     "timestamp": 1625319120872,
     "user": {
      "displayName": "Игорь Ярославович Башук",
      "photoUrl": "",
      "userId": "05144798806300989296"
     },
     "user_tz": -180
    },
    "id": "GzYsvM8dXO0F",
    "outputId": "330ad2f4-7fa8-4224-c3bd-77b92774b631"
   },
   "outputs": [
    {
     "name": "stdout",
     "output_type": "stream",
     "text": [
      "MAE lgb_1: val = 13.718193881354914, MAE cb_1: val = 13.772460515066408\n",
      "MAE lgb_2: val = 15.679534692838509, MAE cb_2: val = 15.733587625949276\n",
      "MAE lgb_3: val = 16.722833973428198, MAE cb_3: val = 16.845813241222338\n",
      "MAE lgb_4: val = 17.345579639134318, MAE cb_4: val = 17.71131091161503\n",
      "MAE lgb_5: val = 17.517535210362418, MAE cb_5: val = 17.731386988274267\n",
      "MAE lgb_6: val = 17.633782676214533, MAE cb_6: val = 17.641090041035554\n",
      "Q may: lgb = 16.436243345555482, cb = 16.572608220527147\n"
     ]
    }
   ],
   "source": [
    "stacked_val = []\n",
    "score_lgb_val = []\n",
    "score_cb_val = []\n",
    "for lag in range(1, 7):\n",
    "    # load data\n",
    "    X_train, y_train, X_val, y_val, X_test, y_test = load_model_data(lag, 'norm', False)\n",
    "    # load models\n",
    "    model_lgb = lgb.Booster(model_file=PATH_TO_DATA + f'models_week5/lgbm_{lag}')\n",
    "    model_cb = CatBoostRegressor().load_model(PATH_TO_DATA + f'models_week5/catboost_{lag}')\n",
    "    # y_pred_lgb = model_lgb.predict(X_train)\n",
    "    # y_pred_cb = model_cb.predict(X_train)\n",
    "    y_val_lgb = model_lgb.predict(X_val)\n",
    "    y_val_cb = model_cb.predict(X_val)\n",
    "    # y_test_lgb = model_lgb.predict(X_test)\n",
    "    # y_test_cb = model_cb.predict(X_test)\n",
    "    # stacked.append(pd.DataFrame({'lgb': y_pred_lgb, 'cb': y_pred_cb}))\n",
    "    stacked_val.append(pd.DataFrame({'lgb': y_val_lgb, 'cb': y_val_cb}))\n",
    "    # stacked_test.append(pd.DataFrame({'lgb': y_test_lgb, 'cb': y_test_cb}))\n",
    "\n",
    "    score_lgb_val.append(mean_absolute_error(y_val, y_val_lgb))\n",
    "    score_cb_val.append(mean_absolute_error(y_val, y_val_cb))\n",
    "    # score_lgb_test.append(mean_absolute_error(y_test, y_test_lgb))\n",
    "    # score_cb_test.append(mean_absolute_error(y_test, y_test_cb))\n",
    "\n",
    "    print(f'MAE lgb_{lag}: val = {score_lgb_val[-1]}, MAE cb_{lag}: val = {score_cb_val[-1]}')\n",
    "print(f'Q may: lgb = {sum(score_lgb_val)/6}, cb = {sum(score_cb_val)/6}')\n",
    "# print(f'Q june: lgb = {sum(score_lgb_test)/6}, cb = {sum(score_cb_test)/6}')\n",
    "\n"
   ]
  },
  {
   "cell_type": "code",
   "execution_count": null,
   "metadata": {
    "id": "nXtX7-6zXO0F"
   },
   "outputs": [],
   "source": []
  },
  {
   "cell_type": "markdown",
   "metadata": {
    "heading_collapsed": true,
    "id": "uAKA3IOuXO0F"
   },
   "source": [
    "### Load raw  data"
   ]
  },
  {
   "cell_type": "code",
   "execution_count": null,
   "metadata": {
    "hidden": true,
    "id": "B5BuHgszXO0G"
   },
   "outputs": [],
   "source": [
    "with open(PATH_TO_DATA+'selected_regions.pkl', 'rb') as f:\n",
    "    selected_regions = pickle.load(f)\n",
    "zones = set(selected_regions)"
   ]
  },
  {
   "cell_type": "code",
   "execution_count": null,
   "metadata": {
    "hidden": true,
    "id": "ZdfVOhcbXO0G"
   },
   "outputs": [],
   "source": [
    "# Добавим географические зоны\n",
    "\n",
    "def add_zone(df, s):\n",
    "    # s - pickup or dropoff\n",
    "    x = df[f'{s}_longitude'].values\n",
    "    y = df[f'{s}_latitude'].values\n",
    "    ret = stats.binned_statistic_2d(x, y, None, 'count', bins=50, range=[\n",
    "                                    long, lat], expand_binnumbers=True)\n",
    "    bn = ret.binnumber\n",
    "    return (bn[0]-1)*50+bn[1]\n",
    "\n",
    "# Убираем выбросы в длительности поездок, расстоянии и стоимости\n",
    "\n",
    "def outliers(df):\n",
    "    trip = df.trip_distance.quantile(.999)\n",
    "    dur = df.duration.quantile(.999)\n",
    "    price = df.total_amount.quantile(.999)\n",
    "    df.loc[df.trip_distance > trip, 'trip_distance'] = trip\n",
    "    df.loc[df.duration > dur, 'duration'] = dur\n",
    "    df.loc[df.duration > dur, 'tpep_dropoff_datetime'] = (\n",
    "        df.loc[df.duration > dur, 'tpep_pickup_datetime'] + pd.Timedelta(dur, 'min'))\n",
    "    df.loc[df.total_amount > price, 'total_amount'] = price\n",
    "    df.loc[df.total_amount <= 0, 'total_amount'] = df.loc[df.total_amount <= 0, 'trip_distance'] * 5\n",
    "\n",
    "\n",
    "# Добавляем доли категориальных признаков\n",
    "\n",
    "def add_fractions(df, col):\n",
    "    # col - name of categorical column\n",
    "    q = pd.crosstab([df.tpep_pickup_datetime, df.zone], df[col],\n",
    "                    df.vendorid, aggfunc='count', normalize='index')\n",
    "    q.rename(columns=lambda x: f'{col}_{x}', inplace=True)\n",
    "    return q\n",
    "\n",
    "\n",
    "# Соседние зоны. Создаем словарь.\n",
    "\n",
    "def neibours(zone):\n",
    "    r = zone // 50\n",
    "    c = zone - r * 50\n",
    "    res = [(r+i)*50+c+j for i in range(-1, 2)\n",
    "           for j in range(-1, 2) if i != 0 or j != 0]\n",
    "    res = [z for z in res if 0 < z < 2501]\n",
    "    return res\n",
    "\n",
    "neibours_dict = {zone: neibours(zone) for zone in zones}\n",
    "\n",
    "\n",
    "def neibours_trips(g):\n",
    "    # g - groupby datetime, select zone\n",
    "    y = set(g) & zones\n",
    "    res = pd.Series(\n",
    "        {z: np.in1d(g.values, neibours_dict[z]).sum() for z in y}, dtype='int64').sort_index()\n",
    "    return res\n",
    "\n",
    "\n",
    "# Поездки в текущую зону (все или извне???)\n",
    "\n",
    "def to_zone(df):\n",
    "    res = df[df.dropoff_zone.isin(zones)].groupby(\n",
    "        ['tpep_dropoff_datetime', 'dropoff_zone']).zone.count()\n",
    "    return res"
   ]
  },
  {
   "cell_type": "code",
   "execution_count": null,
   "metadata": {
    "hidden": true,
    "id": "5vTqtBDPXO0G",
    "outputId": "1a753b88-d3d3-480b-c53e-d2dbd60ab6fe"
   },
   "outputs": [
    {
     "name": "stderr",
     "output_type": "stream",
     "text": [
      "100%|██████████| 16/16 [53:09<00:00, 199.36s/it] "
     ]
    },
    {
     "name": "stdout",
     "output_type": "stream",
     "text": [
      "CPU times: user 24min 46s, sys: 2min 33s, total: 27min 19s\n",
      "Wall time: 53min 9s\n"
     ]
    },
    {
     "name": "stderr",
     "output_type": "stream",
     "text": [
      "\n"
     ]
    }
   ],
   "source": [
    "%%time\n",
    "\n",
    "files = glob('/mnt/e/python/taxi/raw/*.csv')\n",
    "for file in tqdm(files):\n",
    "    df = pd.read_csv(file, parse_dates=[1, 2], usecols=[\n",
    "                     0, 1, 2, 3, 4, 5, 6, 7, 9, 10, 11, 18])\n",
    "    df.columns = df.columns.str.lower()\n",
    "\n",
    "    # Удаляем поездки с нулевой длительностью, нулевым количеством пассажиров\n",
    "    # и нулевым расстоянием поездки по счётчику\n",
    "    df = df[(df.tpep_pickup_datetime < df.tpep_dropoff_datetime)\n",
    "            & (df.trip_distance > 0) & (df.passenger_count > 0)]\n",
    "    # Удаляем поездки скоординатами начала за пределами Нью-Йорка\n",
    "#     df = df[(long[0] <= df.pickup_longitude) & (df.pickup_longitude <= long[1]) &\n",
    "#             (lat[0] <= df.pickup_latitude) & (df.pickup_latitude <= lat[1])]\n",
    "    # Добавим длительность поездки\n",
    "    df['duration'] = (df.tpep_dropoff_datetime -\n",
    "                      df.tpep_pickup_datetime) / pd.Timedelta('1 min')\n",
    "\n",
    "    # Исправляем неправдоподобно длинные поездки\n",
    "\n",
    "    outliers(df)\n",
    "\n",
    "    # Округляем время начала поездки до целого часа\n",
    "    df['tpep_pickup_datetime'] = df.tpep_pickup_datetime.dt.floor(freq='H')\n",
    "    df['tpep_dropoff_datetime'] = df.tpep_dropoff_datetime.dt.floor(freq='H')\n",
    "\n",
    "    # Добавим географические зоны\n",
    "\n",
    "    df['zone'] = add_zone(df, 'pickup')\n",
    "    df['dropoff_zone'] = add_zone(df, 'dropoff')\n",
    "\n",
    "    # Поездки из соседних зон\n",
    "    trips_neibours = df.groupby(\n",
    "        'tpep_pickup_datetime').zone.apply(neibours_trips)\n",
    "\n",
    "    # Поездки в текущую зону\n",
    "    trips_in = to_zone(df)\n",
    "\n",
    "    # Оставляем только выбранные зоны\n",
    "    df = df[df.zone.isin(zones)]\n",
    "\n",
    "    #\n",
    "    mi = pd.MultiIndex.from_product([sorted(df.tpep_pickup_datetime.unique()), sorted(\n",
    "        df.zone.unique())], names=['tpep_pickup_datetime', 'zone'])\n",
    "    temp = pd.DataFrame(index=mi)\n",
    "    \n",
    "    dfg = df.groupby(['tpep_pickup_datetime', 'zone']).agg(\n",
    "        {'duration': 'mean', 'passenger_count': 'mean', 'trip_distance': 'mean',\n",
    "         'total_amount': 'mean', 'dropoff_zone': 'count'})\n",
    "    dfg = temp.join(dfg)\n",
    "    dfg.rename(columns={'dropoff_zone': 'trips'}, inplace=True)\n",
    "    dfg['trips_neibours'] = trips_neibours\n",
    "    dfg['trips_in'] = trips_in\n",
    "\n",
    "    # Добавим доли по типу тарифов, способу оплаты и провайдеру данных\n",
    "\n",
    "    dfg = dfg.join([add_fractions(df, 'ratecodeid'), add_fractions(\n",
    "        df, 'payment_type'), add_fractions(df, 'vendorid')])\n",
    "    dfg = dfg.fillna(0)\n",
    "\n",
    "    # Сохраняем в файл\n",
    "    file = file.split('/')[-1].split('.')[0]\n",
    "    dfg.to_parquet(PATH_TO_DATA + f'new_feature/{file}.parquet')"
   ]
  },
  {
   "cell_type": "code",
   "execution_count": null,
   "metadata": {
    "hidden": true,
    "id": "WBkVWnhcXO0H"
   },
   "outputs": [],
   "source": []
  },
  {
   "cell_type": "markdown",
   "metadata": {
    "id": "x5EmqzswXO0I"
   },
   "source": [
    "### New feature"
   ]
  },
  {
   "cell_type": "code",
   "execution_count": null,
   "metadata": {
    "colab": {
     "base_uri": "https://localhost:8080/"
    },
    "executionInfo": {
     "elapsed": 23751,
     "status": "ok",
     "timestamp": 1625253080386,
     "user": {
      "displayName": "Игорь Ярославович Башук",
      "photoUrl": "",
      "userId": "05144798806300989296"
     },
     "user_tz": -180
    },
    "id": "e8rVekK9XO0I",
    "outputId": "f54a0f30-42b4-4f18-ff6f-82550c8a6ab9"
   },
   "outputs": [
    {
     "name": "stderr",
     "output_type": "stream",
     "text": [
      "100%|██████████| 16/16 [00:23<00:00,  1.47s/it]\n"
     ]
    }
   ],
   "source": [
    "# Загрузим новые данные\n",
    "files = glob(PATH_TO_DATA + 'new_feature/*')\n",
    "df = pd.DataFrame()\n",
    "for file in tqdm(files):\n",
    "    df = df.append(pd.read_parquet(file))"
   ]
  },
  {
   "cell_type": "code",
   "execution_count": null,
   "metadata": {
    "id": "mJkBmrerXO0I",
    "outputId": "bb212cd3-9ac7-404a-d234-fbd1c1102618"
   },
   "outputs": [
    {
     "data": {
      "text/html": [
       "<div>\n",
       "<style scoped>\n",
       "    .dataframe tbody tr th:only-of-type {\n",
       "        vertical-align: middle;\n",
       "    }\n",
       "\n",
       "    .dataframe tbody tr th {\n",
       "        vertical-align: top;\n",
       "    }\n",
       "\n",
       "    .dataframe thead th {\n",
       "        text-align: right;\n",
       "    }\n",
       "</style>\n",
       "<table border=\"1\" class=\"dataframe\">\n",
       "  <thead>\n",
       "    <tr style=\"text-align: right;\">\n",
       "      <th></th>\n",
       "      <th></th>\n",
       "      <th>duration</th>\n",
       "      <th>passenger_count</th>\n",
       "      <th>trip_distance</th>\n",
       "      <th>total_amount</th>\n",
       "      <th>trips</th>\n",
       "      <th>trips_neibours</th>\n",
       "      <th>trips_in</th>\n",
       "      <th>ratecodeid_1</th>\n",
       "      <th>ratecodeid_2</th>\n",
       "      <th>ratecodeid_3</th>\n",
       "      <th>...</th>\n",
       "      <th>ratecodeid_5</th>\n",
       "      <th>ratecodeid_6</th>\n",
       "      <th>ratecodeid_99</th>\n",
       "      <th>payment_type_1</th>\n",
       "      <th>payment_type_2</th>\n",
       "      <th>payment_type_3</th>\n",
       "      <th>payment_type_4</th>\n",
       "      <th>payment_type_5</th>\n",
       "      <th>vendorid_1</th>\n",
       "      <th>vendorid_2</th>\n",
       "    </tr>\n",
       "    <tr>\n",
       "      <th>tpep_pickup_datetime</th>\n",
       "      <th>zone</th>\n",
       "      <th></th>\n",
       "      <th></th>\n",
       "      <th></th>\n",
       "      <th></th>\n",
       "      <th></th>\n",
       "      <th></th>\n",
       "      <th></th>\n",
       "      <th></th>\n",
       "      <th></th>\n",
       "      <th></th>\n",
       "      <th></th>\n",
       "      <th></th>\n",
       "      <th></th>\n",
       "      <th></th>\n",
       "      <th></th>\n",
       "      <th></th>\n",
       "      <th></th>\n",
       "      <th></th>\n",
       "      <th></th>\n",
       "      <th></th>\n",
       "      <th></th>\n",
       "    </tr>\n",
       "  </thead>\n",
       "  <tbody>\n",
       "    <tr>\n",
       "      <th rowspan=\"3\" valign=\"top\">2015-03-01</th>\n",
       "      <th>1075</th>\n",
       "      <td>13.030</td>\n",
       "      <td>1.574</td>\n",
       "      <td>3.611</td>\n",
       "      <td>16.505</td>\n",
       "      <td>47.000</td>\n",
       "      <td>489.000</td>\n",
       "      <td>61.000</td>\n",
       "      <td>1.000</td>\n",
       "      <td>0.000</td>\n",
       "      <td>0.000</td>\n",
       "      <td>...</td>\n",
       "      <td>0.000</td>\n",
       "      <td>0.000</td>\n",
       "      <td>0.000</td>\n",
       "      <td>0.617</td>\n",
       "      <td>0.362</td>\n",
       "      <td>0.021</td>\n",
       "      <td>0.000</td>\n",
       "      <td>0.000</td>\n",
       "      <td>0.511</td>\n",
       "      <td>0.489</td>\n",
       "    </tr>\n",
       "    <tr>\n",
       "      <th>1076</th>\n",
       "      <td>16.229</td>\n",
       "      <td>1.718</td>\n",
       "      <td>4.227</td>\n",
       "      <td>19.519</td>\n",
       "      <td>103.000</td>\n",
       "      <td>1,146.000</td>\n",
       "      <td>168.000</td>\n",
       "      <td>1.000</td>\n",
       "      <td>0.000</td>\n",
       "      <td>0.000</td>\n",
       "      <td>...</td>\n",
       "      <td>0.000</td>\n",
       "      <td>0.000</td>\n",
       "      <td>0.000</td>\n",
       "      <td>0.738</td>\n",
       "      <td>0.252</td>\n",
       "      <td>0.010</td>\n",
       "      <td>0.000</td>\n",
       "      <td>0.000</td>\n",
       "      <td>0.505</td>\n",
       "      <td>0.495</td>\n",
       "    </tr>\n",
       "    <tr>\n",
       "      <th>1077</th>\n",
       "      <td>13.150</td>\n",
       "      <td>1.882</td>\n",
       "      <td>3.527</td>\n",
       "      <td>16.537</td>\n",
       "      <td>51.000</td>\n",
       "      <td>1,891.000</td>\n",
       "      <td>62.000</td>\n",
       "      <td>1.000</td>\n",
       "      <td>0.000</td>\n",
       "      <td>0.000</td>\n",
       "      <td>...</td>\n",
       "      <td>0.000</td>\n",
       "      <td>0.000</td>\n",
       "      <td>0.000</td>\n",
       "      <td>0.647</td>\n",
       "      <td>0.353</td>\n",
       "      <td>0.000</td>\n",
       "      <td>0.000</td>\n",
       "      <td>0.000</td>\n",
       "      <td>0.451</td>\n",
       "      <td>0.549</td>\n",
       "    </tr>\n",
       "  </tbody>\n",
       "</table>\n",
       "<p>3 rows × 21 columns</p>\n",
       "</div>"
      ],
      "text/plain": [
       "                           duration  passenger_count  trip_distance  \\\n",
       "tpep_pickup_datetime zone                                             \n",
       "2015-03-01           1075    13.030            1.574          3.611   \n",
       "                     1076    16.229            1.718          4.227   \n",
       "                     1077    13.150            1.882          3.527   \n",
       "\n",
       "                           total_amount   trips  trips_neibours  trips_in  \\\n",
       "tpep_pickup_datetime zone                                                   \n",
       "2015-03-01           1075        16.505  47.000         489.000    61.000   \n",
       "                     1076        19.519 103.000       1,146.000   168.000   \n",
       "                     1077        16.537  51.000       1,891.000    62.000   \n",
       "\n",
       "                           ratecodeid_1  ratecodeid_2  ratecodeid_3  ...  \\\n",
       "tpep_pickup_datetime zone                                            ...   \n",
       "2015-03-01           1075         1.000         0.000         0.000  ...   \n",
       "                     1076         1.000         0.000         0.000  ...   \n",
       "                     1077         1.000         0.000         0.000  ...   \n",
       "\n",
       "                           ratecodeid_5  ratecodeid_6  ratecodeid_99  \\\n",
       "tpep_pickup_datetime zone                                              \n",
       "2015-03-01           1075         0.000         0.000          0.000   \n",
       "                     1076         0.000         0.000          0.000   \n",
       "                     1077         0.000         0.000          0.000   \n",
       "\n",
       "                           payment_type_1  payment_type_2  payment_type_3  \\\n",
       "tpep_pickup_datetime zone                                                   \n",
       "2015-03-01           1075           0.617           0.362           0.021   \n",
       "                     1076           0.738           0.252           0.010   \n",
       "                     1077           0.647           0.353           0.000   \n",
       "\n",
       "                           payment_type_4  payment_type_5  vendorid_1  \\\n",
       "tpep_pickup_datetime zone                                               \n",
       "2015-03-01           1075           0.000           0.000       0.511   \n",
       "                     1076           0.000           0.000       0.505   \n",
       "                     1077           0.000           0.000       0.451   \n",
       "\n",
       "                           vendorid_2  \n",
       "tpep_pickup_datetime zone              \n",
       "2015-03-01           1075       0.489  \n",
       "                     1076       0.495  \n",
       "                     1077       0.549  \n",
       "\n",
       "[3 rows x 21 columns]"
      ]
     },
     "execution_count": 9,
     "metadata": {
      "tags": []
     },
     "output_type": "execute_result"
    }
   ],
   "source": [
    "df[:3]"
   ]
  },
  {
   "cell_type": "code",
   "execution_count": null,
   "metadata": {
    "id": "dUNNVaXaXO0I",
    "outputId": "e304029f-61c3-40d0-f9c2-f3420e4f083b"
   },
   "outputs": [
    {
     "data": {
      "text/plain": [
       "trips              1.000\n",
       "trips_in           0.903\n",
       "trips_neibours     0.857\n",
       "payment_type_1     0.189\n",
       "trip_distance     -0.148\n",
       "ratecodeid_1       0.131\n",
       "payment_type_2    -0.113\n",
       "total_amount      -0.100\n",
       "passenger_count    0.077\n",
       "ratecodeid_2      -0.072\n",
       "vendorid_2         0.065\n",
       "payment_type_3    -0.041\n",
       "ratecodeid_5      -0.036\n",
       "vendorid_1         0.023\n",
       "ratecodeid_4      -0.023\n",
       "payment_type_4    -0.021\n",
       "ratecodeid_3      -0.012\n",
       "duration          -0.010\n",
       "ratecodeid_6      -0.002\n",
       "payment_type_5     0.001\n",
       "ratecodeid_99     -0.001\n",
       "dtype: float64"
      ]
     },
     "execution_count": 10,
     "metadata": {
      "tags": []
     },
     "output_type": "execute_result"
    }
   ],
   "source": [
    "# Посмотрим на корреляцию с колличеством поездок.\n",
    "df.corrwith(df.trips).sort_values(key=lambda x: np.abs(x), ascending=False)"
   ]
  },
  {
   "cell_type": "markdown",
   "metadata": {
    "id": "euMbq-nZXO0J"
   },
   "source": [
    "Заметная корреляция только в поездках из соседних зон и в выбранную зону.\n"
   ]
  },
  {
   "cell_type": "code",
   "execution_count": null,
   "metadata": {
    "colab": {
     "base_uri": "https://localhost:8080/"
    },
    "executionInfo": {
     "elapsed": 263,
     "status": "ok",
     "timestamp": 1625253085237,
     "user": {
      "displayName": "Игорь Ярославович Башук",
      "photoUrl": "",
      "userId": "05144798806300989296"
     },
     "user_tz": -180
    },
    "id": "JW6b8FhsXO0J",
    "outputId": "ddffbad4-0aaf-4e7f-f42e-0c54f55ff4c3"
   },
   "outputs": [
    {
     "data": {
      "text/plain": [
       "Index(['duration', 'passenger_count', 'trip_distance', 'total_amount', 'trips',\n",
       "       'trips_neibours', 'trips_in', 'ratecodeid_1', 'ratecodeid_2',\n",
       "       'payment_type_1', 'payment_type_2'],\n",
       "      dtype='object')"
      ]
     },
     "execution_count": 28,
     "metadata": {
      "tags": []
     },
     "output_type": "execute_result"
    }
   ],
   "source": [
    "# отбросим признаки с кореляцией, близкой к нулю\n",
    "drop_col = ['ratecodeid_3', 'ratecodeid_4', 'ratecodeid_5', 'ratecodeid_6',\n",
    "            'ratecodeid_99', 'payment_type_3', 'payment_type_4', \n",
    "            'payment_type_5', 'vendorid_1', 'vendorid_2']\n",
    "df = df.drop(drop_col, axis=1)\n",
    "df.columns"
   ]
  },
  {
   "cell_type": "code",
   "execution_count": null,
   "metadata": {
    "colab": {
     "base_uri": "https://localhost:8080/"
    },
    "executionInfo": {
     "elapsed": 54774,
     "status": "ok",
     "timestamp": 1625253147222,
     "user": {
      "displayName": "Игорь Ярославович Башук",
      "photoUrl": "",
      "userId": "05144798806300989296"
     },
     "user_tz": -180
    },
    "id": "r8wPYsfjXO0K",
    "outputId": "77fb779d-1045-47b1-d6ad-6632e7c1445a"
   },
   "outputs": [
    {
     "name": "stderr",
     "output_type": "stream",
     "text": [
      "100%|██████████| 102/102 [00:54<00:00,  1.87it/s]\n"
     ]
    }
   ],
   "source": [
    "# добавляем сумму поездок из соседних зон за 12 часов \n",
    "# и \"приезды\" в выбранную зону за 6, 12, 18, 24 часа\n",
    "df_new = df.copy()\n",
    "for zone in tqdm(zones):\n",
    "    tdf = df_new.loc[(slice(None), zone), :]\n",
    "    df_new.loc[(slice(None), zone), 'sum_12_neibours'] = tdf.trips_neibours.rolling(12).sum()\n",
    "    for i in range(1, 5):\n",
    "        df_new.loc[(slice(None), zone), f'sum_in_{i*6}H'] = tdf.trips_in.rolling(i*6).sum()"
   ]
  },
  {
   "cell_type": "code",
   "execution_count": null,
   "metadata": {
    "id": "F6CH6QSPXO0K"
   },
   "outputs": [],
   "source": [
    "columns_real_new = ['duration', 'passenger_count', 'trip_distance', 'total_amount',\n",
    "              'trips', 'trips_neibours', 'trips_in', 'sum_12_neibours', \n",
    "              'sum_in_6H', 'sum_in_12H', 'sum_in_18H', 'sum_in_24H']\n"
   ]
  },
  {
   "cell_type": "code",
   "execution_count": null,
   "metadata": {
    "id": "E7W0Sq9RXO0L"
   },
   "outputs": [],
   "source": [
    "# добавляем праздничные дни в виде категориальных данных\n",
    "# также добавим день до и после. \n",
    "\n",
    "# add holidays\n",
    "# df_new = pd.DataFrame(np.hstack([df_new.values, add_holidays(df_new.reset_index(-1))]),\n",
    "#                       index=df_new.index, columns=df_new.columns)\n",
    "df_new['holiday'] = add_holidays(df_new.reset_index(-1)).values"
   ]
  },
  {
   "cell_type": "code",
   "execution_count": null,
   "metadata": {
    "colab": {
     "base_uri": "https://localhost:8080/",
     "height": 470
    },
    "executionInfo": {
     "elapsed": 281,
     "status": "ok",
     "timestamp": 1625253174997,
     "user": {
      "displayName": "Игорь Ярославович Башук",
      "photoUrl": "",
      "userId": "05144798806300989296"
     },
     "user_tz": -180
    },
    "id": "m12qja0sXO0L",
    "outputId": "d48f3e3e-a1dd-45a8-b5cf-70948a6d04e9"
   },
   "outputs": [
    {
     "data": {
      "text/html": [
       "<div>\n",
       "<style scoped>\n",
       "    .dataframe tbody tr th:only-of-type {\n",
       "        vertical-align: middle;\n",
       "    }\n",
       "\n",
       "    .dataframe tbody tr th {\n",
       "        vertical-align: top;\n",
       "    }\n",
       "\n",
       "    .dataframe thead th {\n",
       "        text-align: right;\n",
       "    }\n",
       "</style>\n",
       "<table border=\"1\" class=\"dataframe\">\n",
       "  <thead>\n",
       "    <tr style=\"text-align: right;\">\n",
       "      <th></th>\n",
       "      <th></th>\n",
       "      <th>duration</th>\n",
       "      <th>passenger_count</th>\n",
       "      <th>trip_distance</th>\n",
       "      <th>total_amount</th>\n",
       "      <th>trips</th>\n",
       "      <th>trips_neibours</th>\n",
       "      <th>trips_in</th>\n",
       "      <th>ratecodeid_1</th>\n",
       "      <th>ratecodeid_2</th>\n",
       "      <th>payment_type_1</th>\n",
       "      <th>payment_type_2</th>\n",
       "      <th>sum_12_neibours</th>\n",
       "      <th>sum_in_6H</th>\n",
       "      <th>sum_in_12H</th>\n",
       "      <th>sum_in_18H</th>\n",
       "      <th>sum_in_24H</th>\n",
       "      <th>holiday</th>\n",
       "    </tr>\n",
       "    <tr>\n",
       "      <th>tpep_pickup_datetime</th>\n",
       "      <th>zone</th>\n",
       "      <th></th>\n",
       "      <th></th>\n",
       "      <th></th>\n",
       "      <th></th>\n",
       "      <th></th>\n",
       "      <th></th>\n",
       "      <th></th>\n",
       "      <th></th>\n",
       "      <th></th>\n",
       "      <th></th>\n",
       "      <th></th>\n",
       "      <th></th>\n",
       "      <th></th>\n",
       "      <th></th>\n",
       "      <th></th>\n",
       "      <th></th>\n",
       "      <th></th>\n",
       "    </tr>\n",
       "  </thead>\n",
       "  <tbody>\n",
       "    <tr>\n",
       "      <th rowspan=\"5\" valign=\"top\">2015-03-01 00:00:00</th>\n",
       "      <th>1075</th>\n",
       "      <td>13.030</td>\n",
       "      <td>1.574</td>\n",
       "      <td>3.611</td>\n",
       "      <td>16.505</td>\n",
       "      <td>47.000</td>\n",
       "      <td>489.000</td>\n",
       "      <td>61.000</td>\n",
       "      <td>1.000</td>\n",
       "      <td>0.000</td>\n",
       "      <td>0.617</td>\n",
       "      <td>0.362</td>\n",
       "      <td>nan</td>\n",
       "      <td>nan</td>\n",
       "      <td>nan</td>\n",
       "      <td>nan</td>\n",
       "      <td>nan</td>\n",
       "      <td>0</td>\n",
       "    </tr>\n",
       "    <tr>\n",
       "      <th>1076</th>\n",
       "      <td>16.229</td>\n",
       "      <td>1.718</td>\n",
       "      <td>4.227</td>\n",
       "      <td>19.519</td>\n",
       "      <td>103.000</td>\n",
       "      <td>1,146.000</td>\n",
       "      <td>168.000</td>\n",
       "      <td>1.000</td>\n",
       "      <td>0.000</td>\n",
       "      <td>0.738</td>\n",
       "      <td>0.252</td>\n",
       "      <td>nan</td>\n",
       "      <td>nan</td>\n",
       "      <td>nan</td>\n",
       "      <td>nan</td>\n",
       "      <td>nan</td>\n",
       "      <td>0</td>\n",
       "    </tr>\n",
       "    <tr>\n",
       "      <th>1077</th>\n",
       "      <td>13.150</td>\n",
       "      <td>1.882</td>\n",
       "      <td>3.527</td>\n",
       "      <td>16.537</td>\n",
       "      <td>51.000</td>\n",
       "      <td>1,891.000</td>\n",
       "      <td>62.000</td>\n",
       "      <td>1.000</td>\n",
       "      <td>0.000</td>\n",
       "      <td>0.647</td>\n",
       "      <td>0.353</td>\n",
       "      <td>nan</td>\n",
       "      <td>nan</td>\n",
       "      <td>nan</td>\n",
       "      <td>nan</td>\n",
       "      <td>nan</td>\n",
       "      <td>0</td>\n",
       "    </tr>\n",
       "    <tr>\n",
       "      <th>1125</th>\n",
       "      <td>15.859</td>\n",
       "      <td>1.808</td>\n",
       "      <td>4.188</td>\n",
       "      <td>18.749</td>\n",
       "      <td>99.000</td>\n",
       "      <td>556.000</td>\n",
       "      <td>85.000</td>\n",
       "      <td>1.000</td>\n",
       "      <td>0.000</td>\n",
       "      <td>0.737</td>\n",
       "      <td>0.253</td>\n",
       "      <td>nan</td>\n",
       "      <td>nan</td>\n",
       "      <td>nan</td>\n",
       "      <td>nan</td>\n",
       "      <td>nan</td>\n",
       "      <td>0</td>\n",
       "    </tr>\n",
       "    <tr>\n",
       "      <th>1126</th>\n",
       "      <td>13.878</td>\n",
       "      <td>1.808</td>\n",
       "      <td>3.521</td>\n",
       "      <td>16.787</td>\n",
       "      <td>287.000</td>\n",
       "      <td>2,351.000</td>\n",
       "      <td>260.000</td>\n",
       "      <td>0.997</td>\n",
       "      <td>0.000</td>\n",
       "      <td>0.725</td>\n",
       "      <td>0.268</td>\n",
       "      <td>nan</td>\n",
       "      <td>nan</td>\n",
       "      <td>nan</td>\n",
       "      <td>nan</td>\n",
       "      <td>nan</td>\n",
       "      <td>0</td>\n",
       "    </tr>\n",
       "    <tr>\n",
       "      <th>...</th>\n",
       "      <th>...</th>\n",
       "      <td>...</td>\n",
       "      <td>...</td>\n",
       "      <td>...</td>\n",
       "      <td>...</td>\n",
       "      <td>...</td>\n",
       "      <td>...</td>\n",
       "      <td>...</td>\n",
       "      <td>...</td>\n",
       "      <td>...</td>\n",
       "      <td>...</td>\n",
       "      <td>...</td>\n",
       "      <td>...</td>\n",
       "      <td>...</td>\n",
       "      <td>...</td>\n",
       "      <td>...</td>\n",
       "      <td>...</td>\n",
       "      <td>...</td>\n",
       "    </tr>\n",
       "    <tr>\n",
       "      <th rowspan=\"5\" valign=\"top\">2016-06-30 23:00:00</th>\n",
       "      <th>2068</th>\n",
       "      <td>42.735</td>\n",
       "      <td>1.748</td>\n",
       "      <td>16.132</td>\n",
       "      <td>52.839</td>\n",
       "      <td>147.000</td>\n",
       "      <td>337.000</td>\n",
       "      <td>13.000</td>\n",
       "      <td>0.415</td>\n",
       "      <td>0.585</td>\n",
       "      <td>0.544</td>\n",
       "      <td>0.449</td>\n",
       "      <td>3,801.000</td>\n",
       "      <td>322.000</td>\n",
       "      <td>798.000</td>\n",
       "      <td>1,028.000</td>\n",
       "      <td>1,115.000</td>\n",
       "      <td>0</td>\n",
       "    </tr>\n",
       "    <tr>\n",
       "      <th>2069</th>\n",
       "      <td>36.181</td>\n",
       "      <td>1.553</td>\n",
       "      <td>15.001</td>\n",
       "      <td>52.190</td>\n",
       "      <td>38.000</td>\n",
       "      <td>449.000</td>\n",
       "      <td>1.000</td>\n",
       "      <td>0.500</td>\n",
       "      <td>0.474</td>\n",
       "      <td>0.632</td>\n",
       "      <td>0.368</td>\n",
       "      <td>5,406.000</td>\n",
       "      <td>9.000</td>\n",
       "      <td>46.000</td>\n",
       "      <td>60.000</td>\n",
       "      <td>63.000</td>\n",
       "      <td>0</td>\n",
       "    </tr>\n",
       "    <tr>\n",
       "      <th>2118</th>\n",
       "      <td>41.435</td>\n",
       "      <td>1.809</td>\n",
       "      <td>15.943</td>\n",
       "      <td>53.382</td>\n",
       "      <td>173.000</td>\n",
       "      <td>304.000</td>\n",
       "      <td>17.000</td>\n",
       "      <td>0.445</td>\n",
       "      <td>0.520</td>\n",
       "      <td>0.543</td>\n",
       "      <td>0.439</td>\n",
       "      <td>3,302.000</td>\n",
       "      <td>391.000</td>\n",
       "      <td>955.000</td>\n",
       "      <td>1,371.000</td>\n",
       "      <td>1,499.000</td>\n",
       "      <td>0</td>\n",
       "    </tr>\n",
       "    <tr>\n",
       "      <th>2119</th>\n",
       "      <td>39.652</td>\n",
       "      <td>1.941</td>\n",
       "      <td>14.978</td>\n",
       "      <td>51.322</td>\n",
       "      <td>119.000</td>\n",
       "      <td>360.000</td>\n",
       "      <td>6.000</td>\n",
       "      <td>0.479</td>\n",
       "      <td>0.504</td>\n",
       "      <td>0.580</td>\n",
       "      <td>0.403</td>\n",
       "      <td>4,209.000</td>\n",
       "      <td>124.000</td>\n",
       "      <td>297.000</td>\n",
       "      <td>357.000</td>\n",
       "      <td>389.000</td>\n",
       "      <td>0</td>\n",
       "    </tr>\n",
       "    <tr>\n",
       "      <th>2168</th>\n",
       "      <td>0.000</td>\n",
       "      <td>0.000</td>\n",
       "      <td>0.000</td>\n",
       "      <td>0.000</td>\n",
       "      <td>0.000</td>\n",
       "      <td>0.000</td>\n",
       "      <td>1.000</td>\n",
       "      <td>0.000</td>\n",
       "      <td>0.000</td>\n",
       "      <td>0.000</td>\n",
       "      <td>0.000</td>\n",
       "      <td>1,964.000</td>\n",
       "      <td>110.000</td>\n",
       "      <td>277.000</td>\n",
       "      <td>449.000</td>\n",
       "      <td>497.000</td>\n",
       "      <td>0</td>\n",
       "    </tr>\n",
       "  </tbody>\n",
       "</table>\n",
       "<p>1194624 rows × 17 columns</p>\n",
       "</div>"
      ],
      "text/plain": [
       "                           duration  passenger_count  ...  sum_in_24H  holiday\n",
       "tpep_pickup_datetime zone                             ...                     \n",
       "2015-03-01 00:00:00  1075    13.030            1.574  ...         nan        0\n",
       "                     1076    16.229            1.718  ...         nan        0\n",
       "                     1077    13.150            1.882  ...         nan        0\n",
       "                     1125    15.859            1.808  ...         nan        0\n",
       "                     1126    13.878            1.808  ...         nan        0\n",
       "...                             ...              ...  ...         ...      ...\n",
       "2016-06-30 23:00:00  2068    42.735            1.748  ...   1,115.000        0\n",
       "                     2069    36.181            1.553  ...      63.000        0\n",
       "                     2118    41.435            1.809  ...   1,499.000        0\n",
       "                     2119    39.652            1.941  ...     389.000        0\n",
       "                     2168     0.000            0.000  ...     497.000        0\n",
       "\n",
       "[1194624 rows x 17 columns]"
      ]
     },
     "execution_count": 35,
     "metadata": {
      "tags": []
     },
     "output_type": "execute_result"
    }
   ],
   "source": [
    "df_new[-5:]"
   ]
  },
  {
   "cell_type": "code",
   "execution_count": null,
   "metadata": {
    "id": "2R7HCOC2XO0M"
   },
   "outputs": [],
   "source": [
    "# Добавим новые признаки в файлы из прошлой недели, сделаем стандартизацию новых вещественных признаков и запишим в новые файлы\n",
    "\n",
    "stages = ['train', 'val', 'test']\n",
    "scaler = StandardScaler()\n",
    "for st in stages:\n",
    "    X = pd.read_parquet(PATH_TO_DATA + f'regr_data/X_{st}_norm.parquet')\n",
    "    zone = pd.read_parquet(PATH_TO_DATA + f'regr_data/cat_{st}.parquet').zone\n",
    "    X = X.set_index([X.index, zone])\n",
    "    X = X.merge(df_new, how='left', left_index=True, right_index=True)\n",
    "    X = X.reset_index(-1, drop=True)\n",
    "    if st == 'train':\n",
    "        X[columns_real_new] = scaler.fit_transform(X[columns_real_new])\n",
    "    else:\n",
    "        X[columns_real_new] = scaler.transform(X[columns_real_new])\n",
    "    X.to_parquet(PATH_TO_DATA + f'regr_data/X_{st}_norm_new.parquet')"
   ]
  },
  {
   "cell_type": "markdown",
   "metadata": {
    "id": "OmT9ApMWXO0M"
   },
   "source": [
    "### Models"
   ]
  },
  {
   "cell_type": "markdown",
   "metadata": {
    "id": "2FNKzC0VCzoR"
   },
   "source": [
    "Функционал ошибки = средней абсолютной ошибке по всем предсказаниям и всем моделям. Одинаковый размер моделей позволяет посчитать ошибку отдельно для каждой модели и усреднить ее."
   ]
  },
  {
   "cell_type": "markdown",
   "metadata": {
    "id": "Wp2aVvGBC0kV"
   },
   "source": [
    "\\begin{equation}\n",
    "Q_{may} = \\frac{1}{R*739*6}\\sum_{i=1}^6\\sum_{r=1}^R\\sum_{T=2016.04.3023:00}^{2016.05.3117:00}|y_{T|T+i}^r-y_{T|T+i}^r| = \\frac{1}6\\sum_{i=1}^6\\frac{1}{R*739}\\sum_{r=1}^R\\sum_{T=2016.04.3023:00}^{2016.05.3117:00}|y_{T|T+i}^r-y_{T|T+i}^r|\n",
    "\\end{equation}\n",
    "\n",
    "\\begin{equation}\n",
    "Q_{may} = \\frac{1}6\\sum_{i=1}^6MAE_i\n",
    " \\end{equation}"
   ]
  },
  {
   "cell_type": "markdown",
   "metadata": {
    "id": "zAEglxpd930A"
   },
   "source": [
    "Поиск гиперпараметров будем вести с помощью библиотеки hyperopt"
   ]
  },
  {
   "cell_type": "markdown",
   "metadata": {
    "id": "NNAHodRNXO0N"
   },
   "source": [
    "#### LightGBM"
   ]
  },
  {
   "cell_type": "code",
   "execution_count": null,
   "metadata": {
    "id": "BDFa1Kg5XO0N"
   },
   "outputs": [],
   "source": [
    "def objective_lgbm(params):\n",
    "    \"\"\"\n",
    "    Валидация с текущими гиперпараметрами\n",
    "\n",
    "    :params: гиперпараметры\n",
    "    :pipeline: модель\n",
    "    :X_train, X_val: матрица признаков \n",
    "    :y_train, y_val: вектор значений объектов\n",
    "    :return: 'mae' on X_val, y_val\n",
    "    \"\"\" \n",
    "\n",
    "    # задаём модели требуемые параметры\n",
    "    num_round = 100000\n",
    "    param = {'objective':'regression', 'lambda_l2': 0, 'lambda_l1': 0, \n",
    "             'max_bin_by_feature': ([32]*6 + [255]*45 + [1024]),\n",
    "             'verbose': 0, 'random_state': 99}\n",
    "    param['metric'] = ['l1']\n",
    "    param.update(params)\n",
    "    param['num_leaves'] = int(param['num_leaves'])\n",
    "            \n",
    "    # обучаем модель и считаем среднюю абсолютною ошибку на данных за май\n",
    "    model = lgb.train(param, dtrain, num_round, valid_sets=[dval],\n",
    "                    early_stopping_rounds=10, verbose_eval=5000)\n",
    "    \n",
    "    score = mean_absolute_error(y_val, model.predict(X_val))\n",
    "    \n",
    "    try:\n",
    "        best = score < trials.best_trial['result']['loss']\n",
    "    except:\n",
    "        best = True\n",
    "    if best: model.save_model(PATH_TO_DATA + f'models/lgbm_{lag}', num_iteration=model.best_iteration)\n",
    "\n",
    "    # возвращаем результаты, которые записываются в Trials()\n",
    "    return   {'loss': score, 'params': params, 'status': STATUS_OK}"
   ]
  },
  {
   "cell_type": "code",
   "execution_count": null,
   "metadata": {
    "colab": {
     "base_uri": "https://localhost:8080/"
    },
    "executionInfo": {
     "elapsed": 9546883,
     "status": "ok",
     "timestamp": 1625330997238,
     "user": {
      "displayName": "Игорь Ярославович Башук",
      "photoUrl": "",
      "userId": "05144798806300989296"
     },
     "user_tz": -180
    },
    "id": "lznH1gj9XO0O",
    "outputId": "e9212e45-853d-4d90-8b9f-eddf8a877914"
   },
   "outputs": [
    {
     "name": "stderr",
     "output_type": "stream",
     "text": [
      "  0%|          | 0/6 [00:00<?, ?it/s]"
     ]
    },
    {
     "name": "stdout",
     "output_type": "stream",
     "text": [
      "Training until validation scores don't improve for 10 rounds.\n",
      "Early stopping, best iteration is:\n",
      "[1570]\tvalid_0's l1: 13.1718\n",
      "Training until validation scores don't improve for 10 rounds.\n",
      "Early stopping, best iteration is:\n",
      "[1934]\tvalid_0's l1: 13.1581\n"
     ]
    },
    {
     "name": "stderr",
     "output_type": "stream",
     "text": [
      " 17%|█▋        | 1/6 [33:53<2:49:26, 2033.32s/it]"
     ]
    },
    {
     "name": "stdout",
     "output_type": "stream",
     "text": [
      "\t\tMAE = 13.16383341920675\n",
      "Training until validation scores don't improve for 10 rounds.\n",
      "Early stopping, best iteration is:\n",
      "[1498]\tvalid_0's l1: 15.1621\n",
      "Training until validation scores don't improve for 10 rounds.\n",
      "Early stopping, best iteration is:\n",
      "[1467]\tvalid_0's l1: 15.1623\n"
     ]
    },
    {
     "name": "stderr",
     "output_type": "stream",
     "text": [
      " 33%|███▎      | 2/6 [1:01:25<2:07:56, 1919.01s/it]"
     ]
    },
    {
     "name": "stdout",
     "output_type": "stream",
     "text": [
      "\t\tMAE = 15.19723480764621\n",
      "Training until validation scores don't improve for 10 rounds.\n",
      "Early stopping, best iteration is:\n",
      "[1240]\tvalid_0's l1: 16.3266\n",
      "Training until validation scores don't improve for 10 rounds.\n",
      "Early stopping, best iteration is:\n",
      "[1531]\tvalid_0's l1: 16.261\n"
     ]
    },
    {
     "name": "stderr",
     "output_type": "stream",
     "text": [
      " 50%|█████     | 3/6 [1:26:06<1:29:23, 1787.72s/it]"
     ]
    },
    {
     "name": "stdout",
     "output_type": "stream",
     "text": [
      "\t\tMAE = 16.286695334583207\n",
      "Training until validation scores don't improve for 10 rounds.\n",
      "Early stopping, best iteration is:\n",
      "[1568]\tvalid_0's l1: 16.8665\n",
      "Training until validation scores don't improve for 10 rounds.\n",
      "Early stopping, best iteration is:\n",
      "[1869]\tvalid_0's l1: 16.8642\n"
     ]
    },
    {
     "name": "stderr",
     "output_type": "stream",
     "text": [
      " 67%|██████▋   | 4/6 [1:54:30<58:44, 1762.43s/it]  "
     ]
    },
    {
     "name": "stdout",
     "output_type": "stream",
     "text": [
      "\t\tMAE = 16.829222157356583\n",
      "Training until validation scores don't improve for 10 rounds.\n",
      "Early stopping, best iteration is:\n",
      "[914]\tvalid_0's l1: 17.3685\n",
      "Training until validation scores don't improve for 10 rounds.\n",
      "Early stopping, best iteration is:\n",
      "[1042]\tvalid_0's l1: 17.2836\n"
     ]
    },
    {
     "name": "stderr",
     "output_type": "stream",
     "text": [
      " 83%|████████▎ | 5/6 [2:13:03<26:07, 1567.75s/it]"
     ]
    },
    {
     "name": "stdout",
     "output_type": "stream",
     "text": [
      "\t\tMAE = 17.285621117753458\n",
      "Training until validation scores don't improve for 10 rounds.\n",
      "Early stopping, best iteration is:\n",
      "[1695]\tvalid_0's l1: 17.3045\n",
      "Training until validation scores don't improve for 10 rounds.\n",
      "Early stopping, best iteration is:\n",
      "[1441]\tvalid_0's l1: 17.3568\n"
     ]
    },
    {
     "name": "stderr",
     "output_type": "stream",
     "text": [
      "100%|██████████| 6/6 [2:39:05<00:00, 1590.98s/it]"
     ]
    },
    {
     "name": "stdout",
     "output_type": "stream",
     "text": [
      "\t\tMAE = 17.30698729524876\n",
      "\n",
      "Qmay = 16.01159902196583\n"
     ]
    },
    {
     "name": "stderr",
     "output_type": "stream",
     "text": [
      "\n"
     ]
    }
   ],
   "source": [
    "# \n",
    "\n",
    "warnings.filterwarnings('ignore')\n",
    "\n",
    "search_space = {'num_leaves': hp.quniform('num_leaves', low=700, high=750, q=50),\n",
    "                'max_depth': hp.choice('max_depth', [-1]), \n",
    "                # 'max_bin': hp.choice('max_bin', [255]),   \n",
    "                'learning_rate': hp.uniform('learning_rate', low=0.02, high=0.03)\n",
    "                }\n",
    "\n",
    "trials_lgbm = []\n",
    "\n",
    "for lag in tqdm(range(1, 7)):\n",
    "    # load data\n",
    "    X_train, y_train, X_val, y_val, _, _ = load_model_data_new(lag, 'norm', False)\n",
    "    # make Dataset\n",
    "    columns_cat=['zone', 'holiday']\n",
    "    dtrain = lgb.Dataset(X_train, label=y_train, \n",
    "                         categorical_feature=columns_cat, free_raw_data=False)\n",
    "    dval = lgb.Dataset(X_val, label=y_val, \n",
    "                       reference=dtrain, categorical_feature=columns_cat)\n",
    "    # \n",
    "    trials = Trials()\n",
    "    best = fmin( \n",
    "            # функция для оптимизации  \n",
    "                fn=objective_lgbm,\n",
    "            # пространство поиска гиперпараметров  \n",
    "                space=search_space,\n",
    "            # алгоритм поиска\n",
    "                algo=rand.suggest,\n",
    "                # algo=tpe.suggest,\n",
    "            # число итераций \n",
    "            # (можно ещё указать и время поиска) \n",
    "                max_evals=2,\n",
    "            # куда сохранять историю поиска\n",
    "                trials=trials,\n",
    "            # random state\n",
    "                rstate=np.random.RandomState(99),\n",
    "            # progressbar\n",
    "                show_progressbar=False\n",
    "                )\n",
    "    trials_lgbm.append(trials)\n",
    "    print(f\"\\t\\tMAE = {trials.best_trial['result']['loss']}\")\n",
    "print(f\"\\nQmay = {sum([trials.best_trial['result']['loss'] for trials in trials_lgbm]) / 6}\")\n",
    "\n",
    "warnings.filterwarnings('default')"
   ]
  },
  {
   "cell_type": "code",
   "execution_count": null,
   "metadata": {
    "id": "M9gF1a_3XO0P"
   },
   "outputs": [],
   "source": []
  },
  {
   "cell_type": "markdown",
   "metadata": {
    "heading_collapsed": true,
    "hidden": true,
    "id": "Sbhq0mSNc_ZW"
   },
   "source": [
    "#### CatBoost"
   ]
  },
  {
   "cell_type": "code",
   "execution_count": null,
   "metadata": {
    "hidden": true,
    "id": "9gj4Ab19c_Zl"
   },
   "outputs": [],
   "source": [
    "def objective_cb(params):\n",
    "    \"\"\"\n",
    "    Валидация с текущими гиперпараметрами\n",
    "\n",
    "    :params: гиперпараметры\n",
    "    :pipeline: модель\n",
    "    :X_train, X_val: матрица признаков \n",
    "    :y_train, y_val: вектор значений объектов\n",
    "    :return: 'mae' on X_val, y_val\n",
    "    \"\"\" \n",
    "\n",
    "    # задаём модели требуемые параметры\n",
    "    param = {'iterations': 100000, 'one_hot_max_size': 102, 'border_count': 255,\n",
    "             'eval_metric': 'MAE', 'random_seed': 99, 'has_time': True,\n",
    "             'verbose': 5000, 'task_type': 'GPU',\n",
    "             'od_type': 'Iter', 'od_wait': 40, \n",
    "             'per_float_feature_quantization': '51:border_count=1024'\n",
    "            }\n",
    "    param.update(params)\n",
    "            \n",
    "    # обучаем модель и считаем среднюю абсолютною ошибку на данных за май\n",
    "    print('\\n')\n",
    "    model = CatBoostRegressor(**param)\n",
    "    model.fit(train_pool, eval_set=validate_pool)\n",
    "    \n",
    "    score = mean_absolute_error(y_val, model.predict(X_val))\n",
    "\n",
    "    try:\n",
    "        best = score < trials.best_trial['result']['loss']\n",
    "    except:\n",
    "        best = True\n",
    "    if best: model.save_model(PATH_TO_DATA + f'models/catboost_{lag}')\n",
    "\n",
    "    # возвращаем результаты, которые записываются в Trials()\n",
    "    return   {'loss': score, 'params': params, 'status': STATUS_OK}"
   ]
  },
  {
   "cell_type": "code",
   "execution_count": null,
   "metadata": {
    "colab": {
     "base_uri": "https://localhost:8080/"
    },
    "executionInfo": {
     "elapsed": 2177374,
     "status": "ok",
     "timestamp": 1625296616094,
     "user": {
      "displayName": "Игорь Ярославович Башук",
      "photoUrl": "",
      "userId": "05144798806300989296"
     },
     "user_tz": -180
    },
    "hidden": true,
    "id": "cDgVmXyuc_Zn",
    "outputId": "04205380-3ec7-427a-c583-3657b2972048"
   },
   "outputs": [
    {
     "name": "stderr",
     "output_type": "stream",
     "text": [
      "  0%|          | 0/6 [00:00<?, ?it/s]"
     ]
    },
    {
     "name": "stdout",
     "output_type": "stream",
     "text": [
      "\n",
      "  0%|          | 0/1 [00:00<?, ?it/s, best loss: ?]\u001b[A0:\tlearn: 172.8668900\ttest: 169.2129666\tbest: 169.2129666 (0)\ttotal: 49.7ms\tremaining: 1h 22m 47s\n",
      "5000:\tlearn: 10.8115715\ttest: 13.3095217\tbest: 13.3093020 (4998)\ttotal: 2m 34s\tremaining: 48m 54s\n",
      "10000:\tlearn: 9.0626764\ttest: 12.9737656\tbest: 12.9737656 (10000)\ttotal: 5m 13s\tremaining: 46m 57s\n",
      "bestTest = 12.86348222\n",
      "bestIteration = 13920\n",
      "Shrink model to first 13921 iterations.\n",
      "\n",
      "100%|██████████| 1/1 [07:29<00:00, 449.29s/it, best loss: 12.86348661853988]"
     ]
    },
    {
     "name": "stderr",
     "output_type": "stream",
     "text": [
      " 17%|█▋        | 1/6 [07:32<37:40, 452.03s/it]"
     ]
    },
    {
     "name": "stdout",
     "output_type": "stream",
     "text": [
      "\n",
      "\t\tMAE = 12.86348661853988\n",
      "\n",
      "  0%|          | 0/1 [00:00<?, ?it/s, best loss: ?]\u001b[A0:\tlearn: 172.9217978\ttest: 169.1810210\tbest: 169.1810210 (0)\ttotal: 50.2ms\tremaining: 1h 23m 37s\n",
      "5000:\tlearn: 11.6228819\ttest: 15.0633690\tbest: 15.0633690 (5000)\ttotal: 2m 35s\tremaining: 49m 23s\n",
      "10000:\tlearn: 9.6400952\ttest: 14.6252670\tbest: 14.6252007 (9996)\ttotal: 5m 14s\tremaining: 47m 13s\n",
      "bestTest = 14.48282158\n",
      "bestIteration = 13992\n",
      "Shrink model to first 13993 iterations.\n",
      "\n",
      "100%|██████████| 1/1 [07:36<00:00, 456.42s/it, best loss: 14.482817118953708]"
     ]
    },
    {
     "name": "stderr",
     "output_type": "stream",
     "text": [
      " 33%|███▎      | 2/6 [15:11<30:17, 454.37s/it]"
     ]
    },
    {
     "name": "stdout",
     "output_type": "stream",
     "text": [
      "\n",
      "\t\tMAE = 14.482817118953708\n",
      "\n",
      "  0%|          | 0/1 [00:00<?, ?it/s, best loss: ?]\u001b[A0:\tlearn: 172.9579130\ttest: 169.1383295\tbest: 169.1383295 (0)\ttotal: 49.3ms\tremaining: 1h 22m 9s\n",
      "5000:\tlearn: 11.8174318\ttest: 16.1780725\tbest: 16.1780725 (5000)\ttotal: 2m 36s\tremaining: 49m 23s\n",
      "10000:\tlearn: 9.8258465\ttest: 15.7541491\tbest: 15.7541491 (10000)\ttotal: 5m 14s\tremaining: 47m 10s\n",
      "bestTest = 15.64914332\n",
      "bestIteration = 12794\n",
      "Shrink model to first 12795 iterations.\n",
      "\n",
      "100%|██████████| 1/1 [06:56<00:00, 416.58s/it, best loss: 15.649132517887269]"
     ]
    },
    {
     "name": "stderr",
     "output_type": "stream",
     "text": [
      " 50%|█████     | 3/6 [22:13<22:13, 444.48s/it]"
     ]
    },
    {
     "name": "stdout",
     "output_type": "stream",
     "text": [
      "\n",
      "\t\tMAE = 15.649132517887269\n",
      "\n",
      "  0%|          | 0/1 [00:00<?, ?it/s, best loss: ?]\u001b[A0:\tlearn: 172.9787202\ttest: 169.1214280\tbest: 169.1214280 (0)\ttotal: 49.2ms\tremaining: 1h 21m 58s\n",
      "5000:\tlearn: 11.9872804\ttest: 16.7197458\tbest: 16.7195584 (4997)\ttotal: 2m 35s\tremaining: 49m 22s\n",
      "10000:\tlearn: 9.9802033\ttest: 16.2951027\tbest: 16.2951027 (10000)\ttotal: 5m 14s\tremaining: 47m 8s\n",
      "bestTest = 16.21438119\n",
      "bestIteration = 11994\n",
      "Shrink model to first 11995 iterations.\n",
      "\n",
      "100%|██████████| 1/1 [06:29<00:00, 389.61s/it, best loss: 16.214392824138667]"
     ]
    },
    {
     "name": "stderr",
     "output_type": "stream",
     "text": [
      " 67%|██████▋   | 4/6 [28:46<14:18, 429.12s/it]"
     ]
    },
    {
     "name": "stdout",
     "output_type": "stream",
     "text": [
      "\n",
      "\t\tMAE = 16.214392824138667\n",
      "\n",
      "  0%|          | 0/1 [00:00<?, ?it/s, best loss: ?]\u001b[A0:\tlearn: 173.0002209\ttest: 169.1362201\tbest: 169.1362201 (0)\ttotal: 49ms\tremaining: 1h 21m 44s\n",
      "5000:\tlearn: 12.0806731\ttest: 17.1064734\tbest: 17.1064734 (5000)\ttotal: 2m 35s\tremaining: 49m 20s\n",
      "bestTest = 16.92128671\n",
      "bestIteration = 6822\n",
      "Shrink model to first 6823 iterations.\n",
      "\n",
      "100%|██████████| 1/1 [03:41<00:00, 221.84s/it, best loss: 16.921300486763236]"
     ]
    },
    {
     "name": "stderr",
     "output_type": "stream",
     "text": [
      " 83%|████████▎ | 5/6 [32:31<06:07, 367.82s/it]"
     ]
    },
    {
     "name": "stdout",
     "output_type": "stream",
     "text": [
      "\n",
      "\t\tMAE = 16.921300486763236\n",
      "\n",
      "  0%|          | 0/1 [00:00<?, ?it/s, best loss: ?]\u001b[A0:\tlearn: 173.0254206\ttest: 169.1609090\tbest: 169.1609090 (0)\ttotal: 51.9ms\tremaining: 1h 26m 26s\n",
      "5000:\tlearn: 12.1282622\ttest: 17.1727361\tbest: 17.1727361 (5000)\ttotal: 2m 35s\tremaining: 49m 19s\n",
      "bestTest = 17.00051905\n",
      "bestIteration = 6829\n",
      "Shrink model to first 6830 iterations.\n",
      "\n",
      "100%|██████████| 1/1 [03:43<00:00, 223.01s/it, best loss: 17.00050797361113]"
     ]
    },
    {
     "name": "stderr",
     "output_type": "stream",
     "text": [
      "100%|██████████| 6/6 [36:17<00:00, 362.86s/it]"
     ]
    },
    {
     "name": "stdout",
     "output_type": "stream",
     "text": [
      "\n",
      "\t\tMAE = 17.00050797361113\n",
      "\n",
      "Qmay = 15.521939589982315\n"
     ]
    },
    {
     "name": "stderr",
     "output_type": "stream",
     "text": [
      "\n"
     ]
    }
   ],
   "source": [
    "warnings.filterwarnings('ignore')\n",
    "\n",
    "search_space = {'subsample': hp.choice('subsample', [0.66]),\n",
    "                'max_depth': hp.choice('max_depth', [10]), \n",
    "                'l2_leaf_reg': hp.choice('l2_leaf_reg', [1]),\n",
    "                'bootstrap_type': hp.choice('bootstrap_type', ['Bernoulli']), \n",
    "                #'learning_rate': hp.choice('learning_rate', [0.03]) #hp.loguniform('learning_rate', low=np.log(0.005), high=np.log(0.1))\n",
    "                }\n",
    "\n",
    "trials_cb = []\n",
    "\n",
    "for lag in tqdm(range(1, 7)):\n",
    "    # load data\n",
    "    X_train, y_train, X_val, y_val, _, _ = load_model_data_new(lag, 'norm', False)\n",
    "    # temp\n",
    "    # X_train.drop(['ratecodeid_1', 'ratecodeid_2', 'payment_type_1', 'payment_type_2'], axis=1, inplace=True)\n",
    "    # X_val.drop(['ratecodeid_1', 'ratecodeid_2', 'payment_type_1', 'payment_type_2'], axis=1, inplace=True)\n",
    "\n",
    "    # make Dataset\n",
    "    cat_features_indices = [4, 5, 50]\n",
    "    train_pool = Pool(X_train, y_train, cat_features=cat_features_indices)\n",
    "    validate_pool = Pool(X_val, y_val, cat_features=cat_features_indices)\n",
    "    # \n",
    "    trials = Trials()\n",
    "    best = fmin( \n",
    "            # функция для оптимизации  \n",
    "                fn=objective_cb,\n",
    "            # пространство поиска гиперпараметров  \n",
    "                space=search_space,\n",
    "            # алгоритм поиска\n",
    "                # algo=tpe.suggest,\n",
    "                algo=rand.suggest,\n",
    "            # число итераций \n",
    "            # (можно ещё указать и время поиска) \n",
    "                max_evals=1,\n",
    "            # куда сохранять историю поиска\n",
    "                trials=trials,\n",
    "            # random state\n",
    "                rstate=np.random.RandomState(99),\n",
    "            # progressbar\n",
    "                show_progressbar=True\n",
    "                )\n",
    "    trials_cb.append(trials)\n",
    "    print(f\"\\t\\tMAE = {trials.best_trial['result']['loss']}\")\n",
    "print(f\"\\nQmay = {sum([trials.best_trial['result']['loss'] for trials in trials_cb]) / 6}\")\n",
    "\n",
    "warnings.filterwarnings('default')"
   ]
  },
  {
   "cell_type": "markdown",
   "metadata": {
    "id": "_sz2ZTuWnjcY"
   },
   "source": [
    "Посмотрим на значимость признаков в модели"
   ]
  },
  {
   "cell_type": "code",
   "execution_count": null,
   "metadata": {
    "colab": {
     "base_uri": "https://localhost:8080/"
    },
    "executionInfo": {
     "elapsed": 714,
     "status": "ok",
     "timestamp": 1625296792502,
     "user": {
      "displayName": "Игорь Ярославович Башук",
      "photoUrl": "",
      "userId": "05144798806300989296"
     },
     "user_tz": -180
    },
    "id": "54s0UxYjXO0Q",
    "outputId": "3a874e52-83ba-418e-b6ef-7ed7cc926543"
   },
   "outputs": [
    {
     "data": {
      "text/plain": [
       "<catboost.core.CatBoostRegressor at 0x7f13b4afe390>"
      ]
     },
     "execution_count": 30,
     "metadata": {
      "tags": []
     },
     "output_type": "execute_result"
    }
   ],
   "source": [
    "model = CatBoostRegressor()\n",
    "model.load_model(PATH_TO_DATA + f'models/catboost_1')"
   ]
  },
  {
   "cell_type": "code",
   "execution_count": null,
   "metadata": {
    "colab": {
     "base_uri": "https://localhost:8080/",
     "height": 1000
    },
    "executionInfo": {
     "elapsed": 119525,
     "status": "ok",
     "timestamp": 1625296915953,
     "user": {
      "displayName": "Игорь Ярославович Башук",
      "photoUrl": "",
      "userId": "05144798806300989296"
     },
     "user_tz": -180
    },
    "id": "kDx8jIM8XO0Q",
    "outputId": "9c789076-e35e-4a2a-e824-daa6eb3aa4e6"
   },
   "outputs": [
    {
     "data": {
      "text/html": [
       "<div>\n",
       "<style scoped>\n",
       "    .dataframe tbody tr th:only-of-type {\n",
       "        vertical-align: middle;\n",
       "    }\n",
       "\n",
       "    .dataframe tbody tr th {\n",
       "        vertical-align: top;\n",
       "    }\n",
       "\n",
       "    .dataframe thead th {\n",
       "        text-align: right;\n",
       "    }\n",
       "</style>\n",
       "<table border=\"1\" class=\"dataframe\">\n",
       "  <thead>\n",
       "    <tr style=\"text-align: right;\">\n",
       "      <th></th>\n",
       "      <th>feature_importance</th>\n",
       "      <th>feature_names</th>\n",
       "    </tr>\n",
       "  </thead>\n",
       "  <tbody>\n",
       "    <tr>\n",
       "      <th>51</th>\n",
       "      <td>43.613</td>\n",
       "      <td>arima</td>\n",
       "    </tr>\n",
       "    <tr>\n",
       "      <th>38</th>\n",
       "      <td>16.410</td>\n",
       "      <td>trips</td>\n",
       "    </tr>\n",
       "    <tr>\n",
       "      <th>16</th>\n",
       "      <td>2.896</td>\n",
       "      <td>W_cos_1</td>\n",
       "    </tr>\n",
       "    <tr>\n",
       "      <th>6</th>\n",
       "      <td>2.260</td>\n",
       "      <td>D_sin_1</td>\n",
       "    </tr>\n",
       "    <tr>\n",
       "      <th>22</th>\n",
       "      <td>2.191</td>\n",
       "      <td>hourAgo_1</td>\n",
       "    </tr>\n",
       "    <tr>\n",
       "      <th>40</th>\n",
       "      <td>2.033</td>\n",
       "      <td>trips_in</td>\n",
       "    </tr>\n",
       "    <tr>\n",
       "      <th>28</th>\n",
       "      <td>1.945</td>\n",
       "      <td>dayAgo_1</td>\n",
       "    </tr>\n",
       "    <tr>\n",
       "      <th>9</th>\n",
       "      <td>1.578</td>\n",
       "      <td>D_cos_2</td>\n",
       "    </tr>\n",
       "    <tr>\n",
       "      <th>39</th>\n",
       "      <td>1.500</td>\n",
       "      <td>trips_neibours</td>\n",
       "    </tr>\n",
       "    <tr>\n",
       "      <th>5</th>\n",
       "      <td>1.354</td>\n",
       "      <td>zone</td>\n",
       "    </tr>\n",
       "    <tr>\n",
       "      <th>23</th>\n",
       "      <td>1.324</td>\n",
       "      <td>hourAgo_2</td>\n",
       "    </tr>\n",
       "    <tr>\n",
       "      <th>8</th>\n",
       "      <td>1.208</td>\n",
       "      <td>D_cos_1</td>\n",
       "    </tr>\n",
       "    <tr>\n",
       "      <th>7</th>\n",
       "      <td>1.070</td>\n",
       "      <td>D_sin_2</td>\n",
       "    </tr>\n",
       "    <tr>\n",
       "      <th>29</th>\n",
       "      <td>1.069</td>\n",
       "      <td>dayAgo_2</td>\n",
       "    </tr>\n",
       "    <tr>\n",
       "      <th>1</th>\n",
       "      <td>1.012</td>\n",
       "      <td>month</td>\n",
       "    </tr>\n",
       "    <tr>\n",
       "      <th>2</th>\n",
       "      <td>0.961</td>\n",
       "      <td>day</td>\n",
       "    </tr>\n",
       "    <tr>\n",
       "      <th>4</th>\n",
       "      <td>0.946</td>\n",
       "      <td>hour</td>\n",
       "    </tr>\n",
       "    <tr>\n",
       "      <th>37</th>\n",
       "      <td>0.919</td>\n",
       "      <td>total_amount</td>\n",
       "    </tr>\n",
       "    <tr>\n",
       "      <th>34</th>\n",
       "      <td>0.913</td>\n",
       "      <td>duration</td>\n",
       "    </tr>\n",
       "    <tr>\n",
       "      <th>46</th>\n",
       "      <td>0.849</td>\n",
       "      <td>sum_in_6H</td>\n",
       "    </tr>\n",
       "    <tr>\n",
       "      <th>3</th>\n",
       "      <td>0.762</td>\n",
       "      <td>weekday</td>\n",
       "    </tr>\n",
       "    <tr>\n",
       "      <th>43</th>\n",
       "      <td>0.678</td>\n",
       "      <td>payment_type_1</td>\n",
       "    </tr>\n",
       "    <tr>\n",
       "      <th>45</th>\n",
       "      <td>0.630</td>\n",
       "      <td>sum_12_neibours</td>\n",
       "    </tr>\n",
       "    <tr>\n",
       "      <th>35</th>\n",
       "      <td>0.617</td>\n",
       "      <td>passenger_count</td>\n",
       "    </tr>\n",
       "    <tr>\n",
       "      <th>20</th>\n",
       "      <td>0.597</td>\n",
       "      <td>W_cos_5</td>\n",
       "    </tr>\n",
       "    <tr>\n",
       "      <th>27</th>\n",
       "      <td>0.589</td>\n",
       "      <td>hourAgo_6</td>\n",
       "    </tr>\n",
       "    <tr>\n",
       "      <th>47</th>\n",
       "      <td>0.588</td>\n",
       "      <td>sum_in_12H</td>\n",
       "    </tr>\n",
       "    <tr>\n",
       "      <th>24</th>\n",
       "      <td>0.584</td>\n",
       "      <td>hourAgo_3</td>\n",
       "    </tr>\n",
       "    <tr>\n",
       "      <th>25</th>\n",
       "      <td>0.534</td>\n",
       "      <td>hourAgo_4</td>\n",
       "    </tr>\n",
       "    <tr>\n",
       "      <th>36</th>\n",
       "      <td>0.517</td>\n",
       "      <td>trip_distance</td>\n",
       "    </tr>\n",
       "    <tr>\n",
       "      <th>21</th>\n",
       "      <td>0.514</td>\n",
       "      <td>W_cos_6</td>\n",
       "    </tr>\n",
       "    <tr>\n",
       "      <th>44</th>\n",
       "      <td>0.511</td>\n",
       "      <td>payment_type_2</td>\n",
       "    </tr>\n",
       "    <tr>\n",
       "      <th>33</th>\n",
       "      <td>0.507</td>\n",
       "      <td>sum_30D</td>\n",
       "    </tr>\n",
       "    <tr>\n",
       "      <th>14</th>\n",
       "      <td>0.494</td>\n",
       "      <td>W_sin_5</td>\n",
       "    </tr>\n",
       "    <tr>\n",
       "      <th>26</th>\n",
       "      <td>0.491</td>\n",
       "      <td>hourAgo_5</td>\n",
       "    </tr>\n",
       "    <tr>\n",
       "      <th>50</th>\n",
       "      <td>0.465</td>\n",
       "      <td>holiday</td>\n",
       "    </tr>\n",
       "    <tr>\n",
       "      <th>11</th>\n",
       "      <td>0.450</td>\n",
       "      <td>W_sin_2</td>\n",
       "    </tr>\n",
       "    <tr>\n",
       "      <th>15</th>\n",
       "      <td>0.437</td>\n",
       "      <td>W_sin_6</td>\n",
       "    </tr>\n",
       "    <tr>\n",
       "      <th>10</th>\n",
       "      <td>0.433</td>\n",
       "      <td>W_sin_1</td>\n",
       "    </tr>\n",
       "    <tr>\n",
       "      <th>32</th>\n",
       "      <td>0.351</td>\n",
       "      <td>sum_7D</td>\n",
       "    </tr>\n",
       "    <tr>\n",
       "      <th>13</th>\n",
       "      <td>0.341</td>\n",
       "      <td>W_sin_4</td>\n",
       "    </tr>\n",
       "    <tr>\n",
       "      <th>48</th>\n",
       "      <td>0.333</td>\n",
       "      <td>sum_in_18H</td>\n",
       "    </tr>\n",
       "    <tr>\n",
       "      <th>41</th>\n",
       "      <td>0.329</td>\n",
       "      <td>ratecodeid_1</td>\n",
       "    </tr>\n",
       "    <tr>\n",
       "      <th>49</th>\n",
       "      <td>0.317</td>\n",
       "      <td>sum_in_24H</td>\n",
       "    </tr>\n",
       "    <tr>\n",
       "      <th>42</th>\n",
       "      <td>0.302</td>\n",
       "      <td>ratecodeid_2</td>\n",
       "    </tr>\n",
       "    <tr>\n",
       "      <th>31</th>\n",
       "      <td>0.284</td>\n",
       "      <td>sum_1D</td>\n",
       "    </tr>\n",
       "    <tr>\n",
       "      <th>12</th>\n",
       "      <td>0.270</td>\n",
       "      <td>W_sin_3</td>\n",
       "    </tr>\n",
       "    <tr>\n",
       "      <th>18</th>\n",
       "      <td>0.255</td>\n",
       "      <td>W_cos_3</td>\n",
       "    </tr>\n",
       "    <tr>\n",
       "      <th>30</th>\n",
       "      <td>0.246</td>\n",
       "      <td>sum_12H</td>\n",
       "    </tr>\n",
       "    <tr>\n",
       "      <th>19</th>\n",
       "      <td>0.202</td>\n",
       "      <td>W_cos_4</td>\n",
       "    </tr>\n",
       "    <tr>\n",
       "      <th>0</th>\n",
       "      <td>0.173</td>\n",
       "      <td>year</td>\n",
       "    </tr>\n",
       "    <tr>\n",
       "      <th>17</th>\n",
       "      <td>0.149</td>\n",
       "      <td>W_cos_2</td>\n",
       "    </tr>\n",
       "  </tbody>\n",
       "</table>\n",
       "</div>"
      ],
      "text/plain": [
       "    feature_importance    feature_names\n",
       "51              43.613            arima\n",
       "38              16.410            trips\n",
       "16               2.896          W_cos_1\n",
       "6                2.260          D_sin_1\n",
       "22               2.191        hourAgo_1\n",
       "40               2.033         trips_in\n",
       "28               1.945         dayAgo_1\n",
       "9                1.578          D_cos_2\n",
       "39               1.500   trips_neibours\n",
       "5                1.354             zone\n",
       "23               1.324        hourAgo_2\n",
       "8                1.208          D_cos_1\n",
       "7                1.070          D_sin_2\n",
       "29               1.069         dayAgo_2\n",
       "1                1.012            month\n",
       "2                0.961              day\n",
       "4                0.946             hour\n",
       "37               0.919     total_amount\n",
       "34               0.913         duration\n",
       "46               0.849        sum_in_6H\n",
       "3                0.762          weekday\n",
       "43               0.678   payment_type_1\n",
       "45               0.630  sum_12_neibours\n",
       "35               0.617  passenger_count\n",
       "20               0.597          W_cos_5\n",
       "27               0.589        hourAgo_6\n",
       "47               0.588       sum_in_12H\n",
       "24               0.584        hourAgo_3\n",
       "25               0.534        hourAgo_4\n",
       "36               0.517    trip_distance\n",
       "21               0.514          W_cos_6\n",
       "44               0.511   payment_type_2\n",
       "33               0.507          sum_30D\n",
       "14               0.494          W_sin_5\n",
       "26               0.491        hourAgo_5\n",
       "50               0.465          holiday\n",
       "11               0.450          W_sin_2\n",
       "15               0.437          W_sin_6\n",
       "10               0.433          W_sin_1\n",
       "32               0.351           sum_7D\n",
       "13               0.341          W_sin_4\n",
       "48               0.333       sum_in_18H\n",
       "41               0.329     ratecodeid_1\n",
       "49               0.317       sum_in_24H\n",
       "42               0.302     ratecodeid_2\n",
       "31               0.284           sum_1D\n",
       "12               0.270          W_sin_3\n",
       "18               0.255          W_cos_3\n",
       "30               0.246          sum_12H\n",
       "19               0.202          W_cos_4\n",
       "0                0.173             year\n",
       "17               0.149          W_cos_2"
      ]
     },
     "execution_count": 31,
     "metadata": {
      "tags": []
     },
     "output_type": "execute_result"
    }
   ],
   "source": [
    "pd.DataFrame({'feature_importance': model.get_feature_importance(train_pool), \n",
    "              'feature_names': X_val.columns}).sort_values(by=['feature_importance'], \n",
    "                                                           ascending=False)"
   ]
  },
  {
   "cell_type": "markdown",
   "metadata": {
    "id": "jeP1eZ5Al81R"
   },
   "source": [
    "Значимость признаков соответствует ожиданию. Малозначимые можно убрать без существенного ухудшения модели. Но все же с ними модель немного точнее. "
   ]
  },
  {
   "cell_type": "markdown",
   "metadata": {
    "heading_collapsed": true,
    "id": "eUyo_q6eFvKQ"
   },
   "source": [
    "### Stacked model"
   ]
  },
  {
   "cell_type": "code",
   "execution_count": null,
   "metadata": {
    "colab": {
     "base_uri": "https://localhost:8080/"
    },
    "executionInfo": {
     "elapsed": 372287,
     "status": "ok",
     "timestamp": 1625331893566,
     "user": {
      "displayName": "Игорь Ярославович Башук",
      "photoUrl": "",
      "userId": "05144798806300989296"
     },
     "user_tz": -180
    },
    "hidden": true,
    "id": "S3591xKPFvKf",
    "outputId": "f7ba406e-a19c-465e-8ee7-dd7e9d9cb3fe"
   },
   "outputs": [
    {
     "name": "stdout",
     "output_type": "stream",
     "text": [
      "MAE lgb_1: val = 13.16383341920675, test = 13.213453888890205\n",
      "MAE cb_1: val = 12.86348661853988, test = 12.899172515250301\n",
      "MAE lgb_2: val = 15.19723480764621, test = 14.585202922888142\n",
      "MAE cb_2: val = 14.482817118953708, test = 14.332094509656024\n",
      "MAE lgb_3: val = 16.286695334583207, test = 15.287045773486305\n",
      "MAE cb_3: val = 15.649132517887269, test = 15.048166530447627\n",
      "MAE lgb_4: val = 16.829222157356583, test = 15.680641798819439\n",
      "MAE cb_4: val = 16.214392824138667, test = 15.38813892511716\n",
      "MAE lgb_5: val = 17.285621117753458, test = 16.022352314468307\n",
      "MAE cb_5: val = 16.921300486763236, test = 15.832474776229779\n",
      "MAE lgb_6: val = 17.30698729524876, test = 15.990094879132682\n",
      "MAE cb_6: val = 17.00050797361113, test = 15.914900958471252\n",
      "Q may: lgb = 16.01159902196583, cb = 15.521939589982315\n",
      "Q june: lgb = 15.129798596280848, cb = 14.902491369195355\n"
     ]
    }
   ],
   "source": [
    "# сохраним предсказания моделей на май и июнь\n",
    "stacked_val, stacked_test = [], []\n",
    "score_lgb_val, score_lgb_test = [], []\n",
    "score_cb_val, score_cb_test = [], []\n",
    "for lag in range(1, 7):\n",
    "    # load data\n",
    "    X_train, y_train, X_val, y_val, X_test, y_test = load_model_data_new(lag, 'norm', False)\n",
    "    # load models\n",
    "    model_lgb = lgb.Booster(model_file=PATH_TO_DATA + f'models/lgbm_{lag}')\n",
    "    model_cb = CatBoostRegressor().load_model(PATH_TO_DATA + f'models/catboost_{lag}')\n",
    "    # предсказания\n",
    "    y_val_lgb = model_lgb.predict(X_val)\n",
    "    y_val_cb = model_cb.predict(X_val)\n",
    "    y_test_lgb = model_lgb.predict(X_test)\n",
    "    y_test_cb = model_cb.predict(X_test)\n",
    "    \n",
    "    stacked_val.append(pd.DataFrame({'lgb': y_val_lgb, 'cb': y_val_cb}))\n",
    "    stacked_test.append(pd.DataFrame({'lgb': y_test_lgb, 'cb': y_test_cb}))\n",
    "\n",
    "    score_lgb_val.append(mean_absolute_error(y_val, y_val_lgb))\n",
    "    score_cb_val.append(mean_absolute_error(y_val, y_val_cb))\n",
    "    score_lgb_test.append(mean_absolute_error(y_test, y_test_lgb))\n",
    "    score_cb_test.append(mean_absolute_error(y_test, y_test_cb))\n",
    "\n",
    "    print(f'MAE lgb_{lag}: val = {score_lgb_val[-1]}, test = {score_lgb_test[-1]}')\n",
    "    print(f'MAE cb_{lag}: val = {score_cb_val[-1]}, test = {score_cb_test[-1]}')\n",
    "print(f'Q may: lgb = {sum(score_lgb_val)/6}, cb = {sum(score_cb_val)/6}')\n",
    "print(f'Q june: lgb = {sum(score_lgb_test)/6}, cb = {sum(score_cb_test)/6}')\n"
   ]
  },
  {
   "cell_type": "code",
   "execution_count": null,
   "metadata": {
    "hidden": true,
    "id": "L0FF29URFvKk"
   },
   "outputs": [],
   "source": [
    "with open(PATH_TO_DATA + 'models/stacked.pickle', 'wb') as f:\n",
    "    pickle.dump(stacked, f)\n",
    "with open(PATH_TO_DATA + 'models/stacked_val.pickle', 'wb') as f:\n",
    "    pickle.dump(stacked_val, f)\n",
    "with open(PATH_TO_DATA + 'models/stacked_test.pickle', 'wb') as f:\n",
    "    pickle.dump(stacked_test, f)"
   ]
  },
  {
   "cell_type": "markdown",
   "metadata": {
    "hidden": true,
    "id": "ua6HQDHGFvKl"
   },
   "source": [
    "В предсказаниях имеются отрицательные значения, которые невозможны и мы можем их обнулить. \n",
    "В качестве конечного предсказания возьмем средне арифметическое двух моделей."
   ]
  },
  {
   "cell_type": "code",
   "execution_count": null,
   "metadata": {
    "colab": {
     "base_uri": "https://localhost:8080/"
    },
    "executionInfo": {
     "elapsed": 11128,
     "status": "ok",
     "timestamp": 1625332582625,
     "user": {
      "displayName": "Игорь Ярославович Башук",
      "photoUrl": "",
      "userId": "05144798806300989296"
     },
     "user_tz": -180
    },
    "hidden": true,
    "id": "lbw3RHc8FvKn",
    "outputId": "27714955-395e-4c29-d71b-37d6875194bb"
   },
   "outputs": [
    {
     "name": "stdout",
     "output_type": "stream",
     "text": [
      "Q may = 15.505053814389846\n",
      "Q june = 14.784277841757373\n"
     ]
    }
   ],
   "source": [
    "# with open(PATH_TO_DATA + 'models/stacked.pickle', 'rb') as f:\n",
    "#     stacked = pickle.load(f)\n",
    "# with open(PATH_TO_DATA + 'models/stacked_val.pickle', 'rb') as f:\n",
    "#     stacked_val = pickle.load(f)\n",
    "# with open(PATH_TO_DATA + 'models/stacked_test.pickle', 'rb') as f:\n",
    "#     stacked_test = pickle.load(f)\n",
    "\n",
    "read old kaggle file for 'id' column\n",
    "kaggle = pd.read_csv(PATH_TO_DATA + 'kaggle_yt.csv')\n",
    "\n",
    "val, test = [], []\n",
    "for lag in range(6):\n",
    "    # load data\n",
    "    _, _, _, y_val, X_test, y_test = load_model_data_new(lag+1, 'norm', False)\n",
    "    pred_val = stacked_val[lag].mean(axis=1)\n",
    "    pred_test = stacked_test[lag].mean(axis=1)\n",
    "    pred_val.where(pred_val>=0, 0, inplace=True)\n",
    "    pred_test.where(pred_test>=0, 0, inplace=True)\n",
    "\n",
    "    err_val = mean_absolute_error(y_val, pred_val)\n",
    "    err_test = mean_absolute_error(y_test, pred_test)\n",
    "    val.append(err_val)\n",
    "    test.append(err_test)\n",
    "\n",
    "    # save data for kaggle\n",
    "    X_test['y'] = pred_test.values\n",
    "    X_test.sort_values(['zone', 'tpep_pickup_datetime'], inplace=True)\n",
    "    kaggle.loc[lag::6, 'y'] = X_test['y'].values\n",
    "\n",
    "\n",
    "print(f'Q may = {sum(val)/6}')\n",
    "print(f'Q june = {sum(test)/6}')"
   ]
  },
  {
   "cell_type": "markdown",
   "metadata": {
    "id": "rBfSthtkBzXm"
   },
   "source": [
    "### **\"Переобучите итоговые модели на данных до мая 2016 включительно\"**\n"
   ]
  },
  {
   "cell_type": "code",
   "execution_count": null,
   "metadata": {
    "colab": {
     "base_uri": "https://localhost:8080/"
    },
    "executionInfo": {
     "elapsed": 2324638,
     "status": "ok",
     "timestamp": 1625469821535,
     "user": {
      "displayName": "Игорь Ярославович Башук",
      "photoUrl": "",
      "userId": "05144798806300989296"
     },
     "user_tz": -180
    },
    "id": "NveEPhyhXO0R",
    "outputId": "36e0ce4f-8490-4ffc-d268-da8132e44868"
   },
   "outputs": [
    {
     "name": "stdout",
     "output_type": "stream",
     "text": [
      "0:\tlearn: 172.5275387\ttotal: 49.5ms\tremaining: 11m 28s\n",
      "5000:\tlearn: 10.9105639\ttotal: 2m 32s\tremaining: 4m 31s\n",
      "10000:\tlearn: 9.2174712\ttotal: 5m 7s\tremaining: 2m\n",
      "13919:\tlearn: 8.2826379\ttotal: 7m 9s\tremaining: 0us\n",
      "MAE lgb_1: test = 13.150377580519281, cb_1: test = 12.721133221473213\n",
      "MAE cb_1: test = 12.721133221473213\n",
      "0:\tlearn: 172.5768437\ttotal: 49.6ms\tremaining: 11m 34s\n",
      "5000:\tlearn: 11.7254663\ttotal: 2m 32s\tremaining: 4m 33s\n",
      "10000:\tlearn: 9.7979567\ttotal: 5m 6s\tremaining: 2m 2s\n",
      "13991:\tlearn: 8.7460729\ttotal: 7m 11s\tremaining: 0us\n",
      "MAE lgb_2: test = 14.482887437533916, cb_2: test = 14.038965522803682\n",
      "MAE cb_2: test = 14.038965522803682\n",
      "0:\tlearn: 172.6068281\ttotal: 50.3ms\tremaining: 10m 43s\n",
      "5000:\tlearn: 11.9241704\ttotal: 2m 32s\tremaining: 3m 57s\n",
      "10000:\tlearn: 9.9878614\ttotal: 5m 6s\tremaining: 1m 25s\n",
      "12793:\tlearn: 9.2192083\ttotal: 6m 33s\tremaining: 0us\n",
      "MAE lgb_3: test = 15.13051114880277, cb_3: test = 14.626948851873436\n",
      "MAE cb_3: test = 14.626948851873436\n",
      "0:\tlearn: 172.6280792\ttotal: 49.9ms\tremaining: 9m 57s\n",
      "5000:\tlearn: 12.1083823\ttotal: 2m 32s\tremaining: 3m 32s\n",
      "10000:\tlearn: 10.1438384\ttotal: 5m 6s\tremaining: 1m 1s\n",
      "11993:\tlearn: 9.5765909\ttotal: 6m 8s\tremaining: 0us\n",
      "MAE lgb_4: test = 15.548911041488177, cb_4: test = 15.021841900969422\n",
      "MAE cb_4: test = 15.021841900969422\n",
      "0:\tlearn: 172.6503108\ttotal: 53ms\tremaining: 6m 1s\n",
      "5000:\tlearn: 12.1854031\ttotal: 2m 32s\tremaining: 55.4s\n",
      "6821:\tlearn: 11.3573931\ttotal: 3m 28s\tremaining: 0us\n",
      "MAE lgb_5: test = 16.252389142224434, cb_5: test = 15.337973392089893\n",
      "MAE cb_5: test = 15.337973392089893\n",
      "0:\tlearn: 172.6787784\ttotal: 49.6ms\tremaining: 5m 38s\n",
      "5000:\tlearn: 12.2470582\ttotal: 2m 31s\tremaining: 55.5s\n",
      "6828:\tlearn: 11.4056753\ttotal: 3m 28s\tremaining: 0us\n",
      "MAE lgb_6: test = 15.84439527412527, cb_6: test = 15.55629265007484\n",
      "MAE cb_6: test = 15.55629265007484\n",
      "Q june: lgb = 15.068245270782308, cb = 14.55052592321408\n"
     ]
    }
   ],
   "source": [
    "stacked_test = []\n",
    "score_lgb_test = []\n",
    "score_cb_test = []\n",
    "n_cb = [13920, 13992, 12794, 11994, 6822, 6829]\n",
    "for lag in range(1, 7):\n",
    "    # load data\n",
    "    X_train, y_train, X_val, y_val, X_test, y_test = load_model_data_new(lag, 'norm', False)\n",
    "    cat_features_indices = [4, 5, 50]\n",
    "    columns_cat=['zone', 'holiday']\n",
    "    X = X_train.append(X_val)\n",
    "    y = np.hstack([y_train, y_val])\n",
    "    train_pool = Pool(X, y, cat_features=cat_features_indices)\n",
    "    # load models\n",
    "    model_lgb = lgb.Booster(model_file=PATH_TO_DATA + f'models/lgbm_{lag}')\n",
    "    model_cb = CatBoostRegressor().load_model(PATH_TO_DATA + f'models/catboost_{lag}')\n",
    "\n",
    "    # refit LightGBM\n",
    "    model_lgb_refit = model_lgb.refit(X_val, y_val, columns_cat)\n",
    "\n",
    "    # refit CatBoost\n",
    "    param = model_cb.get_params()\n",
    "    del model_cb\n",
    "    \n",
    "    model_cb_refit = CatBoostRegressor(**param)\n",
    "    model_cb_refit.set_params(iterations=n_cb[lag-1])\n",
    "    model_cb_refit.fit(train_pool)\n",
    "    # predictions\n",
    "    y_test_lgb = model_lgb_refit.predict(X_test)\n",
    "    y_test_cb = model_cb_refit.predict(X_test)\n",
    "    \n",
    "    stacked_test.append(pd.DataFrame({'lgb': y_test_lgb, 'cb': y_test_cb}))\n",
    "    # \n",
    "    score_lgb_test.append(mean_absolute_error(y_test, y_test_lgb))\n",
    "    score_cb_test.append(mean_absolute_error(y_test, y_test_cb))\n",
    "\n",
    "    print(f'MAE lgb_{lag}: test = {score_lgb_test[-1]}, cb_{lag}: test = {score_cb_test[-1]}')\n",
    "    print(f'MAE cb_{lag}: test = {score_cb_test[-1]}') # забыл убрать\n",
    "\n",
    "print(f'Q june: lgb = {sum(score_lgb_test)/6}, cb = {sum(score_cb_test)/6}')"
   ]
  },
  {
   "cell_type": "code",
   "execution_count": null,
   "metadata": {
    "colab": {
     "base_uri": "https://localhost:8080/"
    },
    "executionInfo": {
     "elapsed": 8908,
     "status": "ok",
     "timestamp": 1625469911747,
     "user": {
      "displayName": "Игорь Ярославович Башук",
      "photoUrl": "",
      "userId": "05144798806300989296"
     },
     "user_tz": -180
    },
    "id": "vT7j4xlnXO0R",
    "outputId": "9a3ae68e-60e8-4ba3-ad37-d00fc8d71b4b"
   },
   "outputs": [
    {
     "name": "stdout",
     "output_type": "stream",
     "text": [
      "Q june = 14.478979373038039\n"
     ]
    }
   ],
   "source": [
    "kaggle = pd.read_csv(PATH_TO_DATA + 'kaggle_yt.csv')\n",
    "\n",
    "val, test = [], []\n",
    "for lag in range(6):\n",
    "    # load data\n",
    "    _, _, _, y_val, X_test, y_test = load_model_data_new(lag+1, 'norm', False)\n",
    "    # усредняем\n",
    "    pred_test = stacked_test[lag].mean(axis=1)\n",
    "    # обнуляем отрицательные значения\n",
    "    pred_test.where(pred_test>=0, 0, inplace=True)\n",
    "\n",
    "    err_test = mean_absolute_error(y_test, pred_test)\n",
    "    test.append(err_test)\n",
    "\n",
    "    # save data for kaggle\n",
    "    X_test['y'] = pred_test.values\n",
    "    X_test.sort_values(['zone', 'tpep_pickup_datetime'], inplace=True)\n",
    "    kaggle.loc[lag::6, 'y'] = X_test['y'].values\n",
    "\n",
    "\n",
    "print(f'Q june = {sum(test)/6}')"
   ]
  },
  {
   "cell_type": "code",
   "execution_count": null,
   "metadata": {
    "id": "6Jmb9vf3TuJp"
   },
   "outputs": [],
   "source": [
    "kaggle.to_csv(PATH_TO_DATA + 'kaggle_yt_week6_refit.csv', index=False)"
   ]
  },
  {
   "cell_type": "markdown",
   "metadata": {
    "id": "-VUboM9wMb3S"
   },
   "source": [
    "### Final"
   ]
  },
  {
   "cell_type": "markdown",
   "metadata": {
    "id": "Mo-_IMruk40F"
   },
   "source": [
    "![image.png](data:image/png;base64,iVBORw0KGgoAAAANSUhEUgAAA8EAAAGkCAYAAAAR7ifAAAAgAElEQVR4Aey9b3NdxZU3Kn0U8Q1yPwLzzvPuvojBBjtV3Hc8NZl7TaixDdgGcSdDnGHmGXsIM6pJCIg4eaJASAQOxDEYMAw4MiRGMcHIIdiWY10QBaY0hXhq3fr91lq9V/fZ54+O9pHkYbvKdXTO3rt79Vq/Xn+7e49J+6/lQMuBlgMtB1oOtBxoOdByoOVAy4GWAy0HWg58RTgw9hUZZzvMlgMtB1oOtBxoOdByoOVAy4GWAy0HWg60HGg5IG0Q3IKg5UDLgZYDLQdaDrQcaDnQcqDlQMuBlgMtB74yHGiD4K+MqNuBthxoOdByoOVAy4GWAy0HWg60HGg50HKg5UAbBLcYaDnQcqDlQMuBlgMtB1oOtBxoOdByoOVAy4GvDAfGFi7+ScZ2P8j/49/Qz/Z7yw9goMVDOx9cF7R4aOdDqw9afdDqgwoD7XyoeNHah9Y+tPOhnQ9bwT4gpl3LvywIjgNo/84B3fKj5UeLgRYDLQZaDLQYaDHQYqDFQIuBFgMtBrYeBoYKgsetEuwCbb/ngm350fLD5wY+Wzy0eGjxUGGgnQ8VL1r90OrHdj6086G1DxUG2vlQ8aK1D6O3D0MFwXHCtn/ngG350fKjxUCLgRYDLQZaDLQYaDHQYqDFQIuBFgNbFwPrCoLbNf25YFt+tPyIyq7FQ4uHFg8VBtr5UPECuGj50fKj1Q8VBtr5UPGi1Q+tfmznw8bMh3UFwVGBt3/nAmv50fKjxUCLgRYDLQZaDLQYaDHQYqDFQIuBFgNbDwNDBcHtmv1ckC0/Wn5E5dbiocVDi4cKA+18qHgBXLT8aPnR6ocKA+18qHjR6odWP7bzYWPnw1BBcFTg7d+5wFp+tPxoMdBioMVAi4EWAy0GWgy0GGgx0GKgxcDWxcC6guB2zXou2JYfLT+ismvx0OKhxUOFgXY+VLwALlp+tPxo9UOFgXY+VLxo9UOrH9v5sDHzYcggeFLGduN/TuTmfp+UsV1bjaYB+AOatxLdW42etWCMfNxCGLhhebnF5vdWk+ugmNxq8t9q9AzCx0TzFpvXW87+dbE1iX9drg8igybv2Wr0DDy2LWangb8bmZdbav5sMXt3o2LyRsUj6N5KeEz0bCGbNwgmt5r8B6RnqCB4/PaDMrbjPhm7/X4q4k1dw75rUsZBB+jZeZCB+abSs5Y9X7c/QLrHbzsoY7seSEmFTaMfoNl5UMZ3Htga9NjEG4gf4B/4eNshGS8U2kDPh0neyP2k55Dyk0qtckIbab9per29XQ/I+O2HlJeGyc2jF47eAzKOec25rUZh8+hRGQ7UP3hHug/IuPHRk4QDPe/yWIs+sWdq2yceVW+PQ+803f6o2qM+uk/xaPO6dnyj6j/j/yRt3vhOtzVbHI/QOzvuky1jXyA/ty8Bg5snz0Hns9I9Brt4+/1bwL5M0s6RntsO3lh7zN2+QDduun15UP1X+I+gB5/ZfB8UH5Vt37DnMbeNbvq/wcfYlPnk9mXnfXJD2RfED/AbbW4jsbQp/HP7xXjm0NaJrwadD8TiAdXvW8X/dv+rDz1DBcFj2/dJ+n8bAqZNylig39sOydgt+yt6CoczOntb6m/QDmfKeYkgnrRvBi812Bi79d5Az4GtlR1zJVH3SV4ekLHte2Xsln3K103DgRknyBOyBTYxGYuJuKWwGHka59OtVaJrw+n1uU1M7pWx7c7H3OHYcLoir7r+bU4zaAYGMAbwFWPq+swIx4W54HgEPUxybRItax3/LffovHa6N2seEY8HzdYYHjdNxwyIFegd8A16ccc9MrZLnfwNxyB4BydpR7Qv923OXFgr/nA/+OZ8hD5n0nqz5g90C2wddMte1S1bHYeR59CDUS8y8NwkXoJv4KX7j9CRm6VfIo8G+Rt8uxW6ET7GPZtoX8x3vFHtCxL+tDHmq222nU5zG37DPTcOHil/2MV96mtQJ23GvHZbE/wGyLjHnBouCKbS2CvjbhjAAGT4vpEb55F+Z4UIxsAD8r0yDrqoVJWOkfaPDMl6xouMDwFvwNm+V8YBekxCU8Tran9Q+uigHOKES/IEH1FBWM/4Bu0/gHP4/jShkNF/6726QiAYteHbHxBPGAvkZ4Gb0lMFHSPvvwl5wXGO8xsGAkoEeG2i/YHkrY7e+K3m6NkcZ8Z2I+U59HiNfuOjOyqssAeHdeT8zPC4r9LX0DsbKs8B508dv5HUMjszDufZbA2M2sj5l+gxebq9czwWQeXG0TMgPxkER/sC+7gZ9kUd9qSfwT/o58TfAcezWfczCA7+jtvHIqk12vFM6ooSOpuqF8lP+AymU0bbf0PzbavYF/iP5GXQL0G3bKx+GQL/WJGQEsQYw35dMbVp9iXMD9qXDY4HhrUH8NeivwMbs+H0+4q3UBTzeGAj5Tm0fsWKo3sr/4L6/R71v4OOHLl+or9T+K9IFGLlcg98DBcEmxMQA1BmLTYkq+eRfsgqY6BOUwiCe0X/Y09elGWxf1fe0kxB/O3zi7InOOw92xrqPg3c3MFL9GMcMBTB2W++b1W6NJ7Iantm1nmITxiEjaBhKN4Z/f4sFAUTCpVBIz89qRAm4sh4CV6BlzHwcX6CthuClzaGEg/MNGP52gZk9iBLYC8FP5CpVfjB3xuFj8SjVYKTfqoM7Ohw6HPDV8mEjOiNiEfiIOh3jAHzGnp+o/CIFRHOO34aHosgePQyddkO+Jl0YsG/jdJHmMtYKUad6LrZ5jOqwq6/t/on5FynjxCEcFn3iPUicM7kqlX+kj6xubDVcRjli3Fkcwl42EC9CF4iEcQA0jFp8wO/haBjS+MT+g960PWR8xRze0PGAP+1m79zA/mOKQh2LLh+2qCVmR1z2/qHPEOCa0tjET5ZXOXj+gl6H/zdCDtN/9uLooW9o9/Y3WYOFQSz4krHFE7ePVUGgIPGHpXcKAyzxn7P/IpGqF+uysqnSzJ7/GmZ4EAPasV3+6ycuO5RrMjyuVk1ttyz86CM3f20HH57SZZXVu2mFTnxpDKC9MSAt08QPAz9EbS1zwMYdFKQQduvSzIsgCJ/mZVUPtY+HwzLUNehKM1JShXLsn+T41Dtr5e+NT0fEwr7DB+m1G6pyZCGtiGndY8Pstzhzp6tSAiBJPe0BkWw7v6apj+1p4Ytn99WQbS5DQM7Gvp9Sf59Jj8EGtAv+3V+wChYEDya/isluf72bW7H+eROyvZ9wj2ldFRGNb9r+ueSL6sgwXm5UfB4i1ewbbkaMuTkpVU1UdFO+A36Pfw23HVLtt5S2Lf0fV9aXjxc+03irWor02eQs/ML8nc80sGqHP6R0J/si8sL8kPi2r4j4DAZjaT/dcu/4um4VYI14Nhf6SfwEXiwlTIjGQ/0bUquqk1T/WwJtlvvEdLX5HhDWxmempAX9oQbDj05kvyPnYrJJvxHl0VOf2HfaKPdvmDLgPdfyT5/Xn/fEnhlEGzzyeykB8RqX7D1YUT2hXMbiWqzJ/j0/5jfRSC+JfgVMJ3RgzNkbBy6LBp4sEAUOmqkZ8zU4BH+qtNjQXBGbxP+auBFM/jOg+Bx+hrmf9Pfqfb/N9NfMT+Bx5TUMv870bBXeIZVGHPJz6GC4JTJY0YeBBQZKU6CPBDG4NfyPwXBKc5dlfmXpi0ji0j/WTnxebooy+ee1awYK8HHZOqKB79+TxUEk441BMFroXvgexkEe4XBMiapAuaZSVQ8cIjN+niZ0+R7OFSBumFnEMfMnoH3hqwEI3C6RzOUoJ/KzMaD/dcMPNaGw5x35bPmKKdKkQVu6NsSDLpHeRP3za9p3sVKMJaeHtD/IaDnb+Rjg5jEXCgrHUmOnt3bwBUSa+JZiQl8tyCUyS2jG3igcTMDC4crLE3tjbO6Pup+Ax5RSfdVMlaxBB5jxrsB/dwMvXVjiL9NVvoeNoYY8bH5vB5B5cPxmPSH6RX0T71i+nmrV+BcByFhDbuYMBjtS+UsNyNT04nYg+wVAcwD6BJg0x1MYHTd8yxiZYR/MwgOdpFzyX0e/D6ifcIMNoL+A+/g7MFOc45jT/Am7vUeRn7gHTFgWxsSJk0v+jwPSbpGcAJeYu7GlSXk5YHKf8X3xn2EEeEyVoLhfwAT0Q/H3yOxL6hAuw6O/g6qwjYnRuJrjYiPnMuWUAIWkXCKfITNBm+bxgXndg0euUrB+Ag6mu53mDnb9xkPgg0PGAPtpOlM2AHoq8bH4v6362LrH/KinjE7N4pKcMoAYTKQQWBCqOBQWd/XeSrqmtecT8kdL1yqli1/cVkOf9MGeuvxIgie1QzK7ffLza+lhc6ycvW87Pn2UdI58jXpaxlf3BOMieYVNgiQysQy5vgbCq+JPXyQFcBBJRbax29oH/3QcVcDtaX41WNNvwYd92kGL/HLThXGeMzx4h4ajNEzpGuRV9m/8ysoTO7phvwYBHnG+0bdE7zfTpWtltVmGdLbcQp3bpiGwguNgS6rShUB4BMZWMgnOEk35p7gfeqMAC80uFDYlkHHnmerbkOPDsU/lwHxGA75QEbeDTjwyD1k2i95ivvXg//10jvo874MFRUvjAN4MQOb8Ijvtze0By21HyqYwCP0M/gVjHtHBW6r8RO6yANRyB/0JQz6+EJFfb30075USyQpH+hj9Al5g7dOz424JxjzCfLHOIGHgAXYmI4K2ND8tPnK9s2R455PS/iAj+Af/awqCL4h5jP9G+ihYF9gk7nCwvST6a1G7At1hr49hCvugD+T4zgCbfTt/hD4Dd6aTt3S/Ix7gpFgAh7TWIJ9cX9kUH3r9qS8v5+/A3tNX2iv2mzXl93aK9vfrO/Uh8Yv8AqY8PkFnDhecOp1wMa67DXawR7a2D7ip9Q3fAQ7Iyj0uXXxqEGw6nuNZRhP0P6Ah5rgIj5CYmZd43F/J/r3tDV2+CNOzbd+R7snGKBPIA/Vj2ToqgCuui93nHv/rkpq//mqqrt45md6+u/uF4og2CvBv5HTtpJaZFlmHl5Lfxt5L/hl1UpMhgD2SjF7JqWJTLMFM+aAE5iQnzkolMNtFgQDPDT2DVb7Ek5GwGPwDsES6PYgGP1BqSSnz3gJXgfD0Bt/XWhFf8USNRrSjJd+MqsFwTDGo+RBI22DX7ZHHHzyDFoHH+FIADvrzJCCj4Ujye9MVBjvk1yr5dA3BB9JtxkA8tHk746KB3fALO4Fj4eVIZ6N/aV5UB2CRJ1Co3uD4dErN9BVriN9vD4e2Bs4suDtuvgIZ1kdEDXc0IOFbPCdjlG1HHpouQ0r70Gf87kDeuOcAh/p+Lt9sbnl/B20/ew+x6A6PKy4QWZlv8Am6LnRKsE+XyF/H7fjMDliwItXPIacz2gTdiTKB7rWHXT0Tb1p1TjOC3P8nK6t/ImxUT/BvoSzMlwvOj7A7/VWFGt5afuP3R6zX6skgefrmgNd/IVRyCOjG8F7D/tSBPcJv4PSBZ7AhgGHlI+tSIAsvV/87dchN+fvoH1s1n2k2+x0Zoe1sOcJa4476bN1zO0oN/Ky8EfBa/SDa5zbVVJmzXLbMJ56Jdi2LMU5FHHh443+0DA0ov1k28yG0f4HXqFfxyr76z43h1oOnTIY6BgZnDgQVIg4GUIGE9G/T5by/m7fcT8AgzXyj5yXxbSq+UO5h/39ugiCdU/wxPPpTpErb8lEt/Z3Pyhfe/yczH20IitfWuNfrsryR77/uGJaNb63ZN7p6Pvpy69zOvs9Nn/K+ElB3ydje38mR85ek8XrVSJAvliV5SsX5PAjVuGO/E/jPSo7jl+Q+U/DcxjftQ9k+vtHzGlU0KTxgd/I0MK5hOI8tdSP3Op6OEgM7U088rrMXgm8xZ09+ZvzFnzQSX9U/serS7LsMvr8otwVx3vwuEwvfCbLX1SkyBcrsrhwXiadP654btkve86lDImI0ZzGv/uYzGRDXpKpxE+jBxnOYgKOw/FBH0YX24PTYk76jbknuAqCE3+Mj2n+Y3w78R7c3Cik+yM/gsxY0UNb4JvvEYTCohEq9hyjfQ92THn2b9+xo58bf78FBC7/kP2kvgS/ML943SpyyVFZ4x5X4jFf+k88BkPE8YPf3l90qEt8b6nvuhw6VbzMseJ4aB/U8UoZX4yP700dBo81p4TCkJb8QMbejasth954fA2Ib8jZ51epn8A/S8Im/lkAt+bxOJ59hQPkwIBC5ZDaAyadHvMdOvhb8nsrfPc9wRgX5B90GfwarvBIgTBWYHhyuRh/V33o8oRMfAUR/CfwseaUVfAR/AMOb9g9wW5fgr4zHGX25VavwFVzOuN/N3yARwzcfI9nFbhlz2cVVVvxEeXbrf1wT9beRt1PW2z20yrBlf9hc9v1PXHiPkrgd1882ooH6hGv6O2TWn8nBTs38J5gs4uVPH0+hsRo3XwMWOiqz9xe8YwTTxSqnsj2wMOeMwj2rQ6FP7RR+ApjqvjRzZ/Kg+COirnrq4hH+jtr1Y++Akdx70EuV+Sgj4hnzH3a6Y3YExyY5URw749nM9xhMAc33VP3nP8GwKRBADBTMn21CnLmXkDwlweXuif4sSyI0fuwvKFSoNr/UbnzjWUJ4VDVuP21/MEZ2eb0pM88UOt4KPth+CDYeTRx7D1ZjMFd1j6+rMrCG8cZ6Psz+nlMDl/oNbpVWZx7ofM5VIIJVKsEDxkETxwLJ2930Kx0z586lkCrNOe89SB44ueXcjmFYBv9LHpwXNfPl9flxDFNFDDDe+t9RRD8vuwJe65vfnEp70s0CCZ9VGJV4KYTDE6RLVFLGDGHxvHLjHZRTSrv3TLffd7B4HmG0h00+4SygQIzh1cdMXuf8EDZX+sjJsrcaeyYp7YcOumQ8nRozOtybhf0bgRvO+iG8UTFEAeGdKlg4xncY4ZB+WjOc0d7NWPCPdn+X8uIdtOzKQj2ZEPJt/J7TZ8j5WWdLIs9wcHQJX1HZ9ArFFih4OOrjGK6t5Z+dXTcYPITeAxBY/a8V4KByY49wXVj2CA+1mGGGDSHq248jkHOZbuPgXC1ZSQbewf/4nJSex54JgZr8AT5mWNSWwmuG0NHn6PmZx3d/p5gWxnQQRP4gOotDh8zPiT9WdNex/NW3aU+8OctaOvAWKwEu6NcJWBVXpuIw7qxxd9ShcZw0qG/bT5G+wC+4rlB8QGcJeyDn1ahr5sDUX8wcTOo3hg1Dvu0n9GdL+MmBji3vXprBak18THfeqLz1vBfp4dTENytgj/gPIhYafzvmnlBukMluAOPvoXQbQzwZAmcOj7U0Yz7aDcMi8AjZFGHR/SPa35PRx81Y6jrc5S/dcxDD4Jtq0EHza6zqsS/jm8Nq7fQZ8J8VWDtamuoZ+w++OIlP8IYhqoEu+PGPZah8WyNNzIadJZd8MgQ+WTVCZHdjwwH9tAkwPieJQ3IJo4vVgHKF0sy/UgZBD8v/+ONj6t7UDGEAQEzWImu9oz1D9I0olo8+8uMeePfyAO1urir+s2C4F35su3qev1fHvyNPfSWzPcMgP35VZl/cZp0Oj+3vVrtifa7Oj9XZe5XFiCaDHVPsC1pQMZ7jUHwXdwD9UuZ/aTqbeHMcfkaKsPffkVOfFb9jiqs3u/KPuctK+LfOCpTV8Iz+BNBMCbDQ2cH48/KJZm8W/tAxXLPOyE5cP192ePK6FuvyOn/KvpKQbAGbilDBwWVTp2ulLvznxMuZfQrw5H2NALjyEBTWXR53udDt/m13uuYn+Aj5gjowHcoYGRDGZjZnq1gFKrxaQCXvce3LkNa7omjYa4CP2b8nf/dxkPHUI0U9wQbraCb9EPBGR8r+kzeZf+j+A4eUseYPF2m2EPkCSWrBHfQB9mCfjN6rMjhGRtTx/2J/ho8xj12Pp/T/Q8q3vy9ywxSHlD8gV6O4aDhYRPwCFyggpvwqA7Y+G4PmqziFbCIOVbxB46D89sdvpoKUuQHnkf7yUbZHupYwSzvx/d0/z6jF3MH9BoeMX+Mzoq+UeLRnAPoG/LP6fEVK8YP3xNcp0/wXDr12hyZ2/GWB9fNNfT7nizHuO9h6zV+YA1Loeng3Vvt8TYM8pTlsGpiY/hXjXEcSSXMPcMh9bPPD4wPY4X86+YX8IR7cUgReRLuN4erfjxVsJEq8tZPxwobxyP7sT3BnrCB/nZawUPMJ+u3K73eXrfxDH1dMUk8Jkyu0b6kPabmPwKf0LMYYzd68Tuuc466/1glqmv5D/pYVd+r/iq+Y/5m/GzoTJZh+Endgjld2JfEH2wt0ER8/fiqpfVrsy/Y4xsqbv38nYwe9fOz+ZP0+ybYF8NF0i/m85C+5O8gPrE9wXX4Ah6C7ocOG+gMAOJRV23o/NZ4hviqwwPupz9ge4IjHvE39ZPOg1p5G+25fazR35n9HPA62oZu4f+IR12ZkvBlc7SWvshv86NV3/Y6o8T8A9OrWlywFTLdxgu8oX3YG2y78PkM2sBHt5e7H5ThguBkyOKe4MqYuJKic8CMXLWUggKGMiscGn4HcbZEkoaS2VSvovWv3qYQ5vMrcuR/HrasszGCxgsTcDqrKsunl+TI1BQV68S3fy0zV8Py4ZVLsj8weWx3Z6CWxor74onTYkEwxkRheDLgzWxJ9fxJ/A7H1xQ8hLTrAdn/bqBDVmXxnTfljv3IEB2RO567kFeIMzpfDHuiRVYWz8me+79DRf+1f3tDTn+auCRy9ZzcnJSsOQAOHBhXKEFz0DGGuqXE2fhLHoSqLe6byILzUGUlj2t4+9A5WXBykfg48rDxcq/ccTYOBBXx5+Tmb+6TsX1PyZH3QqArIvOnqmA/O3UcQbBNxCw49j4RBEMeSN4ww28yBE+I4RrMO16grFzuuB/4wycz3KEd4MOf2ahPjInzzOiAcqGsjUbyJGR0cT8dA8wfN2JQTFb98HGiHVM4+ZjM0ctO0a6MQXUv7rP/5ohkGVTy0XiYyWOT9nJBdrFiAT6ARvAyyhlYSHyrwUzSeyYPtGOBasdzxKMnEiKO6nRq6Iu0mh7uoNECE/RbV3kaNS4xN6I8oQ+JR3UeaMjAz6gjEx59jJqY8QCEcw/jhMEuggEPWivdZoEfee74hkPteDT8p8q7B3KQNXRysG/gYbI1TtsIP4EH9Bn/gybM74TBYk9wnTyBD44FbVlFPc3lwBM8iz6jfkPfkBfaqGvbf0u0Gr8p41hhQd84qKtPO95eo59IpAS8YUzUiy5j4zH46quHMB7HiNOC3xCU0GELz3BelXys06G2/zfqC+LXdCh5XwU2CeegPfVp8gOeYztO40g/PZFqY3c+gm/Q/44xtxW96AMOop0CNpJeLOdU5KXNT+qMPLDpwGfEPe6nnc79HvK1n70fBU8h96yCqMvjiVPyxfW5V9QiHgPWqLfyLTNd+Qh8gccJS2bTqHu9TXwG3UhMevLc7gd9Uf9QP5mfOwpe9WsTciUNhkuMD1h0POJaqf/LNiGPkjcYJ/WV88ZxaXgkD9y+2uo6zme/r/gELyNNriOjPKCf+9Fa0t7Ed54ZBP75eKK/E2wgA3WNYzr0I+jgnHNda/LgeKoEV5qn4EcpO/AEv/uYSv0IvKM9lzflXOhHv7ZrcrggOEXYIIYZ9VyQHRlkVzQUpGVIQSQy8XzeFScYiQyeARTPIeOMAOqx87IwUGVUI5jl91+Tbd4fBgxGYOLeHQIrBKrHij3N5fXH4/WaQC2OvyMIxkQIGQkyvgyCPWMJo6uTcnznS3kge+FlmYDQDTzISE/MfFBVvUVk7rgpph/Fpcgfy/Q3sYcDr0hRXo5l15dkChVfGtDiPZIJ6CaPHkFwh7wdnPbp17/WJQjW6wVvX31ajnxQJQIW3/5FSpCMb/+xzMZi98XXZMLpRcb4rjdlbmVFFj+8KNO/+KX8lVWCgbUsCP58gUFwtuc8BcD4Y0mmYoUJeAK/4gSM8o/jLTNeTp/vicN3tAd8dOGXT/LGr/t8JB4df67YwnfQhwov8EMM6dHzqeKE+YQMcOaoFO/BRQau7M/4SDzzumEb92EPMPrCfMV9yLganarUnD53sqBPLNiJ/A88bZx/3jbojRU0BkNOn/MTFcM8QK2lB5iCTkTG3ccLvoK/7nBYEKYVZsPPoHgkra5fc0OW+kO/dad++3hHxV/onzQ/IG+lM5e3B04Rj6h4HRJW8Dgn1Y7kZ1Lss1POzWj6Hk7DFu0N/vYqgOMR+hKO344Dqh8THkv54rviNNELuUFmo+JXlAcqvI4Xo6OWf5B/X3rUyUv4Qrs4hRjPuqOB/jjfHd94D7tm2vu3r5Xgil6dw9qfz2ersIcx1s6Xpq8DP4ZDpQ/01M0X81+AB/AB+ABOgBfMT684lPrfdZT5M1Uiwec77L++/iivoB1S/FIHa3CWySfakyR/4yVX3q1xD2g3ezYovzE+jD3N57r5Yry15GBP+YKfbK+aY9WeVJ1jrHhHfmM+Qz6G+Z7tA8+Z/qmhl/qhSij0bG+9/Mue17Mj8vnShb6Ex/uUX+AHxo/xAdv4m4GB480Op8N1ty9I1MCeUDdifpv95/y3oAb3e1vAF/QDAz2fvzX0uX5Cu/R3Kt0InTF6foYlxh5f1OETPPP52Q3vyX548tMqtiHRrXj0RELQF+Rjn/kIvEOWHfQV+gi8Nxszev5ZfAc/JvPHeuhHxjLQj4ZH6EjoR7zFAbYEvKAdCf4dxoTrjkfcA/8z4sfPCCCmkYy9X8ahe4Ft8xt74zH0h3Z3PTBcEJwEBGElsHgFJw+I03UQDSLTnhk1sDQe+D0NFL/7smlrq1wajKrgv+bLjJfPPS93vvFxFsIsv3NcJrw/0ArmZ4Fqdnvtl7Q8meMsArV0eJPRmbWNSrBlgxzQAMaO3xaV4Eq5J75+/0L1WihZldMzlrECX5AZ5CQ5mQXKy79/VrPzL16rHUf9jyty4jFMLndoYIhtskFhOZBhJG69Z7BKcMLDUbn5P16RqTcuytyV6/nBVSSmdyU4o/eLq3L4W+6kgL48kbBwyqv+cJQ9M3/zw2gAACAASURBVGeVHJ9QRlceBF+UPTufkJnEslWZ+1PE0DWZSrisydCnsdZgvqyUkJeQY8hI0Sjo4TtpnvRqs6lrplwod9AAPOE/aMR3jhl89v+OD/+sEjac05zXueKmgoNRscAuzW+0CR4Qx8BV4EfCofcDeToNwGPAJPs0WkE3A80aOTTFs7p2oNjRN+imfG08nJ+g2+gPBrKnnKGfUpv+vOEOv2ftDoBHBi7GE8g8ypb0WuWDY7D+NoOPaVyoogYeUt6QcYnJgA/HqPMfuIr2hNfh8MHAHjJH0DFl8sG1hEd3bowf/nzqx581PFI3As8hkMd4zEHpKe86TK31N8jV5w36zcbhtBaVYOAiYqPsM8Ma2lDnldVfYsj4D57j3q5tWWLW24cPEPlJei3B5qdyY76jTX9moz5BW4ZDdfBpTzhm1zXOU3yWOHRdGvSb+x+OH+hD4JAYLZ6P9j3S0tGP0xB1otkWcyzJZ/SxUThMcrJqmcsZvMNYgBXOZ+dbsSc4YTIPkIgDXIMOjXoKbeI34J+8tHbZX+E/Jtpq7EOyhcZT0hjsYZRbV5zXtNurz0Gvob+IE9dx5IPpxWQfna/Fp/MfuEBb0Fc+JtqnLvYF96AfPpMnpTtx7zjGMwUm0W+SW5fzMQblx7D3gY+cT6bvXWcTl+Cj0Y+5Oeh8IW4wtsDvbG7b77gOHkK/dKU/Yt5p9efN5wEf6SvZ7+hro/HIOWj9g3cdfAStuO7/HRf+adjAs+CJJVES/yEHtAn9yL7c7tvzuIZx+4qShCtv3z+9/4BH0ot+Ix73ricIVkZke4KRkffskwGpY004QIB7SLxnjKqBMgMVgKjPH5XDoSKIw6DmnvsnGdv5q47TocdveSw7GEtQ6f0hnBo43njPZLlkOQu1ar/EILjcEzz/cq78xjuCYNvzZ6Agf8ol1S9ZoIAMB4QL3vzw/RAEI1DViZoyImxvVk5cr0jGwWDk38m/VD/2/Qv8ccNtFRbwHxOcGUR3lrTCcldxsnK+p9f36B2VHScu5cu1a+lYkqlsT0SeYKgeWZHT/2tKM+yYOFTcZ/JEwkvIGJXvCbb3HuMZTChk2L5RVoIvyuTJcBjW5TNyc8Y/C4Ix+ViRK+Sd0e/jt3uyPcF6cBQzYFCG4DEykuk9sfpMx3zp1T4yqMNeN8NPPLmCBn+QqYMDijmKDB6u0VBoYKAZYlMsWUbQ9AFx6YrIMqCGfY63vJ6+qw7Q9k3po8JKpxDKEi+xLyp+oDfhQYPgoflhxmnNz4OProhRwYbeg2Ey5yXxi4Flrz0vhfzNwOrzMNxx/lsSARXbrvL3PXm2xQLjw3z2PcHgGysAjlVdOkQ8kNaCnmH505W+on3ML8wHjJPOAnjoexy12guD2RuPbk8C/hK+DJ/GRzXSPe7nffusIlIZbvYP3pmdqyrQukQ4yQuGdvca5L0e/gIrNk5WZK0tYJBncLiDB3lDHuAv9CH0U+HwZXgC/zH/2HbBP/DHzwDw/kp9RH1iSQdz1nSPt8nH7TGftwq+94Uxle2N+jvHawkt6Dx8d36BHugf8A3yN0dK55Phg/pQ52mSR4k//244zO15HR5VL3pgwQqRO5CxAg2ZegULtJpO0jNYKgc7k++o+AlZu33DeDG3SZ/ZF+psjCucOUF9eUBXFDABojTn9Jo9R3vOP3zyb/dHff9v3fNd7CX45foHn+YrkJ+gxfugfjd9uZ752m2+1MkD95Jf5r+CVuMl9TfoIx41uCU+nF7gMfGmi33O8FhUyLIVBvF5t//71Z4Aa+Ab/C/oRdONnD8+VvDU3zqCv7vFB4PaizXzXwNLzjfQyxUbqMiq3kl4Au2mqwbSP5AF+E8+1/g7+B1t9hov2oDN9ffc4zvmOP3DPMnIir7LFPbQ+btmfhT2d9Dnbw9b/Gg/rNAEnsG+0Hf0iuy9WtEGvUZz83gM+hH4gn9D/agJH+IRNNmcSfzinDJ9O3wlGJNCJ2bKbrhw8BmAnq5HgSXFY+0wsMkFnp7LAksRWX5X7uD9zxZBsL4neOLpD7NlwnLtHdmG+zFRIaysvesy+2iu2FK/kd70dx6oxQCZz2VtF5VgZEhgHMogOFaTQR8E9r33qldCoRL8M88CqfEg728pKsG/e0ZlcjKVNUW+vCyHqegqR458AAgssAB42WfhEGV8AF23HRqoEtxxmjNE9tGSnH77LZk8G9cwr6ESLKsyf+pHZqyAmaIS/J+PawUEY6WSgxNV7KeB43L7/cVy6GVZSNuHl2XmO/fKWOSfXONyceXPWnCSJz9U7uaMgJfIgJFWzJVNqHrE+QcsAHMJ48U4TYEQJ1HJeUaN8x748rmMTw9E/Lfyu2foLOOOuYkKFgwG+jAjFQ1SJ30wbJbVpsw3gY+gFX1jvJhPkY90BE1J99OHdbwHTqis0UbgH/jea98u8eWJRmShjS7I3HU0fovzHXh0+YUguJPnBTbq6B7mNxp9YMWD4B79YHzgM8YT8QgsQBZD4dH0I54NQQbtmOtH9NtzbJNKf7KL/e7vMcae/RTPgT7HB/ASnyUGbT7iPlwDz/x+BLkRs/FZ/E0shb1VtCWw+3iux/jQJjDm9ztd+J2/Fe8JZj/BwQKNJS2j/g7aHIf47DU+5w2ThnrIilbgQ9LQceg8yD7DfPbfOf8ch1VgoXbaD+vSYLcnbZAz54FXoHrIaRQ8LTFDfRXsC/Fn+t/fE4zfXDeB9hA4dOAAPAee/H7nH+Y/2uknt3LM4FeSe7HXMNJF/b4JvKQNsFPAe+pm14t5Ipu8wvhop8wegWeu78m/bng0nQxeY4Ud7bQlAcEb8A7zph/PIU+X1zC2sJTZWr+DvsxXKPDotA0jY+I92NuExy7xTKIdPnUN9qIegszw3Z/B36TV/Y0NxiNk53iBTHvK3fAImndWhRVd6VWDR+ebt599j3g1HQl5Eo/Bb0Rf/N+HLzG5O2wQnPYcgQhksCAk/G0CYsQPQHkGxIVon7wfxHKZGyJyHIZRCTtF7LuPypEPqpog/pp77iHNcN36XBEE63uCx25/JjudGJXj0z/2gH1Sxh46Xx22JCILbxzrzKjU0YvfHr0QglPsw1WHJNFbGwT7nmAEwcgKdQbS6fnEn9dlLrz6Z+XCK7YnWBUcMtITP/tzFuzPzZoiy/YKr8rpp/6pOjUU8vCMcRhjZ/+5o+UZs24HY8Xnpz4M8vr8kuw/GPZ8ZKdNV0GwPl/yZUrueDVUab9ckqm/94rRM3Iinov1wZsyQWOByYJT434oM1c1+D5x6kX5v3AwGBw/LOmOp0MHUnkSOJR6tpz8Gg/GiuNLeO/Hv6D4mZFyhcEKjVaCOV82e08wKr4xIPL53G98GA/+I4MJvmG8mPN1e4SgF2CIISNWMKJTN+R78KA/4GCxgpgvhx5KXv3GW3cd4/Y9waW+w3czrgPtCa5rH3KJe7QQrKJCFe7N8Ah5xPvRv1eoSasG1BkeIW/Q6kZnM/cEg95e47Nx144/4tH3CNlyq3E4cB74OV6AR1z3ihoTL2pEa9sPPK+9DjxS3jhldpP2BBODQd9iTnpFB/LHGFDRNDopc6/ogn+1/EVF2fQVMNJTX1hFwOalYsorfrApYU+w+Q6KX6vIGAapT/rxu+nrkB+DIdvjh++1/Aj8rbsO/Y5nwW8ECuCX4VADEa/4qq2ivgR/8Z8VIezhNN3ay3/qNn5UZBjwwN/QZEUtXrs9P6j+7/Y87ZviTvFlp4D7/WmFVFUsIb/gmPr8wSdpVxl00p8nCLki0fG9VvrBL2AR+sEC9tQf5IEzGkhPH3/Wx7fW/nveb/oc8wLYtDEm+qzP/t8tIMHz4D+wBn5z3GGPMMYJewY+wFZDf5QrsHrSW/jDTh+DJwteNntPMP3Dam5n+hDjXYd/XOE3bMmr5ZdXoK3ii/gH8qB/HvYEWxCc5Gs2hhVtzI9h9EMtPaW/3+W7VYK1/1DhDthXfd7ledxH/ViHRwtq4wpD4BH2yfxGTUofUv1K/aw2K/HH8daPHsYKFi8NGwQnhwkT0zsEUWicGSbrAIIlsTlT9JmQOcckN4Gm9tDuVB50ysoHsh/ts91yT7BWgmFIJl4ILxVGoLP4ltwMWmnony6C5BU5/cIv+RqfsYO/lCPx/bpfXpUj4VCliWevhsDTTn/28eOzNggOmXcon5ogOBuztXd4oToUCoH84vwZueMg+Dgld7xwMV9uvPJn2W8OxNjOV7MAWr5Ylplj03wncMfp159ckDsi/d3+Bt8GrATHVxoheI9jy/bjptcPOTbKIBi/H8uWt2OPt2Pvjrfi+5ZWZeHNX8nN39wrY3/7fdlzpngH9J9eSRmsLJD3IBinWEPOwOpLoZLeQaPTOsCnZ82AV8g9OZlbpRJsFUzM2a5zdIBx1mGGusAcCzoQ/bKGQ/SDPmjEzZnsmSUfov26cZW/sVLQpxIM+a8n+81AxjL4+LtOTwJbcHDAj6R/7XUujjtchyygJ1gdroKetDIBjuBm8JHBx4CV4FIGfb+bweXYbWk5KunOl77PD4gd4JFJ3ZBwbartXu1Arh7gYy7He6F3aBeKPcEJt+A55o+tSOnGE2LQ7qUNq+EJngXOGYCZ/cff+M3bJY/QTrdKsO3ZA31xHBvxN/UJ5rLJD9+b7Jf8QVBl46c/gj484K3h6TD9c57bOIiHMM+HaW/Nz8C+BdxZYJl4CdkSk+WeYPcfNVGnctBtGwk/kZbUzjor3tSbLveyEhwqmJkNb0hWcTx1fwMzkCHmC/DStG5m+y6r4Kf4fK2jaZjfog1bjy0cpm88g/HQxkC/2HJob4u60O1rlehIePX7+n1awoS47eVTgRbOD8M59AHsdioCOq3m10Q9hL/djm0GHqnfTX9Bpk3iBG1hfDGBCtnw94Z1GOJHt4vDB8EqwGxPsGcYwBwTFDMGnLzqdHTs8XCB4rPcQ7XriEy+FwNBkYXXHtMMIR3B8j3Bs5qxo6LIXxMk8qnMfs/2BOOk6eMxmPVIqPMzvSc4q2D6fddl9t9yZTjUnuCwHDrjz8ODvyd47tl/oqLUjOVBueNs2Czs5HZ81rwnuOueDM1cDbIn+HCs3CMAfxyvn5qSO168GvY5gxgsP4786wyCwY9sefWX12Rq0hzZv//tYO8Jxr7waTWw4E9nELwqc8f1FUqsiPYIgjP5AO9d+aV737XiUhkX3p+U4BbaE2yBVc/x9Btvdh2KvNijnV1Xua+rP1QM3UGgYeu1R7aB/urojw6nV1zdWOI79ZueuNyh3+raq8NT1KcxoPDngSca8niKoi4pzDKkrHiY4bUgOPHfnFbq6+Bopes2ppF9ZzIj7gkegbz81G2zNXByGh0P8Oj2DIa8tGdN9+ftMQhWxyTbE4zrdD4tIIX8I77wnfMHz+p/XSFQBX/pfmuHK7aAlRIPptPS+MEHrzD7fAA9VgnWAOfeQI/aF+IPtGBMPr74fKS/6euQnzvK+MT3pvuDoxsSJY23D3qDTtoye4KjfUn6zFcIVA4u9RWva2Kxp/+IimKab1bxHkZe4JfrnyJ44Qoe9IH/W2VPcNPzAfPZ+Mg97023j/Zgt7banmDXHykI7vOeYL+/G3+wgiqeudGhP7BCBFgrVjwQczoHqA8QCJoeoj4KQfCW3BPcjR/9+NXteghQO1YEDTO/6+gzv5H6Zfgg2AwnhBU6SX8DWBSk3YdJ5lF9ur9HJRhG9du/z5Yty5dX5MieuOejDIKrSjDo2PZG3H8qIn96XSbQLvs/KnvO9Q4UVz58S7Y5rXVBcF0VtVclGBkfOhCdwV7im/dnnxPHivcB1wSy8688JRPmxNLAgs+7j8nUh3kCoXx08dyvWR3u1nf2uznaWQBZvAM43T91XhbDUu6y3+r7qpz+ee8gWNvM3+u88seTMgFHaccBmTh2sU9feH/wcRunZuCyMYCYy3P6rmTwHAqnRxCcxljIqfZ3Kn7DP+Vu2KPDeAPtCR5krOU9zOj5GEeQwWZ/5T6fTage0YCqw8a5HQxWle1tsBJcBMGaOQ2ZfMwL6F0sBzbHM2GTzrFlvG/kPcEl1gb9TkfPqp5RToM+3/e+YM9oF93WRB03gr8h17VWgn0snKcFfsrKHe5lEBx1WRgH2kiOC+4JS/u8H//EvQy4u1WCrQ/asNCHPz/KT47DK4K+aqxhGlIQbGeUjGI8HgTD3wgOdtIDo+gztkn7FjBV4gmyBQboE9ZU3szXSKt8eK/tE4aMvC9vB9cxzlLf+X39PhkEu9zLSnDYqwwbDtr6tdfkdfRnDjv1ekhQNkZH8h3dTjWMefAjJT68j03gIxMdVl1NVVc7I8Ftw3pkXFaCIx4Tpg1n0NdcJRPjGeN71EO4J2Ief5PWG2FP8JA4crxjXmNuNjmfvK1or4YNgmv3BHsHiPDxN4DG0rafOucVMd/TNpkEyoyeg8b2lOz/Qx7Erbz7m8QQrXCUQbDvCcZ7NR+UsbvP5MuC5WOZeVgnnz7/oHzt8XMy99GKrISgbeXz6zL36nFdHm1jGj9xNb/n06ty5OFKyN5e/XLoYfYEV21zifbbS7L4eeDHF3gH7gU5/MhRKuaU8ccE8VPbdh+VHccvyPynqwXtSzJ7/OksAE70+3jt0wG4lj3BeOamx5SvKeD9sqI3qxR/cIZ0aP/dkwPjM5fCMvSPZeYhW+oJOg8el+mFz/JXMH2xKstXLsoUq9BxD9dksSdY26r2SE7WBsH9+RPk5fgPir9q3/ZE0PBYRftG3RMcMNLJH60Eq7ODPdq5Muu8v4Z/Pdu3hAX1CyqIeaDdSPv9+sd1cziZUYRMTYexf3w34zr8nuC4omBvWlrK9mEQaTCiftWl7bXjJ622ggfYDA7df4s9wf3k5Y4OKsJua+yZWn71a6+8HhyULb0n2PWT05/2cFqChKeS4pChas4m+4IAN1bEgClUfOGw0LHz67mTW/H3K7AnuORv/G5BcKpwNok/lycq/NCHkMmNsifYaY/8oP+oiVTFl2KLFXrch4SgBQQdFe+69sJvFR791Pz/7nuCe9jXtGLJ7EvEa5RHN/4Ncr9VgjXxUXMqfWgb/mMmn0a+50uMeaq/9xnPSDC7OFT/KQhGRTlsMUNF2MdvepJnVDDRl8cj9LfjihQLghM9ZmPU36gSP+l6U/Jy3pTtNbEnuJ88fQUh7In5jY2PLwbawwbBms31vU82weBUQUjRwaCjFrKCGBirEHgmZM4BDn+OgLElXPgdBLNdn8jWT/oNFT5f4+1LD50mZE5gEGxPRXD8PMAb7actVUT/NErVUrLm+tUKp8pkRKcNeyYL40gVbZfHBn1C3p7NIy4CLxPOQF84lAC/YyLhM8o+GFjyDRiBUsJ9MUCFUiwUwsDfiWNkHj35445hwCuMOJXhBvHQx2LOK+dFx/xqgBbKA3PSMp6jyGCjD8cD5DeKPpxf3T4hO9cvwA1o8nuJIyylW2f2Gxj0JZTEY83eGQtOMoyX+hgy90DwK7Un2PBsDjN5EOXk8lrvJ9p0OW3pSnBpP40/CcsW0GIszidi0Kq0wDV4BXwR+x4A2/5ft+O8x/Su617yyO5HAst5juvsw+zLZuhE0Oar1/DpY3cam/iE3XEcEiMN6NqSLs5zC4Kh26M8yntH8j36I9VhU0nWkC3st+ss0Oe6CvyJ9EIG0FU+r/AcTpTG/akd9xHdvq6Rp8kW2t7MKHfYcNeZ1O9D9jEsnzFOd9iBl1HYONopn9vr8Hd6jTHaMPA0yrjXc01dAx85t90fCXaaes8SgNRtQ8o4BcGOR+sj8hf4hc+Svd3B9bH367Ra1TriEX+7/tgMPHI+mP6GTMHXpmTk7TjewSvMTf+9yc9UCV7Xe4KtogCBOnF4bxXWxIM5BnJd424Gzk/Z4zNg3mS1pwOC9T1UYAIFvV/3NAVGMyNAQegrBDRD4EGF7SkLioKnLLqhRsbaabXPkezJCX2wfdBLpb9Px1NeX+938IcTzcZP/qshaG58KkPNyPqy7ob31CFD1GvNPzJkPkGAD5y6me4PpygyILI96FS+pniQ8Qu8hpPDChjaAib91EJPqACvhTNW9TcAf9MpmFUQzOejvDBfaBQGaK8ff9Zy3Qw/5QmexvkaeLSm8Wb9ayWY7bs8susNjDfDgzoIw9M7JD3R4WSFLBiFlGH3xNyQ740FhqkP92pGGfixfrmCxvmLil6cD+gfsiWG7dTetGdJHcl0vxlqyivqz9TekPwZ9HnMP57aHAKvpvHS7glWfNCRMvtZBB2skMBZdPvrTgj1qL3FAViBjsD8432mX8s9xz4/HZ+QZ7snuAro4I8MOj9MJw90f9BJHRXSUfRX2oto39zpj/Yl6bOwJzjqs+Dcc7xoz3w+7pHE8+iz3RPcDH7A72hfSnk28Z0+sJ2yTX9H7eRAeG6if+DPV6xQH2mAyv5TEDyCPcGgPepTYrsKwOmPAs9ICNJ/sBVuFrC3e4LzILgxvFgcQX+n0UqwG0QoPnQC5RUAzCwWAgw3rABmzPCZomQGFvcVAQjbA4gYUCKj4w6TB8GWzQpOHNsC6FkJRgamoCnSN5K/PWNpGW7Q33Q/yehYdrXkWxP90RB5BrcKghsfSy9a4bzRWTY5pxUFvjTWsJGcLk8OWOYKeIECzjJrFlAQM5aRI8YMX+vhJRW/0Uq5G/YoL98vu5mVYAQePlcrxdyITMFjKhrfgzOK/bowbDYGynwUfWjw15UnNKCmXyDjiC3iyDLMwfB3basb9hmAhHaAH/SD9sFjBjKBTuc9KtBRvnQ0rR3OnaALoW/9/qg/u9HU9O80+qDXdXoYT1N9uX1KdqPpPoI9w3jcnjVFf7d2IFdfaQQ8xPuIQdN/bnfxzka/H/MGGAam/DnqJ3v3ov9ODEZdBt5ZcFLiHs+gL5+bjkG0D2y6/a6tBFsf69G7Po61foI2xyE+fexrbafX/Zir9HnaPcH03+reEwx8oFIT9Zpjilg1W4W/iSWzYcPON2LVKufALHDgMkQfrjeI8zBP/J5RfmLctKMjOh0atCcd4SuWmtaLX/E9wcAQZEjsRvwU/qljL+oh6OeIR/xNPLZ7gtMcHWb+pUrwPvJ34eKf0s7NQf4YwwO1e4JhKE1AjLBhSEyRZRU4ZoTNiPr9+AxKrOP+zKhaxRMD4TN4j6EvvcT7hkPFD0rE3+MZHJOO9gtGNnddHQXyAwobPErjr5TNuvpLe7oscEt7ghtqn/RqJdiNDveIBZ6ti/5B+QEFkPaAhj3BTh+NhQZdaQ+q4SadIgmcoYIcFUvWvyZUKC/cC8WVXVeeDjTeNB9sBYA7VZQXAnYPtLFHppLV0P2FNvq2Fw1/z/d+rmG8Wf9aCSZe+F6+IqMX7h16vBke8qVifcffRP9oA3x0/QJnwnQY+8d36rd9MpI9wWEM7M8dRc94O76oD7x6bCt4gE3HI/AdHaGoP62PkfOTAZPNB1QQw9iGxkdog+2ZLCCTr/SeYPA3Bqh4L2ORHOzgP/DCwNn3/HbTV2onkr5lQBPPBGj3BCMITv7RKObXDbkn2AICzlF7jzL9R1vRFeZy0gfArN8P/y/qs7r7w28ZvsEv1z/wL6L+QULQVzCW+r1be8P6C7XthRVuzo9G29cgOM1XJmtHsCcX7SL5A3n5irva8Q7rb3TTR96eVoIrfyRPdKTxm13M8DEovw0r0JPZnuC65+G7IH5x/OKTCUxNcKdT6i0ITvTgOV/RBMxHf2Mj+NnuCWaMzCDYgyFmTgPzGeSZYB1wnRkQB2zInMNYhiAYio7/g2OnfVaBXqX0NHBJNMVKBkHjleARZXed1trPUAlmEDyCSjD4lpzYKnBLPKyly2Uw4CfkgICQjvVWrgQDH2FPMMYO2hkgawBAnMDoIYAJhlPx1u4JbgQ3DFA9MZUHqI20T7mGlQFbuRI8ij3B5Zzm/ISjYRUNztNijyYD9lAJjthnEtErhptQUYeDB/048kpwFWg3hkOXBTDPKh8qWVu4EuxzhwlFq7wCL9wnHpxDHxc+GQTbvQwGauwGxp/skJ2BAT2L370t8shwVlsJhnxQkdoEDII2xyE+I91O/3o/URRw/4gYqeHjuvvQxBznkzvW621zTc9Hf2TAPcFo33WYywD6oG6lgtNCf8QwiXFGfeb3DPIZE8IlXlOgXW1pSlgepO313oMx0XfZoEow5vl6aa57nvrDbA8D7VgRHcEcKGkAH4kr6JeqOMexAkeck+7XDklbCoJ7rK4DHRFvtNN+4Jv367S2e4LJq1KWTXxPleCm9wQj44E9J0HIVQVUDx3K13R32RPsg0TFDMCic6TKjhmSYCC1PQ+C2z3BzGgFRZbzu8+eW5ef8z/7Dh7HU641mG+ufVWEPdvzPWauOPrtCa6jHwoQz5uB5Z7fYDz1FOxqqXK7Jzg3UD3lU/LbT/mj0dFK8ODPrxUPGmg32n42ni70MLC0AG4j9wTbHOV44azz8JhwSrQleTJ+sOJhiSAGPGEPsQUv1NchiZg9Pwg/ht1zCHrbPcHD7fEDBmkjUYHIk6zVqc56yEgmz7SCyJxT8B8ON1dvqUOW7qcTW+wJTnhwx87eCx71c7AlcDjbPcF5oiTxN87nwLOhrgeddMPsCY7jB/2WoEkrsoBr2P+oX9o9wTk/0nysbHbGr27XwVtLzLTvCS5WSEW8deOfz9d+7wlmPBMSVNC3CMxDUoDySsk4ux6Sce17gits056sRT5RfpZYon5pdE+wgwGfdMxsv54ZaGa0gkBZ+fXMOe6JlWDcZ45ZCoJtqUpnpsqDYMsKBieOdHjgwyyfZ1tyZna22dT1DaigIohLvBp1Jdh4jP6ivDfib2CCzrJnfwMNxFu5J7iUockiZpqBP4zFcZlwZxWjkHBZ83i5BCjyy7BHeVWB9qZUPeBoOC+ZRQ/VmiZkSXn4GEdUCYa+8DEw0N6E6hGzyJZYiTgCDzknG8h+l1n0lLTx4CPq3+PzugAAIABJREFUWSyrCniOsqRzbPTgnqhvUQlu9wSvU6eFlU3QMZG/UQ5N/w25emIPczm2TwxCB1Wvm8iu415Wu7wSH6pvkX5iMOoy063AIuxt1KmYi0zE1tha6IXkD4RDNakTqwMkN0UngjYfBz7TPCvtyDq+I8FAn6fdE8zAy/cER8zib/CJjqphDphJes1wBd1LLLV7gjvmdMnPXt+Tjmj3BKsvWKO3evHPr0EPekWZeji0Q7/SloQ7ZuG7QHf78/4Z9RB0Kb7Ha76ShP5G6MPvGeVn8mmxJzlPGCQa19s/570Vqur4s9728XyqBDe9JzgQxzXsybDZHhgYYhO8rnHv9p5gnAKslQFVcjglGo5dJfC0Rp59tnuCU8YfE6TdE5y/lxYZuOjQ3Y5ToRGgeQUEe3Y9cNCESspAWxCc423APTNQEqYUKR/HLysw7Z7gqDSH4i+Mg+mJr957gpHQAb40AFe8WlaZeM8ddfI3BcE1p2BGR6jdEzzcnmTg0RyUG+o9wciQAxsI/Jx+syMeyCf7YklD4gn6jIGI23c/hf/+HvxDEOh7PqsgWFfgVEFwOtPBfIqh9EPpj/T7npzPmgpMeBZ6a2h6LAjmfAW/RzG+G3JPsC2HNjut+EIhRG2onkGDYFcDB16n/oMN9z2Y3fzDPvJq9wRXb2kBT9eD7254ZvD0Fd0TvOt+e6tJldDpuWeYZzZYYt2C4KRvzMZQf7R7gofXnzHQbrQSDAUPowhBudFwQ0lnzTLSCIR5PWTOkR3xQIUOWbVklc6eBxD+HPq5zbMog1aCR5Td9bHWfrqjYOPB2Grvy53Wtd2zkZVg27M1knH04QGdlFD1YjXLnsE1fOdSvJBhw+9QwPjfgUsPIkL1A/c4/pIj2IeubvKk4kfb5X6igFf0YYH22mQ+JE1Oqzu94BcUQuSN37OeT7TnigZzP67OWE+78Vn0cSNUgkexJ5gBrRvK6hU1SYdCl4I/0JGuO1MQ7FWVymms3rOOiuEmVNS9Aocgq2ksOmYswGOgN4o+0KYn1hjgBP46DaP4hFwxj1ktG6QSbDaJtjrQCPoxZ7kioMjEIxjxCobrfo63cuwYoES+AnegLfoE6RnbK+r8wL3so90TvG47kHTDOiukLps1f0Z/ZMA9wcAFcAIM4G/XWfjE71E/AH/+u2OSNixgeS00g1/ePuxJxDBsOPVGacPXaX8HpQ/jdDsKGkehm+nv2DwG/welbS33cW43sCpqLX3Ge8FHyniD9wRTfqGgB1/I33Od6DM9mXDntLZ7gmsr5Ylv65iDqRLc9J5gP5XUqr1QVGlPAgLkW+/VNfApg9FlTzAmDBQP2oOCSoPGHmEoLK/i+SmfHlS0e4LbPcGmOIATVlzhvNnSZrzHmorGjCWuE0/3pkCw3ROcK5Y0f20ODv4ditz2CDIIbvcEI0AdnH8qB97v+hAVDyZzfBn0PfpedjqAmnjk/TC8hmvVB7b0ud0TrKfywrZ4xWnYPUV18wEZfA+0UbEaVt7J3g14hgNkzWBgwD3BfEWSOqS6QqVKWrPiQLyhKnyPjO8y+0snttgTzIrFvboawQKTCt8a1Co//MCZdk8w38McEiUVv8J8X6v8y/uBBys63DB7golhrCiA31cdWqn8cX12X3jvefueYPjFjeAHc9f0VrsnOF/iuyb+1u0JxtxEvBLjGdhnztlJ9UeZeATu4Z9a8toC9vY9wTH+awjv4L0lllhRb7QS7Nk0GGQIvcw0w/GAsosZDzcIeMYrwe7E+XcQzd9iRtAyOh7UcHmrZbNitgzXaRBsKXYCYO7sV4F207+HSrBXBDkBGuwHY0rZvBFVFtEH5OmZV/TX9Dj6tQdZeuUPdNRWgkMQDPywGqtLpljhoIGteS+m4wJ9kJcWOGPM/ejqdt0rwaCV/KqC71R583nSrY1R/Y556LwMQdTQYy3pBB+paFwe6+Bj2Xb6/hXeEwy8QobUp25U7SyGWL3weQJ54F46Oz53wnPQn6wA4gClUciqj75LtmPUlWCzTeBHwlEf2ga+L6xswnii/Rq4jSFogVzXUgmOejziI9II/kQeMQj2alHQ/Y4r159oA7/RsfMqsW7RIb9xDX1yBYqvCDP7HvtYj96N41jL36DNcYjPOKa1tNPrXlsOzfFD//a6d9hrnOdIYlgleBTj6EUb+kv+CGgoq6vmR9D2VQm6ZI+AD1bMitVbmE+QkfcdcQy8DTvfwK8k9xpaXWdiTJvBS9rRDTodGrbD+dvkJxNrm10JtlWETMoXOGpCxrCb3k7EIzALrEbs4G/c7z6Y60PcG/UQaI2Yx9/so31P8LpwmirBTe8JpvAUaIywocwAfmSMiwml37vsCS73JOD5aCDxXkOAJxnKdk9w2rOFCdLuCQ4rCLwiEQ5+wQqDQilV+MT9XsGsEgrVdXVSB/oeFL9WXKogWN/L6oF2+57ggfgZdAjvh775yu4JzoMlrmAAP8z5TPqXe+hM/6YguN0TnJ0RUNqbYb8HB2VL7wlOK2TMKeUppb6FRHVUx3yk/cUSaT1IsOM65iYdO02uKf7CCpwUoLR7gsFD8oeJkjXYk1L/dft+Q+4JtqQe9bmfcm/Jk27+Y0r2tXuCa+djN3yU+g1vNfDAyoLgdbVXto/vaBe6A/181d8TDP0L/5M810RhFc+07wlOKwiRGIDPUoengO2hrntiCTFqo5VgEEbH1JcrWyYYHSIDWhDOzF1dJTjex/bs1F9mkD27GdvTwCVVKWMlg46J7Z0bVXY30tvxt1dQ2z3BnfLPHfm+1yHLlDnzapa1kXACx8sdOm/fZBCfBe7SaZN+n+GXgYQ7cOvIjFLxI6td7icKeKVR2ITKW8p+t3uC++KuY04HvNCYmX5hpSDoJeIIht9P3QyV115tltcYgFjAgr9TQOF0WFbZHEjVgzX4TkGwzZ2YmU4rado9wUPjATrI7RkDnCHlXcq/33fIdS2VYG8vYdcqs6g61OJrgPcEA0uDtEce9aoEQ++27wkeGoOQLee5JX1jRcrlPvJP2Df32QbcE+w0JTvuCRrz9zCmqK9wP/CW+YRDzje03bUS3O4JXhcWXa7RhjHQHlJW3t5aP4Edyhj6BXurg52m3nL7aisT1to+7i8rwcBy2Q5+c78gYbfGX3U8bsVKMPQz7A1kWs7JcrzDfI8BKubmMG30eyZVgpveE4yIHXuswBgw6BY/NdKWIt92qKgId9kTzAFoZrDzlOic8WnPCJ24dk+w7gGsArc17Wlw+QUAVc+rTFOFCRO55/3qoFfPN/AdGWGfIAge1/SeYA1wtQJbGVh9LyYmmirldk+wB1brlVe7JxjGLu2JZGKuwT3BNkcVr9C1GohzTx3+hmFHxjnueW33BLd7giMeoL8ZAGBfL3Si2U/odnNuEn7oxBZ7gl3/J8fOK3jVQW3p+YRXrQQzeMEZIYmewr6Y81NdX68+GuB52Bd3lPGJ74m+AZ53ftTaT3s+LYcGj+5pvn3QC95RH+CtBzj0sAo4Gh9PHX/o/+khlVrx1v3xyV8w35AV8SIgIn3AE37HnnQmlbr4j+17gpvBD+a7z3/KQ7Ga5NULz3Xyr7sf7WIFBJP+VSJ3Q/BIejQIJh4xNywIZv8pCK5ZITXo+NBH3Z7g9LzHM/baSAbA/tabKlhO+Dc91O4JzoPgxvBicQTx0HglOEyAzsxwuU847KECKLzCASVKYFo2E9fo2OUBcJUh8BP0rPLctRKM/R6VQaieryZ987+FSrBXBCOPmvg7GR2Mv1rC2+hYXCaevbIguNE++vECxjFWc/vuCa6RazCwKYsMhQO8AX/JobNKMH+vaacfrbhOxW+YJL8Me5SXKUMahc2qBNseGSgEjHuQMQ16D9qjorG5G+fkoG30ve8rvCcYvEk81gCGFTTMDwYQNXqOzrElgDh3wj3tnuAG8B/sGXSK27O+OB5Sv3i7kOswlWB/3nFER9j0FTLlsVrCIDjqMqPZn3W7wBU2PfQJ7ue93U6Htj7Wo3d9XGv9BG10PjVAHYmvkIJgC+zWSuMg93sQDH+Duj3M80GeX+89mT8CGmr22dKng6/SpfLm/obLA/hOPqDZKmDEcYdxDjvfwC/vB/oTOHAeoA+fFyE5lK77faP6BB9oR9s9weviOfjovmMIgtlmUzIuK8GOR8cy+nW8lliO+Il6CPdFPOJv4rHdE7wuPKRK8DqWQ6cMnQmp6x4CCvTeas8BjGTas9plTzAqxi5ofHacEl28940VQjuGHPfH91wCgMwommEzYHal18DY3HUEwQe1AoEJAGcCGeMI+vV+T3u8LHBL/K2cq/X3Z9V9m8Tc4xrGsP72K1q78gdY4pJPq1jQ8OlzrIjRWGjQlZ8qXvAb/HLDZzgbxxJqvnIL42xiT7Dxi+0jIx8SOJSXv87J98gMMP4m+e3jhzxRUXeF3Rj+tRJMpY/5h/6apB9tZXjIXx+xIXgEDRiX65eQ6GD/+O7yR0IEumgY/mI+G06ZWAF+IC/gPeFXV0Z4H7XjT8a+JuMNWt1AR/05DL3D6DM6KKa/oM+t36H41a1/kwV41jzeDY8uD+ipMKdGMh7nESr8lJ05RnH8DF7tvby0PYrBTnqivvL3+FaHQ6UzJ2i/D6h8kmNp92Pspuc62wd/bN8nKs6gFzJP+Crsyyj0hfMr8if1b/JjMNS+J7hWfv3459ejP2JyzuZb0md+Zgz0WRf7BxzAPtm8or6jf6N+VdJ/ZcW7W3v2e9Yf/U1dSeMBe7pugQ37L/V76CPdX9d+N7wN9LzqeZ0vsHFqRxvtL61Y2quJ+3XR6/5YIU+rBFNeW3pPMFbBDGl/UhDse9QtmZLwbvYtxTNd/AH0z4DZEj+RHguCiQdgfqPjmdv1VXnaf6joByxDp68Ln/5WESS+RoF30OeJJein4SvBvqR0kD2Fns2yigWzbQBAyJyDGHcaUKXAdxhcROz+e8FoGlCAIjpwHFRwuAkaU3AwcMERdQM82s9QCQZtVKS5glh//3AgAs/g7Nbxaj2/gW9olxnZUY2jD18gS8/mgZdlJZg8gOLwDHjI6NaNHVl54AsGFtjA+BKeTGHRcexDV0fb5uxZwO6Gu5IJ5LUVKsFu+HtUbjrGNiAvwEdXNFDoo6gERzyMqo9+42dgaXwE/kCTP+OGH1hN+KoMX7rP7+/2yUDG9K0HMjS41m8IPurbjHgM1byoCx2PNDwj0B/dxua/M/gwnR956Neb+IyO9Cj6QJuwWS7vXnarifF4G3AUIDfqRNjLMEe/e0KmX3tT7tyrh1pt++nvZObF4/K1eE/8m3i2FSJoz+ctMRiwg2c4XjvzAPOP+rMLvt1+JDmbjva+cZ19mP5GW35toz4xHqcPn6PACGyO4xB9jGJswAOdaOdxF5mMom+2Gf2RXnuCB9SLxAb8G5x4bYkW9AOMAKOO+6jPBh0bZJz8TdBT+JvQ4ZSX+TzD9DEoLXX3oT+3o8CLz8e6e4f9LfmOlpQYtp1ez0UbBp5ulG50msBHzm0LLOMql2RLocs8kRfsuLfR75PtmP6HzIAt9msFOuAU+OqlVzrwWOghXHf9QX9jg+c25wPmXLsnOG3uZkaAgZFmqbqv2VYjp6egaTUUEyHL8Pl7FaHEEewgg3JqSQb5N39SlWHHHhiA0A0CMjAFkLvTq45EI9fpDDt9PvYG28cYLQDUjGXVRyP0k2cmPzc66A8ZlbTnocHxBBll7SMj5gYBiqDcE4wM462WaGEC5V6tQII/1mbWHjNWOi4PgJmx9oAAFaPCGet4vhw/lDsUPoN1VDwswPaMFu6P8gK9NAobwL8oL84x7LnKHaW+4yvH2/W7VoLZPgNUy2B3vX+I8Wd4UAehOfoHpCc6nMioR+OOCh3xao4aKsYMFCoDOxC9wJMZvvSeYGAIGVMYVWJUMd7RHnCP69SBXrFTXU396/IwR4jyCo5W1d6LcnpFZOXi6zKx+0GZ+PklWRGRuV8pn7rOL2+/2/zz6z5fMM7gJFT9DygPb6+uPz+jAn2YnBptnxl80z9WCW60/Th/4/iAQeplVCBUL7s87nl3leZz8ezPZGz785ShyGcy+x9d8AL+wUEEbrlCxORrASr1mffhK1pwrzmVteOFPM0Gqr9gwQ9WHCR5FfYl6ksb68jtDeTnjjI+8T3R1wD+ID/wKSRKGm+f8quC4A5/qOnx1LUX7Rsd/2pVBMdL26OJlmQfgI+e/NYkvOo/05/r2hMc92haAgl7VoHzoMPHPbCBzqB+b0jfxfnbC9+45jYkVRArGhrBD+ZztC+96KmT9yD3c/5v0T3BDDy1KJH0ExIjPfFYow+67QkGfxnPHND3ANfyK+LR/QXDY/RfUxCMhAVW8FVYGLl+pP7SSjDtDVdkjKB/+DRuz8wOuD1rBO/gGeeU+UNDV4LRUHKuIDSrnNHJq4IOJz59BoFS2bhBwKCD8kkVWwbBqzL/9jmZftX+v3JOpl/5vUyfelumz16jMzZ/EidbVgd6VP0hc+KV4HZPcOJLMXn6/g65QbYE5xasBHM8RqMnPUAr/u6HycgLKBngKOI5Xu/1N41/FbCkPZroPz7H+7ZCJdgqPlAIGHekcb1/B8NCGYTAqrl+EAjaGCDnkfSRK/kO2iFb1y/UPwUfocTdieHcqTm1uR+vGYBYhpnOoutX7GH3v+votIQMdaxV2FhNQEKieA6JH576GKp/BV3bTi1R18oXGlitfPiWbCvu6eDPoNcZfMCO5EHw0O3V9UtHz7L9TeOd/YWVTRhPyeM6mpr4DRiDvgK+gLXY5sOvy+z8H2T/d1S+2545L6fPvizb+lUkYhv4mxg05ww4j9d7YZB6wFcp2fNIEMRKDNpy3en2pdSZsb9R/Q1aHYf47DWuYWlIQfBXeE8weEe9aLp7WL0IjDheiPtCp3WTEeQKPeq2A21AhwPjpV6gfjfdW+dfduujqd9BK+1Huyc40zlr5S/46PKmr1DY6aSnTNbABPVUja3s1rcnTPhsWFGAvvG/23O4lvwI05GwVfitfA50WsKiNt7p1kdTvzOZARr/u1SC17EcOmUgzHCkPcJwYpAxK4SX7jdh6Pcue4KRcXChMQhekRNPupNnGWMHwmPvy7KIzL8UlkDH50GH79kLjklqP6PH+wj9r/u6KtyUYWKmscn21YFIe7bAl7oMjfNz6PG4Q62TVDOmo+CXtlkrHyoqGM66PcFOi2fUcgNLevF83/FjnGvdEzwp46St2KMJR9MrJJH/XkFJgXb7nuBaeQee1V7P8JAHwbX392tvmOtw5ly/MDhQY5f1j4wyroWEHys0eNYCpez+qL9AU9xTZEFwz/vxPPQenCfTk1whEgKfjudJnxngXnuCDx6THY8+LTuPTLMi3H8+9ZjPkd90UCyRCn6Fa+ijke/khQbBWcW+qfaBR+e3VYIb408vfvTaE2zP6QqXUPGBowZ7CAxyj7nrzy7yYhCsS6pp33vRQ37aEnyTq9o/9Q3q+yvsC+dGRVMj8g8017YH+TEIbvcE1/KnH//8er89wT7fwG/Ti8k/Al6A5yKBVEsPdKHPNyTxgs9Zez/owz1xDyyer6uw+lgssGn3BFdzcSh9zOBpi74nOOHRkiNuz+GfQR/wrTZ5EFuLrxQEF3uCvX3HVPZd9V5aEQsfIeGx6jP1ZzaG8wWYH8R/yPrrot8DbT3l2+4J5sqqsYWLf0rBhBp5XZrnJWx+UplVQYc7A/lnyJzDKBeKj/fGIJhKsyqVs5/HLQg+VU3SIwursrJ0Qe58+HU5sYRFeyLy5aosX35H9h+ogJVoOXhcpheuy/IXeuvK59dl7tX6fVNse2VVVsr/C2cKnjwoE4+8LrNXVmTlS2v302sy++xPg/N4XGaXVmWlfPbht2T+81VZ+fSSHL7fxnX303L47aVEo3yxIosL5+TOg7iuiv2O1z6WlZUVmX/pyUBLXR9HZc+567z39LM/0HsfvyALK6syd6LiI/nz8DmZx1iX3pM7bzskR96vGXvgRfX8Udlx/ILMf6pVI/L/ygU5/MjRQFvRl03EJL84Me/+tZz4CH1/LDP/Zs76ju/Jna9elcXPQx8fGk+AFWZQLbP3/OVOmZHuZZl93OlwXv1nVQlm0uKYTF9B3+HeE1fte3T29snY988rH1/I94fWYmH2xzIBI4yMXxrrVD6mTM4PypjJqQN/LgPgnm3ZWPx3+1xeuiQzP39aJuBkmsMHPk3862s5Vj9flhPHnw5YdR4Vn/3oef81zbJ7lbaYa8DxfJe51smzJZmNNEHGt/6j7Jg9n+Ns6WINzur5AT4unD0e+I/xFTKA7nBcJTk9KIrTP8qdsRL8rRcMp8sy8x+BV+Z8adX4GZm9tior779usq900p1nl2Vl5aoc8X4cZ9/3akS+XE9xc0bmfBzoh7K9V8a++Ywc+cPHmc6Yf/t12XF3oMv78S0AMPwuK7/mNKR5os9P/PyiLAJXpf4aSMY+187IxGPnKvkB7+++WdBY3VvNkwdlrE5PFn1nutwcZuow6DMfHz6TfolyWwMOinlW4qoDywPOrzveAB5WZP7UsYDRgh+Q9/aHZM/vPs11OsbVwY/PZO7UL+RrkDNsLpwuVhy6zw/Kd+esYrZmnKqLgm7cfUR2PPfHSqaYP9fel8NH/ykLVMaIqxp7cu08bQ1lXdDfS19k2OjWttOfMFtjpz66LNM/OJpVBXvbpB6YKfU3kqLPX6Edm/1Bvie463yKOB3kb+CBOslXBlT6JePRIG0NdY/6I8kfREIIurquLeirrApmezZZle1DN54jhm2caKuuD//NfQKueDH8M1GdF1CyNlKg3e4JzvjiPB30k0k0s2HgaZ2vP2hbw9wHbLi/U1cJ9jYdj7wX+tESs8RjFwz7sykIdjz2uR94TCuwAh67zRX0g2tmx5hA6od5p62pT84H48sgc3SYfn3lA+Y2dNkwbfR7BvOeumM97wm2TrI12siwpT2ZmmnWU2Er5ZTd321PcBjA+MvYE7wiJ6Z1n7BmDA2Y2LP05EWtBFsQjPanrojI58sy/6nI8pWLMnPqbZk5d02WEYx+sSRTD1VO4Dicn08RJK/I/Px5mX71vJy4ooHz8vyv5aZsD8TTMvsJ2rgu8x8u6f9Ly9rulbcorDQ+OGgIqv/3isy/My/Tp87L3DKCtdXg0PxaTnwuIvYshJ3owZiPHbU9SUajrMripYsy8+o5mZlf5rjlkwtyByYCM6o/kKnL6EOfZXvfyPsAfRPHr3JZYzY+5+PLFW/Gdh+T6b9oAC+fX5Q9Ow/KPW9ck/k/X5P5D6/JAvgGmpwXHy7JzM/0eV86ufLJVZnFMva3r8oi+AH+P1z1kfgV8KTyuyh7wA/y/5hMXTHevfi4KabDsucdkxNkTJ4syfL/Dn2wAqfvpxs7eY0DWb4K2k12Hxmv0ioD49Xl3+oEsT3B217FWgP8CysSPDlDXGK5vQbm4ykpo5gn/Y6FL67LHJb1v/KezH3i43ks7Ak+KnfN65icbzPzS4qvTy/KnrsflPF/e0tOO/0fXtflqZ8uV2P641uyg7y0sfxXwOqHS7L4XxjHqsyf/KFmHEH34d8qVp2+Vy8YfSLACPaAuiLqkJfhZuUjnw/2+aHNi8tvWhB8vwYan9XPtZUrurQ2tV/yLNEU5s+uB+SmZ68oDz6/Jif+8/cy/cYlw9lVOQx+pfn7usxh/kMvFPzDGKvxHZU9JgPqDseV645/qniRcOoO584nKpxa0FL1bys24Ljd+pycuC4il9/UPYgwJuYUqPyXZMrng+u/H8KB2CtpT7Bf5/jeknmBrF4Q3cN2j4x981nVa5ifC3+U6Vf/kPSa81r1g43HKsHUryEIJv2O9ScDP6E3obvwr05/1ehT9PvXSR72/MdLMv/Fqiy+/65Mn3pLZt//TOX5yYUw/+3eK29V8nS9HXQdA1ngi2O+0KHLkXDC+KYuAwdd9MvLHmx2wUHUL6afiIMvV2QBuIJu/PNfqB9Pv/iU0tsVywPMr2+47ivsgdkNyuf2+2Vi9rLq9Hd+Vc1X8KjLfFt+57hMbA/v9d35K5Vnpi+WVZ9CvjtnZOoPf0m6fxFqCmO+5PP9kkw9qisQtr2ky+ZXli/L7Km3ZPrsFZ2TkNWPQxKUuBJZvuptGP/+8KbsgPPTg37HcDa/kr14UMZmzpt9XpL5q6ZToaOc3jMvcs7fdc717ZLqj9fflwXMTeyb/vdqT7DP9bsSfl0uQR/tHkB/IwimLVqRE4+H9wR3m0+pP52nXccb9UEIgrfknuDSnsB/Ac2ogLmDj0+uaKt8x0xfoY1B9wSn9rHCS/UoA4m6FYslvz2wIT12KnpJ/yi/o20GBdGfrmzQQHjoRx90v/Gd9qXf/cNct0ow5RuC4EboH4geDYJp30IQ3LV/zFOcuRHxiHijCFCz57vtCa6jj+2Ht+YQX2i/B96h31IQ3O4J7tAHUf8bzzP5xOsWaBMP69oTHITrTmSV1bPMBoTLTHMuXL1/DZXgH1aBBrOc7jh68BYqwTRYdAp/LRMEje4JnpjWqvHKu2oAQcN+HhxSBY1KlztA12V2qlI4Y7srZyyNt/a3aZm+6sGYZTqZUXpMZhCLfXlVDpN3ZXtuWFfkxMxUcszHHnldTly5HoJnpWnbGVhrGFMPgvfJ2DefU+d35ZJMsuJT9GEOmTsRaRw1fLz5RTgzq7KC4BVOY8y87jxgwULlsKe2HjonC6DMApv0+8PnZAHBxAdnKketBkPucCAIHtvtsliV+Veekgkur9snYz/+QJ2+IkibeOyCLKLvD/QAHy5/uu2Q3PzaxyLysUx/M+z/Cc690mi8YhBsiZZvzzFAXOE+yJogmMGJBsDcc/LEQpaUGdsdsWBYYtLicZkGoV9ekSN7rBI8o4cNlYGnH0K0ePbpChPkjQc/VRCXeF2LS1S8Xpc5+H1X5myPzJRi9ctlmQ7JCVSLP9foAAAgAElEQVRDj3yAQL2cA3E+PChjNbghDbteUKc6BcGHus61O98Gjldl7rg7yDU843iPGa1X5QixPSlH3luVlesfyOG/rZZDT5hzPXc80lrHq5rfusmgxNVuT7YtyB4GwQ9ZUmZV5l/tU0G//fmKN5Y80azuA51zyjH6WMiiF4ZybLeN451fpSXXd5xFhmpVTj/1z1n1zRM686emcyyljHTNnmCnISWLHpQ9DB5WdZVLCIK76dNOGdtcE5GFV49Zlh7zaL94Am3hNaex0GG76/Vkt74nLxiOjyoPYxCc6ZcotzXjAEF1sGeoJDCxYVgedn4B9x7wd9Pp/2g66vKbsg3GnXOln237TGYfRTbccLX9Nzw0C4kUfz6zd7C3Aau5jna99oCM/f3b1P2y+JZsQ8XNl+AfPCNzsCNI2hp9YxFX1Imhj9vWoi/iPK/5u5uO2v20HD63JIu+tx2+AuT20DnakOXfVytE8vEGmzQIZuwQOervLAiuXhHVbT5VsqgZl/Ox/PQgOL0loc73WkN7Zfv9vlOWYR94r0pwbIuBcKjQwHcEnovAI/Ek+iPEfc04QQsTj138x9h/3d94loHQV6QSzAB1BNiA/nA+hiA4ybKO903+Bhy47xiC4N7951uKqP/QBjCB9kr6PGECPdkTj74Kz/xG0OPxTNlm+T0Fwe17gjv4X/Kq1/dUCW5iT7B1lNas4zsqcA44M5z1ezL77AmGwF+ySvBjIdDgGn2bqDUGToPgZZlBxRdg9TX+t35Xq8RwJkj3K3ri6YVXOvecPXSextwDDx2fVpNWsvtLB+1BGbNntcKk+wyYcdi+TyYe/LHsePSY/B/sv3p2PAZ7p4510mN8dsGDnolntaI7f2pSTzX0pRvfNaeIQWjVR3KmPr0odxVLIjsq6giW4LRceUtmWFnXSrA7QpCnVsw0CI7yv/kNVE6N/0a3X6dDmpIAlbL16xhfdDjcIWZgCDzAoG7fK5N/hGN7TaZsHPH5wx/ERINiQCts12SKitj2FL+IjIQGtvq88eryb/XU5FsOy+E/rYp8uSRTbxgOn0TW+gEZf8mefUIdd54CDCNe4tGwsPCGO/RWEUT2dUYD+bnndE+wOutLHFMcDwLSv370afk/v+1Bou+RrIK4/H5cD3JHBszxY4mIlXd/ow7fpCYscufX7n9UEwqYA+n5Qp4d403X8yB4/PaX9WTaK28xAZK3Z1XaD15Xw1LDs3S/n0qMADfgge/VswpmSg6FoG3cxuJy0PY6+Rdl4HMNn7g/4grfE05vuUf++qQe0Ac+onKe6E38qLCeggskWxyP3At0Xzan2L8FCqef+YnsOHJMdjwyIzse/an8VZq/wONZrQSfe9YClWc0Ebb0B7m5o3/VeZjXXuG/4xfnZPrl37ESi2osDx189ZX6YAXtTSkuluff0mAeFVr2U7V9k/XrPBzfncs44dN0sdoLSzx5AmXpvNEfsRwCkLBEeHx31XcH/w8ek52P/lRu/tvOIDjTL4HmEgdRnhEHGF/CQXBQxn1PcGYLKgywvUHml9E0niUvAz88QP70fdnzzfie4Mq2OX5dFm6fFueeUueLFfI3FUPvHOdyeN2TWfVD+80l1LqvN40Z9GEPKAOYey3ZuCInkBzkK+zUWcR4d5xFsuu6zKJijOdCEKx7lqsgeE36ot98K3Vyt/shPwTB33zZEoVnk6Mbx1uHGYwnYobjS3gK+jsLgm05dNf5VOAltddHv2BPLRNzWi2ifMKzHXjoxo/wTD6ePv0Puie4rn34ax17dmve8oBnEUy5/kQSLwQmpBfyZPBlb0GAL2pBzMDjscCGFUHYbFuxM/DzNsbh79dAjP4jsIl51rS8Ir8tCB6eXsVsx/NoFzYO8tpq7wnuyU/gEW8dCWfMIJ7AeICvKN8UBHfZE4z7DbMeD1R4zIPqDv75XEEb/pYDYH6j8djuCebit5o9wZWydlCogxoPg7H3xXESu8BD5hwKygTKNnAfsim+dAiVkLqsYI2BSwYLSpGg0UowDFwM3LyCgv2qdXssMdq4VNLvz3+rHIU09oymUAnGGKlInV/27Mp1mb+iS1sZ7Dng4+fd07LnhfNyYmFJ5j9aIb2UhoggCNbl0BqQIVM1cUyXiS8v2bJU9IEluMVy5Hqaj5pBX5aZh4OTR0UGR1XHkfPSx/Sg8Vhqear7o2uqx2GslB+XF+qS71RRhixNGWk1Z4FLJtMYrI0JLl9GhbykaUmmgCEznAlbT+jhMFlwsn2vTFiQuvDGscphewLLWe+Vse9fYMV3+dxzMgGZgjb0n8m++o4TdTswhiQD5PeSVoITbgMvyrHl36sgLv8d4zZsldj+UmT5g3Ny512WjXxMxzF/qlLoVVvWxoe61L/6veJrx3iddg9kUiV4zpbs1lWtj2qF99OLuk/TeNiTZ1j5EfAQ96pza8Orx1OQR7pLuZDOTv71kkGJq4TTP39MLKxc/q1scxw4H2o/fd5/pks2uYRWtxnoFoMlmfJ2GCj4TA+fX67I3PPHbD/db8lb+fRjW66qS4pzPVXJrBwjv4em9c8wR0Owgi0SM8wHYaWJjSNVgjv5WWGmkLHj8+o5lRMcPEuYIsmU0+j86qUne/VtY7d5T91Rp1+CrPL+K95hPLU4wEoZyMwrqxgP7Fkt7ry9AeZXoKmnTn/IVl55BWKX8mMg28Zq1xlLpMyqfkTw4HOYy6GrABW2JvEHY+bzKj+taF6TKT7vdt7GazZp/kX7nnBlp6dCjzKRu0/GbluDvgg8qvDmPK508HxYLVbdd1RuPnZGZuavyvyVz2QZe4axWgn/rhRB8Dowk/rrCIJ7zacwhn5j9OvweYI8ulak/P6RfEZ/pOY9wX371MAj7Wtm8FrzlgeM03UGfUPHm/l98f2/mJf4bkFkkkdPWpwOWy1BO+99DCGbnn11aQ/yxNgwLxgEx/NDujyz1n4476zIxIpkQ+1GOtCu60b4kdHXj/eN6m/wkTYG/muVTBgMB3WnmaPa636fYSIFweWe4Do82j3QB2sZM/Dr/utm4JFBPLByI58ODSyEFSdDL4eG8eMpnmbA6jISyAha5kOVlZ26mCZBzXuC0Q4DYDsF2IPgJ/T1Rx0ZkuRkKNCwpj4Z6J2HrEJqE/zWe2zPpTt45ijEPZVpv6DuUzr9YliC+ni+/xjgTRUNcwRJX6IJ17US7MqaFQIob4xxly2LtEAFdjcFfDYx2J7vKcN10npVTrzxlky+cMmW3rrRsQrnzoMpCPbXmdAZ8n2NYdlr4meieTI9uzj3C+5BSAEn9ki40emyHBrtaXCc7xWu9mGCr+dlfxxfUAJ4nvLDWN0hsf2wY7vw3lXFhdL0vtwFPpKXJn/wOzlXVca6CtjdsN1TJViw1B4ycacPFTrsqcS+u0/+qBUxb/NxS6jc8pjtvxZZXqr2tC3aPkl3uLzCnvbMJnzZ3sE/X5OZn8IohGRDwY+oJJO8eE+n419dD4FD6nNJEyFfXpfTs0/SKIyn09UVk9xzwgAM/LRqbgpyKn46TT6+NN5Ee14JHru93ql1en3O3oXnDYudPKv4PPPTQ5ahVXnsx151jNMPwvvE9lA7PS96JT8a+E7+OR26FL8Yr2PAKsydOH1f7tpzUMZuw9zupR9NNmWCwvGOFQ40sPfbe9JXxCvBO1EJ/slZmeN+/M9k9ntw0LSKFwMe6BIEwc5fldck9VEaI+YT5g6wb8klzm+rqOMZPh/G/ddMMPnSdRtHwkcnP2P/qV/KpHiW/bv+qoKsu8hHw1KNnqza7+w70e8YiHuC6/SLjzfMReLRn/frzo/pB1Q/hpUyaQ+ZVYK7zw/gsOCBt1/2Z989CK7V6Q+pY8KKBRxOm2/Sx7Yl/vlqgt89ow4Og4bjVuk/qxU17EnH7yEIvovOrdnX7fvkLp7T4Pa1mD/Tbj/NZ3A+IrEIn+DWeyv7shZ90YVfSf7JthX0YFn9h1hRhK1Luqd77p13ZOqp1+Q09PjlOZ0ft9/f1SYl/gXMuO5I/Uf6iiC493wq6Y3flYf0L0zXwA5yPsM5pqO8Tzr2BAdaaulr4joCDgZW9h5OD95An9MKOw3/sGt/6geqvTd8Yf4Cb7vssJy6PcH0tw6lFWPEqy837XnqvNODT9Xd5CfHYRVMVEzRfqC5O/1qZ9Z/3YNgO9Wec7uffals3ED9J7zYmRPDjo/ydP7hM9gXBvL7dI9t8v8jnpviVzX2HN9hTzB1mNppxSPwFOTfbfw8Y6aaW/DpuQIQ9h7P1+0JdjxG+2o6VOOnHvSCn5hLwLvZaV2RY/OB7wneYDxaJZjxDOKBFMv08neqMQ6ExxCg6plSa3ze5ZfhEfS5fnR/x98TfL/gsOe1/NNKMBQLiIWzhonpzGBQYkqEAswzxWNfR8basnJQNgiq8NvXdW22Ll/Zr7/hmgfB02jTJhgMCQOf+2XM92C+dEAzZrfeqwef+P5Pto32kUm715Y0LsphKrNqebNmpgCoHv+TIx3v8UABWWP7/dH3uKdo8exTMrbbxs9xGx0YF/dLPWd7A39Lo3HHHE91keX553Uvs433zt9jEyf2LR+p+kBfnllHJRhy4HK1fTJmy6GFwWOg7+GzegASf9dJnxS+OygvPa9LKT9dkD2YuLfsV35ef1/2oH2OQx2hLLD0se+elB1nMQ4sh458GvzvylmelInji9z7u3LlrGyDMgBNX98rhy9iyfNlOUxe6rHyzJjuOGB7M5dlGtVO4iRWlmzcwKsvh37Mqih+OMzl38qet43nSL4gKMjuRX/3ythdP9MTu1ewZFqD9uVP9KAVvrILfTzyR2Jh4fXv6zN0ThzftvzTjIIus3RsDsIvWwbLfXzl/UHuQTZju4/IESwXX/lQ9sM5OXJesXrmx+o43XKvOhDA0//zO24JAB6dj4oXm4doNzmYRf8eQF/CwVhYAnVaD6bikufi3t1GK6qC0Ak2fxb+84eqV6BfQA8MKTEZqoY+v1N2d1J8D/XCa0+k+XIn97DCOY99d/KvlwwU78syfbe2oTjFnuD9MvFLPZhoBfsyod8wZtAKmuFkUEcaHn1PMCpNGC9oAk533Gd7bf8iU8A1ns+2g6CqYnh80k7FPwnsWhUPcqID50uDz8qE60pgETjb+VM93G/5XdmBQwyhh6B7o35iEBz45MHKz1V/rHx4Vm4mH0uMxSXP4fl4Lyu/uGbP8oAq3bJC/UV5HpNZ7qh4V3bQzlgwdnmOeKj05AtBT77WA19GC2Ty9b3hYKxCvwRsJByAn85D6J/bDpl++Vim/2/oR7M3UT9iDJhbaC+zBQVP7o5bEYprgRa2k+nuwPf0uy2H9vmw/WXyY+WPLxoOHYMIkD0JG+y06/8XbZ8w8TBrQfBcZV+AlZ33GQ/flz2OHdt/uoM2DPuNrW3nHVYnvQKhYvvJAaUp6dQCf2vRFyWf6r5301GW1NYtDNBpdqry12fTwXX0T9wGfv6+7NlxQCaedZs0J9swPrPTCTN1NPhvmOfu0/zsjJ430XU+mZ51vydhEXNZk4DUB64TwTfoDZcJ/ob+wfPe/0Z8oj8LgqlXiCUN4jBfSBP0WPIba/AIvwm0ml7kuNy/QYLJx8/xerX5fu3X5rnKzhPc1h71o/PV/Ehvi3Ym2Bi249j0VXzWzkbwkX3YWy7IQ/NTQBf1IngJPh5Q3Q5e+f84zn60UlaaRGNb/e7P8FgFaGpfYKcxvxEf3FO9ez7ST39nE/iIeQI6HI9up8FLYCrZacwvJBowtmp++zznfWmuWWXZ7SvtqcYail0Lmr1PPAecQT7gM+VkNob9hbkNerK5bX6jj4FbADaYj5Cdzzmfj+Qj5B38HfDDsUgeBj72w5fLCe2Xvkjds93wCD6Dh9CBnC91/o6eQD1UEDzugrDPVCG0yckMJAggOA5pRRjM8vuhqDFYYyjbK7/jfncCkS0mSBUY45hguO6VLDiD1vbUJY3pF177gU3C/XoK63d/ZwczvSk3EYAWEHyxKIfh2LqxQAZh6qycfvc9mZzS38dT8HBJJlOGAcYlOCTp+V+qowkHD+1iDzMnzXdk8hxeY/GBHCGtZmwvvSnKTz/deVXmcQqyOdB6CvKSTDmokNHY5YfoYDm0vYcUbW63CiUPYgHtgT6cIvojzcavXJ6TbZGfdqrx4jJKTCty4omHcn66kwd5YU/E7YeqpeUZPyZl7N8tCTD3S5voWoEa23VEJs8uyolTL8hfkf9mnIvnUxBMfh5Jy6vprIDm7fvlpudwxKvIwqnHSGfC49/oAS84mOVm4IPK2Jzoq7+TCccjeOnYemyv8n+7OX3Ln+nBKOee1YO4MN6TOCZ7RU5gbzoqFu5I4hN7RkAX5OWnQ590h2TGHPrzcofhE84+5svEU+dl7p3fyp5v63sRJ57HSVkiC69gT3jAo72mauFMyc8qiMvuJz+D3Av+puQF5tstP1P6IN+/qeYQ+LmNh4mtyukf2/wBLzHGHQc0Iw8l484zllO7Qkd/jjsEwdv3y/jt/6zBN3GpFTRXkhNPfchEx8LpH+gcv/WpFATdEfXD1/cqz869KXdNwmgfk6nz12T+zEm5CXRBpuDbQ3+w4B2H/ICPNh+5R9bnMz47+TfxgskAhzWl+Twp43dbYHn1nNxs/Ew4BR5uOWwBrMjyuVm5yWVtn5V+hCKOyS8o6kOpIqtz/ZpM+fPuMAN3+I2OxX656RkNuud/DTzqcujld5435/CAHF5AhetjmXlI9eS4GeeJJ3T5++LZGW0P/DU8JqfR39Pp47cgeBHbKUyvKN4qjOl306dJ91Tz+ybby83ERMQnDu96+ojOHzp3+2TiCQ3wE40elBBLoNdXYazK/EuPEzPjt/2zHEEyF33/Y6g47XpAtr22xNeZ8dVqMQjG+Hb9S9Avz+urw247JDf9ynDw8hM6393efPOk7m2HfjEZcVWK60fwGXino4PxB1vwrYof4Ne2/0RQuCqnZ1w/5tcr/NlBYImvFd+Bb68Qr1w+I9vMORvf/h05gkThF5fl8N+YfgO9kPcjb8rp8+/K5PdsPu88IDe5LvyRZsmJV+c7TzEPDuStnhi9IHvY5l6riBySsX/XpN8yTqmGfjG+jW+3QyFXPpD9Xzd6kk61jDxtiyaPxnf9S9AXOX8mntYDBFOSq9Bv4FumD5OOKvgbftf77ZUl5lPg9HYPKOlTXLfxfv0h8VOleco2To3deUAmfoUlAdDfT6YKMnXiw7/nawapv6GjbE4v4m0RPp+oO12uVoHeCduCqib0rTnEiZ+mDwyDyf7F+Qws3OYr6FTvqT4s+FPya93fH7BT6s3pdP1itEKP5fS6ffFA5IBWmNyRhv8E/Y6x+XjBB/y3gJ/+YPQfHUuYh6lCDl2LhOp92h6e9/niiQNvH5/Jyd+Xn+K/bv6skf9pzy50i/Ig8S/Ra9eoQ+/RFXPgGX28g8FfUTutFVCbD+CH8xb3pxWebtOtggbsQiagJ+LR96gaLZl8wVeXv/tj/t5dty8bxU8e/qh+mdrj3N9RbBm95GOVyOZ4iSUNUvkd43H8Qe9zbpp8HJ9RXpyPVoGm32gJDPgP9MXCfAm8VH4qXZQ/KtBoy2TVoe9GyU9gAPKmnTPMQb4lvRg3/oNOnPruWEQQjRUcaIf/a/AIfnh74BPGk3xLTVzpCrYaPCL+hP11PFs7qT3S5fYG/L6HeB8qCGYFwRr0iUml8fW/k7Hsf8xeeRBc3lP33apkyQkEYMv79sqY72k86Uzfp1nqlRVZxjtIXz6hh8n85Pcyz6WqeN2ST+4HUsAmny/JzC+ekx2PPiV3/uIPei8N1AMy9tALcuT3y1qRvHpRD4555ff2+Z7wjSqffCjTr7wpex7StlMF86MPZeonT8mOR2blyDu6V2/lvRf1/bDbn60yzhAWlO7fzGol9ou/yNQ/6HgnLOBbfv9N2X/0J7LjX3+pbfHEYttTCmF+/R/Sqa3zL02bwrdXX1w+o5P0lv2yzQ7xWTwDR9h4anyEEV/542/4+gwFsfGTWXDL9JhxSsFUBCj//hc5zJOFV2Xx3bOy/9GnZMejJ2XqXd+r6BWcIIfQRgou0m8/slfPrMiJH/1PVcQ7fq6BkuAdmi/IjiM/lh0/elPm4FemIP7v5OYnTsvMHz7VIOuVqcrxx+TMKhHggyUl2MQHMvk3AW/usOHAFyqsyoAq/nM+zp/8O5UnAjd7fcnKRx/I1I8gv/8l+3/zZ31tyOcLsudbzodfaPIEYzrzstwJviXcYn+23+efVRBXBaB+zRwq4tKx+nuZxrumMb5P3pM7TBFP2GuGVj56X458HwcwPSOTZz9WvF96U7ZRkQReEDM2rz0J9WKR4fequgcuUIL/pg6yfH5Npo/9VHb8609k/4krsohl+jjYh0G49pMqq/8feHaM8t3/6w+MZ+/Lnr9Ffw/rwWXg1yu/4dzd8fjLMnsVASCCC8zvl2VmQavzywuBD5y/HzLZsXLlPZl+5WW5g3gLMnjlpLaJ5cd4NRpwdexfUrCfcErnAA7WE9Uryqa/W2XBXSFjfpN3VfKLhpd6VA1G2lPpPCfuVmX+7FmZfkn/z5z7i73u7bIcxmnnHgTjYCxT+mP/8Kau+rj+F5l56uc8VCvx7/oHMumnpMNYIwsO+dBAVUvtEqYYBGP8Igv/+aM0/izB5nPVEmDQp9PQe48+JftPLpqMLwasGz4/h57+TE48/yz19J2/WrBXXF2Tqf/X59ggenKvjD2iqxqAr5mnfyk7Hvmp7H/Z8L40L9soh7+zKuaCnnZPJzHI7YnvmKNpySFg66Vf6aFkT0b9YvfFKiGcLLSHeQVMGE8qW3BRjjwOnjwnk2+bPeEKF5+zdZ8epONVPM57D5ZsJQECfXst0eJvf640QKbfe5f4Jj+eeoZz6M6nzsk8zqf68mOZpn35qUy+dF5/Q4AKHkE3klcRp/n8r4JC6Ln4zENy+KLOv8Vzp+VOHOb2H7+R2UX9bf7kD/R+POO2/XHDH3hH22J8GBhLdXwLv6VgN/wG2XzrTV098Omi2mjY/ueBP9sXzIPrFIMp0eF2+us/kKlLGBMSxv9g8/qnlU1646Tc+a8/kR3H3ja/42OZ+a4GtGOc0z6fnkyB7tiOYKvdyXQ94HY6fZq/QHrc91GHM1VkMJ8DDh2PG/MJJ9cKF9AtnhBxbEH+xJgHIjm+kl40J5rOKv5O4y/vL76jbQ9E6BjH/sp7jQanCZ/eb3TeU0WrwJHrvlF9ol/IEvODfNQVeuSfB+oJl8XYwC8fVxwTx6UBCdt0nKF9BrrW3//P3rt/W1ZV9757/ymV388P5rf8dlI+KR4qRs9J4RMKCihAEXwgoNHYouQSTQRj0IpGYyWKF4yaUjxSJCZaRjGICdSBGCscabFEuNblHqzdrNDaOO3TR/+O2edcc64111xz7b3rZtLaZq255phj9P7t3/4Yj7VKthOG1k55LI7VwUeea+aXHcWxwUnkk6+BU8GxqWPQj/b2HDV3s50waX6uBew4XrMNz2oc56u4GHFUjlkX3xb1a37dxcfgZ6XeESZBP/Syk2ixbvRdcD6Xn3OqYGk+gqvjKP+INhMfWWD0r64NmwR74WcrIjgKHdsKgSdQA4AZdzD0q9+ZNlHu1Q5Kn2tNPjiyygpidGjG084bx6HZkXvde6vvBH/u33LxlfNNSmdPp6P3fKIUJyQDVhj2/JkmyGrIPwn0dDryZ3fkFQhPouFux9s4wb4j7T92KherofXpkw+m/W/TERL9Uyn/mItQVkwI3Crm/r9/TTdSrL7mU+n2R/KkpHT13L+nO7/kP2rku+D7HnjKJi7sRO1x59xkd5Oih8lIwfsT6fBPPIF//s4cJD+Td1/S2Z+m25lg4GhNPB0vJdG2SXC1YvOX6fYTudArMqf/SCdPfCf/eJA7WtU+Jxauy+Qijve27+Rfq7Yf9vIk9LavpSNP5glOGWPrF+no3X/sq3I3Vyv2P/5O2vead2Y+in8P+O7un4mPmgT/R3ror28LeL0z5cKFneAW/prDZqcr37H9m7xSrRMR+/76ZDrpP4QlWbee/rd0e2Niu/mev0lHn8Y24b+tird1vGYnwdV9L5RDN3p7Ooyr9vuO/tuMfKd//A/pEv7pIZInf/p3RY1b2a83yyJUxqWsuGlBwXmXk8VN6dcOP5wLbglDGfnzx9LN7/T+in+/K+378o9nZNp6+mS6/UPVBGOzjQP8aNSxL9pR2c0wgQtDtrzNP0ZleLT16TYQXvhA5Kl8YjPy9A/8BAyB3IoJ928tfnECpBEf8w7TU+mwx8l8AmFW3NM//9d0+x/e5vHUf9n3kaOhv5vSHrD276irh62fn0y3/4EmauxA1wu6qJ/iY/6OfV44OVBLkLOTMZ5vi6dbT/8o3fwePwFgfVTP6td2JWP65al05x9/pNrBeW0VJ+07gpY8b67FSS2g/PrnH0u+5lG6M37d9K7iz3kCl7/eYfgTD677O48vT6XDH/Rkfd2X0pGftMWXj+Ujf76iHXnQih+T1Db/OvlguqQsgFXxT1zi9fy/y//mrp2CKfGwwq4a78/9+63883qe4173vvRrrbnt5+nIn97u/uzfJyduflZ8asRDfFh89FdNgm/063Lf+NySr/DJb9ydT2xYEfc71Ukc/q31jnzQJr+4VPgZOFnhEfAMk+Dm/fObdrEfnPtOOQaedxzeWxZObmShgxxNUcqvSBPTz/48HeaHyahPbvof6ejPm/H7F+no5++odsQs7/CNocfSAeKd4umrQ64GV+WrUtCFf9fZJni35u/8qijmO4n4c5j4NvXduetc89gJKnbUkHl/3AFryS+lXhEfB9SPkZ/CE456nrFf0QZLmxQ2dqD9xJ242Ztvi/i46n3sa/W3/+aN6u/y7yxrAuX1snOpqv8cT8ND/PP8rfwL59rwL/kqY2g7gkww5vFxVX3X9bydEBuI4RcAACAASURBVMBfmAxlTtqOpfxb9Y7p7PWJ41LiXeRXG16d92O9E/joOLbzMebPEN/WhU/JN1WN0Bo/anxkoc/ng8ZHfXXN6+PCH9WLqqcDHpGvtfjY4v+yDa+2Qx4WsNhRJs5oMVDxsQWv4ZNgOhMA5dUJFQo/FdAWeBTwi6LvSBuv1l/lnJYY5JBaweI7yCilYwllTA8KLk8sSjZe9/G070/uTfvv+Ez+/lh8piH/ng98Ie2n7Yc+XiUS2ockWtM3Pq/jZCR0jWH3P5L23nFv2v8nd6e9FDy6x2t8Pn5uKx/oKTKxwHBL2rjp03lH4kOHyyQ3O2PAr2D5jmo1RZgLT45xGKZMdsHUVwSjDG3yNeXtde3499G/V39NfN+XNt79F9luH/5EHV900CqSHNNW8Ei4HniEjYJVxI/iOF4bZ3OxU/hZuOlYmsOFnaCI6et/N73gQ3Dh3nTx731k1v5Rf3RiJ1hcHM0eLfhJxtffUXGV71NHeUKiyBM6HXVUEs1BzvhoWMLJBn5afHjNTekFt+Xd3X1MTsBQK52Fj9V3SgpmH7ijbt8on/DCz4s+4Z9YU6GtewHP2mJOvP+ev2yPB2oTxw/9FR9v3tdzWtWHk9ohwSdjwDdetuAnPip+ir/G5+DX9O0J4AUfuidzbh5+feRv6rPg+gUf/qKNu+/d9fic8fGJLf9eNWPf+Jl08VJ8rwqXzEcWnSoMM78+l/a9UwX0fD4Wf8YG8mkWdsHw1iNp/5/cU/fFQXjN86+mv417vef37m7EE/BjVyQfDy08tF0Rj3FWYHTg14d/b/10upgfcpNP2nfe5sWf7vxoMeCuL6bCpUH4d/XvOequL6S9+h2JPv03Y6L5sy8aWq7+fNp/2x0+yfViT/5rr/Jv1T0Bd3hoBXE1QcsnNXx3t498C/yzHt/H5Zv59FLjN/y55OmQX0pMDLi14ak8bfz1PK+Jmvm0YmOVY5aXd6fxahkfTsBJfryIY/C2YON5mpi2pvxSO/liMrTF+xZ5l+LHDjwPlmHBJi9+BRzFL6t3uvw7+LblaPHRT20ox8S6URjudnwWySc90I35oPho9V7AUX5tOGou08jX8ulY76hutN+mIlfDe/jvfr1IvnB/0CS4OtOdCd99nZOt/YqYCKUz8DilO2be4dVxnlvqK5x8h0CA+uu86zIJDs/Ma08AnHtfk+BvVgl8pn1jEjxzP8iycLwueSCTF9BlxYpEaStWeSVFxZx9Z4BEYkU231nSRNftYfJUSWAt8gadd0//0t+Pxbhj5u+YBz4Wx8xBy/AEa4IW36GRLdzhdo9+i/xxxPsKOPadaC+mwUffGVHAiic4fKVz5js2gSuD/SP0UezR8Esrdhr+VSbBbc/7Z6W/0a/FRxZsWI3Wd9Z84cuLl7xj7AsN+LsKZFs0eE/+zpfs0dBvVDxH078+CR4FX+mv7+iTHIl/8NFyTbWAVU4UWXz0FWOwx5+XzDe7E98qV/WWbwY/Cmh+t4PvgFG0aJIG/1TE5QmF7fDp+XOCfwPw6RUfxJ9QQFu9k7+rVtU7FZaGr8dFLfKbP/ynx9ML2uLP1cKr+a/yCztwNsHQgirfMaatJrv6DuJ/xnon5HurWfKpJDtRExYayokkx3HGv+1Zt8d/Vv+WP3ICCDy0sRJ34L1urPGR+1p8MRz/M/NR8VH1jvPR87QtQJf5jC8YlHpHm3aqdzxfj8DHQZPgPNuunGLQNaSCFLZjkcEps3ibXAzrP0+CT6YbSh8EAvXF65LXn/lROrn1H+mh+9VHy/P3n7IfXzn6mQH9LytPbG8YOo7mlPpu33h4Lo1XlM9wb8FrFXusq//IR5wyrtIpAJ5L+hSMtxt/5x5+HXYka6t0RbY1+0vNL9v999BDp9PW1ql0Z5Fpu/HqGK/p20x4VYyc83ysT4JXis+L4kHB0b9T5zvkO8LHczF+CD9wU64uvrJm/z0X8eriY8SR/CIsa7484bmw3jAcqyPVtlAz49OK9ROec/EUlqodxcnJv8OcoSM/R4zk23YCVr5dTdLWmt+64k2Rb5H8u+h+4SP1tx9lFrZr1Gf4JNhWzMNka5dc3/zg0+nE4w+l/btEnlJsTfLUd6wmPCY8CGwEOX+t7ShN/Pj/MT/uSYcffzqd+P4Dk/0n/k/+P8U/P4Ex5YMpH071wFQP5TiwXfXgsElw2ZHwY7bTdS7mDAdhgiH1ntfpesJj4kPFgckfKiym+DDFx8kfJn+Y8kPFgckfKiym/DDlh8kf1uUPgybBdiZe3zPlOxtM9qbr8r2+CY+JD5M/eEE3xYcpPk75YcqPU30w1QceB6b6aKqPpvpoqo9sUrsL6sNBk2D9gMP0yvek/Psp02v+ntOEw4QD3y2aeDDxYOLB5AdTHJjiwBQHpjgwxYEpDuzSOLDCJPg9+d9hMsXyj2bkX331H9C4ZLo/4VFxgQWTCY8Jj7xwNsWLyR+meDDFwykeTvGw4sDkDxUWU36Y8sPkD9vjD8MmwfrVV/8nOsqvwE7XebVnwsdXvfyfKZjwmPCwxbKJD1b0Tv4w+cPkD/7v1IdfkZ/qh6l+wC+m+DjFxyk+TvFxm/LBoEnwJsJZoMqv0/WEx8QHJniTP8CDKR5M8WCKB1M8mOLhlA+mfDDlw6kemOqB3VwPDJoE27+hyiSYf0t1ep1wmHgw+cEUB6Y4MMWBKQ5McWCKA1McmOLAFAemOHCOxIHhk+DfvjVtQnT+4XeUna4nPCY+TP4wxYMpHk75YMqHUz0w1QNTPTDVA1M9MNUDu7weGDYJ/u1bsnNDcPubrjMOEx4TH+DA5A+TPygWTHyY/GGKB1M8mOJBxYHJHyospvww5YfJH3bSHwZNgjfLxBfj3ZKmawWyCY+JD5M/TPFgige5sJni4RQPp3g4xcMpHk7xMOeCKR5O8XC3xcNBk+CN/+6Enl7zrt+Ew4QDu78TDyYeTDyY/GCKA1McmOLAFAemODDFgSkO7Po4MHASfHPa+O83p00zcH4/XU94THxgIjz5gzCY+DDxQVyY8sOUH6Z4MMWDKR5M9YE4MMWDKR6ICztZH6w0CY4KTO+r4DZhMWExcWDiwMSBiQMTByYOTByYODBxYOLAxIHdyYFBk+BNdrv+27vyrtd/e1earic8Jj5M/mBBfooHUzyc8sOUH6f6YKqPPA5M9eFUH0714VQf7tb6cNAk2AhNkpv+JgwmDkwcmDgwcWDiwMSBiQMTByYOTByYODBx4BziwAqT4JvSpil6kxt8up7wYGFk4kNeHJr8YfKHyR+meDDFwyke5jgwxcMpHk7xcIqHUzzcXfFw2CT4NRD5prQxvU44TDyY/GCKA1McmOLAFAemODDFgSkOTHFgigNTHDiH4sCgSfDmq9+RNl799uzsr3ln2jSF37lz10UeZNgF8vTGI+O4+Zosty0q7Kj87zS7mn1NJhY6zhE8jQPguUvkLfK8Y+f9ozcfb8r4SXaS2U7bH3u+Bru+Y+fiyzL4Rbwcxx2Pj0X+jOPuiTc9+IX9DccdzC8FP5d3N/lH5NuMv075ZZT4RS6k3rEYtBvyS5Bnt+S7vvXCq9/h/rxL4nmJL8hzDtWPr0ZWj+fN+LRj1+dgfiF+lvpil9hf8eZc46Pn6V1T73ieXiTPoEnwxivekjZecX3aeNXbSmJQANne13ekjd96W9p45fXJZEIeJ86uf8VAr3yry33DDuNIUn1H2njVDVke5OL6XMHyt96eNi6+IfPgVTemDa53UnbJg59cfOO5hSU+hD+B507jaJyUPG/deXmW4RRFM350MXITl3bYn5ABWXaLPH2xxJ/hI7HJFl5zobIj/l3j4y6I2XMxfEfauNjzIr680/HcsFN+uX7n5ZmLXeQYeREOviXz0Hw53t/m95GD+MVOy9MbR9UYN+Yaw+IQeXoH4yLxRPGFWL3T+W4ZLJE15pcd9W/qcK/BSn7ZZr9YBrvYFtysdnxr5sKO4igfCbXsTssTsZr3nji0W+pGYork6eHXwybBF12XNi66Nm2+/M2ZQL5KajsMMhorfoC2zmsC2CvenDYkD0ZY53hj6vNbb0ubL884bvD6yremTcfRCrztwE/6WAB7a5DnzbbAsXb7aXx/HTwehH/5m9Om8SBjiRMM7m+oPHBPk8iLrsvyMBFGvu205yry40OO4yYBRAtd2y7/29OmLcrIv69Lm/j7OeHfObFafLzoWl/oujHsgOS4uG38/K1ceJZ445OibRt/KB95zmIkcfK6tBkLrB3h443FN0yenYrXffFUfsGfX3H9Lsov151D+YXJBjHx2iqeexzadv8h9uG71F1Wf12XF7X68sHbbXt9IfnwF/JhyS8sbnlM325/pj4wLHNsIc5Yvjkn8ss7ze4lnoPpq27YRfmFTZS3b3/9NYTf8E/+xFwCTlAPbzcfGQ//INZ43N602tE3dHZCnmXwfOX1Xn9fm3V41dt2jo9u0zwfuLbEmK54PWwSfOG1FoQJxBbQNNsmgGzHH5MKyGrjX5s2JA+k2Y7xxxiDyUVNfgoVgpnvZI4xxqI+cHbGY1xLTG5XgkKY/Ox6TEMgK5iycs/nKlQXYbHyfWH55oqPNgECyyrR72os4QNBWP4k+W03248DroxTjxhh/v3WkgyyPF7wbZs9e8jZiQWr4m+tfAo8SWza/eh8bpUxW541/66K5so3cpGyq7loGL0941bj43b7dVhVbsZrFhe2y5ZLj/P2Rn6Bgx6LvMhbu+wlv+RJW+EfOJ4z+YWYSH4MNY/5clUsrx1HbE9M1AJl9Ac+OydioutArRHl18Rj23QIu7+yqclzLuYX5yTy49vbXof77q9PIouPnEuctNrRN6OMD2yi+AmLpWNuSw7u04fFybdVG3ryD3D1DZRtiTF9ZG1t04iRyK+5zLb5NfFFfIz2vDbXXa1yZ3sNmgRvQpYLr8mJ4cJrkl2b0ux4vd1XAFQ0j3z9qhvTpiWDKgAUeZBh3eOP1T/O5zgW+d0JbcerkH9k/CS/OV4ukGvjY08VS0acNY1fnGOE/g1LJ774CD89weYd9jXxETzN+Zi0MQF2f5B/sENtk+A1ju92yoFyBTzh3Cvekv1Z8osP2oUTf8a0X5E/Fyh1/3Y88Q1kWOv4BMUV8Cv+4osJLCzV+OA7cubba+YDY/hEfMa/a8XSGPpm3FbmX8FP/eWJ3Iz8Kpzxu1HspfGa9nc+WuHeyHfw0SbBuxQ/sOnKL7bb4V9lWhd+yi92IqalXrCY2MR7F16zY0i9EeOh5WnteHDCI/NwfP7nws7yBxxssyc7MOscf0x+WH7hxFaDDywqlInHGv3J8vQNyXbYZuxZTYLLb97MxKPdwk/ll4xjhec25hf8lzzS5t/FlrsFryxHq39efEM+AdnkAzkGHX9rjXyEX/TPiTff/a3VCy7DOcFHZG3GJ1/4t/p4LfVi4JfxUSd2GvHlVXHRf9aegybBlhAgja0A5ULPPisrpHkynI8VvN2PF6z4akUd3ynKE40sg684IIvkAWwvjnb1K0aT3BTLPoGyzyATgcRWy9egD/16ACvjYTv+kAl5PABQZO5qHJHPTgUE2dEjJlrDUjvsI+sTnK+GpU+AzK7Idy7gaEUKK/Ve8KNDDUedVFizf5cxGR+7+oIXdnz123Y/H8ERWZFb/iSd+Ozla8QRnum7/SW++E60rpENGXd9nPTTMp18XKMelm98N1+4mT8ozrCbuYv9GvmL3L5TVK6vWWN+eVvOHTX++/iKifjCuZJfwFGLIOBnNY/7NdfUI1pUGN2ffCFLeZnxwDBes0uNjOdCfsHmqt/gQDNPg7PxYg36WM3jR00NR3KK8ovnu3Muv7TkacsvgZOj88JPYUafwJbybbAVJ0f3B19sGrNfqx1jnvZ6Az3gpy0Yr4GPlqdVh4d4clE1mbTxz4k46bvY8qvt9GvqQWyouFJkCPNEfhtjjh+sMAk+lFcwIIkH5U0E4I9gwo6tDezFFiuqg6/zj6PYdyAuPFSK9PydRU0mD6VNgCAh4CQrjbcNz7MCpcLYimKtUFYOYSuWJcGugl/QJxTI2V6+kMB3ki2wHcoBDfkG2yuMtx32QCf7zha6sIKXnSLjiz4UK2/JO7IkwzH4wXcefBzr/8JD1YkIbMYOsDkkCwocnRvJfuvEk74VTFjhxbfhhPHU9aMIRD/7zke28+p4un9bInV76TugNn6OKybPOvUfje+NHXXiITs2Hic1MS7xaww+wi+wYffXxjnk/PMFNfzb7agFtt3v30yCPafg30p2kY/wY2z/smJdJyLER0501JOtXe9WPuKflo8PZT6Qj4svgyn5ssJulPhk/AMjFtKcfxTlXJNP/HOz6bmSX5wLpg/xCQ76AnLxJz7Hv40LY+UXTryxCBPqAWIvn/EX842Pu+v9GSy12E98N3/y36AQXwzj/CNFo+nT5s/kZ4snvuh74bUZ793qz7X6wfMLvgU/WvOL64PuY+YXuBfr/Ti+8rd/FW00+40lf1t+Lz52KJ/4MP38RJ/Vb9qQGrMezhO3HA89v8E/j5Mlf4Oz5bZtrqeXxjvXjbne9cXhcqLQ52vyt7Hqb9U7hY+x3skxsuQ/JsE1/6njOWwSfAGKHcoFV0l8PvO2e3nSkb8DR1JY4S8WHupbyYh+cXLJA2lWGWs7nyUAW5Hiq8vShV/dJrjZZJ8CRk64AobWdyiQL8hFkAVQc7wb864zCcqw5OhpnridE3jasU8vFtABTnjiMx0jb3AaSwwr4MnzOBY8LH1T7PkPfYCdsFRS305uDR0LvZpy8xlJ1hLcNVlfJb5VceQ4Kf7NmHBeWHJt/PPvq8tPkINnhuq3bc+1yK3TF15AmH/74swovgaOZie3kSVwP2ZofGWhyO/h85aMVvCBbcGSr4wEzqEHf8gPB+ELsQxMiQGr8lE4mY3ou0rgpW/5B/gy5rbgMMBO2NfwYRLP0e3mDq3rh1/Dm1X5YPxui4m+u8f9GnbnSH6BExafHEcrSon/foQRHogn5lfotUKMMg764mOtb8VE3z3SZoAt/K8w3nbyV5iBl+VFFlNb8ktYOFnJv4o/h9qUeOKbDtY3OdvqIa+zVrHdtmHpMRC50Uf+WxZAVd81TyoMiCPSqdgp5GmLHR53VYNhW9uIOEc4ST2In+FP5r/u25Zjom+PmWOqhYQcO0LtCM7Ea+Th1eLNCnaT/db6Ch+9FoaP+HktHwQ+wlV+Y2ZVecDF5krBRuTtV3peoT5X/mPMOeMNmgRvqnMvPGwFFONBHL4Dp/sm1Ft9B84VZ0UagWjvr53X5ljX5RVt+rQA5ivyep4V5TjeMv0vGn+d9zGWO5/tYEsf5McxzRGygW3FWQ46RD/Zhj4vOJQ2LXhqch3s4UWKjYcM69Q/6uvjDB4PnhiWuSC271DRv+ntv1pHUIEn8NMc0Z1lWTzhGyudpUA5lHf4LBHlMW2FmwRhnGUHKxToy463ne3Bi1/JdLk1sdikMEA/nxzYffSHk+DB/SH2NJ4H/6ZP+w61F0fw4hW+o479HOPOeLFr+Eos9MKLHQ5xA/nAS/c8btl38M3fnD/L+gP8Igk5J8sJBOed4WVYezxRLNk1eHXlA075EK889rtP5+9IMuFSPPPJquEMH7v6y5+3368WEUo+of9ygsTzFfxEHvjId4220z+XtZf4RSyK/ul+V/hCXhUnhuhD3zxPP+QXeBgK5IK38gv3je/z7NGjPlgWj0Ht3V+Ng3lxuOhDIQYfXG/Dk/g5NN6DYzkxEvKV2SbkK7AzDuZJzuD4OwiPUC8s+zx4sQMsLLk2vqE3E4McM7N/5VzA58P0kz9fW/lrmz/j3zYJ1mRyBf2WxWNwe88vLvfc/EL89DrcYsAg/9ZCdfBv+qzllxCPbRIc+Op6Dq7v1vk8/ib/9RiY/Vv8YT6T9bZ8w6/sex5aWh+Pk1Zfy3854RTrA37l2/OajWf11ZB8tp3xM9eNiklW/6IrdsN/vW7M9/3ErjY5hvAR3tGn28XyDbHD7WL2A1MwJh/V8J3170GT4I0Lrk72p85FChTjM9vV8TYkPAVxtVv0av0w0aDI8X4aiVoK26pDaePfNVrU/264XxJZdVyt6IR8MrQVtmCQJ3g58PgkYZEehmMkzNW+wsSKCf9maOzHV7bBUkXKov53y33jnAcqC85RrzCBM6cAS8e8yd+5+ji3i0N7P3yHAyzjs9jOJsFX50J9qXF8Qhn726738MGCS4fcxkk/LWA+56uVpl8D83kyMw4xoXDbJzltcYKE6sEsFuo1vOeNtSP3vGhAbpu8+7FTyWI4R/2Fd6Od2ne90o9x31fn5bskBO7F5+CoLQRdnYtNL0BrbWL7XfGehUISGfhohVn+oSIl6A7e8AWeLiO/2YMC3MeiHwqRNr+1iZz7PqvNy4yzrW1vqHInebQ5tumshZMYE8GuwZ3ms+X6hipPmY967iD2zdggT4ByPmdBa0kblTFl/+16DTGReNWmV4llmrjCnbxAOIN7px4tMRG7tfUDLxV/NeHo7He7cOoxDthZge/xroklnCxYKr/KD/ty0msncKnlF/XTkJPxjLuqUxv3dyWuMb+0yF1w9B1Fi5/Opd6+7Tui+KnVBB4bwbQ1v/iPxzEW7ZcZZycxtvzpuoWJlPktOHJfk1J0K/ovE79CnKxx0uvwGla+Oaaxmj6yk1h1jg0ffa6Gfk2ZLdfE/Kp6Z8n8afZozAvNHi11E3ETDPnjfafsN6bhk+Dzr847lsWAN/gKSUWcTYqK85Vg+Q5GTLChvQno1zidF76bUsILkrzCoGAY2tMOeWiHPIDFCgrv6Y9rVlh8nAzINl2bLH5GXbK5XIYPsnvQmJGPZ3FMx9HaOxZZPwJ2Aw9do390YPChn1KgNPSnPWNhL4j1Sr5DW2EJjmY/wzKPOyPv2vGVPbEpJwyyXfNEgB0IL17b7I38lhhV6DpfSIJt7SNfuK/vOBifwchXtEoxF/CE56zwYVvDEmfnvgdD7iOP5I/8t8/WjC/6FHtG/8jfrbbAYTvmLf6K7Bwn0w4deMBJ2zFze3Tq4/bzpFr3b+dbU3846QV2+Q6j4eh47gr/znat7Jn9tvi3BeHAD+HD5/AD/eSfcNTj5Fz/gv9WMPbkMyveisdgavHRCx3xYaf56Hat/JGCwBMZfGuTD/vDJ+NjzgPGR/Rta2+fyb/gox/hBX/zVy2Q6QRTI75qceuCq6t8Bn4x3/i4c+0X44v44K9L56cYT5CF8eGH50XDo3U85ZdrMv9oz2IDmIgfNbxCvuH+TH6JBXKD77QHO9UDZp8G/9DD5Jd9wnit8o983/3AZIj2hF/mn76D3bQXzyk/gKHzyPyzLT/MPJ85XPyTeGA7RB14gLvihdcONf4Zjh387bLnqPiG/KL4DJ7IRa4wfK6p/Cfi4VgSFwsetgGiE4ANf6zp4/4c4wFYcm35toUvJb+E78gjA/4T+TAqPkvw221Zrxc8v6AbMZ080CbfjH+CxRL5ZSY/+YQbXJrjwX9yGf4N3lafBf+2a49N0d41+7XYZ9T72a6Vf+v0qudfy70t/ILDnGBQ/lzkn1E/41CeSJfnrU7ViZHGeOYjHo8tFvtkO8Yj42cjvjbtsa5r42PId2afXDeW/Emb5vjIX+oVx9v8ukf9DZ5Wv+e60+IH8c/rzpwzGnjAR+IMfIz1l2MX/WnYJPj8q3LnNoFQoM7AiGBWyOEMEIb2CFQmcF5cSyBeAbM4rQvvZMvftWz0T3vAtoTg8vjkzRydsUm6fGbjupwa054Pfa7l2if0kgF5CEI4G39gIlw6xydBhlVNw9IDXyCk4Sfd+Nz6d+whAo6nACi8S3vHwYoUtxXHK2lvf/4DDJDW+nB7xec75fe+V73PWPANGcAT+yILeopnwtIKj2Dbom/AEkyEpenUwQ/64r4FQMeG8SP3S/+MCfb+ncXYP581OWl9jITPMvhKPrAsnHxLxpLPkBsd8S3ZuNa/60gbMLf2Kjb8mVp715FgpCII/M2/KVDyIkEZK+JptnU/4T19mM3d7hYI86Su9flW+cfir3MDGQxH/okKOBn0BB8+kxx6FT7obideOuJks71injhvHGvEVp5R/3qecRSLDTNwhJMBR/pUTGk+v85rw8vjNTKYX78l8yLyS7LN6NeMd85fw70rPxFPPK6CofioWNClby1GcgokYogOeUFoBv+u/mSfofcZHz9s46Dp5VjYOCHGlfGCL5eYCGcpTtrahxgnPvEcMgi7GfvkSZHJKL6CvXGP15BfbNwW/hZ51xQvrdBFDsdSPERGdBM/FBPb5OEedjDOKr7p+34ud83eXr/g/wV7nUII2DfxBCOTxxctwNLwdP6ZLYIvN59f9zXf1cNPSn4hLrqfKI8io2HZ5p+OC89H/8cmXfijE2PIVrKXPdNRb8Lv6M+8L7x0LJEh8ppx1o1f6Z/8EmpY3putVV84x5CvjY/0UzjZN7+EhQT5NzZQXFNMaI4H9mqPDbiWzZGb580WHfVBs7+xr5HFOEl+cT6afMxRfL7B51368Tk4S0fDBD2rRYVajjf5PS8Z58OcZi6f/MQW/OU52Vuymg5+qkGyFr6EGDM2ftIn2hI9kMuw9boRfOBc6/iKd8GvwTHyAl1q+nh+KnG1OZdstvdrZFL+0+8qGYYh37i9B02CN9W5E9tm+AyA8qzwYhySihHHvwOiZzijjWHtPgL7DiOfWQC7Kln/gOng5P7oO4NoK9C0xwismJa+c0GeVwAobPKfXdPeAPYVvkKgdV7n76oW+aI8kvn8q/KKxlx5RARfIeLZQJ68Q+t4swICbubYubjLKyburFrhbI6nIgB5JJv3Ua5t3EPZvs3n132tYB7l88KhZm/4hf5wwyZMb8k7FjyPjGVFqXLE8h0lb1NWgHnednRjAvHvFIvf8J3n4L87me14KFgib7GF81H44j+2I5v9YNv4CT6SIeIZ7W3Bh+XxogAAIABJREFULBfChkebfQ0f/w0A40YuygyPWnslgxwoN0uBgo2IF3P0t++Q+UQb+diBa+KppLvd/o3+8C1gCa7GJ+emXVucVMJwvoiP+KP5XrVgaP3x9QeLqTE+5Thg/lzGZEVUxaHz23ieYzF9WHwOSaTIF+0t+9F+nj264kfN3nPs2fY8hWbRJ/iL+1DGw3+Ise155AVD8Co7wkqW/Mq5+37hhxeXRX8vJmfwVn4K+sR8wy51m3+jzyp4LIM/O2YBu1Z5wBGOWNHy5ioegpnFn5hfFP8pTnKxVeMD/mrxw30S/Yv/eX/WL/zLMdFOGDF+tKf4FuMPn6GPYadJYOR/iz26+LAs/tQHjmPBU/xQvLGYuCBeCR/T1fkBH6z+yDna8IST2CPGD3DUd4rnyQ9Pg81n4qFhSzG6IH4Xfwj8HgNP9Iry6b3wNPl8YsV3qtHHfK9RP4LR3PwrPsifc542PMDfagD4Ay8VD6/P43GviX+Rr+K2+RP2Myw13sh4dfn73Pzi9S35ED3m8WUmv+iEGjV79K85+YWFjXl8gd/yb3DUX/RvPuM3Prr0ndf/PP369OdzC7NnjY9XJ6tH+Ez+18VHZNBvlJQ+qDdzHVPDx/w7L4iVeGJx0k/EYhPnZb1+DPMlx7DVv8nnhkm035r56TGy6IN8lv+8Pna/ns23DX8xPmqx0PM92MzEK8c71geq78F3Hl9iPIeXbXxE3ldeP/A49L4rc5DTqxHCCwmUYWXTkq4nXq10lvYeABWYNGkr96/ylSMPVNzH6PQthURCXvWcXq3IxkAhmJVA4eRzAolIa3lFP2SWXMUQLpc+p00feWyFtSKPJRqexeDmdF5o7KsCpOFmAWyB3iJmxFM4OtlND/A3Ai7or48+y7TBQbSKbPp5oI3yCk+9Sn6egz/8wQP7q4qyYp8allVQr+57YlUf1mfkZMOukkP2MD5enTZ0zXjbjSV2Nn+U3wQ/KfJemf2MZLDIRsgPDnBEz4M3GHEPuzXvwyHdX9Q/z8rX1b9dB99mbHxgUV9j30eHqLfijeRsvhof/UecjDuBj8g/g1NYJQVLi5Mh4YADCUJ85JW4i33hVjNWzsiTF8lq+O4EjshZ/DjYNcoLzn18xeKET6r1vPm1Fmm1ixL4b37Yg+vwBxupX72Kj7qG/2Nzras/xtK4YCQOFjylp+cEPqcdiyyWp32Hxjik/BHye8HOJ8pcm77eL7bTBLvkaeKBFhk77Kk+zCe8DXrQXx87d+Ex6HOfkApHyWR4Bvy47hsTLTYEXvMs3IGf9MH7goEK8J4xDB/l2VZ5PQ6brD37G4TZnPwPD4p8MU87ByW3XoW35emunfigLxwB3878Uk2wrR38BG/6t1gT+FbkDP1LHtmHZ/rYfXQce+QX7Azei8Ym7zfzh541HFvyizjbp340vjdwNfyC/3NtsmpRcg6HFumz1H0/BVX4Jh7qNcQ7yYzu8IV4B3eQGx3NdxUn/fmCU15UsDYxTtKncZY+4smhnnla9SK8pC/0sIWZbcYRDDS+cIrXyAUWfXyl8DHUjTW/Fh877i+yP7aSvfUaZZbcr3zLwEmwB5LaCsW+K/OKNAP6X7ViQDJgxcUNaPfZAXWC+eflvgehskLTvK/nRQqAZ0UM4vGHsVhBhLy05Xl2lABOCdZ2oNZ8zVhg5TLkHUpkw4l8BR+C42xFnmpVtFNeI2PA0xyWHTknDH3aCmHcIdIOvTsO4ykhOy41vJBPjh/HYwwPmp3yqb8x8WaHCtuCJTJgX7Oz29x2CDPP7L5WII0rmZOFj8absKPobey+YZmPpxU+yn7cE+fm8b3070kXuSUv77nP87zHBuvAq/Ap2Fv2oPiV/MgAjvYdrDB5AE+CGbYmCbJi73afkZfP9avS8nGet8Kj6tP8mfG83178oQ/5P/hTXPOZ7RA43/kc+aTfduFJoHVb4uemr3Tm2uOkOFPjk/BHN/GlcCPHycLXpr7iq+Ghws538Jp8d+6CYY7XYJifKfJajPLn0Wm78JO9PEaavpqYwUdsTSxDB/jUxb+mvLSL/NDz8NzHMv6DH+N5vzP8MV574SN/wkaOsdkXGf04b7FvLZ63+F9T3lWu0cHkucrjoS/2Eb81EaVNiYdVDi7yGgedH97W8Am+nPH0XCb9uU/7Wv+N/E/bZv/Gv2sqfyEfSj766rKH+LIKXvTd9jzxw+XMNcSbKzyRCX/lNfpHM3825SPOFZ/2+gjd4Yf0ZUw4aCcwOuoR4i/3HRdb8Cvxwyd81DfIJn5SbzFZ7tJXfF7HffxM8iGP5WnqMS3MeT3ovJGPFz5GfhEbvV3tvr4TCJ5gqPF4b+3DDl/sz98b/t4uc1j/rnWQV1gyxm7IL56nZ/jD51bP5Tw9N7+KI03+XRTqR8fQ6qu+/AAf8ARfXmv5MPCdWMkPCq6Tf03/RgfyB3rxh7+p3rFY5Hy0PAyXAp8iX+x55c9Qf9MGPOELuZo+xUe753iIqy5Hjc9qzz3Dj/q0UT/SN/fpE3uhV1/7jIE3PNP4si86N+NZ3/oO2eGj41Ls4zwv+Bgm11T1aNO+8An+qV7lPvVokRX8Q75xntr9VwydBDMYwpcVtnpwM6AkgJHoYDacvSdJLnvt5DUwUMiPc1hxGFZoLFk4MQCY+xoTWUWa7XoFJ3OIg7nQVVKS8SUb+vAZ7SEV18guo87IC/5e0J3fwJNrxsQ+4DHzrI+j5xlP4/AemcCZ5/Uscjtx7FXtdX87XhnTsES/pny+cICc6GW8CJxEdgW4Jl5mg2X5CEZVcWeYIBt/YMj4hr/bIOKFfPIN2sd724Jj43QC8mhcszMB/GC2tziETlaMiFfaVWvwi/aykbgtfNE5ck1jLnotnCTw+/frKD7501jG16DHoj7Hul9sebDur9iUP/AofPTkiMziI8l2FD4G/oIFf4xhYwVOEgPNpmFxAyzMvj55iXwYC6dF/Si2gAcclE/wii7ioz5f1J/uo0vpu5qcWX/wGTzmxUjDxbFUn8ZH4vmVjiU+4HwME/biU3puXa+mn8sjfMorsT5wENnFP54TV2q+2sgnxX8b+NWe6cM/uNfBP4s7oYCW/OvCrK1fZEMn7BoWRoyLFHl2z/MO8hm38GUmTSFXNvumrXhUMHO8wJ+JYZe+cJO+GR+7aRzJSn/0rTFpX/jZOEWiNtvxSpwueIW4jHz256ex8D/k5U+8FCctLopzgV+G4RLX9GN9et3YjInipC1oxHzmJ88YD18R9tuBn8ZANmRHhpL7Qp0ojLnHM8ZJ19Paz8nTxhPvO9bjxv/ANcmy6DXKSt9wGlvzHLJID/uKRYdci8YYeh9ZlAeQQ7as8dE3pwoXlac19xAXO+Kj8dLjR8TTPm/y1dsZL0OuZmz+wAsZhaHiA3HScKTeAOPI1214j+3ML1XvyJ8btRhyLmMri//1BVbjvPgtPrX1CQbIhX3jvAA+yiY8z7PCixige69487Cd4LIC4UKV73RgLGbkCICRGJwVmEbC3QTI85wY5x1Mmwh0nojhK6YY2xQLOywQQzN+EUMrYAGgLJ8fOaJ/xlOg6GxfkWhGv9A3YPa+j4zoL2M6Oex5dDEcWGH27+9wnxUhGQj80LdrfCdPxs8LIVZoAjYz8tJfDEqsYGEvnmE8wyvvnIvItqJszpcTytz+l8FH/OnSL94HL/iAfEb2Krl245MnIyY/CRe9bYcpr/xZf1oRFeaFj1XgKitUxkdfoQMrC1bX5RV38HPcO+VBH1bswRL+Y3e+Y9JH/9BmpfbaUWd85GDHTH0jP/wRXy0Q+7/Ti3/65/YdVOdyK7/AJuJpE45qUaeM5+POvcZeFngrH7b2xn3nA3rA4T79jclPxoQ/6IrOi+zPfYuP9QXEsmPscbKsYNJvk4/mn5UtbPxY2IEXcsmnbQepXnTM4E2slr1YQRUftgtP92vjY4x34HW+x0NsvAjfNnl1QiHmG8YjHrS1hx8WazxRGt6hcJJ/gJf7QOGj+7XlO5sY55yyVjwvcP6ZPNnO3eMpHsYFGlbI65OQHO88Hy/LP514sdjh4wUsZuIFeIMj2KED/uR27rTPOvgJHzzOWH7UGPYdwEM5XnucMfnslEKuW8zePN/FTz5XzhWe3hfPtNorPFPqAezEv9qAb1v8Ju74v4OJvDyD/zuOiomt/Uu/MeOh9fmWXF+05Rcfc0Ye5NYf/gqWxFOb/LfUj+gX/Zlr6Qx/LI5Wi4D5xIsWYMKOUZc8fA4nGR970R+Yz2vv91r5He4tdZ8xrT5p5BewEv+Ij4plcKxv/Yh/grHiq+wFnzyuLaWv+U+uayyehD4Mf7MPOZwdzAX5aCheXfYBrxhf0D2MUeMj/iguogP12hA+ip9tO7zwCuyxF/2X8RbEb+SRveiD50b33znzGyab4let3snznOyDVw7jD7rRp/oXH8knrqdsVuzF5/AJ21r7XCPaffcF81/eR3tTL8k+Lx84CS4BKxqv9b1WM8JqtBKuBJcwCIZhnRgUixaIWvsNQXPefUC1/g+WI0f9Ze85xrzxMWytwIu/SseE92CWjzbWjwfeEuR9Rw4n7BoHnEp7L8y62tIPOGtcnuPasPaVT9kjjunBOBMt7NZ0jbOOz5GRyRTyUawg0+BxnJf0Ad/8eIz1H7FhPDjEfQJAGVO8HsCR4Jw2HhwZrMeA8RkrBgHkKeM3+CoO0AaORmzApeDRkIPPxXs4RtsyRqPtos95lnH5ww6lfeADY2Cfcm/JMYY+By6KY6bjUFv6zkjhoy8gwj/1L78EV4uV1SJM8d+hXCLuyrY7gaN0NDtGDHPSXz3uhBgJjuL1jN0pekj0nlQt1vjXVdS2+M7BBv/DGCzSqf26XxnLuIE8EbshPqAdOsVE3w2hf/3BPyviwm8sDOWdsIH34gCvq/anfpd5NbsrzsR4RU72vGP8JO+AU/B94wlxjhjUZQM/JWO2WhATsaPFPU32GnUAslo/xEQvhk1Xf87kyQuc28bDiDWyS09kjfeWeu9YgkeMjXDQNhDcXnDGOFlNLPKYXbbo4xuNXMj4S8neZ4wFbcAO3Sz3wUnpg2yOMTgoLyKjxXLnDTYAq3nxjnim2M/7MsYC2ZpYmP/4uMZJyeqbK/gO41D/Dx2jOWbva/KIJkq+wdP72YiD+NioG42PbifxntxtsVL1oxZh6C9gs4wcFic7MF6mn6FtsZ24Uqt3oq+sUpsHO4GjjRHxD++JCcrFhrlzXdgqRrb1g134nL9VJ8G1FYzaCkoWdu59VpxMkCtKIJ/bftn+WcHFaOddUYLIuP3HFaMufYNRWeGIgZQVTxEKoyAv5LRA5isiMhSFjlZEAoFLewLMeVfkFRGRoIZXLu5sRVN9Ig/BSjKxA8O14eUrKhrLnO+qbK9QpGwrnrajA3mvyAmwCw/JXNO/yz7BqWhPYSOb2I5EPViNom9JFldUK8wu8yj9L9K/BA/4kldmldxtBVgBAv3FDfoEb91zDtkOJvo45yr54f3VmS9WOOZCqLrf0x6MG5K0rShLv8gHxlgHHzSWv87IX2xJAPYV9PDMTPtwD8x73S/6X1H3177PhzE7xzO/P5jtZfZcwj59+vc2neNbgXJF3sEKnLP2xR99hXnoePtcP7g7w9ccd3O+0ITP46kVbQGP4AM1/7B4nuOwHctSPB8qb1/7qrhjxwrfHns87GE2wD4Vdr3520ceyy9X7mx+IX6Ia158Gf+QzSbBipfVpM7sD/4Fn/qico3v5Fcr2qhHiFd+YquJDxMWL+5yfaSJjO+I0J48Rb5nXKsdIj+rXQ7LZ83+136tibjwqhYUanj05XebvNiEE3b4ssf+UfloGPMrvao35tRfbfL5Zyvrq/xido58yROArH81Waj4GutH6qU58sf8EmLd0njiPx7HbSJOPBQ2vihifL2ommiX+2PhpfFm+st1eOEL/FmFf239m/6K//nkwOj6IbdiFPzv1DfEg9Bm5fY2n9LGXYOP1Ivmj9Xi8KDxtNFFfHM7YatiLy2IaTzNV5r1FzvEVqcyv8wxqMjjfm33X37dsOPQuYgg4a7wpwkXSlggX6GvLjniGAbEGsboGpvPMaICQwnWLgP30N0mdVr91j3tSLhTydDoYIVO0MMSIsT05NqUh3HAwVZOfTwcic9iX7xX0Od+mdy4LHoePYycQYbmmOu4rmHZkG+s8XByCzKeONahJzZc9xjz8MDOFmiqxaHix+hrO0vVQkO5R58q0CS/uNvkpdnKCwjjvVZ/B3BGhSMBLfrwdvBhHo7cM1sq8WlBaYCO88bxgtj8u+mz855b5p75vccQK4RG1mGRLHAELmFj4llsL64Rf1bxR/XDa7MfYp1in8lRFY41WZCrtGvEIPpU0kXWqMM63ysuM7bt+IxsO+KFMOF1HbqAv/TYqfyCDNITn5Oe2FUxEe7EvEgb7ofCzfrwSUfpw9pp58LjbpkMuL3A2XBgxyrkafjWtKsVo96G+0XWOIYWOEfmg8aa96q6C7xizJ73zDL3wEl+CF/WMUbN7nmRteC8jKyrtJ3JL4EryottGMOl+Cx8MpxacpT6oQ12GyovNlEcxzbgp76MD55fVhlD/S37ajWP5xhkbPrwsv21tTf9XUf8P+rf1n7IZ3EMw3ibfVt+DVfgDbhKjzLPaYmRatPnVf0wRtNOhdeOc43XQRbGiTGyybk4xsuvHTYJth0jAcAKJ4Muey3ne9nlviNWOfig/mbG98kf/ctoLuc4/feQ1xIkK9xe4GFU4cV7Pn+Z7zjIaXQffWjDdwCs3eW5yGIFiLbSlxUoCqCXXZ6DkK3AuT14Xium3Kcf2wHWUdbcLuORV1fpp/qOo9+3HdIqiNTGj/KuE1/D4irTc0a+IfwTflF+dxzDW0V3vD+GfvrOFvawYMkK/wD/aZO/l3y+wm18yYshZXzjKyt6njTBfEb/6/KOJMnXeWn2sKCYeVl2SLjPDhW4DpXX+OsFH4m9yONHxdr4ul14Ig/6oacSf5GvR3zoYy9WOOXfBPPo332e7yOPCkr0gJ/bhZ/kpzCx+JQTaG18VoSRC7553Kvd76Mf4xgXM49q8Qt98UPFR8YDD7gv+SIetgLtfKz5hx9RhY+KHW3P95W3r78oP6Afk6Wx+4dv9C18Ru+f3xDRCRzPTzG/rWO8aE/1b77s/IgF3ss5AeP88AnHDP+Ql2ecxyV+Wrzy34ywNld7/vJFaPEDW9M2Po/Pd/k78VT24Dvh0od+SrzEl2K8HCkeCa9Ofnp+QD7Dy0/IdLYfUD/Cl1LIHsy/yjtm/4YntdOa6w3ZX/ZrXs/kF9VjYSGbeGU8a7Gv10zFf7GH1Y85r1t8E1+wl/FtgD2QO/LXcmGIn/Sr+KvvHI9urxb9hSdj4VsmA/VI0H8hn3viYfrnOjz/Zk3Qv8u+kq/vfeRWPoSb6DWW/H3s4XY0PilGanwtYiIf/tmnvzb9lV/hY8yvvPc6JfPZa9SuekWcIx87r0s+j/n+ooGT4FyMkHBX+EMhFOWPldSOvl7w/k+n/e///dp9++zDn07741+jzcbLfz/tu+tr6fDXjqZD7/ldX7lYQd4O+brkts8xXK3A88knfXHP9HdjdvVvffjqMO1xZL6zZt9TVT9epJRC0T8XMctzvmoKNh//ejr813+dLr7lvRlbCqhCDl/BlUwkU/qmH16RSfe26zViiQwW+Ee2Z3Acs9s69ERuTWrghgWMkfVYZJNiZ1/9VXv01b1FGIOVEov4hR/Th9lKE4uqmBvEGcUJeF8m2s7v6FsW6LYZR+OL+wVyroMvpr/7N+9lqzFfsTn4Ysd1+NUiWRVbXuarv7G95Fo17qgfXmUn47Dbzziso6dzeCT/sH6a8bwlDkdd1vFe2EW9xh4HbPQ3dt/0txvyC1wwDnAKIPpZXogu97r8g/xpE+Emn/zfUbb86jUPtuKItbDEr5UTuEdcmxfPJCvyWjHsfDUZNMaKcVeyDXm1mOW1yjw9hvTNM/Cl+OGa9CRGUD+B8aJcOFSPRc+BnXgBptjX9PfTB+JrzIvNPk2PEN/hF9gpBspWxqXAyWY/i66jrLF/njN+K7+sMMYiGbrug1uJk9tQO8Ib4dsl05DP4T32k9+LD0P6GvKMfy0kjx/4SF+lFiO/hry47DjMbdCPP8VasIyfUydw3cQ44lGLkQ3OSVbGWHUSnFfUq4JhqWtWoEzZA9kpWXGOgF35hXTkf51J9t+T3zHnz/fvTPc8lT+u/f/J71TPv//v0kPPpZSeP5u2zpy1ZqcevT+dH/uvjXdnuuFr30/v/0ilC8GmJs+ga1/hRk9WSKLRWMEQoTEKK87Ih+Ex4IV+zWc8x4qvBcQDaeO8vOtb2ls/B/J3hJhU0Z4dAuHLc6ywcO/930knfpVS+tXZtLUFNmfTye99Me1hR9lWPumfYvBQpb8538HcH/dcj9XxWQJv8DLyHvCkFORzu64sjwXyqpDNK1qVjCv3j5wkLLej6RM4MUr/jkUnf40bBJoDjR1M+F5ftMkrzM5J/BVuRnl5j03EP+eNteHEgfNeBd0g/Uio8J0VvZjs4av4wLisMAfdO/UPbVZuH/ki/xqzf/qyo5Zw8kC1Q+ljrCy/ZPWC0uyFTmP3v6g/K1Ccj0p8ireKkWWFeaA/8rz4CG9r/CE+a0cp9E87Cjh4R3v0MM45H2Oy5777gRVciufCWPqMfa3iDv8Ivjka/+nT/M/tM7b89OfFXbbPDuUXO3HhxZdPgs3e6G+TIfHT/QN7W572H/OUffnMOVL45nHT/p30l5Ff88kR699iCON6/zzrPlDG59rysS8+84zaI5vbxNq7L1u9Qbt12CuON9O/+4zkw3/mtg/+Fvqay1/4MlZ+CWMafrrGvm73PAnewfyC/1l+cazg5L6r0iaTAeOSnxDic/DG7s36Ub/RoRhoO8K+8SH/Draai3+bPcuJJa/nFS9pS7+ceHTea+G/hrf8R/iPeW0xTPVrPu20tH6L5LHfOMp52uJF1L8Nr0X9td03Pbw+pb4PWI2uT9v4TIJtTpE3Lqvx8zynxDvPi9X9zNte1yW/HvATDuLPgSp/w6eIr/O+nOByzpk8xFvndRnfxvD+Lrxm2HFoK3IZiMH1t+w1gr30QP4jcMfnP/ygTdS2nno0Hf9pSunJ4+H+F9Ox51I6cX/3+LefTCn99MG0/8BV1v+eD/5jOpnOpuNHuuRVn133PflIV16jvJ3XvoOKngQAT4aGGe8h1Et9pdEmr3HH1VeD45hgZkVPWM1TP0quam+TB1ZMtLuBbnekIz9NaevJ42kfAf68y9OeP/2f6XR6Nh39sCd7ZCW4euGXZfWJm/RQ8aexOvUfEU/0RBfJQKAfe3xb6cImPtFGT43Ry9499MWG4Iu9cEaNMVb/feT1IGDFLfIU++XiImPsK+zcU2CCw/AKWxR5fVWeiSjtuIdOvJetGKO0d4z6Xquow1fiTrON4XwAz3XwQVgWfBr2RS8wQU/klC272i/qr+1+0V9jLImf+pyHtxV7znt8YEz5+4wPhvgDNjb+hPhKgSYerYJv6YfVX/drsGVs4orGlbzEP8WbKJd4bZ/FGKR4jl9fkU94qK914slY4BNlHHs8+pZ9pNM8Pi07Pr4rP+IV+4zZfx95sLd0hBdlfOIbu7u++Kw4Y3HcdzsVQ4UNbSy/Kv86T9i9kK30jHRH7xhDGB9OiqPc1zM2ttuccaJ+tJe/yJfjfclY9FtHPMmLrLP5pRE/Jcuy8oGZ/FC4jK0PHIxjyO6Seezx2vrDzuiH/xk3An7GJfjneZHnyY/mq3mTZCYn0h86WU3onKRf+Xcco00e6d5mL/wHWeGecTLUTmUMP7nQ9vyy4y3bnvpEfoGsyz6/qL35cUftOJa+xAPlMfm9bLJIvjHu+9cDso29TtD4ypXIBxZDx5PPEW/lc+YHfP0uzGXUP5jwDBxmLkVbZOIVexsfYzzPE3aL59wbOgm2FWcpz4w8vEeAXtc4hgtp38kKfWx+/MF09Kuftt3Jw0/6JLjcP55OpDPp2OEqINTH+3Q6+ouUTv/TvTlwvJQZ/90+cc7P1Nt/Jd3zxDPp9PMpbT3zs3Ti0ePpEo311rvTkUd/lk49dyadevJkOvLx2wzg8rzfP/ns2XT6qSfTsa/enXdUef7Dx9PxJx5O77/tf6SjP/ll2nr26XT8gc+nPQfvTnf+U+7z5CPfTYeu9R3ci65Je/6v+9I9jzydTp/5ZTr1k39NRz76LjNmGY9+WXHCwCrauDYC+ESbX0WzdvnfaLb20ueiT6fDj55K9/w5pHGCnPeFjM03SLh54lJW7C66Ox350c/S0S+8pwpw512RDtx/Mp34/rH0G9bv76RLvvRoeuipM2nr2WfSQ98/li45WNlm4+Cn0+3ffzKdeOZMOv3Mz9Lx73wlnV/kAfuT6fCnjqWjTzybTj/1aDpk/LktHfr64/aM+tyHQ7ijVfLlcX794w+m49hw60w6+aPH050f+53sCD6O3X/y2XT6uWdN7vOPPGx23u/3Ny+6LR164GQ68fSZdPrpn6bj9x9JLyCge7Fcw78vv4uODX/Qd3DgPvqwwx3a9vaf8MxSz2tHnfEJWJwwKH0RUA6mTbvnE0vaK4nxOTtOBB0FG+GBfZyT5Vd21T4WY2pfxmzg07yvFX/46pNgk9eCX05sTT5U+rT5+4LxmuPPuwYD8EBPMFkHX2zF35MrdlgHX/B7xQP4GWyzdj6Cr4on4hjxLI4vfOHqKvgqRtqOaSjQmuM1+U7+QD7FW/hovK6SdOGjj7HJxNRlXTt+7HAXebJeNfzm8ddxntsePAJ2a9EHbFXc2YmpYJ9V5e/7vPky8e1AjnfioPFBC3q5yDK8QkzcRHb834u2wgfinvzJ4lWueaw9BSVj0D/PNeMp117cZftqAkF7L/CwC3yUrLwWfuJLuSCs3e+LR+hzuec9X8DJmfwyUjw/YuGNAAAgAElEQVQOsd/ib8BuNH6GMXY8v7idjS+yH9yg6CeeaXHYOOz5yPDPk4aa/Yxv/k/wiS/ybzit/pe1P2N7HLcddPDzPkr9wDi1emMkPgRZO+UPOaacaJN8fZ4PbWp4Ci/TP+dpq4+i/uHZTvlCm9b+uU+cUD60emMb8WN8Pyma6x2PX9J/LHw5kQV3+avF02rOY/iAL/eV/0q88foFWb2fmfml+U41xsl/e6J2qHjRxQYP5AQfHMkS/pLXNuG6LG289LIc7OmjEAcHytfVJNjvf/jRdCo9m459/ZH00BOn0okfPZ4Of/yDpT0ku+GfzqT01MNp/wECxWVpzyf+Zzr9/LPp6B/JMav+Ny76i/T+Bx5JJ7ZSOvXYg+nIV7+Y9jL2u4/bbvTpJx5NRx54MN3z6DNp6/kz6fjnmGBdkzYOHksP/YqJ88l0z1e+me781pPpdDqbTnz9jnz/8OPpdDqTTv/s6XTs/n9IR/7x6bSVzqZTv2Ai9mA6wpj/O6X0k79PeyGQ93f6iUfSnZ/6Yjr8yP+btn7103T4Paz0eYJtwceIYMa+zByk2KaJJ4QhyBlZwd1Xkj/8z4bn0Q/lCZDZg2BFYL3wmmS76j/+Ztqj5877q3R8K6WT3/yI3b/h+8+m9Ktn0/FvuU4cQ//pg2mfjX/EFiTSc6fS0a9/M9153+Pp5K9SOv2De91eLGicTVvPnUkn/+nhdOSr96a9F12bLvue9/nAfenmLzycTjyXFzWKDBZMs3x7vvRkxvXRh9OdX/lmuudHZ1L61al0+N2ZL3s+hR3OplOPPmx2PPrEmXTq2TMpPfd4usHwvCMdfuJsMhkf+F46cv8/mV22nvhW2utOWDBtw9+CV+QTgWnOtVZr4b0f453bftn+F7VHB1tMgC/aXZS8WmhAtrjz4CvvliydO9z3SdmM/BacmKA6J63ga/fvnCg1Pq8N/GLA8iRt43kArMaoguSMPPPs0RxvmWvkESbIuQ6+aPcILC0OOFZN/17lWqu4jGEF5Rx7LINPX38RhsQkwzCMr3sU1Kvga5N856PGaMoXd3/BAnmKHzh/5TvcM6ycr/TJZzyHrKvYYxm+Ki6bPNqZDvitai8wkl68rtpf2/O2i0QB6XGnyz5Ne415TVyWza3AdHsji2wOh+QffG67Sy432GinwuRqxDs+Oy/XIznu6tRMI97RrpannbMxvliB5/xEtsgXi5cx7jb6b8M/Pr/yfS2mI0Mzv8DLEeQpfup6Wl5o4L2q/xX7CsudzC++yCq+82p21mkAP4Uk7ljM9FjE+3n1o/qB+7Qbap9Y18BJ8JO89GsxZE18WMRf5FCcBA/4syo/ms8TF5Rjmvovkq/vfeRWPrQxRvKnvuMXO/qcTfbl+bHwtZhKbFMt0hIv4FasvWhrPPdTisjDfYvn4nWID3GMCw8NPQ6dO7QdHwNiwLWtWF6WNl5SAdrWX5kEs4KFcp9+3HZtbef1Ww+nY0/yveGz6cQ3PpbvI8/BI+kIExt9J/j5X6bjX76zuk8/6s/kv9d3igXUNekyJndPPZz2Bf0O8NlPH8yT5Cs+kg584b506Iqq4Hj/Y2dTeuJ4djCbBJ9Nx/+CIyIY9Z12FDn9+Fi+zwrxV3+a0pl/Te+HQNb+mXSE/nCo8z6UrvnEn6W9b1QxdjDsAAf5L7g6/fYHPp7e8af/d/ovV76nKiKLfr7KzA4fTgrelrCvSJsH7knHnk1p6+SxtIcdERyL+04ow/tzJ9NWOpUOX8oK42Vp4zM/TlvpmXTk1mvS5sFvpoeeP5uOf45x3T5X+Gef5fqDad+n70s3/24l795vPZPSs4+nQ9aeSXBKp77zser5C69J2Jyd/MKHP7o73fy+D+QdmYZ8e951JL3/c3enPRr/wvtskn7iPsb/SD7+/dh94f7H8nfKn3s83QgPDPe8QGI77GDzHj8+/1kF8kr+HNhXuJbzvuSy/B1vHHqGjyv0H/ha8Kv170Ud41uR4juY4GeJ3/nKiiM8LP0dqu8Im/y+A0JwLvgju1bonGsUbfF+TZ7Kf1rlhZOWQC/L40d58JsGHyp5nY+l/RqurXD2YgP/Qu+xx1ORAt4qZpbBr488hvFl2b9DQdlqjz79LSsf8Qb9sHOZZLi93PYUGCvhy46uxWGfaEc+opN+ldLiY+ZtPvHQ8M+QQG1HruBxKMvP8z5h3xb8GMuT/Ur4RDxq9vPJvexT9B3Rn7yANPvABfejbcFP+mB/x9EmGAUP4mWOMzleVhMOwxv/jPz13IkOdfnJr1d6vGIywA5ujvMl/qN3n/6Ip7IHvit7oYv7MjGzHr9HtJfGa8pv134UHPma+aW1/YL4L/sUe6g+4gSE5xdiVrw/V76+43XUQ23yjDJei31KfsmnxmwHk/H5iztmNf293tMOmcUzPU9+asQz5VfsZfmlLz4NefEf9wPjYOS/T54svvN+XXh18Qu8bAdV9Uiua2b8r+v5PvKa/l5fEy+i/n2e78NfbKd8aPVGI36sIn+f8c2OYJjnbIWPjGt8GwFfTabhY63+dL7xmddE5v+Wb/OGTM2exFfk5L7zutz3utHuX3D1wEmwJ6mcrNyxzDn13otBa6fPvDjWZ5YQLk0bL7nUd8Qa972/OAnuGu+y79pMLt1sfb873fAD30k89tV06KNfSUfYVWUn+LBkacrnk+Bv6P4f2UTp9BM/sN1DdoLt77E8zvuL/h9I++66Lx1+4Afp2I9OpZPsgvL9Ze77TvCxuyjwLjXyanJn9zHmXXwf96fpMMHjivttZ5kdyWPf+ma6+YN/lPZYwYVj8Xw1ObWVLOF9wdXpxk/cne740rH04nd9yAsI14/JSZh0SQ5btTn/o+nwk2dtQnrDFa63kSPLas+Znl/Ok8qv32Ry3PzI2ZR+/Lc2qdxggvz8M+m48LHXvKt+8lvsFNPvu9PeD3453fnAg+noo6fSiV+w6+q7sBfmSfAJw72yv9mT3dsfPZIOf+Hzad/1HtgtyF5arTBb/4fSxvV/nA594Xg68q3H00Mci04pneB4t0+IH/orx8Pb20TcZDiU4qQ8rx6B9122g33qu5+q46nx7LWSN+vZ8xp7EMhwTvvuNQG5Lt9ar+GEJo9wygKEjw8nxYFQzNXkEZ8swDhXeIaELXxiP+jqQajcX0bfUtRpsQxZ+fPvP7lvVXzV/Z72kMzyp2Wuiy0vzcUnei/zfGnr+LddS3/4wntbcJjTvvSxhP7YT/ZEJ+tjiedXbV8W53z1N/ZnvuI+vwq+6odX68f14z24mgyej2hDfipYB7zlH+Blizvim+8kwkf6KnbQ/TXhqZho8qyBf2Bg3PDip+g1oj7YQPijT7TPOsaL/FL/5sueZ8m7igfIYjZ3/Zv+AT7EN+SWDxX+RHv4zrFyeYm7zg8bxxf81KYWgwPePEs8YDwvuE1eZIHLrTExPN+mv/QVHqtcmwzCK5xiK30HfyqfLSFfsYlqFd9VL32t2L/1I7u31Bt2fwl5h7ZXfjE7h9iPneGocSDsEkf95/GJ52VfbCX/5n3pY0n9JCvcw1/Iz+rLxvDFYr5fPxQP9bfs8+hb4iT1CLItqd+i9qY/k64W/ZeVt6s9NlUeA1Ozo8ePRfKNcR/bKcY18yOLsYo7yDl0PGpi+oHbJda6jlybHX1yiyxwrW08i5Gez43Xwd42httq6CTYVkBlAH4VDqMte41gpuyleQey4/kyCe64z7ib2s370KG0ccuD9iNYD91za0kImy99R7r9X3yXtlXeMAm2+5/PO6RPn0onOHJd+/tBugV935ePS6etZ9OJJ55Mx/7+eDrCUdwnj2c8PpGPQzMJ3jRyXJZ3OH94b76PQeMkGENe//l05/fzd1O3nk8p/eLxdMMBzsg7wTzo2YqdGT5PcvOKR1UoZnuEFRPH2RyIFZsLPpBu/uGZlJ49mW5/n+xH+0zAcubf7Xojbf/9H9Lel9ybjp9J6aEv35rtfd+plJ4/k07W8Ml4Hb/vU2njinvTsV/wK925zfHvP5ju/MEzeRJs9gyT4Jp93532/+WD6diPnkmn+SVr2+n/aAlkZUX+wkNp3zdOpa2U0ha2+tHj6Z77HrRfBs8T63zc+vjn6vz8tQdchgsPpUM/OGO7+3sYH8d56WVp8yVvT0f+PaXTP7zH9BzE75o+YXx9Zwub+CR41P5b+R3G13eSnZMUTWV8OHWe+OpHl9r6I4kQfDwgGv9UsNE//ZSk4zu4XXi09R/jiVYYkdcDb+G3j1FWmP25os+6rwtfPPGh9yJ9lr1vK/4esC3x8Svd0Z7yX08Uy/ZPe/d7i8esoI7d/6L+AldIfLXxzR99crIKvkre9Of9WPKM/KKNfcfuqu58RnvFUybBBe9qEmw7Ioyxbv7RPzvkRZ418A9/DthV+q7AtyYfwKqM4TuYQ+NFsceS8hFbXpqLJjsRVca/uvIPZGzyU+NZgeb50+zhBVppT8zMNY/haYUZfnx1PuHSjKcq7tR/kcdP5DAG8sBH4Ukb8dNkzQs55f528BF9VNshQ8wvY40PX0rRvWJ+acPX5PQc95JL8w6nCvLO9kvyLdpT9mvio/zidsb3zP/czloIKSdWms/TDvwVX40z/AaN/6YH7WP8s/wyMJ+Y/+QNG8snMf4ZH7RoE+qNprzrugYHTR6J/9QvfDbmeG4rcmj5DvmY/SOvx0mL9xYfnA8+zqj6tOHDJBj94BGxzGRyvohjMb8O0Z/8a/Hz0jwJxt8YBw75Qqnd99hi8bNNf8Ug5HVeF3zKRDuPMew7wRhDRhn6imAvflOeCBeDzvabJ8HfLuP9xj2PpBOPfjvtj+P+pR/ZRS6bfD6T7rmlCmIY7oYf/jKlXzxSf67ocY//OFQ1/uEnUtp67Gtl3Ka++9l9/sUj6bIghx2HZie4yHEmHbvrQNbzpdUk2O4TVP/khO8E592JPZczubw6G//6+9NDfE+Z3cgQYKxQDQSw1RImx0qKppPvbohMdk/fWbo13cCklu/Nvo8iDp39LySWPOFwPOx7w0+nI1/817TF8W0v/jbueiydTo51wCH3dyht/NVPUnr+yXTn5RWue/+eCehj6QZr/207Dn3iG9X9jPOtac/l7vQXvDvtP/5sSs//JN2u3QL0J+hc8Km8Y/v9zwY7+XFodpdb77873fnj5BPxq9PGXz2Z+0Yew/mytPHir9hk/8R9XgwbPpJnxVeNgU0IHIZlU/91XscJatjBNHv4Sht+WXYz0PcqD0gRD32/HH6HHTR4TXt0s358B7eNH31wJTaIxyXwgg9jhFMSxod14tZid9kSPS2GRXxa2vfRt4mTVvzBwMZAx5H1lN+jx07gqAIFHY0/QT98XTwyXxmIa1s/4hb9E0PhbHN8ru0zH5cEau2R1XeLzR4cUXU/gJf2WdCjadexrhmryLMG/qGH9OJ1LLljP+Bb7AN269BjAW/w5Ze01SP+T7ShO5Pkmn8gZ/BH9Ii7DDwTOaXiC12tMPNcL/6L5yWWRP5oLM9TskmJCa4f1+oHnSLOJusCHFZuH+ou8JKeK/cb5DacR8ovnXJ5DjO7+2mmbcEv6Kn8ggxNO1sc0kKIJiTOJ4tX4qVvhihXmj7KycFWZYww/jL61mRt1DXIrhp1HXzoIyc+VvxiDfGFuOCLaGur62KcbPKhk8cD7dnWnxbLwdFqsRCflIeIbca/geOqboSPil/iFuMaf3VSK4zPmPx+iuSeN79kDPqhv/OvGngc2kjnOz7+nmSQV9gr55t7rRVLAzRvabe1rybB3v8nmHidTSce+Gz69QuuTnve9bW8a/vEt9MLTZZ8fHfrx99OB96cJ9ov+Og/2g8ynfouk6U2+fIk+NTxT6U9fn+PTazPpGOf/UB+5vJPpSMcH37i2+k3GPcbp1La+km6/frc354//oGNkZ5kws5kHDnDJPglmgSzu0iwujJthknwb9AfE9Pfyb/4t+e276aTz3Os1yfG7CDKeE4Ewwvnc4PaCrMVEDmAlxUVnuP5C25N+x84ZUeYj9x2S7JfqeQeBGLFmmIYe1iSpr1jdf4nbbK5xQ+BPXKvFynY46N2bHzrye+l/Zdn+7zgs4+l08+fScc+cXXaNAyeSff8ftZh8333J+azeRJM+zgJdvtekG3BLuyv2fgfSDc/yg9ZPZZujI7m+sCPrX+5P73A+HdrOvT3z9jOMBNr5N97HzvFZ9JD9305XfIHn0o3H2d3mSPZj6Ub6f/yr9lx79M//HL6dcPyd9LND/8ypV/9r3T75So8Mg4FD8dl0DXO6QWf2dMCxoj9y2Zd/sh42PzFb8o7PCUpgRf3qmRhJw5oT8DTr+RaYAry8rwn2HyCgMIrH/nO/KsKvkF4Fc6/yVf0xEm+g1TJaiveQfel41EXXqHPGfnBguSOz9h3qNfAFxXO2Aus18EXmwS/Ka/A1vjgWK/C93n46Z4XKJtgWSYZHg+UrGyFeQV8tYJNf/CTeGfc8njHv2NpsTPwCyzwVY+RZn/3HSZM5UQOetBf4UKeyM3wRfr66yj3PZZkeVbAp4v/8E35xbCrODGK/I4dOJcVfrfDaP33wZsdM/RjIuwFpo1v8S/GS+JbnlgYf5wbJd5Y+1z0V/HvSuebJqgUePDNJyjCFz8oxaXznxiDPHZCQWPnusb6Z/yoX+Gnf8fT7xX51n7ti6Ot+aXizkrygHE5AbFifunCQ/HB6qFcdG8rH/FH5Rf4Yfkl4Bd3zJwzFo/gEByAz0E3q//4nL6IGZww4r4+U34Jz9Se74oPas94ikXkE/DTPZsE+w4iEyn/vNzfjmvFF2K0TZbcvyTjIv0W3Y/6g2nUfyz9Qiye4cMi+ca4Tz4kPlq94/FL+FEfWvysFrIH2VeLFfBRtYDxx+sTaj5wKPow+fX6lGdVnyqeI2uM58iLfegfec+/cuAk2IXIK7a++mRgeBLucx/BENAAVSCffT5OgvN4t6b9R39iP46ln7Le+tk/pxtstzE/v+f3/zY9xGQr/Hf6X/4m7VOR0yKfjtXajqPdvzUdeuBUHoejyfz37E/Sne9zfS+/Jx196qx9zOSQCeyxf+E49LezkcokmCL5jVYso4sdsaV/DPwx3wkmeFzw0XQnz3O0144Ap2QyY1TJy3uKYohAMOFzPmMnDhxZifICT8Qwg4tMPum0QRr/M7k0qYAcVgy7PfZdmfb+3dMppV+mY3fFQvWqtPG++9Oxn2UcEjg9fzad/O49vphQ6ZTQ6fln07EfaieYgK5JsI/j9tnzyX/OCwr8sBl9/uqZdPSTt5TJowVyl2/PJx+ptd164jE/Dk3/9AtffpxOPXc2bW2dTaef+F46dOyUT8SdLx/9nv0CdYHkzL+ne+54Z1WQC/85/MmB3fWY156EBb5mL19hntcevxrzPn1FO+OH6h+e2L03ZqzBuHzmvuoJND/j+hov/d/MpD1/CmaFS7LHkvp4wIrFqY2NzEq6ZYwe+I+JZ7HlG3NgRe8x+4dvWvGHL7KV7DUGH5EXmyu5mc0dx7H6XySvJo/EsRjvGN98xfm4Cr7yOV7VD/aDX7yajA0+g7n+dN/4SDx/U7XLxT3+Shz27wtvB37mA5JnDfwzvQIOY/Ob/rC5fJlX2Wc78JM+8F62xsZ8zvjIEuOl/ENxiWes+BKHPL7RjudoRx/gqGcsXjEZ8PytdjwjeWjPdbSv5OLzKCtt9ZyNkeuNnMOXjLfqR/ovfe0758iHnopZg/trkd/yTTgBgf+O2T94mr00hibaAeexx2vrr+SXvMiaY5TjEbkExjxfcoXbn89jPOU9n9kklVgROIm91I/4tIz/wUnFWPhsfThetsjqNQ9jDOm/DZ9l5FN8Md/zOLnM84vGn6f/WPpiP8NY9cZ281FzNsYPdkS/Wr23Ar7WzxtzfANTcDd/17+JHeZDjAufxDtxmM+ZHylGwr9oP8nK/X0DJ8G2Ym6GzcFi0LWc+EVvrL5zASltBcWD0NzrW9LeD34y7XsLK05t7a9MG9d9JO3/4IfSr1OwYLS5/UGotvF/L53/B59MF990S+v9PTfdlS754B+mPW14kPxYgQJsOZ/0UyJ7ke/IWaK8Mm1c+4fpktvuTHtfDxFYtePfLZThXT7G4jPk1YrHiygUc4FX8PB25drI5Cs2tEcu5NPYBC/sgayWWDTelWnvA0+n9P/8MF3GjkpTnguuSuCw/w8+ml4g/SIe138032vFt8t+2b773/t72b7gRSBDPvSM8l1wS9r7gU+mi991Swt/bkm/xo5ukOeFHMl+9rF0qCHPC977p2n/u9+T7aVirE0ff66dL136OL90AsLslSfBxT4NeQb1v1BeThRkOxsnkUf6YNcaX/Mk2L7jokBj/PAf9XIelOclv/dj/NJ3MgL+M+01vp6P17bi70W4J9D8vBfOha9D/XuBvebh6UWK+bcl/uynS+k3r39w0Io/fPHiZdT+GR/ZS8IIfGizxyJ5h9x3v7Z4RzyL9mfHVfGzi2+xfdf4muRrB7fwkRMvIT7oO9iKj6wYy7a0Ix4LK2JSGc8XIy0+aSLn8TP2X9p35Zsl+fjSS4M8a+AfJ5bATniMLT/9YVfFl478EuN3zV5jyUNscbtulgIP+zXj5cHqO7zIjL3FT+IB7WVvOFbk8x/PKvGKwszvWzvP58IDGZTvav1flU+EyB7Exzge12pf4+dIfCv6dPV3Zf5OJPJZHbGGeNLML4Z7lzxL+lPRzxc/5M+1eiPbrdhP+MueY10rv1j96hNL40ecdLwp4w2HvEaq/LWjfozyKb9iL8svA/HSZAS8YrxE3uBbjFH4OjZeXf2BTYwv1MF81tU+4lP4sKD9PP2H9Ncmn02CPR8axjG+LJCvrb9l9Ycf5EPiC/M3+hQ+xCqLO76DO3Q81Z/wsRa/QnxEbk2MJc+L/ESX6gdxDj7yPsrDJFjxc9/BoTvBTiIvSspK5zLXgIgg/CGUATpCv6WfKunYTqwZbcz+IcCC/jwoRcCLntxjhxj9cVDr68psXBHKDBVW9drGs368SCFYqp+Cg8tJQLV+fUwIy7URLYxrY2rX6cq08d4/T4c+9jfpof+d0skHbsuy2jM99G+TtylX32vG9KKj7Ar26N9+afrZH6c7P/x7aeP8W9Lej3zbvmu99eiXZu1ngcyxLNiMrGdwTjtKawF5AY966Fl4tQhPxkO3YuewUwHGuucFjPXLM4YNq7mRP5xIyIVfbfyufoboYRM0FmzC6if9IJP4AJct0G0jjuAsTMASOQ2LkfkSFgst8ayDL9hcdt0JHKMdm3zSBIzXVfCFI9ipqx/juB8XpJ38A/wNc7drSaAkaU+u4mMZI8TzRf646n0WBE3WqmhYmJeW8UN0Fzd4XVXetuexa7Gzn0Jqa7eM3Ms+D+/Rjz9+iFLPo79iYowzxhffhZjhS14cqdnB+gnFly9olXFq4/milOxaYrHHN2TVPU04eJ4xuLZ7iokjxyPJ2fka6y5kCPllLPvBF9mkYDOyntHuZYwdyi9w0vKLjx+5hN9Ybev6CxvFIp7lpA2c4bmm3eiXNnAm9tNst+ja/CfWTozl4ymHMc46+KBxul7RWznGbNnin4v0W3R/nv5dci37eYyTkQ/L9jO0vU2CA1cin4o/rpin1Q98BNM23Pk8toNXXIOP2iMrfbTxGn/QvZUmwXwnkwENiFyULnXNCpQJ8obi4Es9v3B8/1W8F70hO7l9p2YFeReO14KHkVZFin+nT3ixA6fgg2OygiE8aVNW6N6QDcaKB8Y3Qwe8i/O9Ia/YN+9zbW0urfAmQLKjwT3Jw/iWQMEr75wjz8V/eyptnfllOvnwfel87MU9f67Ii1MNwUf69nkevIz4b8gFE9d9nj/wp3bM3I5Vc975+TPp1KN/m/YfaLGX4eSOox3Mgk9L+z7jN59XQnjRG6rv5PbRfzR8VUA4Xyzxuf2waymqxTdPZowPPty3BPuGzF8VCDX+5gUL82/a8txQ+e3oSraJfQev4OnfQTL/zsVWLz6U50ewp/FFib/pTyP0D79Mf8Z4Qz4xg43G5svL/IQF/q0iZai9huBrBQp8UuGueBInYI34uax8L35jjn/E3Gb8Mt5zQibjbAmyxNvAf7NHlUDtV1CLvgez/PCxGc/HtlfsT5NHVrxdr3H5ocVa9/ei70j8pj/kBu+dzC/UB8rHxMTCL441Y3OPl/h8xJ9rL6pyPeMTlpn8RLxigqr8ygmvWI8czP9uPDnO5HC8deqpyOMLkshDO9pLHrAsizQt8bs23oj20/jWv3/FQHjF/DLW+OavXs8oZkR8avI0/Lc3f0N+8RxXt9e68AvyKr+Ynf1Xnc1fsp2zv/jkNeoPPq31Y/6ucOEL9ij5VfkljL+MvezEksdP/CXWA3CA+IQe1Jij2GcJ/MEsxhc2hCJeY8hj/6qG6+8TstH5YnHS61N2TMWFMeTvg0ecWNr8Iedpsyf1ssXvlvy6jHxWC6DjG3y+E/iIvnBJ9YLyhS0IhPkT48FH7hNva/GcBRGP59w/74qBO8EYQwaw1wHXmnAhpJHGAR3a34w8FPSedAIQWe4B8s7030derRR74iOoST/eIxd/FDI1TJHPk4lPOKydB0PbgZA81o8bm/vWj/Rj0qKVPh+L/visbTzsgDwWrCSrJ13JwSs7IBpf+qz7Gj2d/CZfwdKLqDHGLytdKmSlp/CUzVe4xiHB1+zuux41W4yoT8EkyssENdo5ciFi7Kv4TfuWEwWaMKio8wRr7Rv9eBCqOBPlWaCvOEnAMt6qvU4GOF+xXau+as+r/pYYv6l/vDZbxsS3Br5YDHO+FL8dSX7hYRj7GIbjyP0v4rdiiyelKjZVE7C8+LYCvvI5i5HqRycc8AfXX37ZFV/kOyarOAdeB6s+WuO5uDcyH+PEvcg8pv3Qy3MHr5H/4s8i+y66j9ziwE7lF3xZepY447ayhcEYZxr4In/0ocKhBjHuN2sAACAASURBVD/EHcuvxF1xwheqld94njb0adg1xqvJqjaSVbG9I36vw341+4a6q+jZkL/WfoA/GN5sLsTcIywH9NcqT8wvvjgX7VXejzVei/wz+UU4VgvZmSeRS5JH9aPjVDjFj6+F+FfyK3W4+tE4kqnHtcmqPBU5GRZmkMEnLBX3Ja/GWtN1jC981WBs+83UjhGz+H4F/SxOtmE8Uv8Fk47+anO2WDdGX/Ed3NLXkvrGGFhqOuRRXAl5GpuWmqjBn1qMFK+9TW2MgZPgvALhgrHiYwoveS3ne+Hrqx0xC0YD+/NnASvL4xNA+sf5Cli6v6S8M/33eT4ndxs/FHgmHwZGrheywsxkCMfMfdbwtBW2EMhYIQE7C2QkT1/xeOHrc+LkVyexhyWKnBDz+EoYWlFsyK/24GXJS5MaVqj9qJgH0rwD0nh+ED4t+hb7NfoHLwq+NvmG8K9NXreJ4VWKsZH5wgot+GIv7M6OwVjyt/GniSfjUYyJL8hTxs+T16y/7wo2n7frvNKswrXwGx8zfeCLOMt3MiouVf7ZsG+bPfjsJZdl/w0+XPhd44OC8sj2atXfA7sFWnYYWTQh8WcfrvBcgt9z9Xe+FHyVWEboH/0Ui9GjxoeR+i/86ugPX4OPPrGs4Ue887izEr704X8lfsFL2yEgDvv4rGgrtrb5k614e1/O68JH5Cc+2SS4I57P41PbeIva2w635FkD//BncDN8mASvwb92Q34JBV7+lfvMVYtnTIJLvLw8xMvAZ8uf+Shyjoe+uG3+pElujrs5v/pEAXwZm5xgOPuJCHyyiw/EHdnDTiyFeFDi5bz4HdqPbk/Xp+AV80vAqyve9ZEHrEsh678ps0p/bfFJY1i94UeOu+zR9vwY8szkF+GX82KJZ2ViqfvBvovqR/EFe3mNXIu/feyB/uIweMX6lOeDb3GqIp9YybKuJZ7M2CMspuo7omPYJ/Ih6u91Xaf/zsgX7DUPbzipfGhzhhZ7z3s+yjtEf7djVe9o/HySp/AROYf0zzMvZkfZ803Jr/i7L+7BL+5TM5T7LfiJc7TnfZQH7BQ/z7t84E6wHScgsDuRh7ziKAjCnww6pB+Ua33OV2c1hjnmCvJ2jtM1Pp/nIisDrmMr3p57ko0EyHWrHr6iB0YihzCjvfXjpHkxRQq//udJQv2/UAnZJyNt4xBwYzHK96LUzu55IS5ZB+GxAv4RS2RAJsk31mtwnOhko45DovFiOY+BvVbAZVk7RG7AJ5tYafxqocFktKTYJZ//Srk4A9fQy+zS4JKC0NJ6Bh6brCoc4b3vHpVx/Z8XWRaPVdpHW+KfcHSV/trwsQUL928VF23tVhk3xhZsNXb/i/rDny1WvaERB/20jNlYx5o8fi6rr2Inr7JT5C4yLMQ3ci7saqAffCTOIit9WRyWX63xVdihF763LC6L2ptenqfRbVH7Ifd3Q37Bl8UzW9BynsV4aXk0LkA37RpOXkUuWExsiWXwhnvKB8adsLvR5jc1ebSQKjniGH70dIg92sbt3U+ouyxmryGegJkvgFZ5amBc6NLLcPbFOXzMbCict+l1Jr/45CJyAIwt93Tl6Zb60eziPOZZeMcf8a8Lj7mfu83pl36a8tCv7inGzu1vbHx9EwfZVKOMPX6sHeEmNlrJj1r4bLGigfHYeszrL9qRGImO1r6RF61ubJG/Dx4xJ6tuZFxxtA/fkUsLl228jmMMnwRjYHawUDS/X/qaFUxT7HXFaVbqb0aey/OK1AtflzZehGP6CtRQeWf676E/Y4UixXbEND4rxJb8XD5W9CGPBdsWfFnREwkhAjsY4F+c73V5h5ECz8b1FRXG4Dmeb7MX4zEu48seyKzvDNOXOZ/fpz8fo7U/6TcErzb51B94GXlflzaY7Ef5vM3K8hQscyFrO0Iafyx9ZMMXYi9fYR5L/nn4SX5saYnvdXlFDXk0Pq8hQJh88X5b/2BGf6xQ8ixcgh/wEz7BVdpo/L54Rr57P+Yfep774gNj2HdkVohHy8pHe3RlbOTTDqLkG9JfG76O7QZ8cT8u9mprP2R848Prs70W2XtI//5Mp39ajHQ+OlcyX8IkmBVd5DR+tcTHRXjDT/ERfsIfYWu8XZAfrD3J2O3NCR7FWvTjvnGB+JRjZKe+i/BY5r7yC/j4c6Pyw2I/RbLbJ4wxmn42huyzQ/mF+EGdYL6cY6Lph2z4BPiKPxSAcYe3Zi+4RT7lO87s0PtkVHyzeoR4dWnOxyWGxPjZwW/4RoHtPLP+4bDG59V92eJx8KXsT9sRH4VXS34ZK15hk5hfPCaMxkdwNHsxCXZ/Xke9sQgPccPqVz+h4ra2fBPjDfWt7vlrDQ/0gcfw0eo7b28x0P07xP7efDH/8BMQ+Ad40SfjST/zHz/RY99x7+C32rfJvyi+L7rPDrD8F5kXtV/2vsUPcgP657qu6D+WPvi/2Zx6w7/zH2w++nhNe3gcbK13zB9df68D5/KxC1+r6ZyPil/GW/8NhBjvmvJxrXitfI89mvHB60bjw8sODN0JziRW8B30ijJ7X5f/ECoYc5z3XuwzRkhs4/TdU38L1m/MOkJeGRVduWcB6A35PsaylWYCSJ40zMgqA/s/nWT3aavgwxgqzDA8ztgIbLU+TQat0mELn7QY0XwybbJ6sQ+WTT1Gt1sHtuhJ8JYMTuyaPqvKIidnDMYCn1X7bD5vYyhYrGmM5pjxGp08CBhvmvzgWoFWWMOHeVhgG57DJrQzW73JeZ0nqEvhSD8KhsgAv7mmX+liejgf8JumHmq3zlfGZGxkXITRUDnoV/69rjEi1juBo/HN7RxtDGamv/uL/BIZ5/GxDWsKSXFJY9CHT2gKr9qeZTwwIj6qD2JwlIH32In7MQ639TfmZywISqYoz1hjSC/LT6+v/G+s/ukHe4CZsJN9xhxjUV/my4o11cTSeIE80UcUjywHdeQInoG74io4God8DE0G+Jx283ybNsZB4p041hETyfnCkWcW6T36fddHfFmHDLKH8X5Nsd/steZ6YxH2YKdFtyY/LEf6CRqzd54Y5RzZxUnf8KBf9GN8+BLzyyKZ4n1x12R0XuPHTZsju43BbrOfmIr9rPs9ciq+WK0Q6oixxjZbuW+uq3aE98oxPtHeVv/W7ip8m+Gj140lPvkJBfGsL86q8cPk1bgKvhZvO+YH9G8xN/AZrLQIGcfnM/pHj6GTYJvhSzlWfEwAd6q+1wrWe1+Xv0O1an9tz2Mo+gcM3rucg+Rt639RfxiFFQkL1q/PRqrhk5ObfUeINvbn3ylTIKm19xXKiDcrUHIMHH1Re92nfw+AJh9jQ0DtaEV9XQ8lV/uV3ng/yqP+x76PvO4gtgLeF59l5KFPVvzBwrDMk7pR+QK+CsgWLA8M859V8I3FWJu9wQEZnVe2Q8Iz8KAPnshGoAFH8KS/PvLSxv7dU39Wz8PTGXtXiyKZDzvg35Evy+CzjL9oxwMsPPGMykfsGWKx4b+MfH34sKg/+QN8I54124uPnmDzDtgSfKQ/xUj4CM/68jH6a+FjmAAX/asCZZOJaZ/+Xc8ZfZv6z7tWfkG2vv45r7+iT8jnAbte/r9s/5ZfNLnzX6ndLvykL77lhZGdEGiOTwHWzJfwFn7Qttm+7drjrsVT+nKc5tufXy33r0JhY+oZG7eF/4xJvHCeWsyUfm3y9Bp/QH2HvJKhLb8sy49me/hSiuUl8stS+lZj5PziCwrbiafyC/5n+SXzrPDFJ8Kl/qMdO54819feg/KLFmXywmCuH/Ppudb4bXzQKQt2MHv6y1L2CvFqhi9xEgxfwonLsewZJoj5O/8+0R6rf+wJ71WfWu3Y4MNYeDXx0zU6En/w7VY+Ujf6jrv8H355XuoV73ieZ/lzHhe+z9OPtpofhLGZOM88r9jhY5z8tyf4d2N6/7fBA+ZgZhQn85D3Vni9Nm3sfW0Wfkgfc5/x1Vv6R1kccW77FXTp6hdnswLvtbkIU3BqtvdglpOwy+sJVoVNp+z0iX7oSRAU4ZpjlGuSeUWY/JyO/HjwLG0dE8awQui1tclhp0zN58e4RoY+WK4yFhyxQsj1VLBcpc/mszYGBd9OYQknmWTClzl+YXhrxSxwks/7cKyM4QtQTRxmrt1fZWMFMvNb7TBHH2361g74d7QlSWEdfPHC2exliacNi4jLgPclKbw2r9TP2GZAn8v0odjiSak1rhT/91hHWzhmfOwhn/ya14X8VZEX+Y+/aHW7zQYHqjjMrnOfMZbBqKtt9Jd18A89lF947ZJjlc+xoTiAPtuFXZQZX1atEAq8mr7gW3w+5Nxevt+Mu0xiF/AWXOhb3DXOi4MtzyIf7VULWOxsabdo3JXuRxnm5JdVxjBclMP65pdlcWjml47aaBU9Fj0budbFMdnc/Cdwkmf7xAPjiz/H+0Uy4Zv0bXEnjNclH/2VMeBDtXizeKxlbdbVXguUXiPb6Z+utgM/t0mw47GuGGZxUrbKX1ncPgw54eGnTIgvXfaWb7bFrD58VN3IGL3iV7U4meO3bDynHis5k3rnsoHHoc1RDvgKqAqCJa/5DiqK/qYmwUs+z3dyXI5MhJZrjEb/JA9bkYDgA+XtM96MPMH5WEGBIF3js2IRSfabr83fUbLAlJ9r1Zc+0U/tu/o3+QNhaA/+jo2t4M3I73iZ87FD6gTj34EbhMcK+Os7F9iTgF9W4Ee0p690qYjIK1gj9g++2Bj5zV5+dMhxb7XvXHsOwJNARKBhfAIV8nSNr7aSF64Y9nlntlvefIyr8MuCWYt/im/wSyuI8ldWPGuJvPH8DB9YcRyAxyr4Ih+Y4BfIb32NzBdLCu7f2KokkgYeq/ijTYI9Hszjw7rwjfyyGJntOGPPTj7mgm+mfZTXVrA93i2KX9hVO6yFj/6r/F18gY8eh+03KFaxh8s9Vx/1D3YWx1/rOxwj8w/MXS/Tr0t/yTPkvuUXdhh2ML/wHTvH0Qq8efrAD74TLnvzCl+Mux34k9/xM8tfxF3/VeNWvPJEw04USCb4y/Pz/IO+ShFJvcHCYIc88/Rbhn9t/VOz9Mkv0T+XkQcMzD/dn7HHMs/30Q9/5kTHOuuNRfqX/JIX/LrzS67rbMd6Kb6EE1vYy2L/PL74AkeM17z3CVFnvOK+dhBfou/Ij5i/FtpTO6jiyxrqV+IH9RR8YZIFfxbZd9n78J5Yg43hv/nePHuNXA/BD/Frbr0DT3xH2PIncZ0Tv/HrIR32Z6GZMeDjvHiKv5ObtIBPe7CBjzZOR/8WI7NfW7wfPAm2QozvAYY/Ol/m2hLCJWnjNy/JpFn2+YXtfbeT/gHVHbXIuPD5JfVp7c9XuE0GXxUVRl3tkVOFjWR3pyqyR/wtUPpiAk4IceJ9jcfnhTDg7gWH4eKT89IWxwr6M4YFvkvyq8jZ1b5t/NjfkPu20sbkERkaWA7pr00eObmN4b+WKB3b2uveMuN7Qij4d9lrrPEkY+nPd9QVnOQX5b7bvVw7b2qcrI7OF06W9jyfJ8FmKwKTkqtkKXhVR/Jz4HNfNb77SraeqfWvMZwPGkNtS/+Bw83nx7gutrwk+5ZsOeb4Kmqxl4rgMfunL62MwntsNXb/i/pT8UCc9gRWiz+15wMfkVfxQHGMtrX2fg1HaMsYnfGLvn3nDbytvX81Itq2rX/uW/L2+MREW7K0tR+Df/SruGzYhTHH6r/oRQEJdh34rjKe5Re3D/p02meN/myxX/HHC3Xp2mY/ZCwLVP4csht/W/Kp2ouDTAZa+2/yOxeQ5vvsYOmZVrxdJvFWvtwmf+vzY+Dr8vfOLwP4BMbELOmJz46tj9lrzfWGbNllH+UX/C7G/q72wsXikPurTq+gT9t4M/mlwx7UX6Vt4Lv9Pk0L36M9VHdGPeL9Ln3a5NVnSz3fUocv9XyjHm6T1+KH5wxOAnXhPUh+Hx/7mm2pN3wDZZX+9GybPm34mB1dx0V8RH+4UepG5yMcQo+2/pEDvuLXxA/aScZm+xrX4WN9AtzZv42RN6FsnJdcOmwn2FYgipFZ8cBx5GQ9rwHDlL0k/0ryss/3aY+hfvOSvMLLeAZoT/n69L+wP5zvdWnTgrWM2mN8DFzI4/KHBFvDmx1ROYZPgmv3WZFapj9bwWrYk+dLEek72qPgk8eZkbeNT9IBe6KnFb1LPN9HXg9kZi/HEl73kq9P//BF39mCE27TUftfJK/+XUBxkhW7Nrxr+vjkgODOipv5LauReRXYVuxie96jm49hK8zxPuNhT0/yhb9wjBVGK/YWxJPIB55bBx8W+bfJ73iUhaqR+QIe8m/iGfZbaK+G/y5qr4ISe+k7PE17rfPaJsFeWNkJjwXyIwvYO8dKfEWPrueF4V5fYW7qY3zMRywzv30yi39Y2x589DEsPjX7X9e18gu2c78ZlR/wLWA3ejxUfipj7FB+MV/Oiyr2rzb0sleedOYdIC/cbMf2TaGAc3/FNu5nhqcVkY38ZW38O3EeO20HDdnMto32M/Epj1H8wSbBa4gXi+KJ111WsPfKLwv8vTleiP2MUf4Vgxk8FuE15z5jWL5bY72xSF7lF3yjb34h/oG/+VOesOR6yU8RNOsD7ahb7M9tavED/xfe7qPG3656tNk/18YHnwQZH4ilC+LpmPfpq9Sv7Hj7juQi/Je577ay+Qa8sTHm8GuIfvQJ37EVY1gf2+jf7td5/A4+Ne1v/+5vmHRa/a7TA5kHNb5xAhD9+HM71e7DR8PaF01tfhcXqnvgodrUxxj2nWAHX0YY9IpT/9f9Wdng4IP6apUnrBYaaSqjjTeGnLnjFSNS4KEnAcSTUq/xeRZceE448R4iOjmsH/oUabjPip3woF0JiJdUctBv7EPtu15tcig9tAvboXNXH6t+LhnQ1XDIR3KLrqv2z/PCCryx2zIY9R3fAknYZVrHGPNkYbwYBJBnXvt4DxvAHe2S/VdfgaOPqIfGEO+bY3C/Tz9x7OZ7+lBiQ57mGM3267hmTPnnsj7VVx7DyZPC2sbwBQvstRM4gqFiGBzriw3JMHKZPrjm82YfshOvkau0W6afZr+6pk/p8MJGHFabdbwqvzB2U68xxot6McYYfTb7sNjueQ6fXocezTGb1/D+NwfUI8hq/KmKMuOB+WrgIe3KLkfcyfE8CgbG5ZjvtbjXM9cyBuN2xd2mzmu5Vmz3mLWOeCKs1qmn2SucHmmLKWvBL9ha+QW/Wyb2GyfJTS6/cGrrg88Ut3gfdVqmn/hc872NoR1Exvg/7L39b13Xee/J/AcB5hcOcDGtWk0bz02buOlFLaBIa00902jYASrEbaOW6PWwRq8gRGghBbihnBvBV9E1LLmIUo0JNpIiU5YcKiajF9JyKZAgK4m0RZvyiWWRMM1jUxpGR2ZCVjRp6lgMvoNnvey99tr7vJHnkIc8XwLEOWe/rL3WZ33Xs9az3rbTRvWvrcRvSYewsBwqkZfKfhjNSzmWZ5Y7La6dDBxtRy/lfp4fnloeYPyIJC3519vfwsLVgM0HOypsr5NPYSfnRZN+PiWGowdOSuKt7KxJx//x1PJGglXmSo+TRNpmdqm/pQdKEioJNhm6ovDc50ucZERDwFug8ryVxNcN34RTMDyJhzJEOlNVj5hkrBwvJjy5ToRiGnBBD4kS4FM6PRKe4ah66OQeiZ9NvzJwOxQHNWfeirfY50v4qoCbHijbiCzm/nLylvTYBp/EQfLTcCyLHiU9gSGTTguzhsHyLEd6VX5Kx4bWvd613DSUyhF+sbyNoVF6sga7lOcbTQbl188PSafwU9oTY6adZLVGTb5LPkoPnj0vv9WIm3lVSKHyJeGLHiIVmxmxK2d+FeLp6kWtYbYjQNouFrQPhcKX87bh/Mc7zK6wpnyXkl+FeKr82KHzQ9JU6Ppyn3ftm9FKUfZR4iH2SeoPqyengo3YB3teNCcaEX7yqbSsG0ihHp0ZDsXoSa4RPUpnjDxfnOBy5k8+3sJOOW87dA+5NJTyXV9Mevz7hZnoz7Lzzy/3t8TFsAvyT9Jjjpel/BSbXplxoeyR5J/Jfxu/YtKn6ifTmWTzQ4Uj5cnoTcqy0qd2aoL0iYatvbTnS7EnKp5PmRESiYPT3ig2/eXUq2l3RUYMyxm+coKT6pcVtEfd+AkzqY/c9oaqn8oUfjF6kvhE6hfzFpVS8lN0ZepaXX7NEjjhZ9MrGrXl27YNJX6iZ/lty8TjO3R9a6+x9xcTH9c+y/22PBgOZbdXPl+Jox1BlfQIl1Li74eX9Fv0YeoxPYBi2ufF8EkKLyl+ET2YPVPKGb6JR878UE6w2BZtIyP1a1J8/fAk/k7HTKJ9sP6S1Dcmn1R8Avtqni/nTbux5PrClGtl759YrhMsDQeJoIpk6NTZyBT1KQVDDL5qNJieE8nQkv5NHASu/EsBk38p2E7hV89wCm9pzyg1Tu71ZiG5Tac0kiSTJW6SfomTjXtOltLIM+Kx4cgInK1g5X75LeekgIuBk2Mqo81xOScFNJGBZWjuCzgahoqjaWipZ8io2zLzvKS8dTnqRqbtDFBplfQIA8tRadLVpXd/Mc92e7pUY2w56fR4Kj2GrxtSo6g2H0ULpkJaVU0qbZiyJ5pUHE3ZKahH4Wq0IvG3aRHtyW91v27UBZq0upNP6ygoLVkd5+NseeYp36piM6PRxeRzua5R6XHKnqS/nHqUeEre2PIt31eiF2WzhaP5l0a5hCn8bD5KGSgXn2LDcTUhDJP0qNKdQyeSrkLasmlUWpFwpIFoGnk27XJOwslp38x9AUevvrHhKNuxDPtTLC/3OnmW+1wp2zF+Jt7L0s5TYfjyHPfZRX+33Nx6WuooU8dIGqRhJeGLFnLyryBTKROWo+hAdBjRoom7tW9JaZd4++VJ0mY1Ja/4Umk00xklP3LpNil8WwasjZZ75T/C0bFHa1GWVbly2naSn5ajlDcVZ1NP2/QkpjVPXkv6bR1my2ypYajrnbpFwnR5Spwl7ECTVVa/WA0oWyTlKwevXJqU+/28Eh3JMSkLiq9TL8hve0++ZymOfv3ilG+pH1W+54hvrrBXdNxrh5dbjxI3SbfVi4S/7DRaTZo2ltWkcJNwrY2S/Fj2M5bJXuJgny92TeJg2zuSfvVv4p8rv+QaVbaMvZfw5Le1+W4a5VqrR7eeE86BHvOkRZUN296xdtJv7/zn5Y0Eqx5viZREWNYkBSC0U6c8eJso2TVNAbEF1fyWAicA/ugb5j2+3vkgg+V6IwiBIiOAgeHXO2OqHgUBY0T4OalQ/+gbYfhyXO4x8UiMT+R5AjZffIo9r3viPmfSGaTXCkk+1Zx2s15CMlZ6gK3wlahkjaRJvxGICk/uVfzNHHpJr0mnGiGz6bc9JmLYTDiqh9E+Q54nz5X8lApLjZh4/Nz4S4+aYlMOPppjUflhC4/oxY2PHaEQR0FVuGbXY9GXSaMegbfpz6FHxUb31KvwhYdJZ+746XzJy/OPZcQziWdY+HOHXwIfFdcir3eNmeUpTJWzZdagG23l1qPRpF2TaPUm+hDugdGSNf/mHYGiT/s8Wyalh0+xl/B0o1Dr33RwyAiJxEWul3+V3x5PeZY8c7XLtzxT8jemR8NS4iU8TLlO1GMu+2jzU8qn4aYqHMUrj/2R89b4B/bSOhu6nH/OzESI2CObf8EMi1Us38Lpj0ylKPoIHCKd58q+F6tH1ePv6EP0IxyUvvUz1G/JE8NV5Z9yvkRDVo+hwxboUWxKMXpUI8GrxE/i4+rP57dVyrPj0CXWLwX05NqvvHr17KE4Yap+MQ04VY7NjCKbH9YeWP2tVf1iynJgn2x8IjwLlGdT7pRejK1S4cl3mwcqPNOIU20gYz+Eh7FjQX0flF+nAaf0p+tp2zkWy38JS54p9+fNryLri6T2m7VPSeErlk55dvUp9tvYxbD9GO2ALdh+lHRJGEpDUr/ocpvb/pu6yuep3jtudsU3dZ+qX9z4Sn7JsxTLCvHKxVeeKe0xPz7KPoqmCuhR5ZGxZ6I1sXHCX8ITfQg3116aNpNKr2Jr7KUcV+nXdbTKH2lPBjy9+sVq38Q7Ev8/sSOYq2QfrT6tXnx7E9NjrvZ3gfgKS0m3hC91SyG9KP/Is5cShrSn3Pa4be/Y/LDxl2uC/M1jv23685XXXPrz21MSP6sfax9V/KRd5urRtPfkemlPCAurH4mPpN2vf1UZM3o0ulH6lPpD2ivB80x7UvEzM7CM3dV6lPxz6hulb6czx/Kz4T2xTCdYRUgCsf9/bBxOibwIQRVO7SDbhp/+FBi6ICkI9n6pICIJcXs4bYKs4TfGVZ5p73c//bio+BhRKnDm+TYeIg77vRLnRQjCwziY2nBLGnLEX9Ji0yBxN46d4qUaEUYQNs1WMPY+22AJftsK1zSEVFysKIqJg8lTm6+SnkryypkfpqfWxt82lEvlKAzFqBuDrwqOLaTWORR2kl513PSMmgJtC6bODz9f8/E0ulV5asqIxCFneo0uK3E+0GToWObXo2jAL9uWYVi5BuXRMdgqXElzRKdhB47KB9tAjJSRfCyNvbFxspVOJcpvPv7SELBlcll6NDYyUY8m/yV8y06l09or28NpyoUKw5Rxy9HGydoK/9PaGQnflm+reVvG86W/XLwl7jbOVju5ynUkzqbz0C3TKizRm6MfpT/zW47Lb5eFVODCVu4NKlBb3xRjK72yLeGsFj8py5adLWdWL24a7XfLT66Vf7GnbtqVnTONFpsGy1I+Az0Y3anrjS1Q5bgUm+iVY4mLhGefWy59FRWeGf1aFkspP64WdWdTUG6FveXufrdc1THjBIt2Ao5We6ZTx+ah+2nDtWU4yNOo4xIwDfJvteuXPG0emwZrz0UHtkwrfTlOssRfjsk1lltQ3kLHTM3ykOOibbnW5qu1Ly5D97uNS8DTzJSydnE1+AV6tZostp625clrNyoORleubfBZWPtheSgGJv0B5VoQbQAAIABJREFUS8tTnmHsnr3e//RZSj5YjjaNq8VT4m9tnp9uP97yW6XdsZG59GjT4bYdY+l0baXp0ArKuK1niigfbpyUnQwHdlalfKv2jomvzXvJ40R+hqGNszCxDAM9mo4se78NM/gt553wJSwJx96vyrZ0ZhfBUOVpQpyWPR3aFBbVw6OELhH9K3xORf6vDBT7OxRU0ANoBBlcrwx3woiPJNoCiYVvRgQt5FJGVJVwnRHWiv/WDVbVY2kzUHooJEOdghn0mBmOAR/7O2Cdj7fHP7jH5od3XsIWhrZHR+WFrtCDETxTEX1OXusQGLHV5CcVtnmeFESJjxrREMNuGh9qBDvaaIjxMxx15SkjTlEjp/JDXaOZ6BEUP3w5l49/sTzXiJ/NP1kDJ9+XrUev/P3xN3KU/wS9GWOXX+8SvmFtr1fGzjba3RkoWpfhCIqjF5teq59y/y6HHlU6zZrLoPyZ9MlvqzfV0DaOs+rhlErCaF56OF19u/ZS3e/ll7KXxmk2Ggh6bCtuD/380WU6tI+6oVWaffTSl4+H4aR5GafY7eGOnHf0q+ykuT5vfeOnr9K/XX6ePpSNM/Zd1adOeiJ6cflJvWRmMEjDxepPPlXjTTc8gjXQKtxc+jNlWNUvtrNF291ghNrWL6psSlmuNK9c4et6Olq/hI1+VV+YulLqkJzlTXE1PP8oF2+/PrbX20ZfjvPyfFNvhe0pneeq/NjGcaXsXbH2M1a/mPdAm7ir9obRTaCviB5N+kVzfnqVJncY/qJJ3cCOzRhS4efi7+rd6tHU9YE9tM53Lr3o45XXq+jSjnD57ZHQEc2pR2Fo23eWuVs/5LV3ojfdDs8bvh1hi+izWuoXk39mZopq87gzKkRfxdh/4RRJn9adDu9vzIj9X2m9SviiI2UvdTs/mNGVk3doK4P8krgZmxu0x42dXPP2ju1gMn5McfbRMLR6lBlguXiY48F5YW//89lfpfek8m3qRskXZ4R6ebtDq0rL9rKFlUTQM2QiIY5x7n/tSITn/d/OvaYQawHaitQaLHdeuvQi6ynZ2lmzTlu1fhojK71IyvC6LK1DZwpGIAiHS16+/nW2gBkR2srIVCDq+RIPVYmuJ4aSt8JRVxR6VMPl6BQc0VFJzHyG7m+Hp1QSLk9/ZGXdaNLTo9PBoNKnDFC59Oiy/Cvd0LblXPF0yrfwNA3l6i/fxgZJfG2ZtpWF0kil9Gh5Wl2axouqRG1lLZWALePVahNNeZaKPqhn7EijpMN0XEm6KqVHW3/JZ1C2XT0ahoGtrCZ7afQX4WfyXZXnBH4rrlus9txy7DwnqGPcurqa9efHza1fnHaPtfmiEavFcrC0dlDCtPqztjioW2w+V5P2fG7+bxNn1zZGNFlmjrauz8VTsXQ1aZn68a623249LWXb2CarR6VFYVnO9o4p44qlbUO6bXHjYARtyGpjliM+qo5x6mrRo+VYUrn2Wfu/HRupdJlUTyfMzKnqtqNTnoO62nR8BBxtma60HqW+WZ4el+UEqxED1QDQDZXPKSfEFEx3TrsCISMcBoAplJ8TEXz1L7VD8tW/RPBbnU/y4G0jTjeGIj2e1qOPxMc0oExDIB7f9XBeGlq6J0mtEbAF0+2xSuIpPXzWUJlCHI54aoGqHioJe13zMZV/wfw3Pai2wpM1csLSqSgUL1thuno0xyI8ZZdEuV+0bcJUPXRKf7oMrE+95eNpKwmrR6eicPUoDcCvSg9+jvId46kbytERDW9NTsH8NWtO1k35lzX4piEt+vFnMMiIuinXqsPG16P9LSxNOdfl20wVkhFipcvQUds4ejTlS/JaMdQzQXKOGCfZR8tP1T/SUMlV39jy7epxvZfvYvk5DbgIL12uVfmO6c/YxA2tP9ve8doPSo/GCVAzNEz9Yto9yeXZlN+c+jMdFzICaNtXG7a+1rpUnV6R9qPmWFT70eoxiafYQxlNUw7aRudpR4yNHmVGh9veUXxKLd+mM0baPEH5DjumN0794pVv0YvVozPltig9Wv8msT3udqjKjC+j/41Wvk09HY6Il6O948+YS2rvlMZzWU5wMCpjM6/Qp230mUKke1rMMLhqyBkPXjkXxmDZRk6hsGvuvJ1i4c+FNz0unoNWcl7VBE/jIBgnVk+nchxjceask2w1a6+tCT5OoyRvesOOGtXIEO15Fa521NzybSsA3aFFfVrWjmMsmkvkGE4N1Jp11sfkzSf7jA3+aesMM31M1zNuubYdB64eWd8EZTDgZ8popDybkQt7LLCLLMcBP78M2jrDsrJ1inwGHKMOWs6w/LBr6XdS+1EYuvW08FSc3RHJsCOQXE39omxjrnramfliNas0TI4R/bh6FOfYlmulR92xGsyKjXAMOw4i4dVSWVZpddqNoi+ng0GxtB1aETtZuXbjspxg8I8ESIAESIAESIAESIAESIAESIAE1iEBOsHrMNMYZRIgARIgARIgARIgARIgARIggeURoBO8PG68iwRIgARIgARIgARIgARIgARIYB0SoBO8DjONUSYBEiABEiABEiABEiABEiABElgeATrBy+PGu0iABEiABEiABEiABEiABEiABNYhATrB6zDTGGUSIAESIAESIAESIAESyEfggw8m8KMfvYRv7v4H/Omf/l/43S/9Hn7jN38Lv75pM/9riIHkueS9aEC0IJoQbdT6H53gWlcA008CJEACJEACJEACJLBhCPzk1Q58/cm/pKNbQ47ucjo2RCOilVr9oxNcqznPdJMACZAACZAACZAACWwYAq+//q9qtG85DhHvqd3RcRkhFu3U2h+d4FrLcaaXBEiABEiABEiABEhgQxFobn6GI78c+V2RBkRDtfRHJ7iWcptpJQESIAESIAESIAES2DAEMpl7nPpM53dFzq87C0CmSIumauGPTnAt5DLTSAIkQAIkQAIkQAIksKEIiLMiU1ldJ4bfa3dac7nyXjRVC44wneANZQ6ZGBIgARIgARIgARIggVogwM2v6PCWy/H1wxFtbfQ/OsEbPYeZPhIgARIgARIgARIggQ1FgGuA6QD7jmu5f2/0NcJ0gjeUSWRiSIAESIAESIAESIAENjIB2cm33A4Pw6NTnaSBjbxrNJ3gjWwlmTYSIAESIAESIAESIIENRYDrgOmwJjmslTgmWtuof3SCN2rOMl0kQAIkQAIkQAIkQAIbisBPXu3gKDB3g15VDYjmNuIfneCNmKtMEwmQAAmQAAmQAAmQwIYjwM2wOApciRHffGFu1E2y1pETvIjZu7cwOHQLd2cXq8OoTY+ge3i2OuJSKBYPFzE7O+v8VwnDQvEudP6TWaRv9GLkw1ksPix0cZHnP5nFWkpsMZJPudI1i5HXRlDd6lvErb5epD8pkvsaXKZYr3JRkGeuVKvlCKNcuCsal5jdmkXJ2bUodq/ku8qFJ284Sn9eeQ/tdHXGOW+CeHLNCCgt5ZNMmcrB4mwaI32DuHU338OSMZTfVpSrHixXOMnpLufRDz6YWNURwHyOEc/VljMu2ttof+vCCV68cRTbN9ehbvMWbH1iCzbV1WHTU8dwa40b17d+sAV1jx3FrfWgiqEDqKuri/7XP4Idzw+W6Egt4u5wL25Nr3Wi0+j+x62or6vHI49vxdYv1qOufiv2XEivOGKDz9Zh+5m7Kw5neQEM4oCfT5LGbxzGoMv83aPYUrcFR99d3lNW5a7Zbuyqr8eu16rVVb+L00+udl7rZx4YWkkOlCOMlTzfvbfCcclht5pO3CraGb57ZjvqnjyNtSrRLq3od80uZpdt+a/KOEdTwF/VQsDUG0915KjPF9H77XrU1R3A4HKj/MkIjj65CfVf3IqtT+g6t/7xfeh166W8YVfAVpSrHixXOHnTX56TP/rRSxV2gs9iXEX1A/x4BVOOvzd4H/cH/8fK4vrfB3HfxXZ/EN8rIU4SB/lbcTycZ5Y3zPKwXq3OCNHeRvurfif4w9PYUb8F+15zmjAP76L721tQ33gaK3d5NlqW5kiPakx6FeD0CI411qN+Z3eOijMprApUZEmPyXtsEYPPSv4fwy3Hv5p995jSyoHh0nuo3cdVgxMccZIezmLkX3agvn4XuotucLgp4vdkAlrLq9vhUY7yU44wkomUfrTCcUmyW3e7sefLj+LAUHHlvHqd4ChtsTt1zy7bRYkGxl81RsB2nm7DMe3BRNM/3YEm1bnitQGiV+X5pZ3oLc+6neaLuPXidtTldLz94CpsK/zHbdDf39z9DytzLB2HLtl5WrljVh5H0cbDy8gSHOHyxKO2RnuTNaEZiPY22l+VO8Gz6P5mPbb9S5Krm8axr9VjX59uCN3tO4rDF7wx2elBHHu+A7dsW2n2Fjp+sAdNTzRhzw86Ig5U+sJhHBtK41bnYex6cg+67wKFwpwdOobDJ9xKAZh9twNHv9WErU/twdHOW4FzufhuBw6fGXFGL9Lofv4wTt+wkQMWb5zG4Tb3mjLKLakxKcF/Moh9X34Uh284z7rbi2PPW06nMRI4XhLnfdjx5Tps23k4mvac9zjhluur9NrW70FvwkyA2c4m1LlO/cO76D2xD7ue3I5d3zmGXqcvxUbn7tBpHN65Hdt3HkbHqDjY3uhgEWHYsFb+qRszESdYBbqIwe88ikefH9GPmBVtH8Og0wlg02G1FyoLQJ40iPYPR0bQZzF44jC6ncbU7Hg3jomun9yFfZ7mMZtG9wnRi2Ycjlhrjbvh5IsHVJq6kf7kFjqe34XtT+7CYacMrZytH4JulBVygu/2HcM+pY99ONbnC2gWtzqPhudfSztlXJ43i/Rrx7Dnqa1o+tYxDE6n1ehzJH/z5I1lcktsmfD/geS/bUwuGnuVQ9v5wlUo8sTd5EX0uUWmx8e8kt857NbIwXrUH9RlIckOa3uuC0eSE5zLTquoPryLwTNSD0ieHVU2YSVJKPbenE5wnnpLhZ3H9moOd1Vdpmyg1IefAIsf6vKsbN67jhEpNrK8rsoISL2xHU1POXWEE8P0iW2o/9o2bLUjwYtiY8UeORcBuHXhMI7GbJxcI+2tOkTslhxevIuRPtPOSaiTMN7ttBOKsFvW7ojmn9XtqGNXRJ+zGFFlsgl7TvTirl36lPDMfPVgznosIZx8NkLZnAtpLI52hG0HvxzlrBejzEv9Vfldoa3zmW8k+H/gWmSINhxttY5nkK7AabXhmjMfnM3vzP/kA31hcJ29/z6u/XdxyuxvJ57mHjvya+Nyf3DQjG5LkPb+zfh1O9J8fxDXzOOC8/ac3BLEYTPCMO0od5zF+E9cx9nG06TbfX5SGjZtxo+DuHjx3eQ+P0eaCnZyuHEr7ftG3CW6yp3gQeyr247TH1rxRD/TbdtR9x3Tc37jMB798mEYF0FdqAz/t3t1o/ROB5o2b8GuE93o7etFx/PbsWnzvsCRkgbI1q9tx/Zvn0Z33wjUcpcCYfqNq7udTdj02C4ce60XvX0dOPzkJmwKnn8a2+udXtjxY9haV4d6p+d/8Nl6bE10+KPpXtavHI1JCWvknx7Fo/9kyN04rKbZCqeRGyPo/sEO1D92ACPKo5rFrb4O7HuiDk0v9qJ3+K5mm/eeZcU2702RfM935eIIDj++CdsOdqg87+08gG31W+COFKfPSPrCPDvwZBN2uFNkvTDE2du6eXtyb3u+uBR9LpcTDMDV453T2C5l444OePbCLp2OvltIj3bjwJ9two4zpvPIpGHrPx5Dd18ves/si6Qh3vi2jRUTacnf+m040DmC9IeDOPbNLZARAe1kj+DwY/WK8ciHaQye2IUtjx3AoOqg8NLisYzlh0nTjn/co8vQa8ew67E6bLHaLJphsRcWcoIXMfL8Vmz6swPoEG7izD6+CdtP2E65WXTvrEe9nB8awcjQaex7rB47zlpH2cxYcO7f9eQO7HjCaUx6TGL6Uky2YdtTTTja2YveUWkQmng3NmG70Xa3cK/fEdpKL9wYaxSIe+Jzi0hPseiLvS6H3RJbaW2Wb4claLcjyz+f104bLlu+eQy9o2nceu0Atm12uBYb72VcFy+HAArUW2ITZFlEsr3WHLY+KZ2+Uu9146jM/Glswh5jC5RuHDuyjGjzlqogoJ3g033HsK1+H3ojPaAjOCwd3Z1SZ9g2iJT/OjR1Oh0gi73YV59jJBlmJPibHUhHwnYS79VJ6oyU32BafxF2K6gD9uG0qau21G1D09NNOCD2r68DB/6sHo/a+sd7Zt56MF895oUTtRHdqs6rb+wIllRom7LDK0dbnMGEfPWiw2wZX3/3S7+X33lcsRNknTbHufTCjDppNhHaubROoj0K5QTbMIOj6ot1VhNHHx0nNOpUWsfNhunEM4cTHH2q/DL3OM+IXHP/fnQaNgAbB5s+G/d8LH59U9xB1s+xcY6nITm8+PMj8ZUfQWeD5VP+T9FeWf+WPsa1l/8Jh//pFK59bEIu9liZIlLdTrAyTNZoJ6T4yj7HwOqR4bCnMjpSPPL8o7ERZXXMNGhVA+Sb3d4oTv4wo40rqWj8CsQ9Fg1L7t3+7AFsDxx3uXZr5ZyrHI1JoarSYZ3xxVncGncqRukBfqIeB4Ytf89BksMF77H3lufTbeDmC1Gly5uqtdizB/VfO6an0SdV+p/0Yk99OBIsI8v13zIdKeZh6pjt3MgXgWWd8xxHNwy3PHiVtmLSZp0zANN3gw2p1Oi4x0HNcnhNXx9vfEfzWHG0nU0Sn8VZ3J02LSEVj33OOrNFzN6xmxdF01IwP1RYW3F01En00AHUB2XEOV6Wr6ZRlmv9t0wh9GccqGNhI3Pxw1sBZ4WmZw/qbGNpXBqk3owFOVYXOsEF9ZXExDjBvi7T/7IN9UaXBVlLNuaLe9Jzi0hPWbLFDcS3W7IR3tBRtezBzl5RaQ0a2vpm10ZEz7s22T7IPWacCafjdfZuesUbmdkn5fuMl0OgUL1VyPaqMF379aE4QrvQHZj4u+horMOenlyeTb4Y81z1EDC6vTOLjqeizu1i3z5d56kyHbanpC4MHVQguC5Xoj65hdNqH45N2CKzdM70Ih3oSDpsoh2zKpgEJzif3dJhRNtBg9+pCzq8VJjDB1D/hKnDvWeqcp+jHlR2IG89ZjuVB3Gg3psdp0bCnZmHss/AE9H9YNyOOZ2OXPViLsDFHf+N3/ytNXeCfafVOm65HMVf95zT0Dm0zmCSw5bkQLrXxx1I/znWYQ0dxDBMFdfACbajwzbMcGTbps06vTZM+1uft/f76bDPc+PtXmOfZ84H8XGutyPixsm1zw/SlHSP12nh59dyf4v2yvk33vp/hlr+k2NqtL7YY+WKxzpwgl1DEk22b8TVyK915qTBFjSexZF7RE2jkVFg+9/xna2oMw2EpAaIPC13mMZ5tI0vGdn9wh4cc8KXXksZNbUNjPS/bDXGXHphxdCLY2wMvtwfxDeazrL88huTTqCqcrDc5PjDRdwdHUTva6dx9Pk92FYfNtrtKFTY2WACynuP87AyfI1VdIlhLqL3W3XOqJy5SDZrso3AROb6Pj1F1nx/Xs8esLrpfbEJdbYSTnz2Sg5GHcdISG4jxqv8VQ94/VY0/aADg6N3nUa7TsOuC25rJRKqGjWLrkWMOsF6tGkTtj97Gt030t7O2dLjXYdNTx7A6ddGkI7swuumpYj88NKkYummORrtMvzK7wRr+3JYj54H5foomuqijTS9W2ovOk4cxr6ntgQNS3W/OzVfxVhskS1PRegriYlxgmN5GswUKIK1oZcr7kkN2sLpKUOW+EEou1Xnbei3DQfUFEl9cdTJ1ceUjTCdG5HzBe20GSF/XEbel7cDrp+EYn/H66DC9ZYKO4/tjYWZUJ5cVsXGlddVGwHrBPvOrDPi6+e96gS2jp8e6Y2MDOdKonR698kSom3Y5G5GmWSrEpzg3HYr2ZGO6dNNh/fM3PWgnkm1pS5HPeaGIzai/kBkVqGgcGfMRWyK4RRtR+WrF3OBLe54NTnBgUNmop7LCfavC1Oay3kMHUXrhMbv8RxIcfw8Z9s+18ZLnD97TDmx1oEMRlGt0xrGK3K9f7/zzDB+jgPrXB+cD54laYymwX+WdlZtnHS48Wui55fr4BZzH51goK5UrznI+GV9GcGB+miD0w1GnEq7LkwdF0NmpgKJ8xqsn4SE8yh2fPswDj/v/Zv1jbHGgn1QzjA9J1h6J7+8A/v88J+XtcbGAZFGqjhP4ogZh1fSIJWCGNAwvvbhZfzM4wS707AXhw5ga/0mbNu5D4d/cBrdQ704+ue20S7x8RwkGVEqeE8Z0yExOLsj6LyIhaxeqSKjGnqEY98V/wozxV6mEbs9ys5l0vOsnWAdhlr/HMvX7gptyuY6jk6k5KuMilrn2620zWWz4704LWveH38E9fVbzcZBuTiEYce1H89j3B1Bh1pbLbuzb0LTWWfU+eFdjHTqdbNbNsvO7R2GjZuWXPFw8iMhTdoZC0cvwliX41t+J1jp7Gu74jbjebteOo2Op2S31B3YI+W8sxcjZ8LZKck6TeN0UJ6K0FcSE1MGY9pWo3zCqgjWyB/3JCe4cHrKkSdeGL7dUlMaoxvEJTVI3YZz5HwxdlrWcfed1ns7fLEe9Y/b6f1e3Mr8M14OC9dbhWxvLEylp2h5clmVOUkMbtUIhE4wIDMbzEimO3MlMe/rsU1mwymHuAkd3hrhQtFfvLIPj9rp10m2KsEJzm23Vu4ES3yT60GTklz1mBt3sRF/Ht90VS3DMoMFEZtig5bR4chgQq56sRDV/OeraTq0dS6to2p/+46a/Z2UMntPYSfMOox2lNb+Dp1O+xw7Suv/lmdEjpXDCTajrjZcm0Y/XZaRPm+dbC8NnhOvmUSdXPscm8biRtXDToXCnHNfy+nQq+4Eyxq0R/Hod+z6QyuvHBs6QaYCyZSVERx7wp3OohuFdkTWCSX4GmssBGdyhek5wXc7sKNuj7cWJwjEfJHKaTuO/cuecC2wOMbfOo3TO+vjm074t6/kt9+YtGGp3bftNG6n19ieV9Oh8znBxdwTBFaeL7bCcqYs2oBlSqgd3Xd7bu15uL28Ks/cqYFylR6ps5slyQY8FVunHUTK/eI6ju7xNE43mgaLHLYMzJpg90r5Lj3idaajRTjE0iDvjDQbi0lHTKTyhuuo+SEDePcottrRdP/0w1s4+kSd6tgBomkpmB9JaVLHoo12/5HL/53fCc7VSRI8Lxh5DY4gMjtFOVzRfQqksbnHmQ5dUF9JTIwT7OeperaZil2QdaG4Jz23iPSEJMr0LWa3ZJTbWRMonXA90Wmd8uSwI2s5dtqNu2zO6E3HdE+X8Xu8DipUbxW2vbEwE8oTneAyZuKaBeU6wWYG27d7ccsdDEjIe7XPxNeO4ZaUIXfavJ8OtXHUabM3iHNSzazagQ7ZBkHZNjuybK6JLFnT9jaf3Uqq12L6dNORZKfc6Dn1oHNYf3XrMTccd7ZYcFN0dk1RTnBwr8yuc+tF90Tp39d+YyzPcXPWvVrHL+aoJTp3uZ2tmLPqOZraAbTxsA6ldRatkxw6vMHUYT+uZXSCA+fSTl92NtMKzvlOuDcSHGzUZdcsuyPN3nTotXCCuTHWqjvB2tk9oDbe6YV9N/vih71qc4Rwc57QkOiNEbbgUbvu05yShpJs8BTspvtQnArZPEhvYhNrLIRBKoei/rF4mFFDqBtnkVcIiIMpm6o4joqMutbX1wdTpJWjsFmOhesMnUeX76vXmJSX1qeHZOMhcazCXbUlftteDH/P9uzDFqfRbkeC3SlNhe8pXzJsSHZDq9M3zCi7vEbojLc5kFrD6Gxqo/K83tloSRqR9WqTJztZON3WhE3OmmBxmre5Gw5hVr2e6ZGDlXqVSdRxxCezmDWbUdX/2bHwndRupa2covpwIyw1jd95N6qfhodpHHsyXDem1oJ9We+IDvU6Js3ATnkffHaTsxEWMNsnvf/GMR06gE3BRljiffdi35dth46XloR4iGMfbHwVSZPJaXVsjZxgsw5sh7PGbPbKAWz54gEMyu6kErf6PeH6yk9uqVeOhevs9OYo4f2ina2od5cX+Ex8fSUxMU5w/eamcCOs2UGInQzKpR+ur/1CcU98bhHpsQW0XJ+e3VLBStrqbMed7Fgiv7fjqNqddRF3X9uHrU4ZLslOKy5RmyFlxXaKlStZSeEk1UGF66389joWpsrXaHmKORlJkeOxKicQdYKhXokk7QqnnCTkvR413oItj4XrXZMTKku36rDl293hzsyL+lWVob3T12x/Ue8WvXinG/serw+Wh9i2Q167lWB3Yvp00xG5Xpzs3PVg3nosEk68LafsvvOKwqhN0cTUMTsSnLdeTCZc7NHVe0VSUoxk1NU6n/HzvhOsr8hzT2RqsOcUWwc19pi40+tfYh1E64z752MbYwXxsI60fUboSPth6t/2+vgTNItcrGz49nw4mh0dMQ7D9dna+KzmSDBfkbQWTrBoYHoQh7/xCOrVe+7qUFf/CHY8H301USAVNa2nTk/xCQ7Kl0XcOrNHNY42fVHC2oRt3wqntMYaC+69OcKMGUJn44hHvliPus3bsCfy6hkzpTUyiqZ7GPP2wrpxWe531Zisc9bW6c0tYq9D+LAbe6Ti2rwFWzbXY+vB0zj6pDsSbKc/1wUjjSjinuVGO/d9Oj+3bQ7TtOlre3B6NLrBy+yVw9i+uQ71mzfpPH+2N3htlQr7kxEcfXKT0tQjKr2D6PZekRSE8cVHsKmuHo984yhGEl7PlDuupZzRjmOd1XpdHTY9th27fuC8FkKCi1TagM2D+i9uhUxJrn98D7qdkfLZHtnlNheHNLrVhifCUqY6D0Zf42MZbd6CrUrX23E0eLXXIkZ+sF1Nkd4i07BlzdUP7Gu+PCdYfOR8+eGnKUhntNFeCs381+qRCZe1/u6MZojtCfRRp6Y+x9Nej0ceewTSuOtoC6dDq2cHZeMRPFKrNmsMAAAgAElEQVSfwNZlkqSvJCbGCT7w2iAOPF4Pa89C7jrVeVnD5luOuCc+N9RZ3ebc6cnPvMSzSU4w9Ayh+mC9tU2L6FdsVrQMl2qn0xeknqjHI4/L1P96bP3HsJ4oMfYlXZ5cB+Wvt2y5z2WvY2GqfI2Wp5iTUVKseXF1EPCcYLObc+Qdvgl5L3FXM4Fsp2a+xFhbGNRNpi60PcjSyrpxVNW3YkfVMoLX4rtD57VbCXYnpk83Hf71xt4m1oP56jE/HKctt0nqzS824ZjTtojZFH+D0cC+bkK8XswHufC5H/3opXAzITNC6o40rvy7dcyS4mKcNTvaKZeIA2kd1mD00w3DOnjuMbnRHvecXzdNNtwgKtZ5NPdEzn+AH3sjztYJLuYVSd9Tz7VObficMAz9SiT/d+iEBpFE6KBKPP10hzs9h+eiLKKOcBgXydvcz4+GsXIdxPNFtLfR/kpd4rvKa4I93MF6T+94ST8XMTs762wcVNLNxV0sU00jGwQVd1s1XSUjxaUmYTn3lCPNxTxXrlm07xZMeqiMuBZwbIt5TlLQq3lMxTFPOgpyyBdZYZRLFKps2l2h8wWiz60oHoWDL/8VBdMe7XzxI1CMdoq5xg9Xfhdimff8Mm3qcuOaFP81O5bXTq9CPVFSwvPHZ0PkR0k8eHG5CET3TykiVFVuCtSnRQWz8jByPUaVh1z1YD5b7geY10b4Fyf8LrFeTAghduiDDyYq7ATHnZ9KOFQMc/1xFu1ttL/15QRvNPpMDwmQAAmQAAmQAAmsMgHlKMrIaezVjqscET6uZAJff/Iv6Qi7I8b8XnE9iOY24h+d4I2Yq0wTCZAACZAACZAACeQgcOvEDmx9ogmHndeN5biUh6uMwE9e7ai408OR2vU3UlvJPBPNbcQ/OsEbMVeZJhIgARIgARIgARIggQ1JoPK7RNMJrKRTuZ7C3oi7QlujQCfYkuAnCZAACZAACZAACZAACVQ5gddf/1eOBnMa9KpoQLS2Uf/oBG/UnGW6SIAESIAESIAESIAENiSB5uZnVsUJWk+jloxreUfwRWMb+Y9O8EbOXaaNBEiABEiABEiABEhgQxLgJlnldfroRIc8N+pmWK4hoBPs0uB3EiABEiABEiABEiABElgHBDKZe+D64NBxoxNbHhaiKdHWRv+jE7zRc5jpIwESIAESIAESIAES2JAExFnhiHB5nD860ZuVlmrBARZjQCd4Q5pEJooESIAESIAESIAESKBWCHCNMB3hlTrxG30NsG8L6AT7RPibBEiABEiABEiABEiABNYZAdnJl9Oj6QyX6gyLZjbyLtC5ijGd4FxkeJwESIAESIAESIAESIAE1hmBn7zawSnSfIVSwd3DZRq9aKVW/+gE12rOM90kQAIkQAIkQAIkQAIblsAHH0zgRz96Cd/c/Q9qhPh3v/R7+I3f/K2CzlGpI4m8vrpHnyXPJe9lxFe0IJoQbdT6H53gWlcA008CJEACJEACJEACJEACJEACNUSATnANZTaTSgIkQAIkQAIkQAIkQAIkQAK1ToBOcK0rgOknARIgARIgARIgARIgARIggRoiQCe4hjKbSSUBEiABEiABEiABEiABEiCBWidAJ7jWFcD0kwAJkAAJkAAJkAAJkAAJkEANEViWEyw38Z8MqAFqgBqgBqgBaoAaoAaoAWqAGqAG1qMGSvH560q5mNeSAAmQAAmQAAmQAAmQAAmQAAmQwHomQCd4Pece404CJEACJEACJEACJEACJEACJFASATrBJeHixSRAAiRAAiRAAiRAAiRAAiRAAuuZAJ3g9Zx7jDsJkAAJkAAJkAAJkAAJkAAJkEBJBOgEl4SLF5MACZAACZAACZAACZAACZAACaxnAnSC13PuMe4kQAIkQAIkQAIkQAIkQAIkQAIlEaATXBIuXkwCJEACJEACJEACJEACJEACJLCeCdAJXs+5x7iTAAmQAAmQAAmQAAmQAAmQAAmURIBOcEm4eDEJkAAJkAAJkAAJkAAJkAAJkMB6JkAneD3nHuNOAiRAAiRAAiRAAiRAAiRAAiRQEgE6wSXh4sUkQAIkQAIkQAIkQAIkQAIkQALrmQCd4PWce4w7CZAACZAACZAACZAACZAACZBASQToBJeEixeTAAmQAAmQAAmQAAmQAAmQAAmsZwJ0gtdz7jHuJEACJEACJEACJEACJEACJEACJRGgE1wSLl5MAiRAAiRAAiRAAiRAAiRAAiSwngnQCV7Puce4kwAJkAAJkAAJkAAJkAAJkAAJlESATnBJuHgxCZAACZAACZAACZAACZAACZDAeiZAJ3g95x7jTgIkQAIkQAIkQAIkQAIkQAIkUBIBOsEl4eLFJEACJEACJEACJEACJEACJEAC65kAneD1nHuMOwmQAAmQAAmQAAmQAAmQAAmQQEkE6ASXhIsXkwAJkAAJkAAJkAAJkAAJkAAJrGcCdILXc+4x7iRAAiRAAiRAAiRAAiRAAiRAAiURoBNcEi5eTAIkQAIkQAIkQAIkQAIkQAIksJ4JKCf4QTaLzL2P8eFHk0h/+BH/yYAaoAaoAWqAGqAGqAFqgBqgBqgBaqBqNSC+q/iw4suW+lcnN0kAs7P/js8++wwPHz7kPxlQA9QANUANUAPUADVADVAD1AA1QA1UrQbEdxUfVnzZUh3hOvGe5WY6v3T+qQFqgBqgBqgBaoAaoAaoAWqAGqAG1pMGxJcVn7aUvzrxnDkCTKGvJ6EzrtQrNUANUAPUADVADVAD1AA1QA2IBsSXFZ+2lL86WQNMAVFA1AA1QA1QA9QANUANUAPUADVADVAD61ED4tOW8kcnmPP82QlCDVAD1AA1QA1QA9QANUANUAPUwLrVAJ1ginfdinc99joxzuwtpQaoAWqAGqAGqAFqgBqgBtZWA3SC6QTTCaYGqAFqgBqgBqgBaoAaoAaoAWqgZjRAJ5hirxmxs8dtbXvcyJ/8qQFqgBqgBqgBaoAaoAaqQQN0gukE0wmmBqgBaoAaoAaoAWqAGqAGqAFqoGY0QCeYYq8ZsVdDrxPjwN5PaoAaoAaoAWqAGqAGqAFqYG01QCeYTjCdYGqAGqAGqAFqgBqgBqgBaoAaoAZqRgN0gin2mhE7e9zWtseN/MmfGqAGqAFqgBqgBqgBaqAaNEAnmE4wnWBqgBqgBqgBaoAaoAaoAWqAGqAGakYDdIIp9poRezX0OjEO7P2kBqgBaoAaoAaoAWqAGqAG1lYDdILpBNMJpgaoAWqAGqAGqAFqgBqgBqgBaqBmNEAnmGKvGbGzx21te9zIn/ypAWqAGqAGqAFqgBqgBqpBA3SC6QTTCaYGqAFqgBqgBqgBaoAaoAaoAWqgZjRQnU7wpwtYWFjAgyQhPjDnsuxFqYZelNWOw4OFBSx8Wt68X7hzE6nx6WS9JWkwx7EH0+NIvTeFhRznV5sVn1denZAneVID1AA1QA1QA9QANbAxNFCdTnBmBB0tJ9Hz/pzXGzGDmxdb0PL6GOY2rKOxgOnJSWT+/YGX9nUguAdzyExOYvqTSsV1DmOvt6Dl+lQZ2cxh/HILWk4OI7NCTWWGT6KlpQfjc5VKP8NlxUMNUAPUADVADVAD1AA1QA2sVAPV6QQ/fICp62fRcvIqJp1Rv4WJAZxs6cLNX27kjJ/CcEsLLo35HQDrIM3/PoZLLS0YnqpUXCvhBD/Ew+wDLDwoR5wflH2UeqUFnPeXI18ZBnVEDVAD1AA1QA1QA9TARtJAlTrBD/Hw00lcPdmCjhsZPepnfw9nwmmrC9MYf+cq+i5cwsDbY5hyR+AWpnDz7RGkXYf5l2mMvH0TUwsi4hmk3x7BzakZTI8Po+/CVaTd+82o4MzECEbem8LM9DhG+i+h79pNTMlI56fTGH97AJdeH8CIP5U2O4fJ94Yw8Pp5dX36lwvRkcvsHKbGUrjaex6X+kcwdtecV3EeQFdLC85eHsLI22nMJIxOLkzdVOem5yaR6r+E8+8YRsFzL2HgjZtIz8RHk+cmb2JI7um9ipvpmdjUXXv+Uv+QOh9OSXd56bgHLCSOwnawB2dbWtDVr5nlmhY8NzWG1LU+nBd2Y5kwDgXzLHSCF+6OKX5911IY/9jha8OYXsDUe1fR5+SPTHsW5pF4P3wIm8c2vgu/TOPmGwO4dKEPV99LY8bpiHmYK+8ePoTNFzfPFj4ed9I6hTlnGr+9fvqTKf08J64bycgwLaw0qQFqgBqgBqgBaoAaoAaqSQPV6wQ/fIi593twsuUSxmYeInOjIzoyPDOGnpMtePn1qxh5ewRDvXL+PFIZI7CkUcmpYbRIeP8u1+gR17PtHXilR8JIYTLBCZ663oKW9g6cV8+5ikunW9DS0Ye+17pwVZ7bdx4nW05iYMI4Yp9OYbijBSfP9WHo7RGMXOnCyZaXMZC2jppMvz2pzqfGJzH+Tp+a+q3uL9IJnhu7hJaWszh7rgsDb4xg6P1pPHSeOzI2hpvXLuHllg4MT1lHWEbXNaO+N0Yw8kYfzksnw/Up06ngnH97DGPv6bSG5w2vjvPo6hMH3bBoH8aUjKIW6QSrPD15Hn3vjGNyPIU+YdWf1o5wwTwzTnBHB7pMvl99/WW0uOk0YXR0XIKk0+ZPT28Pzvc68e4YCaY/qzw2U+wf3B1GR8vLuHR9DOn0GIa6T6IluDZP3oleVb4MY8p2oIyJfl/GpWsjGHl7SKf1XCp4rr6+Ax0XLzlaWqezABI6a6rJ0DEurHipAWqAGqAGqAFqgBqgBqwGqtoJltFaWQN6srsLXa6j+fABJgdPouXiTWekdAHjvS1o6R0v0qHSTt3Ja5PhyHJCQ147waHD9DAzokY7r35kncsZjL0WrlOdea8r6qw/fIjM22fR0m7C+GQcfS0tGJoMRbjw8SQygQNeeDq0dp6i08LVc+0zTDrUc+366V/eVAzDeD/Eg8lhnJcRcBnZVufPYsR2IkgYKq3RToMIr+kUzrvTn5Oc2AhTk0eDk+HI+CfTmMyYqd9J90c6LowTHEmnCdOm04TRN247Hcz5C45W7gw5nSEP4TrBmbdfRku3c+2nM5iaMiPmBfIu4gQ/mMTQyRZ0vTvjpFXnvY1bPB8fIP1vG33Ne6h7a4T4SSbUADVADVAD1AA1QA1QA6upgSp3grUj1tGiHYNwmmkGwydbcN51MGQ66sQAWlquYlJGJgs6VIWdTckI10FSGRMLN5yi+/Ch2WTJd6yVM3nerGXWo4ktpy/h6jtjSGdm8MCZImtHqPOtCY44W8rJNM/tS2FycjL8f6cPLS16ZFJGYFtahoJRSl9k+nwfUu79kynlsOs1vgm8fBb+74gDrAu2Ht2X0dEUxtKZ6FTjpPuTnGBvY6xI2hLCiOVhJMxoHuuR4JM43zeEm+NTmP7EdnZI/PPnXSRf7g7jZIvNc2vUFpDub0GL0UfkesMqFtcEhn7e8bfly09qgRqgBqgBaoAaoAaoAWqgsAaq3wk205ajTmGCQybOghrhM7vzJjhDDyPOT44wPKcj5pTEwo06wYm7F8/IhlEnMXzXZIhaVzqi1gy/clJ2Jj7vTFsuHK+482TicHFATQ2X6eHhv15XHL8nKg59vgsDkXt1OHpddUK8fBb+b4+lLZCyJljWV5//seymfBLnh82U7KT7I3mm03nWrhM34T/46CpaWgaQlrXeCWHE8jASZtQJljiqNcGyZrlDplq34OXe8XDGQZ68izD2nmHTPvVGC1ouj6vdzSPXm7TE4pqDoQ2Pn1Edkwd5UAPUADVADVAD1AA1QA0U0sA6dYK1M3RyMDqVOTLt2DhDQ3dCETxIy0hxdHpv1LkOr7XgYk5JzMlynWBxqPxp2g+xMC4jssZJE6cm+8CZgq2nfIevfUpwNj1HKNl5OhlOBbfXuyPMUzIyGZ1C/VCmIk9mMCcj5+p8H8Zzvt4oIV4+C/+3jYf3+cDZiXnmlqxvNnlSMM8Mazvl3YSblO/uDtWxPPQcVP+8G78Hd4bU9PcgvDx5F8kXlZaTGJp0R5IzGGlvgXXiI9ebtPhxsTrkZ7xskgmZUAPUADVADVAD1AA1QA0sRwPr1AnWU59PtnRgKD2DB58+wFzmptooK1yDqR2Olo4hjE/PYWYqhT418lhZJ1jW0ap3HL+bwcKnD7Awk8aQbP5kp0ibtbk9t2a0I/zJFEYutuDkv5nNoR4aR+laGjMLrgMVCjzJedLP7cCA7Lb84CEefJLBzcuuY5zBiMTj8k1k5hawMGfOB5s+6fMd/zaGjEwBfrCAzLuysZN1jItwghfSGJDXO/0sg7nEuOv3PJ+8PIYZcYSzC5i6IWuobQdBoTwznR8nz2NgfBoLCwuYmRxGl7uLeIIjHnMsczrBZq15xzAmVWfAA8y9L6/l6kDqY7tu+iRy5V00X2Tqs2yqNaR26X7w6ZzhGXZERK/X+RuLq9eBsJxCznvCskMWZEENUAPUADVADVAD1AA1sG6d4IcPH2D6vT6o6cSyZlh24X3Hed3Ow4d4kEnp3ZxlSuvFEUyl47tDl3skWArVwkfD6JJdpFW8TuL8lXHMOKOyMxNX1c7M+rzscJ1CxnkNz1zanrfOYVSoSc5T/LkmXPU6KHP/J5MYvqin+MqzT567ivSME7Z3XtYtp+zrm5KmpccczgfI/Ex2pZYdtZ3NxFxHbiaNq+dkGrThI8/IhM5+/jzTTvClW1MY77XpEL7Oq6RicYpPd45Oi/fOf5pBSu04beJ38jyuToSbW+XLu1i+fDqNm32v4KSb1oBnfDdpyUM6wY4eXd3we7jBGlmQBTVADVAD1AA1QA1QAyvSwDpwggs1ih+oEcHwfbaFrl+98w8WFrxNr6LPlvMyalvu3qiC4X66gIXEkVoTl0Lny1HoyvEMCaMC/FR+PMjPqCBjl1GBsMqd/wyv/GWKTMmUGqAGqAFqgBqgBqiBjaOBDeAEb5zMYMFiXlID1AA1QA1QA9QANUANUAPUADVQWQ3QCXZH7Pi97KPSLMCVLcDkS77UADVADVAD1AA1QA1QA9RAaRqgE0zHl44vNUANUAPUADVADVAD1AA1QA1QAzWjATrBFHvNiJ09ZKX1kJEXeVED1AA1QA1QA9QANUANbEQN0AmmE0wnmBqgBqgBaoAaoAaoAWqAGqAGqIGa0QCdYIq9ZsS+EXuxmCb2zlID1AA1QA1QA9QANUANUAOlaYBOMJ1gOsHUADVADVAD1AA1QA1QA9QANUAN1IwG6ART7DUjdvaQldZDRl7kRQ1QA9QANUANUAPUADWwETVAJ5hOMJ1gaoAaoAaoAWqAGqAGqAFqgBqgBmpGA3SCKfaaEftG7MVimtg7Sw1QA9QANUANUAPUADVADZSmATrBdILpBFMD1AA1QA1QA9QANUANUAPUADVQMxqgE0yx14zY2UNWWg8ZeZEXNUANUAPUADVADVAD1MBG1ACdYDrBdIKpAWqAGqAGqAFqgBqgBqgBaoAaqBkN0Amm2GtG7BuxF4tpYu8sNUANUAPUADVADVAD1AA1UJoG6ATTCaYTTA1QA9QANUANUAPUADVADVAD1EDNaIBOMMVeM2JnD1lpPWTkRV7UADVADVAD1AA1QA1QAxtRA3SC6QTTCaYGqAFqgBqgBqgBaoAaoAaoAWqgZjRQshP8/039HL/45S/5TwbUADVADVAD1AA1QA1QA9QANUANUAPrTgPi05byV1eq11xK4LyWBEiABEiABEiABEiABEiABEiABCpJoFSflk5wJXODYZMACZAACZAACZAACZAACZAACVSUAJ3giuJl4CRAAiRAAiRAAiRAAiRAAiRAAtVEgE5wNeUG40ICJEACJEACJEACJEACJEACJFBRAnSCK4qXgZMACZAACZAACZAACZAACZAACVQTATrB1ZQbjAsJkAAJkAAJkAAJkAAJkAAJkEBFCdAJriheBk4CJEACJEACJEACJEACJEACJFBNBOgEV1NuMC4kQAIkQAIkQAIkQAIkQAIkQAIVJUAnuKJ4GTgJkAAJkAAJkAAJkAAJkAAJkEA1EaATXE25wbiQAAmQAAmQAAmQAAmQAAmQAAlUlACd4IriZeAkQAIkQAIkQAIkQAIkQAIkQALVRIBOcDXlBuNCAiRAAiRAAiRAAiRAAiRAAiRQUQJ0giuKl4GTAAmQAAmQAAmQAAmQAAmQAAlUEwE6wdWUG4wLCZAACZAACZAACZAACZAACZBARQnQCa4oXgZOAiRAAiRAAiRAAiRAAiRAAiRQTQToBFdTbjAuJEACJEACJEACJEACJEACJEACFSVAJ7iieBk4CZAACZAACZAACZAACZAACZBANRGgE1xNucG4kAAJkAAJkAAJkAAJkAAJkAAJVJQAneCK4mXgJEACJEACJEACJEACJEACJEAC1USATnA15QbjQgIkQAIkQAIkQAIkQAIkQAIkUFECdIIripeBkwAJkAAJkAAJkAAJkAAJkAAJVBMBOsHVlBuMCwmQAAmQAAmQAAmQAAmQAAmQQEUJ0AmuKF4GTgIkQAIkQAIkQAIkQAIkQAIkUE0E6ARXU24wLiRAAiRAAiRAAiRAAiRAAiRAAhUlQCe4ongZOAmQAAmQAAmQAAmQAAmQAAmQQDURoBNcTbnBuJAACZAACZAACZAACZAACZAACVSUAJ3giuJl4CRAAiRAAiRAAiRAAiRAAiRAAtVEgE5wNeUG40ICJEACJEACJEACJEACJEACJFBRAlXrBC9ls8h+lpT2JWSzWSz9Kukcj5EACZBACQR+tYSF2QymfjGXw97kD0vZqaX815R2NovM2E2kZ8saaM4o5LazOW/hCRJYFgGltayva12fxw7/ytTzhZ702SzS744is1jowvzns3dHcfPDWfixy38Xz66YgMlnadNF/6s5J1bXRlvG1Kglwc+KEljKYu4XU8jMLiBmlyv64LUJvEqd4AWMX25F609HkPEd4flx9LS2YuTe2gDjU0mABDYGgbmPhnDxVCtaW+3/GfS8O11CQziDkdZW9IwvlA/IQhq9ra04dWPahJnF7NQUpuejjcLs7BSmPl4oIa5JUTR29u1M0kkeI4EyEljC1ButaO0exZwb6i9S6BC9exqcG72I1tYhTEVl796pv388glOtreidMGVwaQHTU1OYzeMUL81PY2pqFtkgtAWk+1rRemoEttQFp/ilsgTujTj219ph+RxBtVilmK2N2ejyI6JGy8+UIRYisITpd3twJmgPiU28iKGPIha7UCDr7nx1O8GtregYzkQbenSC153IGGESqDoCv0jhXOsp9I7axvASFm5fV8eu3g6bx/njXQEnWB74WdaxecnPyLzditbL41iZ+00nOH/+8mw5CWQ/uorW1h6Mz4ehamfXd46NU3pl0nFUw3v8b0vucEUR7YOF8Z64kyUjkoUcbv/B/L1yAsoJ7sHoL6t3JDjR1kZs9Mox+CFQoz4R/q40AbHPp1rP4fpt06r4VRbTo73q2M1fVvrpaxd+dTvBPz2nGqVDd5zaKamSW8hg/N0hDHQPYOidUUw5LcPsvVGk3pnE7GIGo28MoOdKykw1lCkt5p6xTKyyXZgaxfUrPei5ch2jt+ecRunaZRafTAIkUB4CiY0MZJEZTSFlej6t7XD7Qec+SiEV2AvroM5h7nYKVy/34OrwSu3PHCbfSWH0XhbIZjD6zlVcks7AvuvKjs1JHMdSuPpaK1pf7cX1d1KYvB8yKWS35PxQ/0UMvCFTSOf0jBtvFC4Mjd9IoIwETN0d1ue6E6bjcg8uus7x0hSG3BkWv1pAZvym0W0Ko5EKXsqIKQP3J5F6s1eNLF+64pbTMA1Sfq/3daC19RKu2nIGIFKuVblLYXLWtBEuX0XKTJWWKalh+QnDlW/ZX6Zx840BXOwfws3x6VibIno1fykCxgl2O0ZcMktzk7gp+TsbHl2YuonUz9IIVoxkZUq8acu9O45pfxbArxYwNXYdVy9ruzd5P+zkzG/jc9lax0bbaOV5BmCvn8Psh1bHuafwU6MWKj9Xk0BiZw9mw/aIjUxQ3npw9Z1xZBx/S12S77y1rb9cwNS7V9HTfTOYfVOo7WIfX+7P6naC385gbvQSWk9dxaQ1bL4TbEZ0Lg6kMH47jZv959B6qhdp09usG7vncO7yAK6/cx0DF0+p8wN9FzEwnELqDT38f+5ndiLUEjJvSxgXMfDOOMbHhtDzSivOve2NSJc7JxgeCZDAqhFYmrqOU2okeBrZHPsLJDnK0YpCO8EdP72ISwPipIb2Zdx4zqXbH+tYL5ToBBe2W3NjPTjVegY9b6SQemcIPa/1ore7Fa10gldNd7X9oDmMdjtTn7OTuNp6CiP3ppF6tRVXPzLOiZrifBGjqnNnGqmftuLUxQGkxieRfndAz+Cw05/d9sAKnOBIuTZhnvtpj2ojXB+4qG1Ffy8u9ks5122C1p+mggbc3LiMmEjZGsX4eEq1M071jUenftd25ienvoATDGQxeeVUOOtlcRJXT50Kp7/PjaP3VCvOXB7C6Pg4UpJXp3ph7S8+y2DE6Ec6DHVensPIPT2wkt/G53KCHRstqfKekRq8pLQQzijy6wmjn1dHkHHGdyygXE4wNWoJ8bMSBObGLqHVjAQnyFI/0ilvqXdSGLp8RvlTQXnzzl9X/thF3PyFibGxrR2vXsSlK9eRGk5DdmJYS5+r6p1g6UWT9cGn+tJ66p9b6QGIr53I4LqzRkgbuQGkrRO9mMZAaysujobjO5lhZ2rh/VFcau1Aymaa5J1atxSdxlUJETJMEiCB1SKwhNmxAbP+5QzOyWjPeAYLjkOcv4Ek8dSNm9b+tDPqoxv0do1jyfbHhBmuM/YaXAZPpEEkxwrZLTO6dsmxe5jT+yvQCV4tzfE50z/rQOurxnm8J+t59brfzNun0PrGlJpxpaZI22sS1viq+jpHewBe+yCJeMFybcIY+NCOGGaR7vembN+9Hk7tXprC9VOtCK8HoD+sTqEAACAASURBVNoZ4uAnxYDHAgLKCT6F9osXcbHb+X/XDkoAmE+j99QpDN3JIvN2h3KIdettCVNvnkLU/uq8svZXNexPDWEq2FtmCVNvX8TFN/RU+4JaECsfW3oStcnxZwDT7zg6Nzb9lNG3SvvsTVzMs7dNwXhRo4GE+KVcBLKYGpYOP1kL3K5mtMgsWGsFAVPeXnP3dZjDeP9FXHpPymvSeWM7bRvJ6DbSDinUdilX8nKEsw6cYJmrJI21U+iV7oakSm4pi9l7U5j6cDQY2bWNyLgxiRow4eIauYWJXrS2DuDm1BSmgv+bynFmhZZDRTxMAuuVgNiOqXHcfKMX7bJJ1isDSEdGcaMbtLi2wjrB1tZYBNM3TqH1X/UoUKn2Jx5m3F7Jc6LxAArarcjomo3pHMb/lSPBlgY/V4GAcnx1h7JyiM2636U7Q8Y51uuBrROjY7SErOzgPpXGqB2Ftevh/faA/zshSfEy6ZWnhDD88gZ3BNOUresTbpthHNfPl3nTvIS0rPtDimMHet+U2SnOv7cZz9z7PWh95QzOtF4yMwQk5dMYOdWKi8Npp602hfE3z5mRY7O2fDj3FlsFtZBga6M22jzDdXAlamrgxM5mSLDhCRpz87JgvBLup0Zdgvy+bAKfzWH6Q1kOekkNEpy6aDco1uWt5/1wADH6DFMe3Y52WSai9oIwmxwm6LZg2yX6kLL/Wh9OsPKDe/U0l7vR3aGX7o2oHV7P/FTWA6cw+qF2WG3DNG5M4gbJNR76er1eKGKU7bqjsmcBAyQBEqgKAp9lcP3VVpx6U49IxW2H11g2PfzBNE6TCHckKx5GfvsTbWBJgPHr1VFvdKKg3XIb7QFsbowVoOCX1SFgZiRc/SijpkbbehpqavRFjP5CrwcO1g3LVFNZwvTKOQzINP6xNG4OODO3/EaV/zshVfEy6ZXrhDDcNoIK0i1PuRw5Z81xQjR4SAi4HPMQkXae7CLeGplCrG2j3i/BcaDFmVb7NhS2bwW1UIQTrN5k4i8pMQM3Ix9LohJseILG3OQXjFfC/dSoS5Dfy0LAzBa7NCaOb4KOIw/JcV7NmulFWtYOJ+i2YNsl8ozy/1g3TrCaFt13CqdeOaOG6/WorDFykZ4+PR3aVq5xYxLPqIjxUD3VzvTp8jNniCRAAmtKYElN+7l4xSyxCOJipu6YqZbadlx3XtWxhMlrTgPcVAod7zhT92DCMCNcJdufWEUTt1cS3YjNkgOF7JapfALnQu4x0zg5HToQAL9UnICs8WzFqStXMdBqR8rkobou7+mTtbVXMWnm4MXLIBBZvuQ3qvzfCemJl0mvPCWEkVTegp2u1fXeEip5rrO0IiEaPCQEinKC9brwc2/fVOt7z92wr7HTmona3yh3Nc0+Mn0TcF95FNeXb+M9bahci9rkxGd8OIDWQMfR61UQCRpzBUGNujT4vfIEZjHaexEXg72R7BPN8i71ykZd3uwggb5iCQsfT2FqVgx20nlvaUCS7gu1XWxUKvS5jpxguzZEv0tOO8G6Qm29PIo5WckdbOkdTkOKG5O4QYpWcMbgXpNdBpeAJbtNOB3jCmmQwZLAqhPQrwM4hUs3JjG7IK/nmEPmXVkjfCrcoMe8w/Tcm2nMLujzasq0nYppHNZTr/QgdW8B2ewCpsev6tcsmU1+Src/vn3SlVDHG5OYc97hotdWDmFyLosl1dguZLd0BdX60+vqHknv5JuyiQynQ6+6+Gr8gbpMeGtsZbaXejew28lkp9L1YPS+3qol+4tRtRFS8Howv1GlRpRb0fPeNBac8uIit69quvmLheC1SJE2gB9mjk6nwAk2mzeden0EU9IQ+dUS5tTr1hIcYzci/G6c4IuITiWXaeX21XWiC9kcVa/rXfp4BOdazwV7tig7fuoSRqbmlB2U3aSv/7QVgWMcvApP9JDFgtFPsBFqQRsPxG2tZ6OdZ2Q/W0LWxCFcA+xdL/meoDFXDtSoS4PfV4PA9M/OqY2xro5lMJfNIrswi7RaI+yVN7V51hyy2ayxc2GbSber5DVLc1j6bCkob8Ea4ETdF2q7VDb168sJNvPLZeF2sD53Lo2Bn5wyL1w/g4H3RyOvVyi9ESqbWkxh5LUz4UvcX+nBzY/D5eGVzRKGTgIkUHkCS5gdH8KlV3SnWqvaDOIihsZlr0L75748/gwuvZPBZGQasm7cjNw2UzbVS+bPoOddO1IBlG5/4g2mhdtDaslHOLIgjahJDMk00VZnV91Cdity/gwGJjJ8RZLNan6uHoH7o2pToA5/1ME4JO6mlTIDLD3QrjdraW3Fmf5xjL7hOMqxRtUSpt/Tb3wINuDyU7Y0jZuyq6m8eszEYWVOsOwQPItRJ57ydomhD3OtnfMjVMO/1UiwY4OVDZXfZi8GM604XHKyhKk3TqE1GN3VGxyqzkl17ylcHExjzhmFz94Zcey8nJ90du0uZOOTbG3cRsef4cYhfn0hJxjUaA0XirVKehaZd8zeKLYcSgf/Xdf38ctbtL0jm2PJhqNhedTngxBi9tqkNdI2kb1ZVs/nqlInuHQRLEnPRdh6LT2ApDs+kxGicgea9CAeIwESWCsCynaUoZxLOHpUdq1SYp5bwG5VxFaucZL5+A1OoICmqyb1S2wzrE1eLKmRqXz2dzXsXtXUAfkygRrNR4fnoMtSft+nUHkz50uluQZ2fsM4waWy5vUkQAIkQAIkQAIkQAIkQAIkQAK1R4BOcO3lOVNMAiRAAiRAAiRAAiRAAiRAAjVLgE5wzWY9E04CJEACJEACJEACJEACJEACtUeATnDt5TlTTAIkQAIkQAIkQAIkQAIkQAI1S4BOcM1mPRNOAiRAAiRAAiRAAiRAAiRAArVHgE5w7eU5U0wCJEACJEACJEACJEACJEACNUuATnDNZj0TTgIkQAIkQAIkQAIkQAIkQAK1R4BOcO3lOVNMAiRAAiRAAiRAAiRAAiRAAjVLoGqd4Oz8PLJLa5gv2XnMz2fXMAJr++ji+Gcxf28Co3dmViWvZlI96OzoRFdqBsA8Jt6awPzaYuLT1yuB+xMYfp/qWa/Zx3ivbwJSv2y46nVxA6ZptWSWnUdmYhS3ZzZmm6u49tRqweZz1j2BpWxB/0TZ2MXiU6qud42yeob4QfF/v5RmZ25jdOw2ZnI9r5jyvZTFzJ1RTNybhx9+8ako/coqdYJH0d7QgPax0hNUrjtmBg6i4bl+iLtVsb/7t5F6f2ZVM7y4tBTB/34Kbc2NaNrTjObmnWhs3I/OicpJd/6tFjTuaUHPW8MY/XkW+KgLexv2ousjk6KqZVkccV61ugRuX9iLhj1duF2Wx87jdmoCG7T9VhZCDIQEFIHF2+j/YTMaGxpwcKCiteuqAx99ZeOlaTUgZq4cQVPjTjQ/04zmXY1oeq4LE7ka06sRobI/Ywb9z61te7bsSWKAa0Zg/r1OHHy6AQ0N7RjNEYvs++3Y29CAhldyXeHdOH0Nhxoboj7PWDsaJIzY/0H0T5v7FyfQ9VwTGnc1q/K7s7EJRy7fjvg0qnw3NGGvKd+Nz3bGynf2Tg+OPN2Inc3NaN7ThIY9LRi+58WxQj/pBOcAuypOsIis0o52jvTlP1zICRaj3ohDA5kgmPlUG3bv7sREcKS8X1R+5CvQVcuyvBwYWjUSkPLiVAzVGEXGiQTWmsDP+3Hw6SYcvHANXd/beA4jneBlCOznPdjfeAj9QYM3i9GXd2P3uUq1JJYRxxXfQid4xQgZgJr9mHqlGU3Nx3HtclseJ3gCnXv24tALzUU6wfMYfrEJh14oPPCXHWvH7j1hO3/i3G7sfjkVzsicH8bxxv3o+bnJsIlO7PXL9yt70XgiFTrK2VG0796L9rFwEC1z+SAavn8tDLeC+b9unOD593rQ+XoqHG2ZSaGn4ziOPHMExy/0Y+K+R2n+Nq5dMOcvj2L+/ih6OoYRum2ATK9te/EgDr7YiWt3ssi82YmeMT1FMskJnv/oGrpOHEHz94+ja/B2/gzK3sa1jh6MevG6/aaezjs/1oPOF/ejYfchtHV0YtiKxkuG/jmDVHcXUrb3RYqD3H8h5YxUzyB1oTPsPVmaQepyG1qeO4iWl3ugZhB7YYfpb0NP5IK4Exzh//MeND/TE2Ep05Nvp0aRKTDDVMX7zduQ8I5/vxld75tI5YzvPEYvd6Lthd1o+G6Lmg6tWM1LfvZgdN6wKJJl3jycz2D4smhGMwvyrkBeelj5cx0QUDoUuyBxdbQURP3nw+i05+Xg0gxGBzrR8lwzjpzoUvZCXavubcH+ht049FInOt90LUwQWmBbrO6PnEgokznLwDLKf/hofiOB6iDw0TCuKWdHOwWFRoJnxvrR+eLBoL4Nm0i6PC6/fitwvyrTw8gsSh3egoPPtaAzob638bPth5gTnKs+qY7cqI5Y+HZWYlWoQzuXLbYpctt+F67htt8myWlnTQB57tftlwyyd64pbaq8/8h/wDwyb+n2jdj50fuZ2Ejw/M+H0SNtyeda0ObWMzYN/CSBGIEZpN40SwDVKG3ySHDm9f3Ye3YCGZnNmm/gyISfvXEcTS9cw0yhcgc9+NXyptW7OM9+Z2a0wyfzejMaXvZGo7MpHG9owbAJRp7f4DrFEq/sDCZWaXbdunCC599rx9497crhUfkmvQsNe9FyeRgTExMYvnAIjXvaEczGXRxF+55G7D97DalUCsOXW3DwhUNodqYPZAbkHplem0IqdQ3tzx3BoefCDPWd4JnBI2hyru98rglNLzm9GTHBaoEcGbSCkYxNoc30kmSnJ5DqPoKGZ9pwLZXCbc9Z9oMbfaXRmT6WReqETFNwRp+m+3Gw4ThS0lLITqCzuclJ/3E0P30w7J1BFhMdzWh6tl09OyUGu7kJBy/bBnzUCfb5z1w5hMazE8DMKPovdKKzowv9Y8VNbVNcv7sfR77fFaY7b3yzmHk/hWsvN6Phn7tUfipWKr06/cWyVHn49EF0DkqeD6Pr+24eSu+Z1szEvQxGL7dozalpWfnz0s8r/q5+ApHy7WgpiHmkQpD8b8Te1h6k7mRw+6127H/ajF4oY92FIw3NaLuSQuqOU96DwABpIDe/cARHjE26dnY/GhtbMGzLvVcGUoPt2N+4F+3v66Z/SeXfeS6/kkD1ESjsBM+/aZa/pG4jc2cY7c82hTOPvLIiHZeJ9VvzcVO/96PNrd+8+/2yBmMPDv3Q3P9WD1r2NGCvMzpZqP0A5KtPqi9HqilGEx35RoLz2GJJxPQ1HHlatw2l7Xet4yCanm5Dyk6vNnnf/MMeDKdSSA20RbXj3S9tRxnJumYGIHS9cQjHzf3qfMNedAYD11mMykiX07Zqee4QDj3jTIdWo2P70T44gcy9UfS07sXeV0bDkbFqygzGpToJ5HKC7/Xj4O42jC4CSquFnODFUbTtPqhnYkTaPPFk+6PAcoU8o/HEcDggeK8fh54O2zUyUhxzxJUT3Ih2MwA2cbYRh67MQHUMdYg/0YPhnye3o+KxWvmRqneCtQPWhpRtLEqas/O4HYGUQc8zIdTM5f3R4XYA0jsSzKF3nNEA4WIKxxtzOcET6NztDPGrm5KOBaGpL6qHw5nunE21ofG7zghqAdG5oal7g7BG0f50G9pfboTtlZFGg+1NmR88Eku/Omad9vvXcKTxeFgxyIPUsTbtRCN0gpP4i7CbT7Th0K6DaB8YxvBAOw4+HZ0e7cbd/a4K5jPRtZgF42sKW6Qw+Y5LQZaSX7udykp3FvR39Ov1CSq8NmeNRRbz0+EC/Sh/6c/w8tJNJL9XPQHdmDFr/n0tSewjejLTnYMpe8D8TMbZDM6cd2Zq+ADECW5oHXYaOtoRsOVXxceb/iP2w9qLqP7yl3//2fxNAtVFoLATrEZV+2ynrNRPM8gYR6ZgfSF1WcMRXHPbDNMpdJ3TM8EKlTXtBDej645DbawdjXa5TxHtBx1G7vrECZlfHQLS0N7rdg465/TX/LZYHOj9rzu6AaCOmQ5+0Y4/zXIm1YXOt/Q90tm4uyPwaNUjpe3YaNpOSe0XdY/tIFHTu722lRxz9rhRYbijY9l5zNyPzHOIpZoHSCBCQNonzqCePiczDhpx/IbWktJZXidYLz0IykukzRN5mnhQ6Plu6G+EZ+eR6tiP3WpN8F40/ZdD6ApGI6XwdWL37jakHJ9WdSAG5cEMML3UhubmI+gaTOHahSNolgEAZ3p0+Lzyf6tqJ7jlFVncfQT9SYOMZiex1Fv96Oo4jv2NtqdNj5LaxmWATKbwWtHId1uhBRfo++wULSUg63TK9f/lOHqk5zD4v4a2ZxoCwQXBuF9UZWlHa7NIvdSIyMhwXtG5AelR5GAKgQjrRAqyDlfPrXfTbNLRMezENWVGnbUDrp3zTt0TGqRHj2bpufzaCc7FXzXo/YpKeqCcKQ5e7IOfEa7qaOH4ymWxAu07LoVYJuZ5EC0prejc04Cm59rR/9YEMu4ueXJZobx0g+L3qicQ0aGvJYl9RE969KFRGemkHUyLdIK9Ckk19NXmQLoMSG9o5G9+GC22TLlTiPKW/0gI/EECVUigsBOsRoIbm3HkwjXv7QOF6wtVv73ojE5ECBRR1pLsgTpmph8m1iUmXsFmXwXqk0ic+EMRkFGkgo3ffLZYBkN24vhlt51mZpGp6ZY6j2JtwwB/dDAlOKwa8nodZKTeMBe4bZNk7Um4tn2qHYO9DU04+Eo/hicyG2+X9AAcv1SMgLRPrD9jdXjlEJocu+fqMikeavMsZ31vtM0TvUN1wrvXmtNq0yuZIZu6jZmZ20jJzImnjwQzJ4AsRs82o/Hp/Wh5uRPHn9+Jnd9vR9v3bHnQdUGDF3b2vcruMeSmrqqd4MZn29D2QmNsqoj0FjY3NmH/i23ovNCP4bGU2mhD7yY9g2svJDinykkzldj77WiMrWkFRl/OMRIs15u1u/KKHvffriF2obrfpZdwv/RCKifK652ONLTdu5K+6x4T6eWRkVhlyKVhrJz5UbQ32rB1+ve/GI2njrPpCb9yKFhf66ZFvuu1ydoJzsVfFS5/Dj8y6A+EnRR/fSxeiRSOr9wZK9B+Q6UQS8nD7/V765i9eC7NYGJQrxPf+3QDmr5/LXJ93rz0guLP6iYQ0aGvJYl6TE/zyKT69Z4AuxrR2NyuphzpVK7UCdZloO09n9ko2oIlD8WWfz8M/iaBaiNQ2AmWGM//PIV+2ddDvX2g2YwMFK4vZLlObB1agKCIspZkD1wnuIj2g3pcgfokiBK/qH0Z2vfsRdsNZ8goJ5dctngC7Y1mbwavnab3d8iV9/ZBcr+ZGmoPyafTdozUG+Yat22itFdM22hmQm1u1PLcXjQ1NOHIlejotft4fieBGAHfCb4/jJbGQ+i5E77O6PbrB9Hw0nCOVylJJ91OVd6CVyC91YaG7/XgtryeNvLAHKPAyqfxZswAuN3drJdLOmGoJYupFEbVcjGZlXkI10yfvwwGNHuzNwC37eMEVIGvVe0EK6fWrO8NdyLWjcHIiKoM1Ts9bWrHMm9Ki5oGY3tO1AiLdRotVcmYHE7wzDUcsutt7eXFfkov4nd7cDtp8XesoZ0/UNU7/koPup6xo8vCohk9A53YbUetpaPxbGOCqJywc1Ti4RXaCU7mrx2EeCeCOOLNzrrjMDT3W1IlUjC+5XCCVZ6bNdNOhNT7+5zfwdel2+h6piGYbq6Ou3np9LgF9/DLuiEQ0aEaZbVlyiThvbY8O7fPY7i1wdnBdKVOMFTHVmxHVBlxamwPdlwvtvyvm0xgRGuUQHFOsAtHLfcxs7cK1hdip2Od3OF7NVX7wE5ftQ9xy1ohJ1i1B8KNXXQQug1iZ5LZYIPPpPokOFnjX2JtvFJ4uLZYO7l2OmhSKGopl9/gzs5j3tn7wx8pVqO7snGQbYc4bS15husEQw2YhLvnqjio+sWOfCXE6qMuNNsZPwmneYgEYgR8J1j9TnqdUY5XKSkbl+v6aFso1yiwXvIRb1Or8mDax2ojuYGJqFMtywMc+6yu9zuOVPziYcc4lOFA9TvBMhNV3nnlbLOtRuS6wzd8zt9oU+/ECt4rrN55tRdtg7cxMz+PmYkeHGnei93WCZaNoc7uReMLXRi9Jz0nGQy/dBB79+RwgiHTaPSIdNBPqRaAHwrfl5UzM8S53ou9exrRpnatci4U4cr62CXnWL6vIozGxsgotgiosdGMNtt7Y68dmFebNew8a3dp0z07h5w1V2rt7652jKq4OE5wAn+76ceh180O2UvzSL2yFw3uemcbF+9TCd6rRFAwvl5FI2H6DZUEltmJHrR1pMxobjwPI691GmtHk2y+ZjfQmE+hbXej967qPHnppZM/q5tAVIdSHhpwsFvrOTs9rN6BHby+TJU75zUeSxn0OJvoSa9le0Nz+M7qhKSrJQQ5p0MDsTKwlEG/zIJxG+vFlv+E5/MQCVQPgUJOsJyP7jGhXplh642C9UW8fou8csO/3y9rft0i4NQxuxurdD5H2wOZPnnXbdh+kJkkheuT6smRNYuJYR9uylkgJgVssTisskmqvDVC/anwZVM1M+yUkPdiy+2gSuz+eb3JqnWMo/WGfoQ6Fth2vSFa2LaStlczGoPlerJJYlNkdqNqhzRabZl484ME8hHwneCEa6O6lP1y3fZwwg0SprWxwekco8DqvG437e8Yxbz1YWaG0bbHWTtsbGmX3UF9/jZ6XmiKDi6pUey9aHvLlNGsbvvYdfhBVCr0ZV04wZJ2vRujMW73hnG8uRENT+/F3qcb0Xy2H13+y8jvDaP9+/oFzgdP9OP2HVmz6hqaeUzIrtHyAudnjqDzPTFWYSUWM3aLt9H/w2Y0NjRh5y559n4cz/E6FD+v1DbhiUYug2vfb1Ivo7ZG1r83+ls3HiIjRtKD3RAfgbUv1G7ctRNNDY3Y+bz3Avr7o5Adrhsad2Ln0w1o3OUuaI86wTH+csDeb16k3fRcZ+x1UNG4618xruaiQvH1C3TMCUacpWyQ1iBrl22FuHgbPf+8U+Vhk0rzEfTcsRM/spi4cFBNTdor0+9kzc4FrwdLdKjCtBuIJaWQx9YDAV+H2Yku8wL6Bj3V+a1ohZB58ziaG+Vl7jJ9rRHNP4y+bk2/EL4BDTlmCBR0gmX653udKg6NTzcp/e1/xXn/noJafPlfD3nAONYqgUJOsExB1XV8465myNKUxubj4ev/3LKSs35Lof27Ur81Kee06bvtkc0185a1gk4wgMUJdAX1p7RBRjHstB9kLVwx9UmtKsCmW9lh04ZoiHy6bTV7tf7Mb4uzuD0gtroBTbt0Pb7/RNRWz9+Q3f0bkGxnnfuf1u2jI5dvByNZfr0hMYq1TYL26U7sbJSpzqPRVyRZ7Ty9F82qLXkwuplQNLn8RQJxAstwgmPtYT/UBCdYdwp5Mxvc++Yn0PW8lDMzqty4E4e8drO1tap8J5yX4LJ3+rVPp8KR9lU/btsBKfd5FfhepU5wcSmVqaz+/kU573SnOyVepDdNiG1O418rU2ciD9UOY9SAa0HYkWkRn7/joB+s/FYNZSsm9zPoZUy6K/+xgowW/fTkDy92VnhYP9JWCG7c7fdYD1MsJHWgYHyTbyvtaCwPnduXZNqcvybCOc+vG4KAarjkcFhzJ9Bow/Z65r5wRWfUFP0KP2NFEeTNJLBKBFR9kKcxVLC+kPqtwP3ZlZS1AuGD9UmFlFLIFhc6Ly8ZmXd2+PejufJ2QFHadBtPfhT4mwTWCwFl5xxHICHeqrwlHI8cWsxXJiNXlu3HunaCc1HITnSieU8bhqdNpshL71/cHWxzD8zj2j834dDrE2YYP4v5sU7sb/Bfg5TrCcUdV0ZQegVjr1cq7n5eRQIkUAECixkMn8j3LsoKPJNBkgAJkAAJkAAJkAAJVA2BDekEC93M4HHsl6kmMhL59F4ceWUYGbfHV4bxvy9TG2XUthE7n21Bz/t23mx58uf25UPBVOvyhMhQSIAEVkpg4kIz1BKJPCNEK30G7ycBEiABEiABEiABEqheAhvWCa5e5IwZCZAACZAACZAACZAACZAACZDAWhGgE7xW5PlcEiABEiABEiABEiABEiABEiCBVSdAJ3jVkfOBJEACJEACJEACJEACJEACJEACa0WATvBakedzSYAESIAESIAESIAESIAESIAEVp0AneBVR84HkgAJkAAJkAAJkAAJkAAJkAAJrBUBOsFrRZ7PJQESIAESIAESIAESIAESIAESWHUCdIJXHTkfSAIkQAIkQAIkQAIkQAIkQAIksFYE6ASvFXk+lwRIgARIgARIgARIgARIgARIYNUJ0AledeR8IAmQAAmQAAmQAAmQAAmQAAmQwFoRoBO8VuT5XBIgARIgARIgARIgARIgARIggVUnQCd41ZHzgSRAAiRAAiRAAiRAAiRAAiRAAmtFgE7wWpHnc0mABEiABEiABEiABEiABEiABFadQFU6wTtf/U/gPxlQA9QANUANUAPUADVADVAD1AA1UHsaqLRXTCeYDjc7HKgBaoAaoAaoAWqAGqAGqAFqgBqoGg3QCaYYq0aM7IWrvV445jnznBqgBqgBaoAaoAaoAWpgtTVAJ5hOMJ1gaoAaoAaoAWqAGqAGqAFqgBqgBmpGA3SCKfaaEftq9zDxeezVpAaoAWqAGqAGqAFqgBqgBqpPA3SC6QTTCaYGqAFqgBqgBqgBaoAaoAaoAWqgZjRAJ5hirxmxsxeu+nrhmCfME2qAGqAGqAFqgBqgBqiB1dYAnWA6wXSCqQFqgBqgBqgBaoAaoAaoAWqAGqgZDdAJpthrRuyr3cPE57FXkxqgBqgBaoAaoAaoAWqAGqg+DdAJphNMJ5gaoAaoAWqAGqAGqAFqgBqgBqiBmtEAneCSxP77+LuXvoRvvPC7+NuXf79KRPL7+LuXv4K/P1t9PSzs9WKeUAPUADVADVAD1AA1QA1QA9RAtWmAmpwNxgAAF99JREFUTnCRTvDf/7//K/7gTz6PX/tK+P/I32zGN06tsah/9AX8wVc+jyeOFBuPr6Dxhf+Iv/5RtTjxxcab11Wb8WB8qElqgBqgBqgBaoAaoAaogfWoATrBxTjBP/xt/KevfB5f/vsv4K9fEufx9/F3rY/gf9/+P+HX/u/fxF//eA3FX7IT/Dt44iufxx88+2iVjGSvIbti8p7XUCfUADVADVAD1AA1QA1QA9TAhtIAneCCgv4K/vypz+PX/uK38bf+tcY5/upzXwlF8fKX8Of/dRP+8Ov/AV/91hfwjZccJ+/l30HDtzbj661fwTf+2yb84d/8Gv704Jfw96/+J/zd938bjz/1P+MPd/22M7r8ZXz9W5vRcORR/D8vhOf/wg0zyQkO4vC/4PH/+gX8tR2tVs//NeXQ/87f/gb+9Fv/W5ims4/iL/7bb+Crf/Mf8NXdv42vH+dI8Xrs1WKcnfLml1f+Du0UWZAFNUANUAPUADVADdSwBugEF8r8H/9HPJ5n5PTvX/4K/s6OBB//Arb80efxyP/f3v24tnHmeRz3nxAou+eybY3bbK5pSTaJExZzy4VNrlBMaFlTAk27hDaFspguFFNYcClHCcc2p5YGJ4QQbbfXjUPxIZYlmDVFNkLFNsbIpiYIY4y9JgSfL2nsMyaOCeJzPM/MSDMjyZKS6Ifjd8BEtmaeeZ7XfCbkq+eZ8dutevWj3Tr+TrNajj6tjovuf8zdgvXAa8/oV7/freNnntaetqfU/s6zOvSOKUpbnSXXr+3WW7Zfzqztobef0SG3zV+//RO1HH1Wr/8p2GZ2ObSvDyc+fVGvmmN42xcrgq/t0yuv7dKezuf06qcv6kTXM9rb1qxXzlMIU1RSVJIBMkAGyAAZIANkgAyQgScrAxTBpYrgQjOtBfc5rJMfPBWaMXZnkd/Zq/fMPm5bv/oPb+bYff8N3yzzl8+rpe0Zvf5nEzSnCG55+0W9mz3mAZ04uUt7PnjZziB7bTpFsNsH73h2H+cYez7c537alb8c+vQnP1NLh1d4OwF/66N/UvC4T1bw+YeM80kGyAAZIANkgAyQATJABnZmBiiCs8VlkQCUXQTv1ytHd+nQxwcCSyve+2OLWtpaddLMFhdo680PdwWLzfMv5BXB4ft3T3/8dK5oDbTp9uH3e3Xy85ezX69/0Ow7RrgIPqjfnN6lljM/z25v9/3Dc2ppe0FvlvLh/cD55h/SItcROSEnZIAMkAEyQAbIABkgAw2SAYrgkidin4635Re3XrGTWw4dLi7dYsDO7D6r35j7eAMFq/P+QxXB//5MrkANtOn0wbnfd7ddkm2WZduvT/Y5s9Hu7HKusD6o19829zy3BLe3+/nuGS7pRPHjZYK/yQIZIANkgAyQATJABsgAGWjcDFAElyzu3CXGHc/rzWuhE3lxtw60PaXjn5t7Z51iMrtM2W3XLiv2lhoHClanrXKK4NxSZrPPYZ3s2qWW03udJdKBNp0+7Ptof/BTpsDvEM4v1t/88Cm1BJZQH9HvAvuExl3SjO35R48MkAEyQAbIABkgA2SADJCBxswARXA5Bd2f99oHXu3pbNWJz3+hd//rFzr56fM6cnSX9px+MfuEZbP0eU9bs45/dkDvXzusdy/+s93viLdEOlCwOoEoqwg++rRt872rbTr92fO28M4+kTrUpu3D0Z/plc8P6P3+I3r/Ty/p+Gu7lCuM9+vVjl3a1/WSTl91H3xli/lm/eun++1Dvt7/y36dOF2gMC7Him2CH0DggQcZIANkgAyQATJABsgAGWioDFAElxvIv+zTq7/9qfa07VKL+Tr6U7V/9LLeDcyYHtZvP3lOLx91t2n7iX75h/3uMuRHWA798UvqME+Ftsd22jS/Vsl+shQqgs1McbAPT+nQ7/bqtK+f737WqkO2jy1646rTznv/+YKO/JvXb/OE65/rLfc9PsFqzE+wOC+cFzJABsgAGSADZIAMkAEyUHkGKIK9YrLcv/sP6z1vBrXoPmabNufpzUW3KedkBZcum/uPzexueUF3+1D29k67uXucyz0O25V3PnDCiQyQATJABsgAGSADZIAMNEIGKIIfqUitdoiDRXAjBIY+VPuc0z4ZIwNkgAyQATJABsgAGSAD1cwARXBDF8H71fHG0/r1Hw+WOfvLxVLNi4W2yRcZIANkgAyQATJABsgAGdj+GaAIbugiePsHjH8kOIdkgAyQATJABsgAGSADZIAMNFIGKIIpgpllJgNkgAyQATJABsgAGSADZIAM7JgMUAQT9h0T9kb69Im+8GkoGSADZIAMkAEyQAbIABmoTwYogimCKYLJABkgA2SADJABMkAGyAAZIAM7JgMUwYR9x4SdT9rq80kb7riTATJABsgAGSADZIAMNFIGKIIpgimCyQAZIANkgAyQATJABsgAGSADOyYDFMGEfceEvZE+faIvfBpKBsgAGSADZIAMkAEyQAbqkwGKYIpgimAyQAbIABkgA2SADJABMkAGyMCOycCOLIKrPWjaRwABBBBAAAEEEEAAAQQQ2JkC8wv/qGjgTZXuUFHrbIwAAggggAACCCCAAAIIIIBAFQUqrWkpgqt4MmgaAQQQQAABBBBAAAEEEECgugIUwdX1pXUEEEAAAQQQQAABBBBAAIEGEqAIbqCTQVcQQAABBBBAAAEEEEAAAQSqK0ARXF1fWkcAAQQQQAABBBBAAAEEEGggAYrgBjoZdAUBBBBAAAEEEEAAAQQQQKC6AhTB1fWldQQQQAABBBBAAAEEEEAAgQYSoAhuoJNBVxBAAAEEEEAAAQQQQAABBKorQBFcXV9aRwABBBBAAAEEEEAAAQQQaCABiuAGOhl0BQEEEEAAAQQQQAABBBBAoLoCFMHV9aV1BBBAAAEEEEAAAQQQQACBBhLYJkVwRhtra9rYbCA5ulKmwD2lU3OaX99i89uLGrixusUG2+GtB9pYfcwZXV/TyvqDKg7+cVxXZtzr2shUsZtlN/04xlP2wdgQAQQQQAABBBBAYJsKbJMi+K76Lsd19odGUl5TOrWopfuN1KcG7MvqrLoicXWNrbmdy3dLXx9W0/kppRuw+8W6tHFrUUPz3pjMVgs6e+7xZnS0P66m/oViXXgMP38c15UZd1J9S4+hO4/cxOMYzyN3ggYQQAABBBBAAAEEGlyAIvihT1Aj/ef/oQdRhx2fDLeleDJUoFIE1yFMoUNSBIdA+BYBBBBAAAEEEECggMC2LIJXpqcVGVzUim9A86MpRafdmbnVRUVjM0qv3lKsf0THouOKTq1KmVVNxlPqujSi7sE5LWWXVy9rIDat0R9XNTo4rjO9I+q+nlZ6tcgaT9v+mDrODevUtylFRpdzPdm8q6HBcXVdSqqrf1pDy8WXsy6lphT5PjSF9uOCorG00l7fzBiuF+5T2Q63FxS9OqJj12/m+um9cq3m128pFhtT56Ux9QRs3A236IfdYnVZA9bOGffobc/O2KY0sCipiFv+OB5oKTWtnq+T6vx6XNHUXa+3kgqcq0L99e3h9K+E4+iyNubSithjphSbLb5+22St58qwmi6OKWJyY1dyu0XwlJehpLrMeQw3U8rR1+/8meCtXCTZ7KXUHU3ozNUp9YWXmGfWNT827b4/rdHbd/JXWGyRX3ueRpe0MuW0ccFO3bsfatzyxl3k2tmiXTvkrfruXc/hHJczHp8nLxFAAAEEEEAAAQQQMALbsgi2s3CXb8hfPpqCoTPuFktLN9R5LqlT34yrLzWnoeFxtZ9L6MxXIzqbnNNQakZnL8V1sH9BGzYH5j/yCZ26klTX4KyGUnOKxRJqPj+h0XARY7a/f0eTqSmdOZdQj2nPWxZ7f1GR3rg6YjO2jaHkhDoiwzp7w6toQ6GbSenglylNevWiOSGDCTVfm3P6tZTWmchwtk8Dg2NqjyQVcwdenkNCHdERXfD3098NzyqadG1mFf1mWM1Xbmje61eJfihzU5Hzzrgnby5r1PQza+ebIS3iFhzHpiZjCbVemlDMnDv3XLXHFoPnKho8l81fzQQ+FPEPUSX67xw/qe5vpjWQmpN1PjesyIwHEGhNK/NzivUn1PTVlIayS+Kdcbb3ev1yHJsuTmve2z3Uj1gsqdbIuIYKZUxSsAgOuZhitjeuzkE3DO45aDdjmLmpybEpnQpk755G+4fV7LmOTavrclKnen1LuEP5NQ7HIklFFxwH63QxoTPRKXtu0vZyK+PaCbWbd12U6rvNaDjHZYzHc5c0GYur6Vzxr8h2WovvGxcvEUAAAQQQQAABBCoXeIKL4ISi2dspMxr9Nq6Df/PNhN6YUHOvV6A4BUzH3/1l9T0NXY2rY9A3yxvwNfsE74W0RUI0HSjGNsbH1OwvhAJtLClqixCv2FpW9GJcPROmaM7YIujgX319Vkbzf88VycHi0Wk4/8OAhC7Mee0HDu58YwuMuLrH7+XezCxV1A/ZNsY1mj3MplZurboPS3Jsc/dzF3HzPtSwbY0o9mOuO1qfVXckoaiZTXbvve0a8/XX3Weg4LO1ynTsnVI62393H39efN0xL6194H5dZ5yBft2fVXc2IxlN/nVYwYy5PyuSsUAR/KP5QGQsWDDbn41ryNyXntnUyvyyVrJjkJOVmEWTFqfVEd5/YVodvvuYV5Ijar46637Y4AzY/sz9UMaOOeCUOx/BcQWvnZLXRam+2/MbynEZ4wmcss1l9V0pXASf+q7YNR5ogW8QQAABBBBAAAEEnhCBJ7gIDhaogeLQnDz7H+sJjdoT6RZqN4Jn1RSwTUVnGMPF3KYtmk8l/Et3zRLgGXWdG1HhAs2d+fWKKfMf++zMsFsgh/okb/bYK8S84tHtemCcdoxBh+AIPYekYreD75hi2/nQoHQ/vJng1ssT6hu7qfk1/8y3a5t9qFnYzS0o3XFY8yvpwCy/tKaBr+Lq+t4sdw+3Z/qd32ZuNKX7X+jDhPwiN9eieZX/fql+mX4Mq/s7M7ud+7IzyqHC0zuSvwi2LpdSdqY6t7+zGiH3Yc8DbSwvaTQ1q77rKXVfyj1Yq3CWXRt7bpz8dsaclRDZYwyMqMn9sKiQk2NvZs29Xjt/r3w/4l475V4XxfvuXKvBHJceT7A/9rsChTAFcAEnfoQAAggggAACCDzhAhTB9gSbAsY/c+ye9R8m1BQqMnN5CBdedxW7ElfPlG8qzmycWVBPdjYwt3f2lSlUzZLY+05BnJv5XdTZSFJ9t7JbOi9umaXeTvFeqCh5uCJ4zJlN9B0qV+SV7ofdbfOuJpPOfbztkbhao2l3OXW4OAy7BYvgpURSTd9mp/DdHjkz+c5y93B7ZpP8NnNDKd3/Qo658eda8r/Kf79Uv0w/3HvIYylF/F+h+9u94/iLYOti70EO7evdb72+oLO9cbVeHFNPbEp9Y4saup57eJfdP6/YvqO+S95yaCe/HV/ntx+Jzdgl3YWcsvbhnE6Nu9dOGddFib4XKoJLj8dTDP3tK4QpgEM2fIsAAggggAACCOwQgcYsgpdvaujGHd+yTP+MlWRngQLFqb9Iys1u+n9tS6A4NCe3wExw97h/BjO0nDQvEPmF1+TfhoNLrs0+C9M6FpnQZN7+3g/WFIuaJdA3Fe31F+L+2U9vW3fs7kzpwzjkWnJfWQf/cc3P/bN3pfthW8r4iv/NW7rQW2zmNt8tUFz5ZrpzffXP5pYqNnN7Oa9K9z9wfHf3/CI32G7++6X65RSD4YwFWw1+5y+CFVi+H9zOfGdnXkNL8c1sfvZXLJn9zSoD/652ubZXBDv3zR4L3BLg3zj4YUXuHWfc4XHZZfvuUuxS10XJvhda0VDGeHJ9DL3aXNbodGjFRmgTvkUAAQQQQAABBBB4cgUaswg2hZCZBV00T1bOaGVqQu3+JcVm2fC5pC6YJ/hmNrU0Nq5jkfwHY1VaBDeZhzl5T4RevGEfLFTs4UjODFhCF2Z9T38291hm+21qSec+xPYt7i010TJFQPP5YR0M3Ttsilz7cC6vT6sLOnveKy7l3OdZoUNelG2BEXcehGU/A3C9IyMacO/LLdmPHybUmn0QllkCPqeeL01xZQrjcHFovg+6BYpQ937k3CzdA81/l1Tzee8BYuH2zIjMz4LLZf3jLNX/wPHdHfOLXH+LbkH4zYzvHtzS/crrh5uPU8N3go273wWK4DwX9zx9MaFRc95+mFDzxancU8Vvz6rnfG45tLdkPeuaWddof0LNkVwRbD6wCeTXbjOsvf/t3FdcyMk7v829W1w74XbD10Wpvhcqgt2HaW05noKq/BABBBBAAAEEEEBgpws0ZhGse0oPjmhvxH2QTSShnnH/U4/uafJ6Uq3u016PxRY0UODp0JUWwT3fmYcPxbX3i7iaIgl1f1+4OHFCk9F8YsTpQ/a+YVOYpNQZidviovlcXB39s75CqUjc3Bm57NOts5vdUzpuntAbV6uxiAzrzOAt3wx55Q7Zpr0XboFxIT5hj+OMPakLad+Dp8z5KLMf7eeHZcbdef2m289wcZjvlldc3V5Q5LIZrzPu1osTGsr+yqVwe2YgWxfBKtH/vOMXvOfXA3P/dpfwNtmnSHt98BWUdrNwv3yOXzhOHddmck/hDh0iUASb97Iuw/baaP7Cd54ydzTwTcLat38ZlylK+3zLoW3Tt2bsE6VNjsy1dSaxEPoVSb78fjFss733ypQm3adXF3LK2k9tde342jXXRvi6KNX3QkWwGVDJ8YRA+RYBBBBAAAEEEEAAgYb/FUnmqbGr/mKsWufMX1g90Mbquvtk44c9nmljTRvB1dXFG7s/p55I6InI/q2tw6P2yd+g77W/wCjlXaofm/e08sh2vr6tr2ll3TfT7nvroV6W6v9DNfoQO9l+VJCP8CGMS+DhY74N7q8Xf89ultHG2ppW7vuWr/t2d146+d16m7ydJJW6dkpcFyX7XuiY5Yyn0H78DAEEEEAAAQQQQGCnCjTkTPBWv8+zGu95Szq9X+NTjWOE23QCd08ry3ftrLb3u4HD21Xze9sHXxFczWPRduFfz4NLdVz+pW8i8HuBr8+FHn++U//FZ9wIIIAAAggggAACasgiuPbn5aYu9CZ0IV3jI6/Nqac3oc5rN5R2l5zWuAfSbbNEdkwD1Ag1p+eACCCAAAIIIIAAAgggUHsBiuDam3NEBBBAAAEEEEAAAQQQQACBOglQBNcJnsMigAACCCCAAAIIIIAAAgjUXoAiuPbmHBEBBBBAAAEEEEAAAQQQQKBOAhTBdYLnsAgggAACCCCAAAIIIIAAArUXoAiuvTlHRAABBBBAAAEEEEAAAQQQqJMARXCd4DksAggggAACCCCAAAIIIIBA7QUogmtvzhERQAABBBBAAAEEEEAAAQTqJEARXCd4DosAAggggAACCCCAAAIIIFB7AYrg2ptzRAQQQAABBBBAAAEEEEAAgToJUATXCZ7DIoAAAggggAACCCCAAAII1F6AIrj25hwRAQQQQAABBBBAAAEEEECgTgIUwXWC57AIIIAAAggggAACCCCAAAK1F6AIrr05R0QAAQQQQAABBBBAAAEEEKiTAEVwneA5LAIIIIAAAggggAACCCCAQO0FKIJrb84REUAAAQQQQAABBBBAAAEE6iRAEVwneA6LAAIIIIAAAggggAACCCBQewGK4Nqbc0QEEEAAAQQQQAABBBBAAIE6CVAE1wmewyKAAAIIIIAAAggggAACCNRegCK49uYcEQEEEEAAAQQQQAABBBBAoE4CFMF1guewCCCAAAIIIIAAAggggAACtRegCK69OUdEAAEEEEAAAQQQQAABBBCokwBFcJ3gOSwCCCCAAAIIIIAAAggggEDtBSiCa2/OERFAAAEEEEAAAQQQQAABBOokUHERvPCPRWUymTp1l8MigAACCCCAAAIIIIAAAggg8HACppY1NW0lf5r+Z/l/9X9ra5Xsw7YIIIAAAggggAACCCCAAAII1F3A1LKmpq3kT9P9zU2Z6WOzMzPCldCxLQIIIIAAAggggAACCCCAQD0ETO1qalgzC2xq2kr+NJmNzU6mejYNmIKYLwzIABkgA2SADJABMkAGyAAZIANkoFEzYGpXU8NWWgCb+tcWwZVUzWyLAAIIIIAAAggggAACCCCAwHYVoAjermeOfiOAAAIIIIAAAggggAACCFQs8P93C09tPt5/KgAAAABJRU5ErkJggg==)"
   ]
  }
 ],
 "metadata": {
  "accelerator": "GPU",
  "colab": {
   "collapsed_sections": [
    "imposed-waters",
    "honey-victorian",
    "eDhHAVnRXO0E",
    "uAKA3IOuXO0F",
    "x5EmqzswXO0I",
    "OmT9ApMWXO0M",
    "NNAHodRNXO0N",
    "Sbhq0mSNc_ZW",
    "eUyo_q6eFvKQ",
    "rBfSthtkBzXm"
   ],
   "name": "c6w6.ipynb",
   "provenance": []
  },
  "kernelspec": {
   "display_name": "Python 3 (ipykernel)",
   "language": "python",
   "name": "python3"
  },
  "language_info": {
   "codemirror_mode": {
    "name": "ipython",
    "version": 3
   },
   "file_extension": ".py",
   "mimetype": "text/x-python",
   "name": "python",
   "nbconvert_exporter": "python",
   "pygments_lexer": "ipython3",
   "version": "3.8.11"
  },
  "toc": {
   "base_numbering": 1,
   "nav_menu": {},
   "number_sections": true,
   "sideBar": true,
   "skip_h1_title": false,
   "title_cell": "Table of Contents",
   "title_sidebar": "Contents",
   "toc_cell": false,
   "toc_position": {
    "height": "calc(100% - 180px)",
    "left": "10px",
    "top": "150px",
    "width": "383.991px"
   },
   "toc_section_display": true,
   "toc_window_display": true
  },
  "varInspector": {
   "cols": {
    "lenName": 16,
    "lenType": 16,
    "lenVar": 40
   },
   "kernels_config": {
    "python": {
     "delete_cmd_postfix": "",
     "delete_cmd_prefix": "del ",
     "library": "var_list.py",
     "varRefreshCmd": "print(var_dic_list())"
    },
    "r": {
     "delete_cmd_postfix": ") ",
     "delete_cmd_prefix": "rm(",
     "library": "var_list.r",
     "varRefreshCmd": "cat(var_dic_list()) "
    }
   },
   "position": {
    "height": "542.727px",
    "left": "1375.45px",
    "right": "20px",
    "top": "120px",
    "width": "350px"
   },
   "types_to_exclude": [
    "module",
    "function",
    "builtin_function_or_method",
    "instance",
    "_Feature"
   ],
   "window_display": false
  }
 },
 "nbformat": 4,
 "nbformat_minor": 4
}
